{
  "nbformat": 4,
  "nbformat_minor": 0,
  "metadata": {
    "accelerator": "GPU",
    "colab": {
      "name": "Q2.ipynb",
      "provenance": [],
      "collapsed_sections": [
        "XeVzHHciAt-W",
        "xR_9tihT5Vmu",
        "O2rhPXb4nRFA",
        "VDqvgBeptLpD"
      ],
      "include_colab_link": true
    },
    "kernelspec": {
      "display_name": "Python 3",
      "language": "python",
      "name": "python3"
    },
    "language_info": {
      "codemirror_mode": {
        "name": "ipython",
        "version": 3
      },
      "file_extension": ".py",
      "mimetype": "text/x-python",
      "name": "python",
      "nbconvert_exporter": "python",
      "pygments_lexer": "ipython3",
      "version": "3.7.0"
    },
    "widgets": {
      "application/vnd.jupyter.widget-state+json": {
        "15793ecc01e44114b95f01209087610c": {
          "model_module": "@jupyter-widgets/controls",
          "model_name": "HBoxModel",
          "state": {
            "_view_name": "HBoxView",
            "_dom_classes": [],
            "_model_name": "HBoxModel",
            "_view_module": "@jupyter-widgets/controls",
            "_model_module_version": "1.5.0",
            "_view_count": null,
            "_view_module_version": "1.5.0",
            "box_style": "",
            "layout": "IPY_MODEL_568cb20dcfad456fabbbc692fc6c47f3",
            "_model_module": "@jupyter-widgets/controls",
            "children": [
              "IPY_MODEL_903320b48eb3415b9c0e711424953cd7",
              "IPY_MODEL_9ae6078b661d48488ec5f64ccef00fae"
            ]
          }
        },
        "568cb20dcfad456fabbbc692fc6c47f3": {
          "model_module": "@jupyter-widgets/base",
          "model_name": "LayoutModel",
          "state": {
            "_view_name": "LayoutView",
            "grid_template_rows": null,
            "right": null,
            "justify_content": null,
            "_view_module": "@jupyter-widgets/base",
            "overflow": null,
            "_model_module_version": "1.2.0",
            "_view_count": null,
            "flex_flow": null,
            "width": null,
            "min_width": null,
            "border": null,
            "align_items": null,
            "bottom": null,
            "_model_module": "@jupyter-widgets/base",
            "top": null,
            "grid_column": null,
            "overflow_y": null,
            "overflow_x": null,
            "grid_auto_flow": null,
            "grid_area": null,
            "grid_template_columns": null,
            "flex": null,
            "_model_name": "LayoutModel",
            "justify_items": null,
            "grid_row": null,
            "max_height": null,
            "align_content": null,
            "visibility": null,
            "align_self": null,
            "height": null,
            "min_height": null,
            "padding": null,
            "grid_auto_rows": null,
            "grid_gap": null,
            "max_width": null,
            "order": null,
            "_view_module_version": "1.2.0",
            "grid_template_areas": null,
            "object_position": null,
            "object_fit": null,
            "grid_auto_columns": null,
            "margin": null,
            "display": null,
            "left": null
          }
        },
        "903320b48eb3415b9c0e711424953cd7": {
          "model_module": "@jupyter-widgets/controls",
          "model_name": "FloatProgressModel",
          "state": {
            "_view_name": "ProgressView",
            "style": "IPY_MODEL_43160f9aafc64f298cd073e2938d3a88",
            "_dom_classes": [],
            "description": "",
            "_model_name": "FloatProgressModel",
            "bar_style": "info",
            "max": 1,
            "_view_module": "@jupyter-widgets/controls",
            "_model_module_version": "1.5.0",
            "value": 1,
            "_view_count": null,
            "_view_module_version": "1.5.0",
            "orientation": "horizontal",
            "min": 0,
            "description_tooltip": null,
            "_model_module": "@jupyter-widgets/controls",
            "layout": "IPY_MODEL_610368e01ff34be4bf34f89f8acd4081"
          }
        },
        "9ae6078b661d48488ec5f64ccef00fae": {
          "model_module": "@jupyter-widgets/controls",
          "model_name": "HTMLModel",
          "state": {
            "_view_name": "HTMLView",
            "style": "IPY_MODEL_16aad25cbd8c4e3d98424be5861d1327",
            "_dom_classes": [],
            "description": "",
            "_model_name": "HTMLModel",
            "placeholder": "​",
            "_view_module": "@jupyter-widgets/controls",
            "_model_module_version": "1.5.0",
            "value": " 170500096/? [00:20&lt;00:00, 50690094.90it/s]",
            "_view_count": null,
            "_view_module_version": "1.5.0",
            "description_tooltip": null,
            "_model_module": "@jupyter-widgets/controls",
            "layout": "IPY_MODEL_45cfd99c2b50479d9f2c9e8eb6d822b1"
          }
        },
        "43160f9aafc64f298cd073e2938d3a88": {
          "model_module": "@jupyter-widgets/controls",
          "model_name": "ProgressStyleModel",
          "state": {
            "_view_name": "StyleView",
            "_model_name": "ProgressStyleModel",
            "description_width": "initial",
            "_view_module": "@jupyter-widgets/base",
            "_model_module_version": "1.5.0",
            "_view_count": null,
            "_view_module_version": "1.2.0",
            "bar_color": null,
            "_model_module": "@jupyter-widgets/controls"
          }
        },
        "610368e01ff34be4bf34f89f8acd4081": {
          "model_module": "@jupyter-widgets/base",
          "model_name": "LayoutModel",
          "state": {
            "_view_name": "LayoutView",
            "grid_template_rows": null,
            "right": null,
            "justify_content": null,
            "_view_module": "@jupyter-widgets/base",
            "overflow": null,
            "_model_module_version": "1.2.0",
            "_view_count": null,
            "flex_flow": null,
            "width": null,
            "min_width": null,
            "border": null,
            "align_items": null,
            "bottom": null,
            "_model_module": "@jupyter-widgets/base",
            "top": null,
            "grid_column": null,
            "overflow_y": null,
            "overflow_x": null,
            "grid_auto_flow": null,
            "grid_area": null,
            "grid_template_columns": null,
            "flex": null,
            "_model_name": "LayoutModel",
            "justify_items": null,
            "grid_row": null,
            "max_height": null,
            "align_content": null,
            "visibility": null,
            "align_self": null,
            "height": null,
            "min_height": null,
            "padding": null,
            "grid_auto_rows": null,
            "grid_gap": null,
            "max_width": null,
            "order": null,
            "_view_module_version": "1.2.0",
            "grid_template_areas": null,
            "object_position": null,
            "object_fit": null,
            "grid_auto_columns": null,
            "margin": null,
            "display": null,
            "left": null
          }
        },
        "16aad25cbd8c4e3d98424be5861d1327": {
          "model_module": "@jupyter-widgets/controls",
          "model_name": "DescriptionStyleModel",
          "state": {
            "_view_name": "StyleView",
            "_model_name": "DescriptionStyleModel",
            "description_width": "",
            "_view_module": "@jupyter-widgets/base",
            "_model_module_version": "1.5.0",
            "_view_count": null,
            "_view_module_version": "1.2.0",
            "_model_module": "@jupyter-widgets/controls"
          }
        },
        "45cfd99c2b50479d9f2c9e8eb6d822b1": {
          "model_module": "@jupyter-widgets/base",
          "model_name": "LayoutModel",
          "state": {
            "_view_name": "LayoutView",
            "grid_template_rows": null,
            "right": null,
            "justify_content": null,
            "_view_module": "@jupyter-widgets/base",
            "overflow": null,
            "_model_module_version": "1.2.0",
            "_view_count": null,
            "flex_flow": null,
            "width": null,
            "min_width": null,
            "border": null,
            "align_items": null,
            "bottom": null,
            "_model_module": "@jupyter-widgets/base",
            "top": null,
            "grid_column": null,
            "overflow_y": null,
            "overflow_x": null,
            "grid_auto_flow": null,
            "grid_area": null,
            "grid_template_columns": null,
            "flex": null,
            "_model_name": "LayoutModel",
            "justify_items": null,
            "grid_row": null,
            "max_height": null,
            "align_content": null,
            "visibility": null,
            "align_self": null,
            "height": null,
            "min_height": null,
            "padding": null,
            "grid_auto_rows": null,
            "grid_gap": null,
            "max_width": null,
            "order": null,
            "_view_module_version": "1.2.0",
            "grid_template_areas": null,
            "object_position": null,
            "object_fit": null,
            "grid_auto_columns": null,
            "margin": null,
            "display": null,
            "left": null
          }
        },
        "7095c8b6d83246c192dbf20a5f6900ba": {
          "model_module": "@jupyter-widgets/controls",
          "model_name": "HBoxModel",
          "state": {
            "_view_name": "HBoxView",
            "_dom_classes": [],
            "_model_name": "HBoxModel",
            "_view_module": "@jupyter-widgets/controls",
            "_model_module_version": "1.5.0",
            "_view_count": null,
            "_view_module_version": "1.5.0",
            "box_style": "",
            "layout": "IPY_MODEL_10238ebadcae411fa63e8d7788224836",
            "_model_module": "@jupyter-widgets/controls",
            "children": [
              "IPY_MODEL_d33d7d8eb76e437fb3d760dca974dafc",
              "IPY_MODEL_79a402b9eb8c4439a387588ae4a307d5"
            ]
          }
        },
        "10238ebadcae411fa63e8d7788224836": {
          "model_module": "@jupyter-widgets/base",
          "model_name": "LayoutModel",
          "state": {
            "_view_name": "LayoutView",
            "grid_template_rows": null,
            "right": null,
            "justify_content": null,
            "_view_module": "@jupyter-widgets/base",
            "overflow": null,
            "_model_module_version": "1.2.0",
            "_view_count": null,
            "flex_flow": null,
            "width": null,
            "min_width": null,
            "border": null,
            "align_items": null,
            "bottom": null,
            "_model_module": "@jupyter-widgets/base",
            "top": null,
            "grid_column": null,
            "overflow_y": null,
            "overflow_x": null,
            "grid_auto_flow": null,
            "grid_area": null,
            "grid_template_columns": null,
            "flex": null,
            "_model_name": "LayoutModel",
            "justify_items": null,
            "grid_row": null,
            "max_height": null,
            "align_content": null,
            "visibility": null,
            "align_self": null,
            "height": null,
            "min_height": null,
            "padding": null,
            "grid_auto_rows": null,
            "grid_gap": null,
            "max_width": null,
            "order": null,
            "_view_module_version": "1.2.0",
            "grid_template_areas": null,
            "object_position": null,
            "object_fit": null,
            "grid_auto_columns": null,
            "margin": null,
            "display": null,
            "left": null
          }
        },
        "d33d7d8eb76e437fb3d760dca974dafc": {
          "model_module": "@jupyter-widgets/controls",
          "model_name": "FloatProgressModel",
          "state": {
            "_view_name": "ProgressView",
            "style": "IPY_MODEL_603cdd8adf1f4bd4a4590d1522685bfa",
            "_dom_classes": [],
            "description": " 12%",
            "_model_name": "FloatProgressModel",
            "bar_style": "danger",
            "max": 50,
            "_view_module": "@jupyter-widgets/controls",
            "_model_module_version": "1.5.0",
            "value": 6,
            "_view_count": null,
            "_view_module_version": "1.5.0",
            "orientation": "horizontal",
            "min": 0,
            "description_tooltip": null,
            "_model_module": "@jupyter-widgets/controls",
            "layout": "IPY_MODEL_6d215d6ce0ae4ff4a234d95315461706"
          }
        },
        "79a402b9eb8c4439a387588ae4a307d5": {
          "model_module": "@jupyter-widgets/controls",
          "model_name": "HTMLModel",
          "state": {
            "_view_name": "HTMLView",
            "style": "IPY_MODEL_1750d12669064150b7186be51adc65cd",
            "_dom_classes": [],
            "description": "",
            "_model_name": "HTMLModel",
            "placeholder": "​",
            "_view_module": "@jupyter-widgets/controls",
            "_model_module_version": "1.5.0",
            "value": " 6/50 [07:22&lt;46:29, 63.39s/it]",
            "_view_count": null,
            "_view_module_version": "1.5.0",
            "description_tooltip": null,
            "_model_module": "@jupyter-widgets/controls",
            "layout": "IPY_MODEL_9c6ff06dff2048a09485e239844d321d"
          }
        },
        "603cdd8adf1f4bd4a4590d1522685bfa": {
          "model_module": "@jupyter-widgets/controls",
          "model_name": "ProgressStyleModel",
          "state": {
            "_view_name": "StyleView",
            "_model_name": "ProgressStyleModel",
            "description_width": "initial",
            "_view_module": "@jupyter-widgets/base",
            "_model_module_version": "1.5.0",
            "_view_count": null,
            "_view_module_version": "1.2.0",
            "bar_color": null,
            "_model_module": "@jupyter-widgets/controls"
          }
        },
        "6d215d6ce0ae4ff4a234d95315461706": {
          "model_module": "@jupyter-widgets/base",
          "model_name": "LayoutModel",
          "state": {
            "_view_name": "LayoutView",
            "grid_template_rows": null,
            "right": null,
            "justify_content": null,
            "_view_module": "@jupyter-widgets/base",
            "overflow": null,
            "_model_module_version": "1.2.0",
            "_view_count": null,
            "flex_flow": null,
            "width": null,
            "min_width": null,
            "border": null,
            "align_items": null,
            "bottom": null,
            "_model_module": "@jupyter-widgets/base",
            "top": null,
            "grid_column": null,
            "overflow_y": null,
            "overflow_x": null,
            "grid_auto_flow": null,
            "grid_area": null,
            "grid_template_columns": null,
            "flex": null,
            "_model_name": "LayoutModel",
            "justify_items": null,
            "grid_row": null,
            "max_height": null,
            "align_content": null,
            "visibility": null,
            "align_self": null,
            "height": null,
            "min_height": null,
            "padding": null,
            "grid_auto_rows": null,
            "grid_gap": null,
            "max_width": null,
            "order": null,
            "_view_module_version": "1.2.0",
            "grid_template_areas": null,
            "object_position": null,
            "object_fit": null,
            "grid_auto_columns": null,
            "margin": null,
            "display": null,
            "left": null
          }
        },
        "1750d12669064150b7186be51adc65cd": {
          "model_module": "@jupyter-widgets/controls",
          "model_name": "DescriptionStyleModel",
          "state": {
            "_view_name": "StyleView",
            "_model_name": "DescriptionStyleModel",
            "description_width": "",
            "_view_module": "@jupyter-widgets/base",
            "_model_module_version": "1.5.0",
            "_view_count": null,
            "_view_module_version": "1.2.0",
            "_model_module": "@jupyter-widgets/controls"
          }
        },
        "9c6ff06dff2048a09485e239844d321d": {
          "model_module": "@jupyter-widgets/base",
          "model_name": "LayoutModel",
          "state": {
            "_view_name": "LayoutView",
            "grid_template_rows": null,
            "right": null,
            "justify_content": null,
            "_view_module": "@jupyter-widgets/base",
            "overflow": null,
            "_model_module_version": "1.2.0",
            "_view_count": null,
            "flex_flow": null,
            "width": null,
            "min_width": null,
            "border": null,
            "align_items": null,
            "bottom": null,
            "_model_module": "@jupyter-widgets/base",
            "top": null,
            "grid_column": null,
            "overflow_y": null,
            "overflow_x": null,
            "grid_auto_flow": null,
            "grid_area": null,
            "grid_template_columns": null,
            "flex": null,
            "_model_name": "LayoutModel",
            "justify_items": null,
            "grid_row": null,
            "max_height": null,
            "align_content": null,
            "visibility": null,
            "align_self": null,
            "height": null,
            "min_height": null,
            "padding": null,
            "grid_auto_rows": null,
            "grid_gap": null,
            "max_width": null,
            "order": null,
            "_view_module_version": "1.2.0",
            "grid_template_areas": null,
            "object_position": null,
            "object_fit": null,
            "grid_auto_columns": null,
            "margin": null,
            "display": null,
            "left": null
          }
        },
        "fa31271c54894dc79113d6b064f54361": {
          "model_module": "@jupyter-widgets/controls",
          "model_name": "HBoxModel",
          "state": {
            "_view_name": "HBoxView",
            "_dom_classes": [],
            "_model_name": "HBoxModel",
            "_view_module": "@jupyter-widgets/controls",
            "_model_module_version": "1.5.0",
            "_view_count": null,
            "_view_module_version": "1.5.0",
            "box_style": "",
            "layout": "IPY_MODEL_5d974a4722c547a9a4358f656f6c10e6",
            "_model_module": "@jupyter-widgets/controls",
            "children": [
              "IPY_MODEL_a2205d69112f481f86d8f44eb2f76961",
              "IPY_MODEL_864f71d17a9743ed86716f21cd1eebfb"
            ]
          }
        },
        "5d974a4722c547a9a4358f656f6c10e6": {
          "model_module": "@jupyter-widgets/base",
          "model_name": "LayoutModel",
          "state": {
            "_view_name": "LayoutView",
            "grid_template_rows": null,
            "right": null,
            "justify_content": null,
            "_view_module": "@jupyter-widgets/base",
            "overflow": null,
            "_model_module_version": "1.2.0",
            "_view_count": null,
            "flex_flow": null,
            "width": null,
            "min_width": null,
            "border": null,
            "align_items": null,
            "bottom": null,
            "_model_module": "@jupyter-widgets/base",
            "top": null,
            "grid_column": null,
            "overflow_y": null,
            "overflow_x": null,
            "grid_auto_flow": null,
            "grid_area": null,
            "grid_template_columns": null,
            "flex": null,
            "_model_name": "LayoutModel",
            "justify_items": null,
            "grid_row": null,
            "max_height": null,
            "align_content": null,
            "visibility": null,
            "align_self": null,
            "height": null,
            "min_height": null,
            "padding": null,
            "grid_auto_rows": null,
            "grid_gap": null,
            "max_width": null,
            "order": null,
            "_view_module_version": "1.2.0",
            "grid_template_areas": null,
            "object_position": null,
            "object_fit": null,
            "grid_auto_columns": null,
            "margin": null,
            "display": null,
            "left": null
          }
        },
        "a2205d69112f481f86d8f44eb2f76961": {
          "model_module": "@jupyter-widgets/controls",
          "model_name": "FloatProgressModel",
          "state": {
            "_view_name": "ProgressView",
            "style": "IPY_MODEL_60c9a3d2344e41408a0cd3e9539dd284",
            "_dom_classes": [],
            "description": " 68%",
            "_model_name": "FloatProgressModel",
            "bar_style": "danger",
            "max": 50,
            "_view_module": "@jupyter-widgets/controls",
            "_model_module_version": "1.5.0",
            "value": 34,
            "_view_count": null,
            "_view_module_version": "1.5.0",
            "orientation": "horizontal",
            "min": 0,
            "description_tooltip": null,
            "_model_module": "@jupyter-widgets/controls",
            "layout": "IPY_MODEL_55c8cf11a6a3410aa560229704f161c7"
          }
        },
        "864f71d17a9743ed86716f21cd1eebfb": {
          "model_module": "@jupyter-widgets/controls",
          "model_name": "HTMLModel",
          "state": {
            "_view_name": "HTMLView",
            "style": "IPY_MODEL_178019171d90430bab00db95a8b88cb1",
            "_dom_classes": [],
            "description": "",
            "_model_name": "HTMLModel",
            "placeholder": "​",
            "_view_module": "@jupyter-widgets/controls",
            "_model_module_version": "1.5.0",
            "value": " 34/50 [43:35&lt;19:54, 74.68s/it]",
            "_view_count": null,
            "_view_module_version": "1.5.0",
            "description_tooltip": null,
            "_model_module": "@jupyter-widgets/controls",
            "layout": "IPY_MODEL_a772d77edf4c4f4f89efc645560b885e"
          }
        },
        "60c9a3d2344e41408a0cd3e9539dd284": {
          "model_module": "@jupyter-widgets/controls",
          "model_name": "ProgressStyleModel",
          "state": {
            "_view_name": "StyleView",
            "_model_name": "ProgressStyleModel",
            "description_width": "initial",
            "_view_module": "@jupyter-widgets/base",
            "_model_module_version": "1.5.0",
            "_view_count": null,
            "_view_module_version": "1.2.0",
            "bar_color": null,
            "_model_module": "@jupyter-widgets/controls"
          }
        },
        "55c8cf11a6a3410aa560229704f161c7": {
          "model_module": "@jupyter-widgets/base",
          "model_name": "LayoutModel",
          "state": {
            "_view_name": "LayoutView",
            "grid_template_rows": null,
            "right": null,
            "justify_content": null,
            "_view_module": "@jupyter-widgets/base",
            "overflow": null,
            "_model_module_version": "1.2.0",
            "_view_count": null,
            "flex_flow": null,
            "width": null,
            "min_width": null,
            "border": null,
            "align_items": null,
            "bottom": null,
            "_model_module": "@jupyter-widgets/base",
            "top": null,
            "grid_column": null,
            "overflow_y": null,
            "overflow_x": null,
            "grid_auto_flow": null,
            "grid_area": null,
            "grid_template_columns": null,
            "flex": null,
            "_model_name": "LayoutModel",
            "justify_items": null,
            "grid_row": null,
            "max_height": null,
            "align_content": null,
            "visibility": null,
            "align_self": null,
            "height": null,
            "min_height": null,
            "padding": null,
            "grid_auto_rows": null,
            "grid_gap": null,
            "max_width": null,
            "order": null,
            "_view_module_version": "1.2.0",
            "grid_template_areas": null,
            "object_position": null,
            "object_fit": null,
            "grid_auto_columns": null,
            "margin": null,
            "display": null,
            "left": null
          }
        },
        "178019171d90430bab00db95a8b88cb1": {
          "model_module": "@jupyter-widgets/controls",
          "model_name": "DescriptionStyleModel",
          "state": {
            "_view_name": "StyleView",
            "_model_name": "DescriptionStyleModel",
            "description_width": "",
            "_view_module": "@jupyter-widgets/base",
            "_model_module_version": "1.5.0",
            "_view_count": null,
            "_view_module_version": "1.2.0",
            "_model_module": "@jupyter-widgets/controls"
          }
        },
        "a772d77edf4c4f4f89efc645560b885e": {
          "model_module": "@jupyter-widgets/base",
          "model_name": "LayoutModel",
          "state": {
            "_view_name": "LayoutView",
            "grid_template_rows": null,
            "right": null,
            "justify_content": null,
            "_view_module": "@jupyter-widgets/base",
            "overflow": null,
            "_model_module_version": "1.2.0",
            "_view_count": null,
            "flex_flow": null,
            "width": null,
            "min_width": null,
            "border": null,
            "align_items": null,
            "bottom": null,
            "_model_module": "@jupyter-widgets/base",
            "top": null,
            "grid_column": null,
            "overflow_y": null,
            "overflow_x": null,
            "grid_auto_flow": null,
            "grid_area": null,
            "grid_template_columns": null,
            "flex": null,
            "_model_name": "LayoutModel",
            "justify_items": null,
            "grid_row": null,
            "max_height": null,
            "align_content": null,
            "visibility": null,
            "align_self": null,
            "height": null,
            "min_height": null,
            "padding": null,
            "grid_auto_rows": null,
            "grid_gap": null,
            "max_width": null,
            "order": null,
            "_view_module_version": "1.2.0",
            "grid_template_areas": null,
            "object_position": null,
            "object_fit": null,
            "grid_auto_columns": null,
            "margin": null,
            "display": null,
            "left": null
          }
        },
        "3520a40260074cbab16b463fa2a34cd1": {
          "model_module": "@jupyter-widgets/controls",
          "model_name": "HBoxModel",
          "state": {
            "_view_name": "HBoxView",
            "_dom_classes": [],
            "_model_name": "HBoxModel",
            "_view_module": "@jupyter-widgets/controls",
            "_model_module_version": "1.5.0",
            "_view_count": null,
            "_view_module_version": "1.5.0",
            "box_style": "",
            "layout": "IPY_MODEL_ca93bfad1d3a420b9663e231f6485dcb",
            "_model_module": "@jupyter-widgets/controls",
            "children": [
              "IPY_MODEL_70b8349d51ab4726a1f7b583555acce6",
              "IPY_MODEL_384006ab5ac84894855efabc8ac59d4c"
            ]
          }
        },
        "ca93bfad1d3a420b9663e231f6485dcb": {
          "model_module": "@jupyter-widgets/base",
          "model_name": "LayoutModel",
          "state": {
            "_view_name": "LayoutView",
            "grid_template_rows": null,
            "right": null,
            "justify_content": null,
            "_view_module": "@jupyter-widgets/base",
            "overflow": null,
            "_model_module_version": "1.2.0",
            "_view_count": null,
            "flex_flow": null,
            "width": null,
            "min_width": null,
            "border": null,
            "align_items": null,
            "bottom": null,
            "_model_module": "@jupyter-widgets/base",
            "top": null,
            "grid_column": null,
            "overflow_y": null,
            "overflow_x": null,
            "grid_auto_flow": null,
            "grid_area": null,
            "grid_template_columns": null,
            "flex": null,
            "_model_name": "LayoutModel",
            "justify_items": null,
            "grid_row": null,
            "max_height": null,
            "align_content": null,
            "visibility": null,
            "align_self": null,
            "height": null,
            "min_height": null,
            "padding": null,
            "grid_auto_rows": null,
            "grid_gap": null,
            "max_width": null,
            "order": null,
            "_view_module_version": "1.2.0",
            "grid_template_areas": null,
            "object_position": null,
            "object_fit": null,
            "grid_auto_columns": null,
            "margin": null,
            "display": null,
            "left": null
          }
        },
        "70b8349d51ab4726a1f7b583555acce6": {
          "model_module": "@jupyter-widgets/controls",
          "model_name": "FloatProgressModel",
          "state": {
            "_view_name": "ProgressView",
            "style": "IPY_MODEL_c9277c6b3ca1416bae51f8f6b5117624",
            "_dom_classes": [],
            "description": " 54%",
            "_model_name": "FloatProgressModel",
            "bar_style": "danger",
            "max": 50,
            "_view_module": "@jupyter-widgets/controls",
            "_model_module_version": "1.5.0",
            "value": 27,
            "_view_count": null,
            "_view_module_version": "1.5.0",
            "orientation": "horizontal",
            "min": 0,
            "description_tooltip": null,
            "_model_module": "@jupyter-widgets/controls",
            "layout": "IPY_MODEL_817be717cd1748ce930bc4adff8920ba"
          }
        },
        "384006ab5ac84894855efabc8ac59d4c": {
          "model_module": "@jupyter-widgets/controls",
          "model_name": "HTMLModel",
          "state": {
            "_view_name": "HTMLView",
            "style": "IPY_MODEL_0b41986a045e470b8086db9199c6c46e",
            "_dom_classes": [],
            "description": "",
            "_model_name": "HTMLModel",
            "placeholder": "​",
            "_view_module": "@jupyter-widgets/controls",
            "_model_module_version": "1.5.0",
            "value": " 27/50 [30:01&lt;24:37, 64.24s/it]",
            "_view_count": null,
            "_view_module_version": "1.5.0",
            "description_tooltip": null,
            "_model_module": "@jupyter-widgets/controls",
            "layout": "IPY_MODEL_e825ef25fdfd40419cbe76274ddaec5b"
          }
        },
        "c9277c6b3ca1416bae51f8f6b5117624": {
          "model_module": "@jupyter-widgets/controls",
          "model_name": "ProgressStyleModel",
          "state": {
            "_view_name": "StyleView",
            "_model_name": "ProgressStyleModel",
            "description_width": "initial",
            "_view_module": "@jupyter-widgets/base",
            "_model_module_version": "1.5.0",
            "_view_count": null,
            "_view_module_version": "1.2.0",
            "bar_color": null,
            "_model_module": "@jupyter-widgets/controls"
          }
        },
        "817be717cd1748ce930bc4adff8920ba": {
          "model_module": "@jupyter-widgets/base",
          "model_name": "LayoutModel",
          "state": {
            "_view_name": "LayoutView",
            "grid_template_rows": null,
            "right": null,
            "justify_content": null,
            "_view_module": "@jupyter-widgets/base",
            "overflow": null,
            "_model_module_version": "1.2.0",
            "_view_count": null,
            "flex_flow": null,
            "width": null,
            "min_width": null,
            "border": null,
            "align_items": null,
            "bottom": null,
            "_model_module": "@jupyter-widgets/base",
            "top": null,
            "grid_column": null,
            "overflow_y": null,
            "overflow_x": null,
            "grid_auto_flow": null,
            "grid_area": null,
            "grid_template_columns": null,
            "flex": null,
            "_model_name": "LayoutModel",
            "justify_items": null,
            "grid_row": null,
            "max_height": null,
            "align_content": null,
            "visibility": null,
            "align_self": null,
            "height": null,
            "min_height": null,
            "padding": null,
            "grid_auto_rows": null,
            "grid_gap": null,
            "max_width": null,
            "order": null,
            "_view_module_version": "1.2.0",
            "grid_template_areas": null,
            "object_position": null,
            "object_fit": null,
            "grid_auto_columns": null,
            "margin": null,
            "display": null,
            "left": null
          }
        },
        "0b41986a045e470b8086db9199c6c46e": {
          "model_module": "@jupyter-widgets/controls",
          "model_name": "DescriptionStyleModel",
          "state": {
            "_view_name": "StyleView",
            "_model_name": "DescriptionStyleModel",
            "description_width": "",
            "_view_module": "@jupyter-widgets/base",
            "_model_module_version": "1.5.0",
            "_view_count": null,
            "_view_module_version": "1.2.0",
            "_model_module": "@jupyter-widgets/controls"
          }
        },
        "e825ef25fdfd40419cbe76274ddaec5b": {
          "model_module": "@jupyter-widgets/base",
          "model_name": "LayoutModel",
          "state": {
            "_view_name": "LayoutView",
            "grid_template_rows": null,
            "right": null,
            "justify_content": null,
            "_view_module": "@jupyter-widgets/base",
            "overflow": null,
            "_model_module_version": "1.2.0",
            "_view_count": null,
            "flex_flow": null,
            "width": null,
            "min_width": null,
            "border": null,
            "align_items": null,
            "bottom": null,
            "_model_module": "@jupyter-widgets/base",
            "top": null,
            "grid_column": null,
            "overflow_y": null,
            "overflow_x": null,
            "grid_auto_flow": null,
            "grid_area": null,
            "grid_template_columns": null,
            "flex": null,
            "_model_name": "LayoutModel",
            "justify_items": null,
            "grid_row": null,
            "max_height": null,
            "align_content": null,
            "visibility": null,
            "align_self": null,
            "height": null,
            "min_height": null,
            "padding": null,
            "grid_auto_rows": null,
            "grid_gap": null,
            "max_width": null,
            "order": null,
            "_view_module_version": "1.2.0",
            "grid_template_areas": null,
            "object_position": null,
            "object_fit": null,
            "grid_auto_columns": null,
            "margin": null,
            "display": null,
            "left": null
          }
        }
      }
    }
  },
  "cells": [
    {
      "cell_type": "markdown",
      "metadata": {
        "id": "view-in-github",
        "colab_type": "text"
      },
      "source": [
        "<a href=\"https://colab.research.google.com/github/ZichangYe/NBA-Analytics/blob/master/Q2_v1015.ipynb\" target=\"_parent\"><img src=\"https://colab.research.google.com/assets/colab-badge.svg\" alt=\"Open In Colab\"/></a>"
      ]
    },
    {
      "cell_type": "markdown",
      "metadata": {
        "id": "JccQsl2OtAOi"
      },
      "source": [
        "### Imports "
      ]
    },
    {
      "cell_type": "code",
      "metadata": {
        "ExecuteTime": {
          "end_time": "2020-10-12T21:23:02.741734Z",
          "start_time": "2020-10-12T21:23:02.010707Z"
        },
        "id": "5elHgLPSoiT7",
        "outputId": "6f65cc8a-ee78-4db7-b9e1-24f4c7156737",
        "colab": {
          "base_uri": "https://localhost:8080/",
          "height": 34
        }
      },
      "source": [
        "import torch \n",
        "import torchvision\n",
        "import torch.nn as nn\n",
        "import torch.nn.functional as F \n",
        "from IPython.display import Image \n",
        "from torchvision import transforms\n",
        "import matplotlib.pyplot as plt\n",
        "import random\n",
        "from torch.utils.data import DataLoader\n",
        "from tqdm.auto import tqdm\n",
        "import torch.optim as optim\n",
        "import numpy as np\n",
        "import matplotlib.pyplot as plt\n",
        "import datetime\n",
        "today_date = datetime.datetime.today()\n",
        "\n",
        "device = torch.device(\"cuda\" if torch.cuda.is_available() else \"cpu\")\n",
        "seed = 12345\n",
        "random.seed(seed)\n",
        "torch.manual_seed(seed)"
      ],
      "execution_count": 2,
      "outputs": [
        {
          "output_type": "execute_result",
          "data": {
            "text/plain": [
              "<torch._C.Generator at 0x7f0ea093c630>"
            ]
          },
          "metadata": {
            "tags": []
          },
          "execution_count": 2
        }
      ]
    },
    {
      "cell_type": "markdown",
      "metadata": {
        "id": "y8Aj_LrAhwRP"
      },
      "source": [
        "#### Mount your google drive so you can save model checkpoints, and report your test results on the final best model after hyperparameter tuning"
      ]
    },
    {
      "cell_type": "code",
      "metadata": {
        "ExecuteTime": {
          "end_time": "2020-10-12T21:23:31.609516Z",
          "start_time": "2020-10-12T21:23:31.596532Z"
        },
        "id": "utx0ySGqQbha",
        "outputId": "c484eb3a-bb52-42f2-db87-6e947a0fd5b1",
        "colab": {
          "base_uri": "https://localhost:8080/",
          "height": 34
        }
      },
      "source": [
        "from google.colab import drive\n",
        "drive.mount('/content/drive')"
      ],
      "execution_count": 3,
      "outputs": [
        {
          "output_type": "stream",
          "text": [
            "Mounted at /content/drive\n"
          ],
          "name": "stdout"
        }
      ]
    },
    {
      "cell_type": "markdown",
      "metadata": {
        "id": "zqzOqBsvs9kA"
      },
      "source": [
        "### Data loading "
      ]
    },
    {
      "cell_type": "markdown",
      "metadata": {
        "id": "3-3MVXNOhdCc"
      },
      "source": [
        "##### Run the following cells to load the dataset. Setting download=True will download it for you."
      ]
    },
    {
      "cell_type": "code",
      "metadata": {
        "id": "8rb7Ng7_VcwL",
        "outputId": "e42443e0-d3f8-459f-ff17-58d44dc1dd2d",
        "colab": {
          "base_uri": "https://localhost:8080/",
          "height": 100,
          "referenced_widgets": [
            "15793ecc01e44114b95f01209087610c",
            "568cb20dcfad456fabbbc692fc6c47f3",
            "903320b48eb3415b9c0e711424953cd7",
            "9ae6078b661d48488ec5f64ccef00fae",
            "43160f9aafc64f298cd073e2938d3a88",
            "610368e01ff34be4bf34f89f8acd4081",
            "16aad25cbd8c4e3d98424be5861d1327",
            "45cfd99c2b50479d9f2c9e8eb6d822b1"
          ]
        }
      },
      "source": [
        "cifar10_train = torchvision.datasets.CIFAR10(root='./cifar10', \n",
        "                                             train=True, \n",
        "                                             transform=None, \n",
        "                                             target_transform=None,\n",
        "                                             download=True)\n",
        "cifar10_test = torchvision.datasets.CIFAR10(root='./cifar10', \n",
        "                                             train=False, \n",
        "                                             transform=None, \n",
        "                                             target_transform=None,\n",
        "                                             download=True)\n",
        "\n",
        "# Divides the dataset into train and val so that we can use the val to choose our hyperparameters\n",
        "train_dataset, val_dataset = torch.utils.data.random_split(cifar10_train, [40000, 10000], \n",
        "                                                           generator=torch.Generator().manual_seed(12345))\n",
        "test_dataset = cifar10_test"
      ],
      "execution_count": 4,
      "outputs": [
        {
          "output_type": "stream",
          "text": [
            "Downloading https://www.cs.toronto.edu/~kriz/cifar-10-python.tar.gz to ./cifar10/cifar-10-python.tar.gz\n"
          ],
          "name": "stdout"
        },
        {
          "output_type": "display_data",
          "data": {
            "application/vnd.jupyter.widget-view+json": {
              "model_id": "15793ecc01e44114b95f01209087610c",
              "version_minor": 0,
              "version_major": 2
            },
            "text/plain": [
              "HBox(children=(FloatProgress(value=1.0, bar_style='info', max=1.0), HTML(value='')))"
            ]
          },
          "metadata": {
            "tags": []
          }
        },
        {
          "output_type": "stream",
          "text": [
            "Extracting ./cifar10/cifar-10-python.tar.gz to ./cifar10\n",
            "Files already downloaded and verified\n"
          ],
          "name": "stdout"
        }
      ]
    },
    {
      "cell_type": "code",
      "metadata": {
        "id": "J_NzhpK8KvQC"
      },
      "source": [
        "# Helper code to support adding different transforms on the dataset lazily after downloading the dataset\n",
        "# From https://discuss.pytorch.org/t/apply-different-transform-data-augmentation-to-train-and-validation/63580/5\n",
        "class MapDataset(torch.utils.data.Dataset):\n",
        "    \"\"\"\n",
        "    Given a dataset, creates a dataset which applies a mapping function\n",
        "    to its items (lazily, only when an item is called).\n",
        "\n",
        "    Note that data is not cloned/copied from the initial dataset.\n",
        "    \"\"\"\n",
        "\n",
        "    def __init__(self, dataset, map_fn):\n",
        "        self.dataset = dataset\n",
        "        self.map = map_fn\n",
        "\n",
        "    def __getitem__(self, index):\n",
        "        if self.map:     \n",
        "            x = self.map(self.dataset[index][0]) \n",
        "        else:     \n",
        "            x = self.dataset[index][0]  \n",
        "        y = self.dataset[index][1]         \n",
        "        return x, y\n",
        "\n",
        "    def __len__(self):\n",
        "        return len(self.dataset)"
      ],
      "execution_count": 5,
      "outputs": []
    },
    {
      "cell_type": "markdown",
      "metadata": {
        "id": "MMbXzcUiKc7e"
      },
      "source": [
        "#### Standard transforms to apply on images - Convert to tensors and normalize with mean and std. These are the basic transforms that you will always apply. The mean and std have been pre calculated on the training set. "
      ]
    },
    {
      "cell_type": "code",
      "metadata": {
        "id": "LWEKU9xQKbkW"
      },
      "source": [
        "# Notice that we apply the same mean and std normalization calculated on train, to both the train and test datasets.\n",
        "test_transform = transforms.Compose([\n",
        "                                     transforms.ToTensor(),\n",
        "                                     transforms.Normalize(\n",
        "                                         [0.4373, 0.4434, 0.4725],\n",
        "                                         [0.1201, 0.1231, 0.1052])\n",
        "                                     ])\n",
        "\n",
        "train_transform = transforms.Compose([\n",
        "                                      transforms.ToTensor(),\n",
        "                                      transforms.Normalize(\n",
        "                                          [0.4373, 0.4434, 0.4725],\n",
        "                                          [0.1201, 0.1231, 0.1052])\n",
        "                                      ])\n"
      ],
      "execution_count": 6,
      "outputs": []
    },
    {
      "cell_type": "code",
      "metadata": {
        "id": "TrDIxTs2JwbO"
      },
      "source": [
        "train_dataset_w_transform  = MapDataset(train_dataset, train_transform)\n",
        "val_dataset_w_transform = MapDataset(val_dataset, test_transform)\n",
        "test_dataset_w_transform = MapDataset(test_dataset, test_transform)"
      ],
      "execution_count": 7,
      "outputs": []
    },
    {
      "cell_type": "code",
      "metadata": {
        "id": "4LcExDS1tyjI"
      },
      "source": [
        "bs = 128\n",
        "torch.backends.cudnn.benchmark = True\n",
        "train_loader = DataLoader(train_dataset_w_transform, batch_size=bs, shuffle=True, drop_last=False,num_workers=10, pin_memory=True)\n",
        "val_loader = DataLoader(val_dataset_w_transform, batch_size=bs, shuffle=False, drop_last=False,num_workers=10, pin_memory=True)\n",
        "test_loader = DataLoader(test_dataset, batch_size=bs, shuffle=False, drop_last=False,num_workers=10, pin_memory=True)"
      ],
      "execution_count": 8,
      "outputs": []
    },
    {
      "cell_type": "markdown",
      "metadata": {
        "id": "pXLFsEihoMTn"
      },
      "source": [
        "### Q 2.1 Training loop"
      ]
    },
    {
      "cell_type": "markdown",
      "metadata": {
        "id": "ksECLwMqkgj_"
      },
      "source": [
        "In this question, fill in the missing parts to build a generic training loop that returns the train and validation losses and accuracies. The #TODOs will guide you through the key points and you should fill some code for each #TODO. You might need to add some additional code for bookkeeping the losses and accuracies"
      ]
    },
    {
      "cell_type": "code",
      "metadata": {
        "id": "GnmWg9P9N5U_"
      },
      "source": [
        "def train_loop(model, criterion, optimizer,  train_loader, val_loader):\n",
        "    \"\"\"\n",
        "    Generic training loop\n",
        "\n",
        "    Parameters\n",
        "    ----------\n",
        "    model : Object instance of your model class \n",
        "    criterion : Loss function \n",
        "    optimizer : Instance of optimizer class of your choice \n",
        "    train_loader : Training data loader \n",
        "    val_loader : Validation data loader\n",
        "\n",
        "    Returns\n",
        "    -------\n",
        "    train_losses : List with train loss on dataset per epoch\n",
        "    train_accuracies : List with train accuracy on dataset per epoch\n",
        "    val_losses : List with validation loss on dataset per epoch\n",
        "    val_accuracies : List with validation accuracy on dataset per epoch\n",
        "\n",
        "    \"\"\"\n",
        "    best_val = 0.0\n",
        "    train_losses = []\n",
        "    val_losses = []\n",
        "    train_accuracies = []\n",
        "    val_accuracies = []\n",
        "    max_patience = 5\n",
        "    patience_counter = 0\n",
        "    # Training\n",
        "    for t in tqdm(range(50)):\n",
        "        # TODO : Set the model to train mode        \n",
        "        model.train()\n",
        "        train_correct = 0\n",
        "        val_correct = 0\n",
        "        # TODO: Loop over the training set \n",
        "        for batch_idx, (data, target) in enumerate(train_loader):\n",
        "            # TODO: Put the inputs and targets on the write device\n",
        "            data, target = data.to(device), target.to(device)\n",
        "            # TODO: Feed forward to get the logits\n",
        "            output = model(data)\n",
        "            # TODO: Compute the loss and accuracy\n",
        "            train_loss = criterion(output, target)\n",
        "            train_pred = output.data.max(1, keepdim=True)[1]\n",
        "            train_correct += train_pred.eq(target.data.view_as(train_pred)).cpu().sum().item()\n",
        "            train_accuracy = 100. * train_correct/len(train_loader.dataset)\n",
        "            # print('Training Accuracy: {}'.format(train_accuracy))\n",
        "            # TODO: zero the gradients before running\n",
        "            optimizer.zero_grad()\n",
        "            # the backward pass.\n",
        "            \n",
        "            # TODO: Backward pass to compute the gradient\n",
        "            # of loss w.r.t our learnable params. \n",
        "            train_loss.backward()\n",
        "            # TODO: Update params\n",
        "            optimizer.step()\n",
        "            # TODO: Keep track of accuracy and loss\n",
        "        train_losses.append(train_loss)\n",
        "        train_accuracies.append(train_accuracy)\n",
        "        \n",
        "        # TODO: Switch the model to eval mode\n",
        "        model.eval()\n",
        "\n",
        "        with torch.no_grad():\n",
        "            # TODO: Loop over the validation set \n",
        "            for batch_idx, (data, target) in enumerate(val_loader):\n",
        "                # TODO: Put the inputs and targets on the write device\n",
        "                data, target = data.to(device), target.to(device)\n",
        "                # TODO: Feed forward to get the logits\n",
        "                output = model(data)\n",
        "                # TODO: Compute the loss and accuracy\n",
        "                val_loss = criterion(output, target)\n",
        "                val_pred = output.data.max(1, keepdim=True)[1]\n",
        "                val_correct += val_pred.eq(target.data.view_as(val_pred)).cpu().sum().item()\n",
        "                val_accuracy = 100. * val_correct/len(val_loader.dataset)\n",
        "                # print('Validation Accuracy: {}'.format(val_accuracy))\n",
        "     \n",
        "                # TODO: Keep track of accuracy and loss\n",
        "            val_losses.append(val_loss)\n",
        "            val_accuracies.append(val_accuracy)              \n",
        "        if val_accuracies[-1] > best_val:\n",
        "          best_val = val_accuracies[-1]\n",
        "          patience_counter = 0\n",
        "\n",
        "          # TODO: Save best model, optimizer, epoch_number\n",
        "          best_model = model\n",
        "          best_optimizer = optimizer\n",
        "          best_epoch_number = t\n",
        "        else:\n",
        "          patience_counter += 1    \n",
        "          if patience_counter > max_patience: \n",
        "            break\n",
        "\n",
        "        print(\"[EPOCH]: %i, [TRAIN LOSS]: %.6f, [TRAIN ACCURACY]: %.3f\" % (t, train_losses[-1], train_accuracies[-1]))\n",
        "        print(\"[EPOCH]: %i, [VAL LOSS]: %.6f, [VAL ACCURACY]: %.3f \\n\" % (t, val_losses[-1] ,val_accuracies[-1]))\n",
        "\n",
        "    return train_losses, train_accuracies, val_losses, val_accuracies"
      ],
      "execution_count": 9,
      "outputs": []
    },
    {
      "cell_type": "markdown",
      "metadata": {
        "id": "0sdCTYUouY4o"
      },
      "source": [
        "### Q 2.2 Shallow convolutional network. "
      ]
    },
    {
      "cell_type": "code",
      "metadata": {
        "id": "FKqYI2qxp95J"
      },
      "source": [
        "class View(nn.Module):\n",
        "    def __init__(self, shape):\n",
        "      super().__init__()\n",
        "      self.shape = shape\n",
        "\n",
        "    def forward(self, x):\n",
        "        return x.view(*self.shape)"
      ],
      "execution_count": 10,
      "outputs": []
    },
    {
      "cell_type": "code",
      "metadata": {
        "id": "FDHE0lOgpF0W"
      },
      "source": [
        "ShallowNet =  nn.Sequential(\n",
        "      nn.Conv2d(in_channels = 3, out_channels = 64, kernel_size=5, padding=2),\n",
        "      nn.ReLU(),\n",
        "      nn.MaxPool2d(kernel_size=2),\n",
        "      nn.Conv2d(in_channels = 64, out_channels = 128, kernel_size=3, padding=1),\n",
        "      nn.ReLU(),\n",
        "      nn.MaxPool2d(kernel_size=2),\n",
        "      nn.Conv2d(in_channels = 128, out_channels = 256, kernel_size=3, padding=1),\n",
        "      nn.ReLU(),\n",
        "      nn.MaxPool2d(kernel_size=8),\n",
        "      View((-1,256)),\n",
        "      nn.Linear(256, 10),\n",
        ")"
      ],
      "execution_count": 11,
      "outputs": []
    },
    {
      "cell_type": "markdown",
      "metadata": {
        "id": "iV26KJLDrzhx"
      },
      "source": [
        "#### Write the object oriented version of ShallowNet"
      ]
    },
    {
      "cell_type": "code",
      "metadata": {
        "id": "H8YygdvnuqDM"
      },
      "source": [
        "class ShallowConvnet(nn.Module):\n",
        "    def __init__(self, input_channels, num_classes):\n",
        "        \"\"\"\n",
        "\n",
        "        Parameters\n",
        "        ----------\n",
        "        input_channels : Number of input channels\n",
        "        num_classes : Number of classes for the final prediction \n",
        "        \"\"\"\n",
        "        super(ShallowConvnet, self).__init__()\n",
        "        self.input_channels = input_channels\n",
        "        # TODO\n",
        "        self.network = nn.Sequential(\n",
        "            nn.Conv2d(in_channels = input_channels, out_channels = 64, kernel_size=5, padding=2),\n",
        "            nn.ReLU(),\n",
        "            nn.MaxPool2d(kernel_size=2),\n",
        "            nn.Conv2d(in_channels = 64, out_channels = 128, kernel_size=3, padding=1),\n",
        "            nn.ReLU(),\n",
        "            nn.MaxPool2d(kernel_size=2),\n",
        "            nn.Conv2d(in_channels = 128, out_channels = 256, kernel_size=3, padding=1),\n",
        "            nn.ReLU(),\n",
        "            nn.MaxPool2d(kernel_size=8),\n",
        "            View((-1,256)),\n",
        "            nn.Linear(256, num_classes),\n",
        "      )\n",
        "        \n",
        "\n",
        "    def forward(self, x):\n",
        "        \"\"\"\n",
        "\n",
        "        Parameters\n",
        "        ----------\n",
        "        x\n",
        "\n",
        "        Returns\n",
        "        -------\n",
        "        output : Result after running through the model\n",
        "        \"\"\"\n",
        "        # TODO\n",
        "        # x = x.view(-1, self.input_channels)?\n",
        "        return self.network(x)\n",
        "        "
      ],
      "execution_count": 12,
      "outputs": []
    },
    {
      "cell_type": "markdown",
      "metadata": {
        "id": "UjEH5jIhwnet"
      },
      "source": [
        "### Q2.3 Instantiate the model and run this using an SGD optimizer, with the appropriate loss function for classification\n",
        "\n",
        "Report the learning curves (training and validation accuracy vs number of epochs)"
      ]
    },
    {
      "cell_type": "code",
      "metadata": {
        "id": "_oG1E-YRu4Cj",
        "outputId": "ac01ac28-6a6e-4af9-b5e9-7d35efd733e0",
        "colab": {
          "base_uri": "https://localhost:8080/",
          "height": 1000
        }
      },
      "source": [
        "# TODO : Initialize the model and cast to correct device\n",
        "model_ShallowConv = ShallowConvnet(input_channels = 3, num_classes = 10)\n",
        "model_ShallowConv.to(device)\n",
        "\n",
        "# TODO : Initialize the criterion\n",
        "criterion = F.cross_entropy\n",
        "\n",
        "# TODO : Initialize the SGD optimizer with lr 1e-3\n",
        "optimizer = optim.SGD(model_ShallowConv.parameters(), lr=1e-3, momentum=0.5)\n",
        "\n",
        "# TODO : Run the training loop using this model\n",
        "train_losses, train_accuracies, val_losses, val_accuracies = train_loop(model_ShallowConv, criterion, optimizer, train_loader, val_loader)\n"
      ],
      "execution_count": 22,
      "outputs": [
        {
          "output_type": "stream",
          "text": [
            "[EPOCH]: 25, [TRAIN LOSS]: 1.216962, [TRAIN ACCURACY]: 56.877\n",
            "[EPOCH]: 25, [VAL LOSS]: 0.877081, [VAL ACCURACY]: 54.800 \n",
            "\n",
            "[EPOCH]: 26, [TRAIN LOSS]: 1.082827, [TRAIN ACCURACY]: 57.388\n",
            "[EPOCH]: 26, [VAL LOSS]: 0.875490, [VAL ACCURACY]: 55.870 \n",
            "\n",
            "[EPOCH]: 27, [TRAIN LOSS]: 1.339500, [TRAIN ACCURACY]: 57.775\n",
            "[EPOCH]: 27, [VAL LOSS]: 0.928765, [VAL ACCURACY]: 55.990 \n",
            "\n",
            "[EPOCH]: 28, [TRAIN LOSS]: 1.290953, [TRAIN ACCURACY]: 58.528\n",
            "[EPOCH]: 28, [VAL LOSS]: 0.749431, [VAL ACCURACY]: 56.790 \n",
            "\n",
            "[EPOCH]: 29, [TRAIN LOSS]: 1.245437, [TRAIN ACCURACY]: 59.110\n",
            "[EPOCH]: 29, [VAL LOSS]: 0.870463, [VAL ACCURACY]: 56.180 \n",
            "\n",
            "[EPOCH]: 30, [TRAIN LOSS]: 1.349535, [TRAIN ACCURACY]: 59.547\n",
            "[EPOCH]: 30, [VAL LOSS]: 0.757730, [VAL ACCURACY]: 57.400 \n",
            "\n",
            "[EPOCH]: 31, [TRAIN LOSS]: 0.963689, [TRAIN ACCURACY]: 59.925\n",
            "[EPOCH]: 31, [VAL LOSS]: 0.813436, [VAL ACCURACY]: 58.320 \n",
            "\n",
            "[EPOCH]: 32, [TRAIN LOSS]: 1.108154, [TRAIN ACCURACY]: 60.455\n",
            "[EPOCH]: 32, [VAL LOSS]: 0.819942, [VAL ACCURACY]: 56.210 \n",
            "\n",
            "[EPOCH]: 33, [TRAIN LOSS]: 1.090412, [TRAIN ACCURACY]: 60.947\n",
            "[EPOCH]: 33, [VAL LOSS]: 0.838873, [VAL ACCURACY]: 57.510 \n",
            "\n",
            "[EPOCH]: 34, [TRAIN LOSS]: 1.206595, [TRAIN ACCURACY]: 61.127\n",
            "[EPOCH]: 34, [VAL LOSS]: 0.798130, [VAL ACCURACY]: 59.040 \n",
            "\n",
            "[EPOCH]: 35, [TRAIN LOSS]: 1.349601, [TRAIN ACCURACY]: 61.593\n",
            "[EPOCH]: 35, [VAL LOSS]: 0.840212, [VAL ACCURACY]: 57.550 \n",
            "\n",
            "[EPOCH]: 36, [TRAIN LOSS]: 0.992469, [TRAIN ACCURACY]: 62.047\n",
            "[EPOCH]: 36, [VAL LOSS]: 0.713237, [VAL ACCURACY]: 59.130 \n",
            "\n",
            "[EPOCH]: 37, [TRAIN LOSS]: 0.842109, [TRAIN ACCURACY]: 62.365\n",
            "[EPOCH]: 37, [VAL LOSS]: 0.802465, [VAL ACCURACY]: 59.650 \n",
            "\n",
            "[EPOCH]: 38, [TRAIN LOSS]: 0.922382, [TRAIN ACCURACY]: 62.685\n",
            "[EPOCH]: 38, [VAL LOSS]: 0.845242, [VAL ACCURACY]: 59.250 \n",
            "\n",
            "[EPOCH]: 39, [TRAIN LOSS]: 1.071543, [TRAIN ACCURACY]: 62.958\n",
            "[EPOCH]: 39, [VAL LOSS]: 0.759140, [VAL ACCURACY]: 60.240 \n",
            "\n",
            "[EPOCH]: 40, [TRAIN LOSS]: 0.908183, [TRAIN ACCURACY]: 63.555\n",
            "[EPOCH]: 40, [VAL LOSS]: 0.890663, [VAL ACCURACY]: 59.260 \n",
            "\n",
            "[EPOCH]: 41, [TRAIN LOSS]: 1.080051, [TRAIN ACCURACY]: 64.082\n",
            "[EPOCH]: 41, [VAL LOSS]: 0.806855, [VAL ACCURACY]: 60.030 \n",
            "\n",
            "[EPOCH]: 42, [TRAIN LOSS]: 1.090500, [TRAIN ACCURACY]: 64.468\n",
            "[EPOCH]: 42, [VAL LOSS]: 0.713173, [VAL ACCURACY]: 59.760 \n",
            "\n",
            "[EPOCH]: 43, [TRAIN LOSS]: 1.045564, [TRAIN ACCURACY]: 64.703\n",
            "[EPOCH]: 43, [VAL LOSS]: 0.809301, [VAL ACCURACY]: 60.240 \n",
            "\n",
            "[EPOCH]: 44, [TRAIN LOSS]: 1.053139, [TRAIN ACCURACY]: 65.110\n",
            "[EPOCH]: 44, [VAL LOSS]: 0.709531, [VAL ACCURACY]: 61.380 \n",
            "\n",
            "[EPOCH]: 45, [TRAIN LOSS]: 1.086684, [TRAIN ACCURACY]: 65.540\n",
            "[EPOCH]: 45, [VAL LOSS]: 0.792510, [VAL ACCURACY]: 60.390 \n",
            "\n",
            "[EPOCH]: 46, [TRAIN LOSS]: 1.025921, [TRAIN ACCURACY]: 65.748\n",
            "[EPOCH]: 46, [VAL LOSS]: 0.718780, [VAL ACCURACY]: 61.560 \n",
            "\n",
            "[EPOCH]: 47, [TRAIN LOSS]: 1.042233, [TRAIN ACCURACY]: 66.340\n",
            "[EPOCH]: 47, [VAL LOSS]: 0.736836, [VAL ACCURACY]: 61.520 \n",
            "\n",
            "[EPOCH]: 48, [TRAIN LOSS]: 0.800697, [TRAIN ACCURACY]: 66.360\n",
            "[EPOCH]: 48, [VAL LOSS]: 0.752091, [VAL ACCURACY]: 62.960 \n",
            "\n",
            "[EPOCH]: 49, [TRAIN LOSS]: 1.094411, [TRAIN ACCURACY]: 66.830\n",
            "[EPOCH]: 49, [VAL LOSS]: 0.859194, [VAL ACCURACY]: 58.720 \n",
            "\n",
            "\n"
          ],
          "name": "stdout"
        }
      ]
    },
    {
      "cell_type": "code",
      "metadata": {
        "id": "QeYgQB6RR5gS"
      },
      "source": [
        "with open('/content/drive/My Drive/model_ShallowConv_{}.txt'.format(today_date), 'w') as writefile:\n",
        "    writefile.write(\"train_accuracies: \\n\")\n",
        "    writefile.writelines(str(accuracy) +', \\n' for accuracy in train_accuracies)\n",
        "    writefile.write('\\n')\n",
        "    writefile.write(\"val_accuracies: \\n\")\n",
        "    writefile.writelines(str(accuracy) for accuracy in val_accuracies)\n",
        "    writefile.write('\\n')"
      ],
      "execution_count": null,
      "outputs": []
    },
    {
      "cell_type": "code",
      "metadata": {
        "id": "6DZYX3lfT5y7"
      },
      "source": [
        "# save models\n",
        "model_save_name = 'model_ShallowConv_{}.pt'.format(today_date)\n",
        "path = F\"/content/drive/My Drive/{model_save_name}\" \n",
        "torch.save(model_ShallowConv.state_dict(), path)"
      ],
      "execution_count": 41,
      "outputs": []
    },
    {
      "cell_type": "code",
      "metadata": {
        "id": "PrnoyyCk_ovk",
        "outputId": "72654c05-74ce-454b-a3f5-2c6c446db947",
        "colab": {
          "base_uri": "https://localhost:8080/",
          "height": 312
        }
      },
      "source": [
        "# visualize learning rate\n",
        "plt.plot(np.arange(1, len(train_accuracies)+1), train_accuracies, label='training accuracy')\n",
        "plt.plot(np.arange(1, len(val_accuracies)+1), val_accuracies, label='validation accuracy')\n",
        "plt.xlabel('Epoch')\n",
        "plt.ylabel('Accuracy')\n",
        "plt.legend()\n",
        "plt.title('Training & Validation Learning Rate')"
      ],
      "execution_count": 42,
      "outputs": [
        {
          "output_type": "execute_result",
          "data": {
            "text/plain": [
              "Text(0.5, 1.0, 'Training &Validation Learning Rate')"
            ]
          },
          "metadata": {
            "tags": []
          },
          "execution_count": 42
        },
        {
          "output_type": "display_data",
          "data": {
            "image/png": "[encoded data removed]",
            "text/plain": [
              "<Figure size 432x288 with 1 Axes>"
            ]
          },
          "metadata": {
            "tags": [],
            "needs_background": "light"
          }
        }
      ]
    },
    {
      "cell_type": "markdown",
      "metadata": {
        "id": "cLRvwxlJoFQO"
      },
      "source": [
        "### Q2.4 Simple convolution network - "
      ]
    },
    {
      "cell_type": "markdown",
      "metadata": {
        "id": "lSUz9ljRxRc5"
      },
      "source": [
        "Design a convolutional neural network with the following specification: \n",
        "For each convolution layer, use appropriate padding such that it maintains the resolution of the image. The resolution should be changing only when you introduce maxpooling layers. Each convolution layer should be followed by a relu non-linearity. The first two blocks containing 3 convolutional layers are each followed by a maxpooling layer that halves the resolution of the image. After the third block, use maxpooling to get a resolution of 1 X 1. Finally, apply a linear transformation to project to the number of classes. \n",
        "\n",
        "Structure of the convolution layers of the model:\n",
        "1. Number of input channels to the model = 3\n",
        "2. First convolution layer of kernel size 5 with filter size 64 and padding such that it maintains the resolution of the image.\n",
        "3. Followed by a block of 3 convolution layers of kernel size 3, filter size 64 and padding such that it maintains the resolution of the image.\n",
        "5. Followed by 3 convolution layers of kernel size 3, filter size 128 and padding such that it maintains the resolution of the image.\n",
        "6. Followed by 3 convolution layers of kernel size 3, filter size 256 and padding such that it maintains the resolution of the image. \n",
        "\n",
        "\n"
      ]
    },
    {
      "cell_type": "code",
      "metadata": {
        "id": "GfwKR3uNlsNc"
      },
      "source": [
        "# Use the description of the structure of the model and the hints given below \n",
        "\n",
        "class SimpleConvnet(nn.Module):\n",
        "    def __init__(self, input_channels, num_classes):\n",
        "        super(SimpleConvnet, self).__init__()\n",
        "        \n",
        "        # TODO\n",
        "        self.network = nn.Sequential(\n",
        "            # first layer, resolution = 32\n",
        "            nn.Conv2d(input_channels, out_channels=64, kernel_size=5, padding=2),\n",
        "            nn.ReLU(),\n",
        "            # first block, resolution = 32\n",
        "            nn.Conv2d(in_channels=64, out_channels=64, kernel_size=3, padding=1),\n",
        "            nn.ReLU(),\n",
        "            nn.Conv2d(in_channels=64, out_channels=64, kernel_size=3, padding=1),\n",
        "            nn.ReLU(),\n",
        "            nn.Conv2d(in_channels=64, out_channels=64, kernel_size=3, padding=1),\n",
        "            nn.ReLU(),\n",
        "\n",
        "            # first maxpooling, resolution = 16\n",
        "            nn.MaxPool2d(kernel_size=2,stride=2),\n",
        "\n",
        "            # second block, resolution = 32\n",
        "            nn.Conv2d(in_channels=64, out_channels=128, kernel_size=3, padding=9),\n",
        "            nn.ReLU(),\n",
        "            nn.Conv2d(in_channels=128, out_channels=128, kernel_size=3, padding=1),\n",
        "            nn.ReLU(),\n",
        "            nn.Conv2d(in_channels=128, out_channels=128, kernel_size=3, padding=1),\n",
        "            nn.ReLU(),\n",
        "\n",
        "            # second maxpooling, resolution = 16\n",
        "            nn.MaxPool2d(kernel_size=2, stride=2),\n",
        "\n",
        "            # # third block, resolution = 32\n",
        "            nn.Conv2d(in_channels=128, out_channels=256, kernel_size=3, padding=9),\n",
        "            nn.ReLU(),\n",
        "            nn.Conv2d(in_channels=256, out_channels=256, kernel_size=3, padding=1),\n",
        "            nn.ReLU(),\n",
        "            nn.Conv2d(in_channels=256, out_channels=256, kernel_size=3, padding=1),\n",
        "            nn.ReLU(),\n",
        "\n",
        "            # final maxpooling, output size reduced to 1\n",
        "            nn.MaxPool2d(kernel_size=32),\n",
        "            View((-1,256)),\n",
        "            nn.Linear(256, num_classes)\n",
        "      )\n",
        "    \n",
        "    def forward(self, x):\n",
        "       \n",
        "        # TODO \n",
        "        output = self.network(x)\n",
        "        return output\n",
        "        "
      ],
      "execution_count": 13,
      "outputs": []
    },
    {
      "cell_type": "code",
      "metadata": {
        "id": "q_WKoU3ewH2B",
        "outputId": "1586fe6c-4fac-4bfc-afd2-c2ad832f9efa",
        "colab": {
          "base_uri": "https://localhost:8080/",
          "height": 355,
          "referenced_widgets": [
            "7095c8b6d83246c192dbf20a5f6900ba",
            "10238ebadcae411fa63e8d7788224836",
            "d33d7d8eb76e437fb3d760dca974dafc",
            "79a402b9eb8c4439a387588ae4a307d5",
            "603cdd8adf1f4bd4a4590d1522685bfa",
            "6d215d6ce0ae4ff4a234d95315461706",
            "1750d12669064150b7186be51adc65cd",
            "9c6ff06dff2048a09485e239844d321d"
          ]
        }
      },
      "source": [
        "# TODO : Initialize the model and cast to correct device\n",
        "model_SimpleConv = SimpleConvnet(input_channels=3, num_classes=10)\n",
        "model_SimpleConv.to(device)\n",
        "\n",
        "# TODO : Initialize the criterion \n",
        "criterion = F.cross_entropy\n",
        "# TODO : Initialize the optimizer \n",
        "optimizer = optim.SGD(model_SimpleConv.parameters(), lr=1e-3, momentum=0.5)\n",
        "# TODO : Run the training loop using this model\n",
        "train_losses_SimpleConv, train_accuracies_SimpleConv, val_losses_SimpleConv, val_accuracies_SimpleConv = train_loop(model_SimpleConv, criterion, optimizer, train_loader, val_loader)\n"
      ],
      "execution_count": 14,
      "outputs": [
        {
          "output_type": "display_data",
          "data": {
            "application/vnd.jupyter.widget-view+json": {
              "model_id": "7095c8b6d83246c192dbf20a5f6900ba",
              "version_minor": 0,
              "version_major": 2
            },
            "text/plain": [
              "HBox(children=(FloatProgress(value=0.0, max=50.0), HTML(value='')))"
            ]
          },
          "metadata": {
            "tags": []
          }
        },
        {
          "output_type": "stream",
          "text": [
            "[EPOCH]: 0, [TRAIN LOSS]: 2.296185, [TRAIN ACCURACY]: 9.977\n",
            "[EPOCH]: 0, [VAL LOSS]: 2.300525, [VAL ACCURACY]: 10.090 \n",
            "\n",
            "[EPOCH]: 1, [TRAIN LOSS]: 2.303188, [TRAIN ACCURACY]: 9.977\n",
            "[EPOCH]: 1, [VAL LOSS]: 2.300627, [VAL ACCURACY]: 10.090 \n",
            "\n",
            "[EPOCH]: 2, [TRAIN LOSS]: 2.306332, [TRAIN ACCURACY]: 9.977\n",
            "[EPOCH]: 2, [VAL LOSS]: 2.300708, [VAL ACCURACY]: 10.090 \n",
            "\n",
            "[EPOCH]: 3, [TRAIN LOSS]: 2.298346, [TRAIN ACCURACY]: 9.977\n",
            "[EPOCH]: 3, [VAL LOSS]: 2.300823, [VAL ACCURACY]: 10.090 \n",
            "\n",
            "[EPOCH]: 4, [TRAIN LOSS]: 2.298872, [TRAIN ACCURACY]: 9.977\n",
            "[EPOCH]: 4, [VAL LOSS]: 2.300929, [VAL ACCURACY]: 10.090 \n",
            "\n",
            "[EPOCH]: 5, [TRAIN LOSS]: 2.304439, [TRAIN ACCURACY]: 9.977\n",
            "[EPOCH]: 5, [VAL LOSS]: 2.301031, [VAL ACCURACY]: 10.090 \n",
            "\n"
          ],
          "name": "stdout"
        }
      ]
    },
    {
      "cell_type": "code",
      "metadata": {
        "id": "F41HZ5l-oYb3"
      },
      "source": [
        "\n",
        "with open('/content/drive/My Drive/model_SimpleConvnet_{}.txt'.format(today_date), 'w') as writefile:\n",
        "    writefile.write(\"train_accuracies: \\n\")\n",
        "    writefile.writelines(str(accuracy) +', \\n' for accuracy in train_accuracies_SimpleConv)\n",
        "    writefile.write('\\n')\n",
        "    writefile.write(\"val_accuracies: \\n\")\n",
        "    writefile.writelines(str(accuracy) +', \\n' for accuracy in val_accuracies_SimpleConv)\n",
        "    writefile.write('\\n')\n",
        "\n",
        "# save models\n",
        "model_save_name = 'model_SimpleConv_{}.pt'.format(today_date)\n",
        "path = F\"/content/drive/My Drive/{model_save_name}\" \n",
        "torch.save(model_SimpleConv.state_dict(), path)"
      ],
      "execution_count": 17,
      "outputs": []
    },
    {
      "cell_type": "code",
      "metadata": {
        "id": "vBRG1RGRowCd",
        "outputId": "a4c9b421-6be0-483a-c0b6-c633f2d6b30e",
        "colab": {
          "base_uri": "https://localhost:8080/",
          "height": 312
        }
      },
      "source": [
        "plt.plot(np.arange(1, len(train_accuracies_SimpleConv)+1), train_accuracies_SimpleConv, label='training accuracy')\n",
        "plt.plot(np.arange(1, len(train_losses_SimpleConv)+1), train_losses_SimpleConv, label='training loss')\n",
        "plt.xlabel('Epoch')\n",
        "plt.ylabel('Accuracy/Loss')\n",
        "plt.legend()\n",
        "plt.title('Training for SimpleConvnet')"
      ],
      "execution_count": 18,
      "outputs": [
        {
          "output_type": "execute_result",
          "data": {
            "text/plain": [
              "Text(0.5, 1.0, 'Training for SimpleConvnet')"
            ]
          },
          "metadata": {
            "tags": []
          },
          "execution_count": 18
        },
        {
          "output_type": "display_data",
          "data": {
            "image/png": "[encoded data removed]",
            "text/plain": [
              "<Figure size 432x288 with 1 Axes>"
            ]
          },
          "metadata": {
            "tags": [],
            "needs_background": "light"
          }
        }
      ]
    },
    {
      "cell_type": "code",
      "metadata": {
        "id": "yhbZvUP9vCFE"
      },
      "source": [
        ""
      ],
      "execution_count": null,
      "outputs": []
    },
    {
      "cell_type": "code",
      "metadata": {
        "id": "gVmjKWlCvQnv"
      },
      "source": [
        ""
      ],
      "execution_count": null,
      "outputs": []
    },
    {
      "cell_type": "code",
      "metadata": {
        "id": "2fuW9baGvfRS"
      },
      "source": [
        ""
      ],
      "execution_count": null,
      "outputs": []
    },
    {
      "cell_type": "code",
      "metadata": {
        "id": "8pzL8g_qvt6v"
      },
      "source": [
        ""
      ],
      "execution_count": null,
      "outputs": []
    },
    {
      "cell_type": "markdown",
      "metadata": {
        "id": "mZRJhVst0BLv"
      },
      "source": [
        "### Q 2.5 Report results of training using SGD optimizer for both ShallowNet and SimpleConvnet. What do you observe?\n",
        "\n",
        "The ShallowNet does learn, while the SimpleConvnet didn't learn using this architecture, which stopped after 6 epochs because of not learning."
      ]
    },
    {
      "cell_type": "markdown",
      "metadata": {
        "id": "uv6ExxBvLL3Y"
      },
      "source": [
        "### Q 2.6 Add batch normalization"
      ]
    },
    {
      "cell_type": "markdown",
      "metadata": {
        "id": "S8IFrRqC0WwA"
      },
      "source": [
        "#### Q2.6 a After each relu layer, add a batch normalization layer to the network SimpleConvnet you created above"
      ]
    },
    {
      "cell_type": "code",
      "metadata": {
        "id": "U7nvtAeBoiUX"
      },
      "source": [
        "class SimpleConvnet2(nn.Module):\n",
        "    def __init__(self, input_channels, num_classes):\n",
        "        super(SimpleConvnet2, self).__init__()\n",
        "        \n",
        "        # TODO\n",
        "        self.network = nn.Sequential(\n",
        "            # first layer, resolution = 32\n",
        "            nn.Conv2d(input_channels, out_channels=64, kernel_size=5, padding=2),\n",
        "            nn.ReLU(),\n",
        "            nn.BatchNorm2d(64),\n",
        "            # first block, resolution = 32\n",
        "            nn.Conv2d(in_channels=64, out_channels=64, kernel_size=3, padding=1),\n",
        "            nn.ReLU(),\n",
        "            nn.BatchNorm2d(64),\n",
        "            nn.Conv2d(in_channels=64, out_channels=64, kernel_size=3, padding=1),\n",
        "            nn.ReLU(),\n",
        "            nn.BatchNorm2d(64),\n",
        "            nn.Conv2d(in_channels=64, out_channels=64, kernel_size=3, padding=1),\n",
        "            nn.ReLU(),\n",
        "            nn.BatchNorm2d(64),\n",
        "\n",
        "            # first maxpooling, resolution = 16\n",
        "            nn.MaxPool2d(kernel_size=2,stride=2),\n",
        "\n",
        "            # second block, resolution = 32\n",
        "            nn.Conv2d(in_channels=64, out_channels=128, kernel_size=3, padding=9),\n",
        "            nn.ReLU(),\n",
        "            nn.BatchNorm2d(128),\n",
        "            nn.Conv2d(in_channels=128, out_channels=128, kernel_size=3, padding=1),\n",
        "            nn.ReLU(),\n",
        "            nn.BatchNorm2d(128),\n",
        "            nn.Conv2d(in_channels=128, out_channels=128, kernel_size=3, padding=1),\n",
        "            nn.ReLU(),\n",
        "            nn.BatchNorm2d(128),\n",
        "\n",
        "            # second maxpooling, resolution = 16\n",
        "            nn.MaxPool2d(kernel_size=2, stride=2),\n",
        "\n",
        "            # # third block, resolution = 32\n",
        "            nn.Conv2d(in_channels=128, out_channels=256, kernel_size=3, padding=9),\n",
        "            nn.ReLU(),\n",
        "            nn.BatchNorm2d(256),\n",
        "            nn.Conv2d(in_channels=256, out_channels=256, kernel_size=3, padding=1),\n",
        "            nn.ReLU(),\n",
        "            nn.BatchNorm2d(256),\n",
        "            nn.Conv2d(in_channels=256, out_channels=256, kernel_size=3, padding=1),\n",
        "            nn.ReLU(),\n",
        "            nn.BatchNorm2d(256),\n",
        "\n",
        "            # final maxpooling, output size reduced to 1\n",
        "            nn.MaxPool2d(kernel_size=32),\n",
        "            View((-1,256)),\n",
        "            nn.Linear(256, num_classes)\n",
        "      )\n",
        "    def forward(self, x):\n",
        "       \n",
        "       # TODO\n",
        "        output = self.network(x)\n",
        "        return output\n",
        "        "
      ],
      "execution_count": 19,
      "outputs": []
    },
    {
      "cell_type": "code",
      "metadata": {
        "id": "hgqQzKV10tz7",
        "outputId": "82083a19-04cf-48c9-f925-f1ca976aa888",
        "colab": {
          "base_uri": "https://localhost:8080/",
          "height": 1000
        }
      },
      "source": [
        "model_SimpleConv2 = SimpleConvnet2(input_channels=3, num_classes=10)\n",
        "model_SimpleConv2.to(device)\n",
        "\n",
        "# TODO : Initialize the criterion \n",
        "criterion = F.cross_entropy\n",
        "# TODO : Initialize the optimizer \n",
        "optimizer = optim.SGD(model_SimpleConv2.parameters(), lr=1e-3, momentum=0.5)\n",
        "# TODO : Run the training loop using this model\n",
        "train_losses_SimpleConv2, train_accuracies_SimpleConv2, val_losses_SimpleConv2, val_accuracies_SimpleConv2 = train_loop(model_SimpleConv2, criterion, optimizer, train_loader, val_loader)\n"
      ],
      "execution_count": 20,
      "outputs": [
        {
          "output_type": "stream",
          "text": [
            "[EPOCH]: 12, [TRAIN LOSS]: 0.138822, [TRAIN ACCURACY]: 96.168\n",
            "[EPOCH]: 12, [VAL LOSS]: 0.953608, [VAL ACCURACY]: 67.050 \n",
            "\n",
            "[EPOCH]: 13, [TRAIN LOSS]: 0.096698, [TRAIN ACCURACY]: 98.062\n",
            "[EPOCH]: 13, [VAL LOSS]: 1.069855, [VAL ACCURACY]: 67.810 \n",
            "\n",
            "[EPOCH]: 14, [TRAIN LOSS]: 0.012484, [TRAIN ACCURACY]: 99.325\n",
            "[EPOCH]: 14, [VAL LOSS]: 1.401978, [VAL ACCURACY]: 68.240 \n",
            "\n",
            "[EPOCH]: 15, [TRAIN LOSS]: 0.015249, [TRAIN ACCURACY]: 99.828\n",
            "[EPOCH]: 15, [VAL LOSS]: 1.124377, [VAL ACCURACY]: 68.970 \n",
            "\n",
            "[EPOCH]: 16, [TRAIN LOSS]: 0.004704, [TRAIN ACCURACY]: 99.985\n",
            "[EPOCH]: 16, [VAL LOSS]: 1.227966, [VAL ACCURACY]: 69.430 \n",
            "\n",
            "[EPOCH]: 17, [TRAIN LOSS]: 0.004896, [TRAIN ACCURACY]: 99.995\n",
            "[EPOCH]: 17, [VAL LOSS]: 1.360779, [VAL ACCURACY]: 69.390 \n",
            "\n",
            "[EPOCH]: 18, [TRAIN LOSS]: 0.013475, [TRAIN ACCURACY]: 99.998\n",
            "[EPOCH]: 18, [VAL LOSS]: 1.395045, [VAL ACCURACY]: 69.460 \n",
            "\n",
            "[EPOCH]: 19, [TRAIN LOSS]: 0.001887, [TRAIN ACCURACY]: 100.000\n",
            "[EPOCH]: 19, [VAL LOSS]: 1.328384, [VAL ACCURACY]: 69.490 \n",
            "\n",
            "[EPOCH]: 20, [TRAIN LOSS]: 0.015828, [TRAIN ACCURACY]: 99.998\n",
            "[EPOCH]: 20, [VAL LOSS]: 1.431164, [VAL ACCURACY]: 69.530 \n",
            "\n",
            "[EPOCH]: 21, [TRAIN LOSS]: 0.004142, [TRAIN ACCURACY]: 100.000\n",
            "[EPOCH]: 21, [VAL LOSS]: 1.284422, [VAL ACCURACY]: 69.610 \n",
            "\n",
            "[EPOCH]: 22, [TRAIN LOSS]: 0.005341, [TRAIN ACCURACY]: 100.000\n",
            "[EPOCH]: 22, [VAL LOSS]: 1.277636, [VAL ACCURACY]: 69.480 \n",
            "\n",
            "[EPOCH]: 23, [TRAIN LOSS]: 0.005813, [TRAIN ACCURACY]: 100.000\n",
            "[EPOCH]: 23, [VAL LOSS]: 1.352238, [VAL ACCURACY]: 69.450 \n",
            "\n",
            "[EPOCH]: 24, [TRAIN LOSS]: 0.001508, [TRAIN ACCURACY]: 100.000\n",
            "[EPOCH]: 24, [VAL LOSS]: 1.262166, [VAL ACCURACY]: 69.780 \n",
            "\n",
            "[EPOCH]: 25, [TRAIN LOSS]: 0.007851, [TRAIN ACCURACY]: 100.000\n",
            "[EPOCH]: 25, [VAL LOSS]: 1.258640, [VAL ACCURACY]: 69.920 \n",
            "\n",
            "[EPOCH]: 26, [TRAIN LOSS]: 0.003802, [TRAIN ACCURACY]: 100.000\n",
            "[EPOCH]: 26, [VAL LOSS]: 1.223344, [VAL ACCURACY]: 69.660 \n",
            "\n",
            "[EPOCH]: 27, [TRAIN LOSS]: 0.002247, [TRAIN ACCURACY]: 99.998\n",
            "[EPOCH]: 27, [VAL LOSS]: 1.196533, [VAL ACCURACY]: 69.650 \n",
            "\n",
            "[EPOCH]: 28, [TRAIN LOSS]: 0.001585, [TRAIN ACCURACY]: 100.000\n",
            "[EPOCH]: 28, [VAL LOSS]: 1.227125, [VAL ACCURACY]: 69.800 \n",
            "\n",
            "[EPOCH]: 29, [TRAIN LOSS]: 0.003401, [TRAIN ACCURACY]: 100.000\n",
            "[EPOCH]: 29, [VAL LOSS]: 1.233642, [VAL ACCURACY]: 69.630 \n",
            "\n",
            "[EPOCH]: 30, [TRAIN LOSS]: 0.000945, [TRAIN ACCURACY]: 100.000\n",
            "[EPOCH]: 30, [VAL LOSS]: 1.220082, [VAL ACCURACY]: 70.100 \n",
            "\n",
            "[EPOCH]: 31, [TRAIN LOSS]: 0.002916, [TRAIN ACCURACY]: 100.000\n",
            "[EPOCH]: 31, [VAL LOSS]: 1.276143, [VAL ACCURACY]: 70.000 \n",
            "\n",
            "[EPOCH]: 32, [TRAIN LOSS]: 0.001538, [TRAIN ACCURACY]: 100.000\n",
            "[EPOCH]: 32, [VAL LOSS]: 1.133188, [VAL ACCURACY]: 69.810 \n",
            "\n",
            "[EPOCH]: 33, [TRAIN LOSS]: 0.003570, [TRAIN ACCURACY]: 100.000\n",
            "[EPOCH]: 33, [VAL LOSS]: 1.193072, [VAL ACCURACY]: 69.670 \n",
            "\n",
            "[EPOCH]: 34, [TRAIN LOSS]: 0.001563, [TRAIN ACCURACY]: 100.000\n",
            "[EPOCH]: 34, [VAL LOSS]: 1.286612, [VAL ACCURACY]: 69.900 \n",
            "\n",
            "[EPOCH]: 35, [TRAIN LOSS]: 0.001784, [TRAIN ACCURACY]: 100.000\n",
            "[EPOCH]: 35, [VAL LOSS]: 1.249972, [VAL ACCURACY]: 69.870 \n",
            "\n"
          ],
          "name": "stdout"
        }
      ]
    },
    {
      "cell_type": "code",
      "metadata": {
        "id": "vRPmrTest4ut"
      },
      "source": [
        ""
      ],
      "execution_count": null,
      "outputs": []
    },
    {
      "cell_type": "code",
      "metadata": {
        "id": "4e41IMpAuHYC"
      },
      "source": [
        ""
      ],
      "execution_count": null,
      "outputs": []
    },
    {
      "cell_type": "code",
      "metadata": {
        "id": "ALAOeUmRuzUr"
      },
      "source": [
        ""
      ],
      "execution_count": null,
      "outputs": []
    },
    {
      "cell_type": "code",
      "metadata": {
        "id": "OreU4K_KydtH"
      },
      "source": [
        ""
      ],
      "execution_count": null,
      "outputs": []
    },
    {
      "cell_type": "markdown",
      "metadata": {
        "id": "w5wqxHGa0vZe"
      },
      "source": [
        "#### Q2.6 b Plot the the training curves (training loss vs \\# epochs, training accuracy vs # epochs) using SGD (lr 1e-3) with and without batch normalization. Comment on the difference. "
      ]
    },
    {
      "cell_type": "code",
      "metadata": {
        "id": "i0QOx4SA9rgH"
      },
      "source": [
        ""
      ],
      "execution_count": null,
      "outputs": []
    },
    {
      "cell_type": "code",
      "metadata": {
        "id": "Eq2Afj7KrNO2"
      },
      "source": [
        "with open('/content/drive/My Drive/model_SimpleConvnet2_{}.txt'.format(today_date), 'w') as writefile:\n",
        "    writefile.write(\"train_accuracies: \\n\")\n",
        "    writefile.writelines(str(accuracy) +', \\n' for accuracy in train_accuracies_SimpleConv2)\n",
        "    writefile.write('\\n')\n",
        "    writefile.write(\"val_accuracies: \\n\")\n",
        "    writefile.writelines(str(accuracy) +', \\n' for accuracy in val_accuracies_SimpleConv2)\n",
        "    writefile.write('\\n')\n",
        "\n",
        "# save models\n",
        "model_save_name = 'model_SimpleConv2_{}.pt'.format(today_date)\n",
        "path = F\"/content/drive/My Drive/{model_save_name}\" \n",
        "torch.save(model_SimpleConv2.state_dict(), path)"
      ],
      "execution_count": 21,
      "outputs": []
    },
    {
      "cell_type": "code",
      "metadata": {
        "id": "t08oAUt0VTAv",
        "outputId": "ec9c9acf-9b53-46f8-9aa7-78436cf27256",
        "colab": {
          "base_uri": "https://localhost:8080/",
          "height": 312
        }
      },
      "source": [
        "# plot training loss vs epochs, training accuracy vs. epochs\n",
        "plt.plot(np.arange(1, len(train_accuracies_SimpleConv2)+1), train_accuracies_SimpleConv2, label='training accuracy')\n",
        "plt.plot(np.arange(1, len(train_losses_SimpleConv2)+1), train_losses_SimpleConv2, label='training loss')\n",
        "plt.xlabel('Epoch')\n",
        "plt.ylabel('Accuracy/Loss')\n",
        "plt.legend()\n",
        "plt.title('Training for SimpleConvnet with Batch Normalization')"
      ],
      "execution_count": 22,
      "outputs": [
        {
          "output_type": "execute_result",
          "data": {
            "text/plain": [
              "Text(0.5, 1.0, 'Training for SimpleConvnet with Batch Normalization')"
            ]
          },
          "metadata": {
            "tags": []
          },
          "execution_count": 22
        },
        {
          "output_type": "display_data",
          "data": {
            "image/png": "[encoded data removed]",
            "text/plain": [
              "<Figure size 432x288 with 1 Axes>"
            ]
          },
          "metadata": {
            "tags": [],
            "needs_background": "light"
          }
        }
      ]
    },
    {
      "cell_type": "markdown",
      "metadata": {
        "id": "ZW0227y408ej"
      },
      "source": [
        "#### Q2.6 c. Try running the same two networks with an Adam optimizer (lr 1e-4). Plot the the training curves (training loss vs \\# epochs, training accuracy vs # epochs) with and without batch normalization. Comment on the difference. "
      ]
    },
    {
      "cell_type": "code",
      "metadata": {
        "id": "WjFr9ShRpqmF",
        "outputId": "69239b88-ab27-43fb-f818-835b3e4d704c",
        "colab": {
          "base_uri": "https://localhost:8080/",
          "height": 1000,
          "referenced_widgets": [
            "fa31271c54894dc79113d6b064f54361",
            "5d974a4722c547a9a4358f656f6c10e6",
            "a2205d69112f481f86d8f44eb2f76961",
            "864f71d17a9743ed86716f21cd1eebfb",
            "60c9a3d2344e41408a0cd3e9539dd284",
            "55c8cf11a6a3410aa560229704f161c7",
            "178019171d90430bab00db95a8b88cb1",
            "a772d77edf4c4f4f89efc645560b885e"
          ]
        }
      },
      "source": [
        "# with normalization\n",
        "model_SimpleConv2_adam = SimpleConvnet2(input_channels=3, num_classes=10)\n",
        "model_SimpleConv2_adam.to(device)\n",
        "\n",
        "# TODO : Initialize the criterion \n",
        "criterion = F.cross_entropy\n",
        "# TODO : Initialize the optimizer \n",
        "optimizer = optim.Adam(model_SimpleConv2_adam.parameters(), lr=1e-4)\n",
        "# TODO : Run the training loop using this model\n",
        "train_losses_SimpleConv2_adam, train_accuracies_SimpleConv2_adam, \\\n",
        "  val_losses_SimpleConv2_adam, val_accuracies_SimpleConv2_adam = train_loop(model_SimpleConv2_adam, \n",
        "                                                                            criterion, optimizer, \n",
        "                                                                            train_loader, val_loader)\n"
      ],
      "execution_count": 23,
      "outputs": [
        {
          "output_type": "display_data",
          "data": {
            "application/vnd.jupyter.widget-view+json": {
              "model_id": "fa31271c54894dc79113d6b064f54361",
              "version_minor": 0,
              "version_major": 2
            },
            "text/plain": [
              "HBox(children=(FloatProgress(value=0.0, max=50.0), HTML(value='')))"
            ]
          },
          "metadata": {
            "tags": []
          }
        },
        {
          "output_type": "stream",
          "text": [
            "[EPOCH]: 0, [TRAIN LOSS]: 1.293137, [TRAIN ACCURACY]: 44.385\n",
            "[EPOCH]: 0, [VAL LOSS]: 1.010047, [VAL ACCURACY]: 54.020 \n",
            "\n",
            "[EPOCH]: 1, [TRAIN LOSS]: 1.078448, [TRAIN ACCURACY]: 60.053\n",
            "[EPOCH]: 1, [VAL LOSS]: 0.775147, [VAL ACCURACY]: 62.050 \n",
            "\n",
            "[EPOCH]: 2, [TRAIN LOSS]: 0.942608, [TRAIN ACCURACY]: 67.265\n",
            "[EPOCH]: 2, [VAL LOSS]: 0.661924, [VAL ACCURACY]: 66.680 \n",
            "\n",
            "[EPOCH]: 3, [TRAIN LOSS]: 0.773756, [TRAIN ACCURACY]: 72.795\n",
            "[EPOCH]: 3, [VAL LOSS]: 0.774370, [VAL ACCURACY]: 68.640 \n",
            "\n",
            "[EPOCH]: 4, [TRAIN LOSS]: 0.591982, [TRAIN ACCURACY]: 77.480\n",
            "[EPOCH]: 4, [VAL LOSS]: 0.665500, [VAL ACCURACY]: 70.720 \n",
            "\n",
            "[EPOCH]: 5, [TRAIN LOSS]: 0.534567, [TRAIN ACCURACY]: 81.927\n",
            "[EPOCH]: 5, [VAL LOSS]: 0.645053, [VAL ACCURACY]: 71.540 \n",
            "\n",
            "[EPOCH]: 6, [TRAIN LOSS]: 0.592124, [TRAIN ACCURACY]: 85.165\n",
            "[EPOCH]: 6, [VAL LOSS]: 0.744968, [VAL ACCURACY]: 72.040 \n",
            "\n",
            "[EPOCH]: 7, [TRAIN LOSS]: 0.477070, [TRAIN ACCURACY]: 88.925\n",
            "[EPOCH]: 7, [VAL LOSS]: 0.470928, [VAL ACCURACY]: 73.010 \n",
            "\n",
            "[EPOCH]: 8, [TRAIN LOSS]: 0.269564, [TRAIN ACCURACY]: 92.105\n",
            "[EPOCH]: 8, [VAL LOSS]: 0.583212, [VAL ACCURACY]: 71.520 \n",
            "\n",
            "[EPOCH]: 9, [TRAIN LOSS]: 0.216528, [TRAIN ACCURACY]: 94.470\n",
            "[EPOCH]: 9, [VAL LOSS]: 0.554118, [VAL ACCURACY]: 72.260 \n",
            "\n",
            "[EPOCH]: 10, [TRAIN LOSS]: 0.173030, [TRAIN ACCURACY]: 95.880\n",
            "[EPOCH]: 10, [VAL LOSS]: 0.714896, [VAL ACCURACY]: 71.510 \n",
            "\n",
            "[EPOCH]: 11, [TRAIN LOSS]: 0.066436, [TRAIN ACCURACY]: 96.320\n",
            "[EPOCH]: 11, [VAL LOSS]: 0.647842, [VAL ACCURACY]: 72.470 \n",
            "\n",
            "[EPOCH]: 12, [TRAIN LOSS]: 0.073513, [TRAIN ACCURACY]: 97.118\n",
            "[EPOCH]: 12, [VAL LOSS]: 0.453828, [VAL ACCURACY]: 73.410 \n",
            "\n",
            "[EPOCH]: 13, [TRAIN LOSS]: 0.134868, [TRAIN ACCURACY]: 96.707\n",
            "[EPOCH]: 13, [VAL LOSS]: 1.007822, [VAL ACCURACY]: 73.820 \n",
            "\n",
            "[EPOCH]: 14, [TRAIN LOSS]: 0.150892, [TRAIN ACCURACY]: 96.743\n",
            "[EPOCH]: 14, [VAL LOSS]: 0.497404, [VAL ACCURACY]: 74.510 \n",
            "\n",
            "[EPOCH]: 15, [TRAIN LOSS]: 0.015840, [TRAIN ACCURACY]: 97.495\n",
            "[EPOCH]: 15, [VAL LOSS]: 0.461985, [VAL ACCURACY]: 74.170 \n",
            "\n",
            "[EPOCH]: 16, [TRAIN LOSS]: 0.033276, [TRAIN ACCURACY]: 97.603\n",
            "[EPOCH]: 16, [VAL LOSS]: 0.442525, [VAL ACCURACY]: 74.410 \n",
            "\n",
            "[EPOCH]: 17, [TRAIN LOSS]: 0.139126, [TRAIN ACCURACY]: 97.323\n",
            "[EPOCH]: 17, [VAL LOSS]: 0.796003, [VAL ACCURACY]: 73.070 \n",
            "\n",
            "[EPOCH]: 18, [TRAIN LOSS]: 0.179554, [TRAIN ACCURACY]: 97.625\n",
            "[EPOCH]: 18, [VAL LOSS]: 0.445323, [VAL ACCURACY]: 74.780 \n",
            "\n",
            "[EPOCH]: 19, [TRAIN LOSS]: 0.100177, [TRAIN ACCURACY]: 97.737\n",
            "[EPOCH]: 19, [VAL LOSS]: 0.664145, [VAL ACCURACY]: 73.430 \n",
            "\n",
            "[EPOCH]: 20, [TRAIN LOSS]: 0.217289, [TRAIN ACCURACY]: 97.660\n",
            "[EPOCH]: 20, [VAL LOSS]: 0.543589, [VAL ACCURACY]: 74.240 \n",
            "\n",
            "[EPOCH]: 21, [TRAIN LOSS]: 0.076228, [TRAIN ACCURACY]: 98.007\n",
            "[EPOCH]: 21, [VAL LOSS]: 0.258155, [VAL ACCURACY]: 75.450 \n",
            "\n",
            "[EPOCH]: 22, [TRAIN LOSS]: 0.051771, [TRAIN ACCURACY]: 98.073\n",
            "[EPOCH]: 22, [VAL LOSS]: 0.570463, [VAL ACCURACY]: 75.480 \n",
            "\n",
            "[EPOCH]: 23, [TRAIN LOSS]: 0.063505, [TRAIN ACCURACY]: 98.032\n",
            "[EPOCH]: 23, [VAL LOSS]: 0.299410, [VAL ACCURACY]: 75.070 \n",
            "\n",
            "[EPOCH]: 24, [TRAIN LOSS]: 0.029601, [TRAIN ACCURACY]: 98.055\n",
            "[EPOCH]: 24, [VAL LOSS]: 0.537793, [VAL ACCURACY]: 75.360 \n",
            "\n",
            "[EPOCH]: 25, [TRAIN LOSS]: 0.124583, [TRAIN ACCURACY]: 98.188\n",
            "[EPOCH]: 25, [VAL LOSS]: 0.483921, [VAL ACCURACY]: 74.200 \n",
            "\n",
            "[EPOCH]: 26, [TRAIN LOSS]: 0.108324, [TRAIN ACCURACY]: 98.085\n",
            "[EPOCH]: 26, [VAL LOSS]: 0.927110, [VAL ACCURACY]: 75.500 \n",
            "\n",
            "[EPOCH]: 27, [TRAIN LOSS]: 0.118643, [TRAIN ACCURACY]: 97.838\n",
            "[EPOCH]: 27, [VAL LOSS]: 0.309415, [VAL ACCURACY]: 75.120 \n",
            "\n",
            "[EPOCH]: 28, [TRAIN LOSS]: 0.148969, [TRAIN ACCURACY]: 98.355\n",
            "[EPOCH]: 28, [VAL LOSS]: 0.144497, [VAL ACCURACY]: 76.680 \n",
            "\n",
            "[EPOCH]: 29, [TRAIN LOSS]: 0.026389, [TRAIN ACCURACY]: 98.502\n",
            "[EPOCH]: 29, [VAL LOSS]: 0.357691, [VAL ACCURACY]: 76.460 \n",
            "\n",
            "[EPOCH]: 30, [TRAIN LOSS]: 0.091642, [TRAIN ACCURACY]: 98.395\n",
            "[EPOCH]: 30, [VAL LOSS]: 0.704740, [VAL ACCURACY]: 75.490 \n",
            "\n",
            "[EPOCH]: 31, [TRAIN LOSS]: 0.059122, [TRAIN ACCURACY]: 98.550\n",
            "[EPOCH]: 31, [VAL LOSS]: 0.521694, [VAL ACCURACY]: 76.360 \n",
            "\n",
            "[EPOCH]: 32, [TRAIN LOSS]: 0.023217, [TRAIN ACCURACY]: 98.365\n",
            "[EPOCH]: 32, [VAL LOSS]: 0.719881, [VAL ACCURACY]: 76.210 \n",
            "\n",
            "[EPOCH]: 33, [TRAIN LOSS]: 0.041697, [TRAIN ACCURACY]: 98.183\n",
            "[EPOCH]: 33, [VAL LOSS]: 0.884453, [VAL ACCURACY]: 75.520 \n",
            "\n"
          ],
          "name": "stdout"
        }
      ]
    },
    {
      "cell_type": "code",
      "metadata": {
        "id": "OTZuTNYlvy0v"
      },
      "source": [
        "def save_model(model_name, model, train_losses, train_accuracies, val_losses, val_accuracies):\n",
        "  with open('/content/drive/My Drive/{}_{}.txt'.format(model_name, today_date), 'w') as writefile:\n",
        "    writefile.write(\"train_accuracies: \\n\")\n",
        "    writefile.writelines(str(accuracy) +', \\n' for accuracy in train_accuracies)\n",
        "    writefile.write('\\n')\n",
        "    writefile.write(\"train_losses: \\n\")\n",
        "    writefile.writelines(str(loss) +', \\n' for loss in train_losses)\n",
        "    writefile.write('\\n')\n",
        "    writefile.write(\"val_accuracies: \\n\")\n",
        "    writefile.writelines(str(accuracy) +', \\n' for accuracy in val_accuracies)\n",
        "    writefile.write('\\n')\n",
        "    writefile.write(\"val_losses: \\n\")\n",
        "    writefile.writelines(str(loss) +', \\n' for loss in val_losses)\n",
        "    writefile.write('\\n')\n",
        "\n",
        "  # save models\n",
        "  model_save_name = 'model_{}_{}.pt'.format(model_name,today_date)\n",
        "  path = F\"/content/drive/My Drive/{model_save_name}\" \n",
        "  torch.save(model.state_dict(), path)\n",
        "  \n",
        "  return None"
      ],
      "execution_count": 24,
      "outputs": []
    },
    {
      "cell_type": "code",
      "metadata": {
        "id": "k_P1vG4wqJ-z",
        "outputId": "9b67c04b-611b-4c98-e4b0-9bebec509d8f",
        "colab": {
          "base_uri": "https://localhost:8080/",
          "height": 1000,
          "referenced_widgets": [
            "3520a40260074cbab16b463fa2a34cd1",
            "ca93bfad1d3a420b9663e231f6485dcb",
            "70b8349d51ab4726a1f7b583555acce6",
            "384006ab5ac84894855efabc8ac59d4c",
            "c9277c6b3ca1416bae51f8f6b5117624",
            "817be717cd1748ce930bc4adff8920ba",
            "0b41986a045e470b8086db9199c6c46e",
            "e825ef25fdfd40419cbe76274ddaec5b"
          ]
        }
      },
      "source": [
        "# without normalization\n",
        "model_SimpleConv_adam = SimpleConvnet(input_channels=3, num_classes=10)\n",
        "model_SimpleConv_adam.to(device)\n",
        "\n",
        "# TODO : Initialize the criterion \n",
        "criterion = F.cross_entropy\n",
        "# TODO : Initialize the optimizer \n",
        "optimizer = optim.Adam(model_SimpleConv_adam.parameters(), lr=1e-4)\n",
        "# TODO : Run the training loop using this model\n",
        "train_losses_SimpleConv_adam, train_accuracies_SimpleConv_adam, \\\n",
        "  val_losses_SimpleConv_adam, val_accuracies_SimpleConv_adam = train_loop(model_SimpleConv_adam, \n",
        "                                                                          criterion, optimizer, \n",
        "                                                                          train_loader, val_loader)"
      ],
      "execution_count": 25,
      "outputs": [
        {
          "output_type": "display_data",
          "data": {
            "application/vnd.jupyter.widget-view+json": {
              "model_id": "3520a40260074cbab16b463fa2a34cd1",
              "version_minor": 0,
              "version_major": 2
            },
            "text/plain": [
              "HBox(children=(FloatProgress(value=0.0, max=50.0), HTML(value='')))"
            ]
          },
          "metadata": {
            "tags": []
          }
        },
        {
          "output_type": "stream",
          "text": [
            "[EPOCH]: 0, [TRAIN LOSS]: 1.653339, [TRAIN ACCURACY]: 25.505\n",
            "[EPOCH]: 0, [VAL LOSS]: 1.722109, [VAL ACCURACY]: 35.050 \n",
            "\n",
            "[EPOCH]: 1, [TRAIN LOSS]: 1.349501, [TRAIN ACCURACY]: 40.737\n",
            "[EPOCH]: 1, [VAL LOSS]: 1.287937, [VAL ACCURACY]: 45.510 \n",
            "\n",
            "[EPOCH]: 2, [TRAIN LOSS]: 1.525664, [TRAIN ACCURACY]: 47.350\n",
            "[EPOCH]: 2, [VAL LOSS]: 1.055555, [VAL ACCURACY]: 47.370 \n",
            "\n",
            "[EPOCH]: 3, [TRAIN LOSS]: 1.228956, [TRAIN ACCURACY]: 51.542\n",
            "[EPOCH]: 3, [VAL LOSS]: 1.025691, [VAL ACCURACY]: 53.480 \n",
            "\n",
            "[EPOCH]: 4, [TRAIN LOSS]: 1.027877, [TRAIN ACCURACY]: 55.278\n",
            "[EPOCH]: 4, [VAL LOSS]: 1.054157, [VAL ACCURACY]: 55.790 \n",
            "\n",
            "[EPOCH]: 5, [TRAIN LOSS]: 1.221658, [TRAIN ACCURACY]: 58.680\n",
            "[EPOCH]: 5, [VAL LOSS]: 1.153800, [VAL ACCURACY]: 56.530 \n",
            "\n",
            "[EPOCH]: 6, [TRAIN LOSS]: 1.250584, [TRAIN ACCURACY]: 61.655\n",
            "[EPOCH]: 6, [VAL LOSS]: 1.156124, [VAL ACCURACY]: 59.360 \n",
            "\n",
            "[EPOCH]: 7, [TRAIN LOSS]: 0.897822, [TRAIN ACCURACY]: 63.987\n",
            "[EPOCH]: 7, [VAL LOSS]: 1.012385, [VAL ACCURACY]: 62.960 \n",
            "\n",
            "[EPOCH]: 8, [TRAIN LOSS]: 1.065568, [TRAIN ACCURACY]: 66.233\n",
            "[EPOCH]: 8, [VAL LOSS]: 0.847235, [VAL ACCURACY]: 60.750 \n",
            "\n",
            "[EPOCH]: 9, [TRAIN LOSS]: 0.689501, [TRAIN ACCURACY]: 68.015\n",
            "[EPOCH]: 9, [VAL LOSS]: 0.979640, [VAL ACCURACY]: 63.630 \n",
            "\n",
            "[EPOCH]: 10, [TRAIN LOSS]: 0.895086, [TRAIN ACCURACY]: 70.590\n",
            "[EPOCH]: 10, [VAL LOSS]: 0.769220, [VAL ACCURACY]: 64.360 \n",
            "\n",
            "[EPOCH]: 11, [TRAIN LOSS]: 0.927721, [TRAIN ACCURACY]: 72.287\n",
            "[EPOCH]: 11, [VAL LOSS]: 0.907365, [VAL ACCURACY]: 63.990 \n",
            "\n",
            "[EPOCH]: 12, [TRAIN LOSS]: 0.699329, [TRAIN ACCURACY]: 74.900\n",
            "[EPOCH]: 12, [VAL LOSS]: 0.958251, [VAL ACCURACY]: 65.880 \n",
            "\n",
            "[EPOCH]: 13, [TRAIN LOSS]: 0.721599, [TRAIN ACCURACY]: 76.312\n",
            "[EPOCH]: 13, [VAL LOSS]: 1.096770, [VAL ACCURACY]: 66.180 \n",
            "\n",
            "[EPOCH]: 14, [TRAIN LOSS]: 0.787269, [TRAIN ACCURACY]: 78.582\n",
            "[EPOCH]: 14, [VAL LOSS]: 0.934927, [VAL ACCURACY]: 67.050 \n",
            "\n",
            "[EPOCH]: 15, [TRAIN LOSS]: 0.632366, [TRAIN ACCURACY]: 80.022\n",
            "[EPOCH]: 15, [VAL LOSS]: 1.344438, [VAL ACCURACY]: 66.210 \n",
            "\n",
            "[EPOCH]: 16, [TRAIN LOSS]: 1.063312, [TRAIN ACCURACY]: 82.188\n",
            "[EPOCH]: 16, [VAL LOSS]: 1.244875, [VAL ACCURACY]: 66.260 \n",
            "\n",
            "[EPOCH]: 17, [TRAIN LOSS]: 0.418608, [TRAIN ACCURACY]: 83.745\n",
            "[EPOCH]: 17, [VAL LOSS]: 0.947590, [VAL ACCURACY]: 66.220 \n",
            "\n",
            "[EPOCH]: 18, [TRAIN LOSS]: 0.429784, [TRAIN ACCURACY]: 85.930\n",
            "[EPOCH]: 18, [VAL LOSS]: 1.059666, [VAL ACCURACY]: 67.090 \n",
            "\n",
            "[EPOCH]: 19, [TRAIN LOSS]: 0.307060, [TRAIN ACCURACY]: 87.948\n",
            "[EPOCH]: 19, [VAL LOSS]: 1.370312, [VAL ACCURACY]: 66.910 \n",
            "\n",
            "[EPOCH]: 20, [TRAIN LOSS]: 0.475483, [TRAIN ACCURACY]: 89.172\n",
            "[EPOCH]: 20, [VAL LOSS]: 1.118973, [VAL ACCURACY]: 66.370 \n",
            "\n",
            "[EPOCH]: 21, [TRAIN LOSS]: 0.256687, [TRAIN ACCURACY]: 90.505\n",
            "[EPOCH]: 21, [VAL LOSS]: 1.364206, [VAL ACCURACY]: 67.150 \n",
            "\n",
            "[EPOCH]: 22, [TRAIN LOSS]: 0.292900, [TRAIN ACCURACY]: 92.365\n",
            "[EPOCH]: 22, [VAL LOSS]: 1.556283, [VAL ACCURACY]: 66.330 \n",
            "\n",
            "[EPOCH]: 23, [TRAIN LOSS]: 0.157869, [TRAIN ACCURACY]: 93.250\n",
            "[EPOCH]: 23, [VAL LOSS]: 1.342202, [VAL ACCURACY]: 66.200 \n",
            "\n",
            "[EPOCH]: 24, [TRAIN LOSS]: 0.183173, [TRAIN ACCURACY]: 93.950\n",
            "[EPOCH]: 24, [VAL LOSS]: 1.534475, [VAL ACCURACY]: 66.480 \n",
            "\n",
            "[EPOCH]: 25, [TRAIN LOSS]: 0.231630, [TRAIN ACCURACY]: 94.835\n",
            "[EPOCH]: 25, [VAL LOSS]: 1.604791, [VAL ACCURACY]: 65.740 \n",
            "\n",
            "[EPOCH]: 26, [TRAIN LOSS]: 0.106435, [TRAIN ACCURACY]: 95.145\n",
            "[EPOCH]: 26, [VAL LOSS]: 1.462974, [VAL ACCURACY]: 65.570 \n",
            "\n"
          ],
          "name": "stdout"
        }
      ]
    },
    {
      "cell_type": "code",
      "metadata": {
        "id": "LRIoEyuzsScV"
      },
      "source": [
        "\n",
        "save_model(model_name = 'SimpleConv_adam', \n",
        "           model = model_SimpleConv_adam, \n",
        "           train_losses = train_losses_SimpleConv_adam,\n",
        "           train_accuracies = train_accuracies_SimpleConv_adam,\n",
        "           val_losses = val_losses_SimpleConv_adam,\n",
        "           val_accuracies = val_accuracies_SimpleConv_adam)\n",
        "\n",
        "save_model(model_name = 'SimpleConv2_adam', \n",
        "           model = model_SimpleConv2_adam, \n",
        "           train_losses = train_losses_SimpleConv2_adam,\n",
        "           train_accuracies = train_accuracies_SimpleConv2_adam,\n",
        "           val_losses = val_losses_SimpleConv2_adam,\n",
        "           val_accuracies = val_accuracies_SimpleConv2_adam)"
      ],
      "execution_count": 26,
      "outputs": []
    },
    {
      "cell_type": "code",
      "metadata": {
        "id": "uW0L-E23qYCA",
        "outputId": "13364639-9fb6-4b1a-b883-38feed979b32",
        "colab": {
          "base_uri": "https://localhost:8080/",
          "height": 312
        }
      },
      "source": [
        "# comparison: with adam, with or without normalization\n",
        "plt.plot(np.arange(1, len(train_accuracies_SimpleConv_adam)+1), train_accuracies_SimpleConv_adam, label='accuracy with no normalization')\n",
        "plt.plot(np.arange(1, len(train_losses_SimpleConv_adam)+1), train_losses_SimpleConv_adam, label='loss with no normalization')\n",
        "plt.plot(np.arange(1, len(train_accuracies_SimpleConv2_adam)+1), train_accuracies_SimpleConv2_adam, label='accuracy with normalization')\n",
        "plt.plot(np.arange(1, len(train_losses_SimpleConv2_adam)+1), train_losses_SimpleConv2_adam, label='loss with normalization')\n",
        "\n",
        "plt.xlabel('Epoch')\n",
        "plt.ylabel('Accuracy/Loss')\n",
        "plt.legend()\n",
        "plt.title('Training with Adam Optimizer')"
      ],
      "execution_count": 27,
      "outputs": [
        {
          "output_type": "execute_result",
          "data": {
            "text/plain": [
              "Text(0.5, 1.0, 'Training with Adam Optimizer')"
            ]
          },
          "metadata": {
            "tags": []
          },
          "execution_count": 27
        },
        {
          "output_type": "display_data",
          "data": {
            "image/png": "[encoded data removed]",
            "text/plain": [
              "<Figure size 432x288 with 1 Axes>"
            ]
          },
          "metadata": {
            "tags": [],
            "needs_background": "light"
          }
        }
      ]
    },
    {
      "cell_type": "markdown",
      "metadata": {
        "id": "XeVzHHciAt-W"
      },
      "source": [
        "#### Q2.6 d Once you choose an optimizer and see that it does train, make sure your model has enough capacity by overfitting on one batch of the data set. You should be able to get 100% train accuracy. \n",
        "\n",
        "As we see in Q2.6a, after epoch 19, the model attains 100% train accuracy.\n"
      ]
    },
    {
      "cell_type": "code",
      "metadata": {
        "id": "JKK1RtrpRXT9"
      },
      "source": [
        ""
      ],
      "execution_count": null,
      "outputs": []
    },
    {
      "cell_type": "code",
      "metadata": {
        "id": "tGv42r-I-Xck"
      },
      "source": [
        ""
      ],
      "execution_count": null,
      "outputs": []
    },
    {
      "cell_type": "markdown",
      "metadata": {
        "id": "ANkTYeTWn6Mv"
      },
      "source": [
        "### Q 2.7 Add residual connections"
      ]
    },
    {
      "cell_type": "code",
      "metadata": {
        "id": "f0sc31SXxFz5"
      },
      "source": [
        ""
      ],
      "execution_count": null,
      "outputs": []
    },
    {
      "cell_type": "markdown",
      "metadata": {
        "id": "A55lJPET13Q7"
      },
      "source": [
        "#### Residual connections help stabilise training and lead to faster convergence. In this question you will introduce residual connections into the SimpleConvnet2 model that you built above. \n",
        "\n",
        "We will add residual connections after each block of 3 convolutional layers. Lets consider the first block of three convolutional layers. The input to this block, the so called residual, is added to the output of the block before the final batch normalization layer of that block. \n",
        "\n",
        "\n",
        "IMP NOTE: You will notice that the number of filters of these two summands are not the same. For this, you will need to use a convolution layer on the residual component, which changes the number of filters while keeping the rest of the dimensions the same. This can be achieved with a careful selection of the input_channels, output_channels, kernel_size and padding parameters. "
      ]
    },
    {
      "cell_type": "code",
      "metadata": {
        "id": "rzxWZNrmUzFT"
      },
      "source": [
        "class ResidualConvnet(nn.Module):\n",
        "    def __init__(self, input_channels, num_classes):\n",
        "        super(ResidualConvnet, self).__init__()\n",
        "        \n",
        "        # TODO\n",
        "    \n",
        "    def forward(self, x):\n",
        "        \n",
        "        # TODO \n",
        "        return output\n",
        "        "
      ],
      "execution_count": null,
      "outputs": []
    },
    {
      "cell_type": "code",
      "metadata": {
        "id": "Wn9OWZiceenh"
      },
      "source": [
        "# TODO : Initialize the model and cast to correct device\n",
        "\n",
        "# TODO : Initialize the criterion \n",
        "\n",
        "# TODO : Initialize the optimizer \n",
        "\n",
        "# TODO : Run the training loop using this model"
      ],
      "execution_count": null,
      "outputs": []
    },
    {
      "cell_type": "markdown",
      "metadata": {
        "id": "NRrWJ63c4C0f"
      },
      "source": [
        "### Q 2.8 Plot the training curves with and without the residual connection. Comment on the difference. "
      ]
    },
    {
      "cell_type": "markdown",
      "metadata": {
        "id": "1QXPnxcrx-VU"
      },
      "source": [
        "### Q2.9 Reducing overfiting \n",
        "\n"
      ]
    },
    {
      "cell_type": "markdown",
      "metadata": {
        "id": "HISbvoBh8JTJ"
      },
      "source": [
        "In the previous questions, you might have observed that there is a large difference between the training and validation losses. This is a sign that the model is overfitting. One way to combat this is by adding random transformations to the input data to make your model more robust and prevent it from memorizing the input data. \n",
        "\n",
        "Torchvision provides several transforms that you can readily apply to your data. Experiment with adding a few transforms and report your results in terms of learning curves to see if the gap between the training and validation loss reduces and try to achieve better perfomance on the validation set. "
      ]
    },
    {
      "cell_type": "code",
      "metadata": {
        "id": "0cZRQd-VK7ev"
      },
      "source": [
        "test_transform = transforms.Compose([\n",
        "                                     transforms.ToTensor(),\n",
        "                                     transforms.Normalize(\n",
        "                                         [0.4373, 0.4434, 0.4725],\n",
        "                                         [0.1201, 0.1231, 0.1052])\n",
        "                                     ])\n",
        "\n",
        "train_transform = transforms.Compose([\n",
        "                                      # TODO: Add more transforms here \n",
        "                                      transforms.ToTensor(),\n",
        "                                      transforms.Normalize(\n",
        "                                          [0.4373, 0.4434, 0.4725],\n",
        "                                          [0.1201, 0.1231, 0.1052])\n",
        "                                      ])\n"
      ],
      "execution_count": null,
      "outputs": []
    },
    {
      "cell_type": "code",
      "metadata": {
        "id": "brZrUl7mK7ez"
      },
      "source": [
        "train_dataset_w_transform  = MapDataset(train_dataset, train_transform)\n",
        "val_dataset_w_transform = MapDataset(val_dataset, test_transform)\n",
        "test_dataset_w_transform = MapDataset(test_dataset, test_transform)"
      ],
      "execution_count": null,
      "outputs": []
    },
    {
      "cell_type": "code",
      "metadata": {
        "id": "kZp6DqwfK7e1"
      },
      "source": [
        "bs = 128\n",
        "train_loader = DataLoader(train_dataset_w_transform, batch_size=bs, shuffle=True, drop_last=False)\n",
        "val_loader = DataLoader(val_dataset_w_transform, batch_size=bs, shuffle=False, drop_last=False)\n",
        "test_loader = DataLoader(test_dataset, batch_size=bs, shuffle=False, drop_last=False)"
      ],
      "execution_count": null,
      "outputs": []
    },
    {
      "cell_type": "markdown",
      "metadata": {
        "id": "xR_9tihT5Vmu"
      },
      "source": [
        "#### Use the residual network that you built above and use data augmentation to reduce the overfitting "
      ]
    },
    {
      "cell_type": "code",
      "metadata": {
        "id": "WxMLVdrUwh--"
      },
      "source": [
        "# TODO : Initialize the model and cast to correct device\n",
        "\n",
        "# TODO : Initialize the criterion \n",
        "\n",
        "# TODO : Initialize the optimizer \n",
        "\n",
        "# TODO : Run the training loop using this model"
      ],
      "execution_count": null,
      "outputs": []
    },
    {
      "cell_type": "markdown",
      "metadata": {
        "id": "O2rhPXb4nRFA"
      },
      "source": [
        "### Q 2.10  Effect of learning rate decay "
      ]
    },
    {
      "cell_type": "markdown",
      "metadata": {
        "id": "VDqvgBeptLpD"
      },
      "source": [
        "#### Here you need to change the training loop to have one additional operation - add the scheduler step at the end of each epoch. Experiment with different learning rate schedulers provided by pytorch. Report results using atleast StepLR. "
      ]
    },
    {
      "cell_type": "code",
      "metadata": {
        "id": "DoDm84bvtbYK"
      },
      "source": [
        "from torch.optim.lr_scheduler import StepLR"
      ],
      "execution_count": null,
      "outputs": []
    },
    {
      "cell_type": "code",
      "metadata": {
        "id": "nbGSCk4N57qX"
      },
      "source": [
        "def train_loop2(model, criterion, optimizer, scheduler,  train_loader, val_loader):\n",
        "    \"\"\"\n",
        "    Generic training loop\n",
        "\n",
        "    Parameters\n",
        "    ----------\n",
        "    model : Object instance of your model class \n",
        "    criterion : Loss function \n",
        "    optimizer : Instance of optimizer class of your choice \n",
        "    scheduler : Instance of scheduler class of your choice \n",
        "    train_loader : Training data loader \n",
        "    val_loader : Validation data loader\n",
        "\n",
        "    Returns\n",
        "    -------\n",
        "    train_losses : List with train loss on dataset per epoch\n",
        "    train_accuracies : List with train accuracy on dataset per epoch\n",
        "    val_losses : List with validation loss on dataset per epoch\n",
        "    val_accuracies : List with validation accuracy on dataset per epoch\n",
        "\n",
        "    \"\"\"\n",
        "    best_val = 0.0\n",
        "    train_losses = []\n",
        "    val_losses = []\n",
        "    train_accuracies = []\n",
        "    val_accuracies = []\n",
        "    max_patience = 5\n",
        "    patience_counter = 0\n",
        "\n",
        "    # Training\n",
        "    for t in tqdm(range(50)):\n",
        "\n",
        "        # TODO : Set the model to train mode        \n",
        "\n",
        "        # TODO: Loop over the training set \n",
        "\n",
        "            # TODO: Put the inputs and targets on the write device\n",
        "            \n",
        "            # TODO: Feed forward to get the logits\n",
        "\n",
        "            # TODO: Compute the loss and accuracy\n",
        "\n",
        "            # TODO: zero the gradients before running\n",
        "            # the backward pass.\n",
        "\n",
        "            # TODO: Backward pass to compute the gradient\n",
        "            # of loss w.r.t our learnable params. \n",
        "\n",
        "            # TODO: Update params\n",
        "            \n",
        "            # TODO: Keep track of accuracy and loss\n",
        "\n",
        "        \n",
        "        # Switch the model to eval mode\n",
        "        # TODO\n",
        "\n",
        "\n",
        "        with torch.no_grad():\n",
        "            # TODO: Loop over the validation set \n",
        "            \n",
        "                # TODO: Put the inputs and targets on the write device\n",
        "            \n",
        "                # TODO: Feed forward to get the logits\n",
        "\n",
        "                # TODO: Compute the loss and accuracy\n",
        "\n",
        "                # TODO: Keep track of accuracy and loss\n",
        "\n",
        "        if val_accuracies[-1] > best_val:\n",
        "          best_val = val_accuracies[-1]\n",
        "          patience_counter = 0\n",
        "\n",
        "          # TODO: Save best model, optimizer, epoch_number\n",
        "          \n",
        "        else:\n",
        "          patience_counter += 1    \n",
        "          \n",
        "          if patience_counter > max_patience: \n",
        "            break\n",
        "\n",
        "        print(\"[EPOCH]: %i, [TRAIN LOSS]: %.6f, [TRAIN ACCURACY]: %.3f\" % (t, train_losses[-1], train_accuracies[-1]))\n",
        "        print(\"[EPOCH]: %i, [VAL LOSS]: %.6f, [VAL ACCURACY]: %.3f \\n\" % (t, val_losses[-1] ,val_accuracies[-1]))\n",
        "\n",
        "        # TODO : scheduler step\n",
        "\n",
        "    return train_losses, train_accuracies, val_losses, val_accuracies"
      ],
      "execution_count": null,
      "outputs": []
    },
    {
      "cell_type": "code",
      "metadata": {
        "id": "bK1P1aU0sbJn"
      },
      "source": [
        "# TODO : Initialize the model and cast to correct device\n",
        "\n",
        "# TODO : Initialize the criterion \n",
        "\n",
        "# TODO : Initialize the optimizer \n",
        "\n",
        "# TODO : Initialize the \n",
        "\n",
        "# TODO : Run the training loop using this model"
      ],
      "execution_count": null,
      "outputs": []
    },
    {
      "cell_type": "markdown",
      "metadata": {
        "id": "cG8bhd5V97iJ"
      },
      "source": [
        "### Q2.11 Hyper parameter tuning \n"
      ]
    },
    {
      "cell_type": "markdown",
      "metadata": {
        "id": "G05PHYHJ-DF2"
      },
      "source": [
        "#### Experiment with a range of learning rates and optimizers, as well as the parameter in the learning rate scheduler for StepLR. Report the following plots: \n",
        "\n",
        "1. Learning curves (training and validation loss for 5 different learning rate with SGD optimizer)\n",
        "2. Learning curves (training and validation loss for 5 different learning rate with Adam optimizer)\n",
        "3. Learning curves (training and validation loss for 5 different gamma parameter for the StepLR)\n",
        "\n",
        "\n",
        "\n"
      ]
    },
    {
      "cell_type": "code",
      "metadata": {
        "id": "Xdu98GWMuWBl"
      },
      "source": [
        ""
      ],
      "execution_count": null,
      "outputs": []
    },
    {
      "cell_type": "code",
      "metadata": {
        "id": "8gxypqPDukrJ"
      },
      "source": [
        ""
      ],
      "execution_count": null,
      "outputs": []
    },
    {
      "cell_type": "markdown",
      "metadata": {
        "id": "JiLexWP36qp6"
      },
      "source": [
        "### Q2.12 Load the model that gave you best validation accuracy and report results on the test set. "
      ]
    },
    {
      "cell_type": "code",
      "metadata": {
        "id": "Hz-m4xZU_nV8"
      },
      "source": [
        ""
      ],
      "execution_count": null,
      "outputs": []
    },
    {
      "cell_type": "code",
      "metadata": {
        "id": "H6KV4FDAw3KZ"
      },
      "source": [
        "d"
      ],
      "execution_count": null,
      "outputs": []
    }
  ]
}