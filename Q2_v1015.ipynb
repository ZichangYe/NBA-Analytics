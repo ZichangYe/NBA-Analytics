{
  "nbformat": 4,
  "nbformat_minor": 0,
  "metadata": {
    "accelerator": "GPU",
    "colab": {
      "name": "Q2.ipynb",
      "provenance": [],
      "collapsed_sections": [
        "S8IFrRqC0WwA"
      ],
      "include_colab_link": true
    },
    "kernelspec": {
      "display_name": "Python 3",
      "language": "python",
      "name": "python3"
    },
    "language_info": {
      "codemirror_mode": {
        "name": "ipython",
        "version": 3
      },
      "file_extension": ".py",
      "mimetype": "text/x-python",
      "name": "python",
      "nbconvert_exporter": "python",
      "pygments_lexer": "ipython3",
      "version": "3.7.0"
    },
    "widgets": {
      "application/vnd.jupyter.widget-state+json": {
        "fa601ce4c0684dcca3725e7e78844c9b": {
          "model_module": "@jupyter-widgets/controls",
          "model_name": "HBoxModel",
          "state": {
            "_view_name": "HBoxView",
            "_dom_classes": [],
            "_model_name": "HBoxModel",
            "_view_module": "@jupyter-widgets/controls",
            "_model_module_version": "1.5.0",
            "_view_count": null,
            "_view_module_version": "1.5.0",
            "box_style": "",
            "layout": "IPY_MODEL_3d345067a211427aa91d09c5f425959b",
            "_model_module": "@jupyter-widgets/controls",
            "children": [
              "IPY_MODEL_91e8a8f1ee814b29947fb1ca85e7c521",
              "IPY_MODEL_c0a9dd7fd14e412cb7811bfd5a4e71df"
            ]
          }
        },
        "3d345067a211427aa91d09c5f425959b": {
          "model_module": "@jupyter-widgets/base",
          "model_name": "LayoutModel",
          "state": {
            "_view_name": "LayoutView",
            "grid_template_rows": null,
            "right": null,
            "justify_content": null,
            "_view_module": "@jupyter-widgets/base",
            "overflow": null,
            "_model_module_version": "1.2.0",
            "_view_count": null,
            "flex_flow": null,
            "width": null,
            "min_width": null,
            "border": null,
            "align_items": null,
            "bottom": null,
            "_model_module": "@jupyter-widgets/base",
            "top": null,
            "grid_column": null,
            "overflow_y": null,
            "overflow_x": null,
            "grid_auto_flow": null,
            "grid_area": null,
            "grid_template_columns": null,
            "flex": null,
            "_model_name": "LayoutModel",
            "justify_items": null,
            "grid_row": null,
            "max_height": null,
            "align_content": null,
            "visibility": null,
            "align_self": null,
            "height": null,
            "min_height": null,
            "padding": null,
            "grid_auto_rows": null,
            "grid_gap": null,
            "max_width": null,
            "order": null,
            "_view_module_version": "1.2.0",
            "grid_template_areas": null,
            "object_position": null,
            "object_fit": null,
            "grid_auto_columns": null,
            "margin": null,
            "display": null,
            "left": null
          }
        },
        "91e8a8f1ee814b29947fb1ca85e7c521": {
          "model_module": "@jupyter-widgets/controls",
          "model_name": "FloatProgressModel",
          "state": {
            "_view_name": "ProgressView",
            "style": "IPY_MODEL_b1610d86355b404f9450e6b367a719b7",
            "_dom_classes": [],
            "description": "",
            "_model_name": "FloatProgressModel",
            "bar_style": "info",
            "max": 1,
            "_view_module": "@jupyter-widgets/controls",
            "_model_module_version": "1.5.0",
            "value": 1,
            "_view_count": null,
            "_view_module_version": "1.5.0",
            "orientation": "horizontal",
            "min": 0,
            "description_tooltip": null,
            "_model_module": "@jupyter-widgets/controls",
            "layout": "IPY_MODEL_4abace6482fc4597aa2511fa77f7cd6f"
          }
        },
        "c0a9dd7fd14e412cb7811bfd5a4e71df": {
          "model_module": "@jupyter-widgets/controls",
          "model_name": "HTMLModel",
          "state": {
            "_view_name": "HTMLView",
            "style": "IPY_MODEL_f2c3d3035f9041a4b50fe6ecf8386525",
            "_dom_classes": [],
            "description": "",
            "_model_name": "HTMLModel",
            "placeholder": "​",
            "_view_module": "@jupyter-widgets/controls",
            "_model_module_version": "1.5.0",
            "value": " 170500096/? [00:20&lt;00:00, 54801026.25it/s]",
            "_view_count": null,
            "_view_module_version": "1.5.0",
            "description_tooltip": null,
            "_model_module": "@jupyter-widgets/controls",
            "layout": "IPY_MODEL_a1c1a376fde84b84b9548a7c03eec615"
          }
        },
        "b1610d86355b404f9450e6b367a719b7": {
          "model_module": "@jupyter-widgets/controls",
          "model_name": "ProgressStyleModel",
          "state": {
            "_view_name": "StyleView",
            "_model_name": "ProgressStyleModel",
            "description_width": "initial",
            "_view_module": "@jupyter-widgets/base",
            "_model_module_version": "1.5.0",
            "_view_count": null,
            "_view_module_version": "1.2.0",
            "bar_color": null,
            "_model_module": "@jupyter-widgets/controls"
          }
        },
        "4abace6482fc4597aa2511fa77f7cd6f": {
          "model_module": "@jupyter-widgets/base",
          "model_name": "LayoutModel",
          "state": {
            "_view_name": "LayoutView",
            "grid_template_rows": null,
            "right": null,
            "justify_content": null,
            "_view_module": "@jupyter-widgets/base",
            "overflow": null,
            "_model_module_version": "1.2.0",
            "_view_count": null,
            "flex_flow": null,
            "width": null,
            "min_width": null,
            "border": null,
            "align_items": null,
            "bottom": null,
            "_model_module": "@jupyter-widgets/base",
            "top": null,
            "grid_column": null,
            "overflow_y": null,
            "overflow_x": null,
            "grid_auto_flow": null,
            "grid_area": null,
            "grid_template_columns": null,
            "flex": null,
            "_model_name": "LayoutModel",
            "justify_items": null,
            "grid_row": null,
            "max_height": null,
            "align_content": null,
            "visibility": null,
            "align_self": null,
            "height": null,
            "min_height": null,
            "padding": null,
            "grid_auto_rows": null,
            "grid_gap": null,
            "max_width": null,
            "order": null,
            "_view_module_version": "1.2.0",
            "grid_template_areas": null,
            "object_position": null,
            "object_fit": null,
            "grid_auto_columns": null,
            "margin": null,
            "display": null,
            "left": null
          }
        },
        "f2c3d3035f9041a4b50fe6ecf8386525": {
          "model_module": "@jupyter-widgets/controls",
          "model_name": "DescriptionStyleModel",
          "state": {
            "_view_name": "StyleView",
            "_model_name": "DescriptionStyleModel",
            "description_width": "",
            "_view_module": "@jupyter-widgets/base",
            "_model_module_version": "1.5.0",
            "_view_count": null,
            "_view_module_version": "1.2.0",
            "_model_module": "@jupyter-widgets/controls"
          }
        },
        "a1c1a376fde84b84b9548a7c03eec615": {
          "model_module": "@jupyter-widgets/base",
          "model_name": "LayoutModel",
          "state": {
            "_view_name": "LayoutView",
            "grid_template_rows": null,
            "right": null,
            "justify_content": null,
            "_view_module": "@jupyter-widgets/base",
            "overflow": null,
            "_model_module_version": "1.2.0",
            "_view_count": null,
            "flex_flow": null,
            "width": null,
            "min_width": null,
            "border": null,
            "align_items": null,
            "bottom": null,
            "_model_module": "@jupyter-widgets/base",
            "top": null,
            "grid_column": null,
            "overflow_y": null,
            "overflow_x": null,
            "grid_auto_flow": null,
            "grid_area": null,
            "grid_template_columns": null,
            "flex": null,
            "_model_name": "LayoutModel",
            "justify_items": null,
            "grid_row": null,
            "max_height": null,
            "align_content": null,
            "visibility": null,
            "align_self": null,
            "height": null,
            "min_height": null,
            "padding": null,
            "grid_auto_rows": null,
            "grid_gap": null,
            "max_width": null,
            "order": null,
            "_view_module_version": "1.2.0",
            "grid_template_areas": null,
            "object_position": null,
            "object_fit": null,
            "grid_auto_columns": null,
            "margin": null,
            "display": null,
            "left": null
          }
        },
        "424296e3caf34c67be588ab537ee3013": {
          "model_module": "@jupyter-widgets/controls",
          "model_name": "HBoxModel",
          "state": {
            "_view_name": "HBoxView",
            "_dom_classes": [],
            "_model_name": "HBoxModel",
            "_view_module": "@jupyter-widgets/controls",
            "_model_module_version": "1.5.0",
            "_view_count": null,
            "_view_module_version": "1.5.0",
            "box_style": "",
            "layout": "IPY_MODEL_3365a6db42674d7b83f480186e526297",
            "_model_module": "@jupyter-widgets/controls",
            "children": [
              "IPY_MODEL_a6170c9577c745429b9f6e797f163b06",
              "IPY_MODEL_68738b6d0b624097b443edcbf74d217a"
            ]
          }
        },
        "3365a6db42674d7b83f480186e526297": {
          "model_module": "@jupyter-widgets/base",
          "model_name": "LayoutModel",
          "state": {
            "_view_name": "LayoutView",
            "grid_template_rows": null,
            "right": null,
            "justify_content": null,
            "_view_module": "@jupyter-widgets/base",
            "overflow": null,
            "_model_module_version": "1.2.0",
            "_view_count": null,
            "flex_flow": null,
            "width": null,
            "min_width": null,
            "border": null,
            "align_items": null,
            "bottom": null,
            "_model_module": "@jupyter-widgets/base",
            "top": null,
            "grid_column": null,
            "overflow_y": null,
            "overflow_x": null,
            "grid_auto_flow": null,
            "grid_area": null,
            "grid_template_columns": null,
            "flex": null,
            "_model_name": "LayoutModel",
            "justify_items": null,
            "grid_row": null,
            "max_height": null,
            "align_content": null,
            "visibility": null,
            "align_self": null,
            "height": null,
            "min_height": null,
            "padding": null,
            "grid_auto_rows": null,
            "grid_gap": null,
            "max_width": null,
            "order": null,
            "_view_module_version": "1.2.0",
            "grid_template_areas": null,
            "object_position": null,
            "object_fit": null,
            "grid_auto_columns": null,
            "margin": null,
            "display": null,
            "left": null
          }
        },
        "a6170c9577c745429b9f6e797f163b06": {
          "model_module": "@jupyter-widgets/controls",
          "model_name": "FloatProgressModel",
          "state": {
            "_view_name": "ProgressView",
            "style": "IPY_MODEL_300ded815a2449c594c06be4f92c0d3b",
            "_dom_classes": [],
            "description": "  6%",
            "_model_name": "FloatProgressModel",
            "bar_style": "danger",
            "max": 50,
            "_view_module": "@jupyter-widgets/controls",
            "_model_module_version": "1.5.0",
            "value": 3,
            "_view_count": null,
            "_view_module_version": "1.5.0",
            "orientation": "horizontal",
            "min": 0,
            "description_tooltip": null,
            "_model_module": "@jupyter-widgets/controls",
            "layout": "IPY_MODEL_b93c79d279184209bf83452b0631d18b"
          }
        },
        "68738b6d0b624097b443edcbf74d217a": {
          "model_module": "@jupyter-widgets/controls",
          "model_name": "HTMLModel",
          "state": {
            "_view_name": "HTMLView",
            "style": "IPY_MODEL_a97beb83158549ba986ee7e1ffecbe17",
            "_dom_classes": [],
            "description": "",
            "_model_name": "HTMLModel",
            "placeholder": "​",
            "_view_module": "@jupyter-widgets/controls",
            "_model_module_version": "1.5.0",
            "value": " 3/50 [00:46&lt;09:51, 12.59s/it]",
            "_view_count": null,
            "_view_module_version": "1.5.0",
            "description_tooltip": null,
            "_model_module": "@jupyter-widgets/controls",
            "layout": "IPY_MODEL_66906e7314424af6a51785847f7cf300"
          }
        },
        "300ded815a2449c594c06be4f92c0d3b": {
          "model_module": "@jupyter-widgets/controls",
          "model_name": "ProgressStyleModel",
          "state": {
            "_view_name": "StyleView",
            "_model_name": "ProgressStyleModel",
            "description_width": "initial",
            "_view_module": "@jupyter-widgets/base",
            "_model_module_version": "1.5.0",
            "_view_count": null,
            "_view_module_version": "1.2.0",
            "bar_color": null,
            "_model_module": "@jupyter-widgets/controls"
          }
        },
        "b93c79d279184209bf83452b0631d18b": {
          "model_module": "@jupyter-widgets/base",
          "model_name": "LayoutModel",
          "state": {
            "_view_name": "LayoutView",
            "grid_template_rows": null,
            "right": null,
            "justify_content": null,
            "_view_module": "@jupyter-widgets/base",
            "overflow": null,
            "_model_module_version": "1.2.0",
            "_view_count": null,
            "flex_flow": null,
            "width": null,
            "min_width": null,
            "border": null,
            "align_items": null,
            "bottom": null,
            "_model_module": "@jupyter-widgets/base",
            "top": null,
            "grid_column": null,
            "overflow_y": null,
            "overflow_x": null,
            "grid_auto_flow": null,
            "grid_area": null,
            "grid_template_columns": null,
            "flex": null,
            "_model_name": "LayoutModel",
            "justify_items": null,
            "grid_row": null,
            "max_height": null,
            "align_content": null,
            "visibility": null,
            "align_self": null,
            "height": null,
            "min_height": null,
            "padding": null,
            "grid_auto_rows": null,
            "grid_gap": null,
            "max_width": null,
            "order": null,
            "_view_module_version": "1.2.0",
            "grid_template_areas": null,
            "object_position": null,
            "object_fit": null,
            "grid_auto_columns": null,
            "margin": null,
            "display": null,
            "left": null
          }
        },
        "a97beb83158549ba986ee7e1ffecbe17": {
          "model_module": "@jupyter-widgets/controls",
          "model_name": "DescriptionStyleModel",
          "state": {
            "_view_name": "StyleView",
            "_model_name": "DescriptionStyleModel",
            "description_width": "",
            "_view_module": "@jupyter-widgets/base",
            "_model_module_version": "1.5.0",
            "_view_count": null,
            "_view_module_version": "1.2.0",
            "_model_module": "@jupyter-widgets/controls"
          }
        },
        "66906e7314424af6a51785847f7cf300": {
          "model_module": "@jupyter-widgets/base",
          "model_name": "LayoutModel",
          "state": {
            "_view_name": "LayoutView",
            "grid_template_rows": null,
            "right": null,
            "justify_content": null,
            "_view_module": "@jupyter-widgets/base",
            "overflow": null,
            "_model_module_version": "1.2.0",
            "_view_count": null,
            "flex_flow": null,
            "width": null,
            "min_width": null,
            "border": null,
            "align_items": null,
            "bottom": null,
            "_model_module": "@jupyter-widgets/base",
            "top": null,
            "grid_column": null,
            "overflow_y": null,
            "overflow_x": null,
            "grid_auto_flow": null,
            "grid_area": null,
            "grid_template_columns": null,
            "flex": null,
            "_model_name": "LayoutModel",
            "justify_items": null,
            "grid_row": null,
            "max_height": null,
            "align_content": null,
            "visibility": null,
            "align_self": null,
            "height": null,
            "min_height": null,
            "padding": null,
            "grid_auto_rows": null,
            "grid_gap": null,
            "max_width": null,
            "order": null,
            "_view_module_version": "1.2.0",
            "grid_template_areas": null,
            "object_position": null,
            "object_fit": null,
            "grid_auto_columns": null,
            "margin": null,
            "display": null,
            "left": null
          }
        },
        "2e34662a237545ffa13e3e72d5ecd138": {
          "model_module": "@jupyter-widgets/controls",
          "model_name": "HBoxModel",
          "state": {
            "_view_name": "HBoxView",
            "_dom_classes": [],
            "_model_name": "HBoxModel",
            "_view_module": "@jupyter-widgets/controls",
            "_model_module_version": "1.5.0",
            "_view_count": null,
            "_view_module_version": "1.5.0",
            "box_style": "",
            "layout": "IPY_MODEL_ce48e19dd0cd47d8925f9e0fff513222",
            "_model_module": "@jupyter-widgets/controls",
            "children": [
              "IPY_MODEL_442368bb0fe348ba8e8399120a2aad2f",
              "IPY_MODEL_0f2ceb75ae7c4589b0a2f54d191afb8e"
            ]
          }
        },
        "ce48e19dd0cd47d8925f9e0fff513222": {
          "model_module": "@jupyter-widgets/base",
          "model_name": "LayoutModel",
          "state": {
            "_view_name": "LayoutView",
            "grid_template_rows": null,
            "right": null,
            "justify_content": null,
            "_view_module": "@jupyter-widgets/base",
            "overflow": null,
            "_model_module_version": "1.2.0",
            "_view_count": null,
            "flex_flow": null,
            "width": null,
            "min_width": null,
            "border": null,
            "align_items": null,
            "bottom": null,
            "_model_module": "@jupyter-widgets/base",
            "top": null,
            "grid_column": null,
            "overflow_y": null,
            "overflow_x": null,
            "grid_auto_flow": null,
            "grid_area": null,
            "grid_template_columns": null,
            "flex": null,
            "_model_name": "LayoutModel",
            "justify_items": null,
            "grid_row": null,
            "max_height": null,
            "align_content": null,
            "visibility": null,
            "align_self": null,
            "height": null,
            "min_height": null,
            "padding": null,
            "grid_auto_rows": null,
            "grid_gap": null,
            "max_width": null,
            "order": null,
            "_view_module_version": "1.2.0",
            "grid_template_areas": null,
            "object_position": null,
            "object_fit": null,
            "grid_auto_columns": null,
            "margin": null,
            "display": null,
            "left": null
          }
        },
        "442368bb0fe348ba8e8399120a2aad2f": {
          "model_module": "@jupyter-widgets/controls",
          "model_name": "FloatProgressModel",
          "state": {
            "_view_name": "ProgressView",
            "style": "IPY_MODEL_40080098a0554299bce10a8e7b4c5fea",
            "_dom_classes": [],
            "description": " 12%",
            "_model_name": "FloatProgressModel",
            "bar_style": "danger",
            "max": 50,
            "_view_module": "@jupyter-widgets/controls",
            "_model_module_version": "1.5.0",
            "value": 6,
            "_view_count": null,
            "_view_module_version": "1.5.0",
            "orientation": "horizontal",
            "min": 0,
            "description_tooltip": null,
            "_model_module": "@jupyter-widgets/controls",
            "layout": "IPY_MODEL_cb2b9eb4a7854c5ba56d0346378450dd"
          }
        },
        "0f2ceb75ae7c4589b0a2f54d191afb8e": {
          "model_module": "@jupyter-widgets/controls",
          "model_name": "HTMLModel",
          "state": {
            "_view_name": "HTMLView",
            "style": "IPY_MODEL_0378ccab596249e58ab84106aab27218",
            "_dom_classes": [],
            "description": "",
            "_model_name": "HTMLModel",
            "placeholder": "​",
            "_view_module": "@jupyter-widgets/controls",
            "_model_module_version": "1.5.0",
            "value": " 6/50 [10:46&lt;1:07:45, 92.41s/it]",
            "_view_count": null,
            "_view_module_version": "1.5.0",
            "description_tooltip": null,
            "_model_module": "@jupyter-widgets/controls",
            "layout": "IPY_MODEL_0a559c353d094ea8840f447ea8d6b13e"
          }
        },
        "40080098a0554299bce10a8e7b4c5fea": {
          "model_module": "@jupyter-widgets/controls",
          "model_name": "ProgressStyleModel",
          "state": {
            "_view_name": "StyleView",
            "_model_name": "ProgressStyleModel",
            "description_width": "initial",
            "_view_module": "@jupyter-widgets/base",
            "_model_module_version": "1.5.0",
            "_view_count": null,
            "_view_module_version": "1.2.0",
            "bar_color": null,
            "_model_module": "@jupyter-widgets/controls"
          }
        },
        "cb2b9eb4a7854c5ba56d0346378450dd": {
          "model_module": "@jupyter-widgets/base",
          "model_name": "LayoutModel",
          "state": {
            "_view_name": "LayoutView",
            "grid_template_rows": null,
            "right": null,
            "justify_content": null,
            "_view_module": "@jupyter-widgets/base",
            "overflow": null,
            "_model_module_version": "1.2.0",
            "_view_count": null,
            "flex_flow": null,
            "width": null,
            "min_width": null,
            "border": null,
            "align_items": null,
            "bottom": null,
            "_model_module": "@jupyter-widgets/base",
            "top": null,
            "grid_column": null,
            "overflow_y": null,
            "overflow_x": null,
            "grid_auto_flow": null,
            "grid_area": null,
            "grid_template_columns": null,
            "flex": null,
            "_model_name": "LayoutModel",
            "justify_items": null,
            "grid_row": null,
            "max_height": null,
            "align_content": null,
            "visibility": null,
            "align_self": null,
            "height": null,
            "min_height": null,
            "padding": null,
            "grid_auto_rows": null,
            "grid_gap": null,
            "max_width": null,
            "order": null,
            "_view_module_version": "1.2.0",
            "grid_template_areas": null,
            "object_position": null,
            "object_fit": null,
            "grid_auto_columns": null,
            "margin": null,
            "display": null,
            "left": null
          }
        },
        "0378ccab596249e58ab84106aab27218": {
          "model_module": "@jupyter-widgets/controls",
          "model_name": "DescriptionStyleModel",
          "state": {
            "_view_name": "StyleView",
            "_model_name": "DescriptionStyleModel",
            "description_width": "",
            "_view_module": "@jupyter-widgets/base",
            "_model_module_version": "1.5.0",
            "_view_count": null,
            "_view_module_version": "1.2.0",
            "_model_module": "@jupyter-widgets/controls"
          }
        },
        "0a559c353d094ea8840f447ea8d6b13e": {
          "model_module": "@jupyter-widgets/base",
          "model_name": "LayoutModel",
          "state": {
            "_view_name": "LayoutView",
            "grid_template_rows": null,
            "right": null,
            "justify_content": null,
            "_view_module": "@jupyter-widgets/base",
            "overflow": null,
            "_model_module_version": "1.2.0",
            "_view_count": null,
            "flex_flow": null,
            "width": null,
            "min_width": null,
            "border": null,
            "align_items": null,
            "bottom": null,
            "_model_module": "@jupyter-widgets/base",
            "top": null,
            "grid_column": null,
            "overflow_y": null,
            "overflow_x": null,
            "grid_auto_flow": null,
            "grid_area": null,
            "grid_template_columns": null,
            "flex": null,
            "_model_name": "LayoutModel",
            "justify_items": null,
            "grid_row": null,
            "max_height": null,
            "align_content": null,
            "visibility": null,
            "align_self": null,
            "height": null,
            "min_height": null,
            "padding": null,
            "grid_auto_rows": null,
            "grid_gap": null,
            "max_width": null,
            "order": null,
            "_view_module_version": "1.2.0",
            "grid_template_areas": null,
            "object_position": null,
            "object_fit": null,
            "grid_auto_columns": null,
            "margin": null,
            "display": null,
            "left": null
          }
        },
        "da107d61db8a4491a8fe947c20b30b2f": {
          "model_module": "@jupyter-widgets/controls",
          "model_name": "HBoxModel",
          "state": {
            "_view_name": "HBoxView",
            "_dom_classes": [],
            "_model_name": "HBoxModel",
            "_view_module": "@jupyter-widgets/controls",
            "_model_module_version": "1.5.0",
            "_view_count": null,
            "_view_module_version": "1.5.0",
            "box_style": "",
            "layout": "IPY_MODEL_cda33f1335724ce199804e9941ece583",
            "_model_module": "@jupyter-widgets/controls",
            "children": [
              "IPY_MODEL_e5305161faa04ba6a519793ec1d56491",
              "IPY_MODEL_2311fb8b032d40bb8e57a83d3ed86167"
            ]
          }
        },
        "cda33f1335724ce199804e9941ece583": {
          "model_module": "@jupyter-widgets/base",
          "model_name": "LayoutModel",
          "state": {
            "_view_name": "LayoutView",
            "grid_template_rows": null,
            "right": null,
            "justify_content": null,
            "_view_module": "@jupyter-widgets/base",
            "overflow": null,
            "_model_module_version": "1.2.0",
            "_view_count": null,
            "flex_flow": null,
            "width": null,
            "min_width": null,
            "border": null,
            "align_items": null,
            "bottom": null,
            "_model_module": "@jupyter-widgets/base",
            "top": null,
            "grid_column": null,
            "overflow_y": null,
            "overflow_x": null,
            "grid_auto_flow": null,
            "grid_area": null,
            "grid_template_columns": null,
            "flex": null,
            "_model_name": "LayoutModel",
            "justify_items": null,
            "grid_row": null,
            "max_height": null,
            "align_content": null,
            "visibility": null,
            "align_self": null,
            "height": null,
            "min_height": null,
            "padding": null,
            "grid_auto_rows": null,
            "grid_gap": null,
            "max_width": null,
            "order": null,
            "_view_module_version": "1.2.0",
            "grid_template_areas": null,
            "object_position": null,
            "object_fit": null,
            "grid_auto_columns": null,
            "margin": null,
            "display": null,
            "left": null
          }
        },
        "e5305161faa04ba6a519793ec1d56491": {
          "model_module": "@jupyter-widgets/controls",
          "model_name": "FloatProgressModel",
          "state": {
            "_view_name": "ProgressView",
            "style": "IPY_MODEL_a5b2dc8bd80d4b76b65e3516d18f6148",
            "_dom_classes": [],
            "description": " 58%",
            "_model_name": "FloatProgressModel",
            "bar_style": "danger",
            "max": 50,
            "_view_module": "@jupyter-widgets/controls",
            "_model_module_version": "1.5.0",
            "value": 29,
            "_view_count": null,
            "_view_module_version": "1.5.0",
            "orientation": "horizontal",
            "min": 0,
            "description_tooltip": null,
            "_model_module": "@jupyter-widgets/controls",
            "layout": "IPY_MODEL_af740ac9330347589e55ab2894181dcb"
          }
        },
        "2311fb8b032d40bb8e57a83d3ed86167": {
          "model_module": "@jupyter-widgets/controls",
          "model_name": "HTMLModel",
          "state": {
            "_view_name": "HTMLView",
            "style": "IPY_MODEL_c9b6ea96e172401f8897f0b87bd211e0",
            "_dom_classes": [],
            "description": "",
            "_model_name": "HTMLModel",
            "placeholder": "​",
            "_view_module": "@jupyter-widgets/controls",
            "_model_module_version": "1.5.0",
            "value": " 29/50 [36:46&lt;25:51, 73.89s/it]",
            "_view_count": null,
            "_view_module_version": "1.5.0",
            "description_tooltip": null,
            "_model_module": "@jupyter-widgets/controls",
            "layout": "IPY_MODEL_e3f3770fe0ba45eebee0a4fa4d839739"
          }
        },
        "a5b2dc8bd80d4b76b65e3516d18f6148": {
          "model_module": "@jupyter-widgets/controls",
          "model_name": "ProgressStyleModel",
          "state": {
            "_view_name": "StyleView",
            "_model_name": "ProgressStyleModel",
            "description_width": "initial",
            "_view_module": "@jupyter-widgets/base",
            "_model_module_version": "1.5.0",
            "_view_count": null,
            "_view_module_version": "1.2.0",
            "bar_color": null,
            "_model_module": "@jupyter-widgets/controls"
          }
        },
        "af740ac9330347589e55ab2894181dcb": {
          "model_module": "@jupyter-widgets/base",
          "model_name": "LayoutModel",
          "state": {
            "_view_name": "LayoutView",
            "grid_template_rows": null,
            "right": null,
            "justify_content": null,
            "_view_module": "@jupyter-widgets/base",
            "overflow": null,
            "_model_module_version": "1.2.0",
            "_view_count": null,
            "flex_flow": null,
            "width": null,
            "min_width": null,
            "border": null,
            "align_items": null,
            "bottom": null,
            "_model_module": "@jupyter-widgets/base",
            "top": null,
            "grid_column": null,
            "overflow_y": null,
            "overflow_x": null,
            "grid_auto_flow": null,
            "grid_area": null,
            "grid_template_columns": null,
            "flex": null,
            "_model_name": "LayoutModel",
            "justify_items": null,
            "grid_row": null,
            "max_height": null,
            "align_content": null,
            "visibility": null,
            "align_self": null,
            "height": null,
            "min_height": null,
            "padding": null,
            "grid_auto_rows": null,
            "grid_gap": null,
            "max_width": null,
            "order": null,
            "_view_module_version": "1.2.0",
            "grid_template_areas": null,
            "object_position": null,
            "object_fit": null,
            "grid_auto_columns": null,
            "margin": null,
            "display": null,
            "left": null
          }
        },
        "c9b6ea96e172401f8897f0b87bd211e0": {
          "model_module": "@jupyter-widgets/controls",
          "model_name": "DescriptionStyleModel",
          "state": {
            "_view_name": "StyleView",
            "_model_name": "DescriptionStyleModel",
            "description_width": "",
            "_view_module": "@jupyter-widgets/base",
            "_model_module_version": "1.5.0",
            "_view_count": null,
            "_view_module_version": "1.2.0",
            "_model_module": "@jupyter-widgets/controls"
          }
        },
        "e3f3770fe0ba45eebee0a4fa4d839739": {
          "model_module": "@jupyter-widgets/base",
          "model_name": "LayoutModel",
          "state": {
            "_view_name": "LayoutView",
            "grid_template_rows": null,
            "right": null,
            "justify_content": null,
            "_view_module": "@jupyter-widgets/base",
            "overflow": null,
            "_model_module_version": "1.2.0",
            "_view_count": null,
            "flex_flow": null,
            "width": null,
            "min_width": null,
            "border": null,
            "align_items": null,
            "bottom": null,
            "_model_module": "@jupyter-widgets/base",
            "top": null,
            "grid_column": null,
            "overflow_y": null,
            "overflow_x": null,
            "grid_auto_flow": null,
            "grid_area": null,
            "grid_template_columns": null,
            "flex": null,
            "_model_name": "LayoutModel",
            "justify_items": null,
            "grid_row": null,
            "max_height": null,
            "align_content": null,
            "visibility": null,
            "align_self": null,
            "height": null,
            "min_height": null,
            "padding": null,
            "grid_auto_rows": null,
            "grid_gap": null,
            "max_width": null,
            "order": null,
            "_view_module_version": "1.2.0",
            "grid_template_areas": null,
            "object_position": null,
            "object_fit": null,
            "grid_auto_columns": null,
            "margin": null,
            "display": null,
            "left": null
          }
        }
      }
    }
  },
  "cells": [
    {
      "cell_type": "markdown",
      "metadata": {
        "id": "view-in-github",
        "colab_type": "text"
      },
      "source": [
        "<a href=\"https://colab.research.google.com/github/ZichangYe/NBA-Analytics/blob/master/Q2_v1015.ipynb\" target=\"_parent\"><img src=\"https://colab.research.google.com/assets/colab-badge.svg\" alt=\"Open In Colab\"/></a>"
      ]
    },
    {
      "cell_type": "markdown",
      "metadata": {
        "id": "JccQsl2OtAOi"
      },
      "source": [
        "### Imports "
      ]
    },
    {
      "cell_type": "code",
      "metadata": {
        "ExecuteTime": {
          "end_time": "2020-10-12T21:23:02.741734Z",
          "start_time": "2020-10-12T21:23:02.010707Z"
        },
        "id": "5elHgLPSoiT7",
        "outputId": "7f8d3b15-ebf1-4e2a-c2f6-9e8840cd4291",
        "colab": {
          "base_uri": "https://localhost:8080/",
          "height": 34
        }
      },
      "source": [
        "import torch \n",
        "import torchvision\n",
        "import torch.nn as nn\n",
        "import torch.nn.functional as F \n",
        "from IPython.display import Image \n",
        "from torchvision import transforms\n",
        "import matplotlib.pyplot as plt\n",
        "import random\n",
        "from torch.utils.data import DataLoader\n",
        "from tqdm.auto import tqdm\n",
        "import torch.optim as optim\n",
        "import numpy as np\n",
        "import matplotlib.pyplot as plt\n",
        "device = torch.device(\"cuda\" if torch.cuda.is_available() else \"cpu\")\n",
        "seed = 12345\n",
        "random.seed(seed)\n",
        "torch.manual_seed(seed)"
      ],
      "execution_count": 3,
      "outputs": [
        {
          "output_type": "execute_result",
          "data": {
            "text/plain": [
              "<torch._C.Generator at 0x7fb08e0a76a8>"
            ]
          },
          "metadata": {
            "tags": []
          },
          "execution_count": 3
        }
      ]
    },
    {
      "cell_type": "markdown",
      "metadata": {
        "id": "y8Aj_LrAhwRP"
      },
      "source": [
        "#### Mount your google drive so you can save model checkpoints, and report your test results on the final best model after hyperparameter tuning"
      ]
    },
    {
      "cell_type": "code",
      "metadata": {
        "ExecuteTime": {
          "end_time": "2020-10-12T21:23:31.609516Z",
          "start_time": "2020-10-12T21:23:31.596532Z"
        },
        "id": "utx0ySGqQbha",
        "outputId": "c4a0a24a-2a1c-4150-ed87-4315648fc85b",
        "colab": {
          "base_uri": "https://localhost:8080/",
          "height": 34
        }
      },
      "source": [
        "from google.colab import drive\n",
        "drive.mount('/content/drive')"
      ],
      "execution_count": 4,
      "outputs": [
        {
          "output_type": "stream",
          "text": [
            "Mounted at /content/drive\n"
          ],
          "name": "stdout"
        }
      ]
    },
    {
      "cell_type": "markdown",
      "metadata": {
        "id": "zqzOqBsvs9kA"
      },
      "source": [
        "### Data loading "
      ]
    },
    {
      "cell_type": "markdown",
      "metadata": {
        "id": "3-3MVXNOhdCc"
      },
      "source": [
        "##### Run the following cells to load the dataset. Setting download=True will download it for you."
      ]
    },
    {
      "cell_type": "code",
      "metadata": {
        "id": "8rb7Ng7_VcwL",
        "outputId": "b800e9d5-349e-44bf-9dc1-5ce4257f8915",
        "colab": {
          "base_uri": "https://localhost:8080/",
          "height": 100,
          "referenced_widgets": [
            "fa601ce4c0684dcca3725e7e78844c9b",
            "3d345067a211427aa91d09c5f425959b",
            "91e8a8f1ee814b29947fb1ca85e7c521",
            "c0a9dd7fd14e412cb7811bfd5a4e71df",
            "b1610d86355b404f9450e6b367a719b7",
            "4abace6482fc4597aa2511fa77f7cd6f",
            "f2c3d3035f9041a4b50fe6ecf8386525",
            "a1c1a376fde84b84b9548a7c03eec615"
          ]
        }
      },
      "source": [
        "cifar10_train = torchvision.datasets.CIFAR10(root='./cifar10', \n",
        "                                             train=True, \n",
        "                                             transform=None, \n",
        "                                             target_transform=None,\n",
        "                                             download=True)\n",
        "cifar10_test = torchvision.datasets.CIFAR10(root='./cifar10', \n",
        "                                             train=False, \n",
        "                                             transform=None, \n",
        "                                             target_transform=None,\n",
        "                                             download=True)\n",
        "\n",
        "# Divides the dataset into train and val so that we can use the val to choose our hyperparameters\n",
        "train_dataset, val_dataset = torch.utils.data.random_split(cifar10_train, [40000, 10000], \n",
        "                                                           generator=torch.Generator().manual_seed(12345))\n",
        "test_dataset = cifar10_test"
      ],
      "execution_count": 5,
      "outputs": [
        {
          "output_type": "stream",
          "text": [
            "Downloading https://www.cs.toronto.edu/~kriz/cifar-10-python.tar.gz to ./cifar10/cifar-10-python.tar.gz\n"
          ],
          "name": "stdout"
        },
        {
          "output_type": "display_data",
          "data": {
            "application/vnd.jupyter.widget-view+json": {
              "model_id": "fa601ce4c0684dcca3725e7e78844c9b",
              "version_minor": 0,
              "version_major": 2
            },
            "text/plain": [
              "HBox(children=(FloatProgress(value=1.0, bar_style='info', max=1.0), HTML(value='')))"
            ]
          },
          "metadata": {
            "tags": []
          }
        },
        {
          "output_type": "stream",
          "text": [
            "Extracting ./cifar10/cifar-10-python.tar.gz to ./cifar10\n",
            "Files already downloaded and verified\n"
          ],
          "name": "stdout"
        }
      ]
    },
    {
      "cell_type": "code",
      "metadata": {
        "id": "J_NzhpK8KvQC"
      },
      "source": [
        "# Helper code to support adding different transforms on the dataset lazily after downloading the dataset\n",
        "# From https://discuss.pytorch.org/t/apply-different-transform-data-augmentation-to-train-and-validation/63580/5\n",
        "class MapDataset(torch.utils.data.Dataset):\n",
        "    \"\"\"\n",
        "    Given a dataset, creates a dataset which applies a mapping function\n",
        "    to its items (lazily, only when an item is called).\n",
        "\n",
        "    Note that data is not cloned/copied from the initial dataset.\n",
        "    \"\"\"\n",
        "\n",
        "    def __init__(self, dataset, map_fn):\n",
        "        self.dataset = dataset\n",
        "        self.map = map_fn\n",
        "\n",
        "    def __getitem__(self, index):\n",
        "        if self.map:     \n",
        "            x = self.map(self.dataset[index][0]) \n",
        "        else:     \n",
        "            x = self.dataset[index][0]  \n",
        "        y = self.dataset[index][1]         \n",
        "        return x, y\n",
        "\n",
        "    def __len__(self):\n",
        "        return len(self.dataset)"
      ],
      "execution_count": 6,
      "outputs": []
    },
    {
      "cell_type": "markdown",
      "metadata": {
        "id": "MMbXzcUiKc7e"
      },
      "source": [
        "#### Standard transforms to apply on images - Convert to tensors and normalize with mean and std. These are the basic transforms that you will always apply. The mean and std have been pre calculated on the training set. "
      ]
    },
    {
      "cell_type": "code",
      "metadata": {
        "id": "LWEKU9xQKbkW"
      },
      "source": [
        "# Notice that we apply the same mean and std normalization calculated on train, to both the train and test datasets.\n",
        "test_transform = transforms.Compose([\n",
        "                                     transforms.ToTensor(),\n",
        "                                     transforms.Normalize(\n",
        "                                         [0.4373, 0.4434, 0.4725],\n",
        "                                         [0.1201, 0.1231, 0.1052])\n",
        "                                     ])\n",
        "\n",
        "train_transform = transforms.Compose([\n",
        "                                      transforms.ToTensor(),\n",
        "                                      transforms.Normalize(\n",
        "                                          [0.4373, 0.4434, 0.4725],\n",
        "                                          [0.1201, 0.1231, 0.1052])\n",
        "                                      ])\n"
      ],
      "execution_count": 7,
      "outputs": []
    },
    {
      "cell_type": "code",
      "metadata": {
        "id": "TrDIxTs2JwbO"
      },
      "source": [
        "train_dataset_w_transform  = MapDataset(train_dataset, train_transform)\n",
        "val_dataset_w_transform = MapDataset(val_dataset, test_transform)\n",
        "test_dataset_w_transform = MapDataset(test_dataset, test_transform)"
      ],
      "execution_count": 8,
      "outputs": []
    },
    {
      "cell_type": "code",
      "metadata": {
        "id": "4LcExDS1tyjI"
      },
      "source": [
        "bs = 128\n",
        "torch.backends.cudnn.benchmark = True\n",
        "train_loader = DataLoader(train_dataset_w_transform, batch_size=bs, shuffle=True, drop_last=False,num_workers=10, pin_memory=True)\n",
        "val_loader = DataLoader(val_dataset_w_transform, batch_size=bs, shuffle=False, drop_last=False,num_workers=10, pin_memory=True)\n",
        "test_loader = DataLoader(test_dataset, batch_size=bs, shuffle=False, drop_last=False,num_workers=10, pin_memory=True)"
      ],
      "execution_count": 9,
      "outputs": []
    },
    {
      "cell_type": "markdown",
      "metadata": {
        "id": "pXLFsEihoMTn"
      },
      "source": [
        "### Q 2.1 Training loop"
      ]
    },
    {
      "cell_type": "markdown",
      "metadata": {
        "id": "ksECLwMqkgj_"
      },
      "source": [
        "In this question, fill in the missing parts to build a generic training loop that returns the train and validation losses and accuracies. The #TODOs will guide you through the key points and you should fill some code for each #TODO. You might need to add some additional code for bookkeeping the losses and accuracies"
      ]
    },
    {
      "cell_type": "code",
      "metadata": {
        "id": "GnmWg9P9N5U_"
      },
      "source": [
        "def train_loop(model, criterion, optimizer,  train_loader, val_loader):\n",
        "    \"\"\"\n",
        "    Generic training loop\n",
        "\n",
        "    Parameters\n",
        "    ----------\n",
        "    model : Object instance of your model class \n",
        "    criterion : Loss function \n",
        "    optimizer : Instance of optimizer class of your choice \n",
        "    train_loader : Training data loader \n",
        "    val_loader : Validation data loader\n",
        "\n",
        "    Returns\n",
        "    -------\n",
        "    train_losses : List with train loss on dataset per epoch\n",
        "    train_accuracies : List with train accuracy on dataset per epoch\n",
        "    val_losses : List with validation loss on dataset per epoch\n",
        "    val_accuracies : List with validation accuracy on dataset per epoch\n",
        "\n",
        "    \"\"\"\n",
        "    best_val = 0.0\n",
        "    train_losses = []\n",
        "    val_losses = []\n",
        "    train_accuracies = []\n",
        "    val_accuracies = []\n",
        "    max_patience = 5\n",
        "    patience_counter = 0\n",
        "    # Training\n",
        "    for t in tqdm(range(50)):\n",
        "        # TODO : Set the model to train mode        \n",
        "        model.train()\n",
        "        train_correct = 0\n",
        "        val_correct = 0\n",
        "        # TODO: Loop over the training set \n",
        "        for batch_idx, (data, target) in enumerate(train_loader):\n",
        "            # TODO: Put the inputs and targets on the write device\n",
        "            data, target = data.to(device), target.to(device)\n",
        "            # TODO: Feed forward to get the logits\n",
        "            output = model(data)\n",
        "            # TODO: Compute the loss and accuracy\n",
        "            train_loss = criterion(output, target)\n",
        "            train_pred = output.data.max(1, keepdim=True)[1]\n",
        "            train_correct += train_pred.eq(target.data.view_as(train_pred)).cpu().sum().item()\n",
        "            train_accuracy = 100. * train_correct/len(train_loader.dataset)\n",
        "            # print('Training Accuracy: {}'.format(train_accuracy))\n",
        "            # TODO: zero the gradients before running\n",
        "            optimizer.zero_grad()\n",
        "            # the backward pass.\n",
        "            \n",
        "            # TODO: Backward pass to compute the gradient\n",
        "            # of loss w.r.t our learnable params. \n",
        "            train_loss.backward()\n",
        "            # TODO: Update params\n",
        "            optimizer.step()\n",
        "            # TODO: Keep track of accuracy and loss\n",
        "        train_losses.append(train_loss)\n",
        "        train_accuracies.append(train_accuracy)\n",
        "        \n",
        "        # TODO: Switch the model to eval mode\n",
        "        model.eval()\n",
        "\n",
        "        with torch.no_grad():\n",
        "            # TODO: Loop over the validation set \n",
        "            for batch_idx, (data, target) in enumerate(val_loader):\n",
        "                # TODO: Put the inputs and targets on the write device\n",
        "                data, target = data.to(device), target.to(device)\n",
        "                # TODO: Feed forward to get the logits\n",
        "                output = model(data)\n",
        "                # TODO: Compute the loss and accuracy\n",
        "                val_loss = criterion(output, target)\n",
        "                val_pred = output.data.max(1, keepdim=True)[1]\n",
        "                val_correct += val_pred.eq(target.data.view_as(val_pred)).cpu().sum().item()\n",
        "                val_accuracy = 100. * val_correct/len(val_loader.dataset)\n",
        "                # print('Validation Accuracy: {}'.format(val_accuracy))\n",
        "     \n",
        "                # TODO: Keep track of accuracy and loss\n",
        "            val_losses.append(val_loss)\n",
        "            val_accuracies.append(val_accuracy)              \n",
        "        if val_accuracies[-1] > best_val:\n",
        "          best_val = val_accuracies[-1]\n",
        "          patience_counter = 0\n",
        "\n",
        "          # TODO: Save best model, optimizer, epoch_number\n",
        "          best_model = model\n",
        "          best_optimizer = optimizer\n",
        "          best_epoch_number = t\n",
        "        else:\n",
        "          patience_counter += 1    \n",
        "          if patience_counter > max_patience: \n",
        "            break\n",
        "\n",
        "        print(\"[EPOCH]: %i, [TRAIN LOSS]: %.6f, [TRAIN ACCURACY]: %.3f\" % (t, train_losses[-1], train_accuracies[-1]))\n",
        "        print(\"[EPOCH]: %i, [VAL LOSS]: %.6f, [VAL ACCURACY]: %.3f \\n\" % (t, val_losses[-1] ,val_accuracies[-1]))\n",
        "\n",
        "    return train_losses, train_accuracies, val_losses, val_accuracies"
      ],
      "execution_count": 10,
      "outputs": []
    },
    {
      "cell_type": "markdown",
      "metadata": {
        "id": "0sdCTYUouY4o"
      },
      "source": [
        "### Q 2.2 Shallow convolutional network. "
      ]
    },
    {
      "cell_type": "code",
      "metadata": {
        "id": "FKqYI2qxp95J"
      },
      "source": [
        "class View(nn.Module):\n",
        "    def __init__(self, shape):\n",
        "      super().__init__()\n",
        "      self.shape = shape\n",
        "\n",
        "    def forward(self, x):\n",
        "        return x.view(*self.shape)"
      ],
      "execution_count": 11,
      "outputs": []
    },
    {
      "cell_type": "code",
      "metadata": {
        "id": "FDHE0lOgpF0W"
      },
      "source": [
        "ShallowNet =  nn.Sequential(\n",
        "      nn.Conv2d(in_channels = 3, out_channels = 64, kernel_size=5, padding=2),\n",
        "      nn.ReLU(),\n",
        "      nn.MaxPool2d(kernel_size=2),\n",
        "      nn.Conv2d(in_channels = 64, out_channels = 128, kernel_size=3, padding=1),\n",
        "      nn.ReLU(),\n",
        "      nn.MaxPool2d(kernel_size=2),\n",
        "      nn.Conv2d(in_channels = 128, out_channels = 256, kernel_size=3, padding=1),\n",
        "      nn.ReLU(),\n",
        "      nn.MaxPool2d(kernel_size=8),\n",
        "      View((-1,256)),\n",
        "      nn.Linear(256, 10),\n",
        ")"
      ],
      "execution_count": 12,
      "outputs": []
    },
    {
      "cell_type": "markdown",
      "metadata": {
        "id": "iV26KJLDrzhx"
      },
      "source": [
        "#### Write the object oriented version of ShallowNet"
      ]
    },
    {
      "cell_type": "code",
      "metadata": {
        "id": "H8YygdvnuqDM"
      },
      "source": [
        "class ShallowConvnet(nn.Module):\n",
        "    def __init__(self, input_channels, num_classes):\n",
        "        \"\"\"\n",
        "\n",
        "        Parameters\n",
        "        ----------\n",
        "        input_channels : Number of input channels\n",
        "        num_classes : Number of classes for the final prediction \n",
        "        \"\"\"\n",
        "        super(ShallowConvnet, self).__init__()\n",
        "        self.input_channels = input_channels\n",
        "        # TODO\n",
        "        self.network = nn.Sequential(\n",
        "            nn.Conv2d(in_channels = input_channels, out_channels = 64, kernel_size=5, padding=2),\n",
        "            nn.ReLU(),\n",
        "            nn.MaxPool2d(kernel_size=2),\n",
        "            nn.Conv2d(in_channels = 64, out_channels = 128, kernel_size=3, padding=1),\n",
        "            nn.ReLU(),\n",
        "            nn.MaxPool2d(kernel_size=2),\n",
        "            nn.Conv2d(in_channels = 128, out_channels = 256, kernel_size=3, padding=1),\n",
        "            nn.ReLU(),\n",
        "            nn.MaxPool2d(kernel_size=8),\n",
        "            View((-1,256)),\n",
        "            nn.Linear(256, num_classes),\n",
        "      )\n",
        "        \n",
        "\n",
        "    def forward(self, x):\n",
        "        \"\"\"\n",
        "\n",
        "        Parameters\n",
        "        ----------\n",
        "        x\n",
        "\n",
        "        Returns\n",
        "        -------\n",
        "        output : Result after running through the model\n",
        "        \"\"\"\n",
        "        # TODO\n",
        "        # x = x.view(-1, self.input_channels)?\n",
        "        return self.network(x)\n",
        "        "
      ],
      "execution_count": 43,
      "outputs": []
    },
    {
      "cell_type": "markdown",
      "metadata": {
        "id": "UjEH5jIhwnet"
      },
      "source": [
        "### Q2.3 Instantiate the model and run this using an SGD optimizer, with the appropriate loss function for classification\n",
        "\n",
        "Report the learning curves (training and validation accuracy vs number of epochs)"
      ]
    },
    {
      "cell_type": "code",
      "metadata": {
        "id": "_oG1E-YRu4Cj",
        "outputId": "07094492-44ed-40ab-ca28-c53eb7a8650f",
        "colab": {
          "base_uri": "https://localhost:8080/",
          "height": 536,
          "referenced_widgets": [
            "424296e3caf34c67be588ab537ee3013",
            "3365a6db42674d7b83f480186e526297",
            "a6170c9577c745429b9f6e797f163b06",
            "68738b6d0b624097b443edcbf74d217a",
            "300ded815a2449c594c06be4f92c0d3b",
            "b93c79d279184209bf83452b0631d18b",
            "a97beb83158549ba986ee7e1ffecbe17",
            "66906e7314424af6a51785847f7cf300"
          ]
        }
      },
      "source": [
        "# TODO : Initialize the model and cast to correct device\n",
        "model_ShallowConv = ShallowConvnet(input_channels = 3, num_classes = 10)\n",
        "model_ShallowConv.to(device)\n",
        "\n",
        "# TODO : Initialize the criterion\n",
        "criterion = F.cross_entropy\n",
        "\n",
        "# TODO : Initialize the SGD optimizer with lr 1e-3\n",
        "optimizer = optim.SGD(model_ShallowConv.parameters(), lr=1e-3, momentum=0.5)\n",
        "\n",
        "# TODO : Run the training loop using this model\n",
        "train_losses, train_accuracies, val_losses, val_accuracies = train_loop(model_ShallowConv, criterion, optimizer, train_loader, val_loader)\n",
        "\n"
      ],
      "execution_count": 44,
      "outputs": [
        {
          "output_type": "display_data",
          "data": {
            "application/vnd.jupyter.widget-view+json": {
              "model_id": "424296e3caf34c67be588ab537ee3013",
              "version_minor": 0,
              "version_major": 2
            },
            "text/plain": [
              "HBox(children=(FloatProgress(value=0.0, max=50.0), HTML(value='')))"
            ]
          },
          "metadata": {
            "tags": []
          }
        },
        {
          "output_type": "stream",
          "text": [
            "[EPOCH]: 0, [TRAIN LOSS]: 2.193291, [TRAIN ACCURACY]: 17.422\n",
            "[EPOCH]: 0, [VAL LOSS]: 2.184559, [VAL ACCURACY]: 23.940 \n",
            "\n",
            "[EPOCH]: 1, [TRAIN LOSS]: 2.080832, [TRAIN ACCURACY]: 26.288\n",
            "[EPOCH]: 1, [VAL LOSS]: 2.025002, [VAL ACCURACY]: 28.730 \n",
            "\n",
            "[EPOCH]: 2, [TRAIN LOSS]: 2.037242, [TRAIN ACCURACY]: 29.545\n",
            "[EPOCH]: 2, [VAL LOSS]: 1.875748, [VAL ACCURACY]: 30.960 \n",
            "\n"
          ],
          "name": "stdout"
        },
        {
          "output_type": "error",
          "ename": "KeyboardInterrupt",
          "evalue": "ignored",
          "traceback": [
            "\u001b[0;31m---------------------------------------------------------------------------\u001b[0m",
            "\u001b[0;31mKeyboardInterrupt\u001b[0m                         Traceback (most recent call last)",
            "\u001b[0;32m<ipython-input-44-0b6d862cdf89>\u001b[0m in \u001b[0;36m<module>\u001b[0;34m()\u001b[0m\n\u001b[1;32m     10\u001b[0m \u001b[0;34m\u001b[0m\u001b[0m\n\u001b[1;32m     11\u001b[0m \u001b[0;31m# TODO : Run the training loop using this model\u001b[0m\u001b[0;34m\u001b[0m\u001b[0;34m\u001b[0m\u001b[0;34m\u001b[0m\u001b[0m\n\u001b[0;32m---> 12\u001b[0;31m \u001b[0mtrain_losses\u001b[0m\u001b[0;34m,\u001b[0m \u001b[0mtrain_accuracies\u001b[0m\u001b[0;34m,\u001b[0m \u001b[0mval_losses\u001b[0m\u001b[0;34m,\u001b[0m \u001b[0mval_accuracies\u001b[0m \u001b[0;34m=\u001b[0m \u001b[0mtrain_loop\u001b[0m\u001b[0;34m(\u001b[0m\u001b[0mmodel_ShallowConv\u001b[0m\u001b[0;34m,\u001b[0m \u001b[0mcriterion\u001b[0m\u001b[0;34m,\u001b[0m \u001b[0moptimizer\u001b[0m\u001b[0;34m,\u001b[0m \u001b[0mtrain_loader\u001b[0m\u001b[0;34m,\u001b[0m \u001b[0mval_loader\u001b[0m\u001b[0;34m)\u001b[0m\u001b[0;34m\u001b[0m\u001b[0;34m\u001b[0m\u001b[0m\n\u001b[0m\u001b[1;32m     13\u001b[0m \u001b[0;34m\u001b[0m\u001b[0m\n",
            "\u001b[0;32m<ipython-input-40-dd72873509e6>\u001b[0m in \u001b[0;36mtrain_loop\u001b[0;34m(model, criterion, optimizer, train_loader, val_loader)\u001b[0m\n\u001b[1;32m     35\u001b[0m         \u001b[0;32mfor\u001b[0m \u001b[0mbatch_idx\u001b[0m\u001b[0;34m,\u001b[0m \u001b[0;34m(\u001b[0m\u001b[0mdata\u001b[0m\u001b[0;34m,\u001b[0m \u001b[0mtarget\u001b[0m\u001b[0;34m)\u001b[0m \u001b[0;32min\u001b[0m \u001b[0menumerate\u001b[0m\u001b[0;34m(\u001b[0m\u001b[0mtrain_loader\u001b[0m\u001b[0;34m)\u001b[0m\u001b[0;34m:\u001b[0m\u001b[0;34m\u001b[0m\u001b[0;34m\u001b[0m\u001b[0m\n\u001b[1;32m     36\u001b[0m             \u001b[0;31m# TODO: Put the inputs and targets on the write device\u001b[0m\u001b[0;34m\u001b[0m\u001b[0;34m\u001b[0m\u001b[0;34m\u001b[0m\u001b[0m\n\u001b[0;32m---> 37\u001b[0;31m             \u001b[0mdata\u001b[0m\u001b[0;34m,\u001b[0m \u001b[0mtarget\u001b[0m \u001b[0;34m=\u001b[0m \u001b[0mdata\u001b[0m\u001b[0;34m.\u001b[0m\u001b[0mto\u001b[0m\u001b[0;34m(\u001b[0m\u001b[0mdevice\u001b[0m\u001b[0;34m)\u001b[0m\u001b[0;34m,\u001b[0m \u001b[0mtarget\u001b[0m\u001b[0;34m.\u001b[0m\u001b[0mto\u001b[0m\u001b[0;34m(\u001b[0m\u001b[0mdevice\u001b[0m\u001b[0;34m)\u001b[0m\u001b[0;34m\u001b[0m\u001b[0;34m\u001b[0m\u001b[0m\n\u001b[0m\u001b[1;32m     38\u001b[0m             \u001b[0;31m# TODO: Feed forward to get the logits\u001b[0m\u001b[0;34m\u001b[0m\u001b[0;34m\u001b[0m\u001b[0;34m\u001b[0m\u001b[0m\n\u001b[1;32m     39\u001b[0m             \u001b[0moutput\u001b[0m \u001b[0;34m=\u001b[0m \u001b[0mmodel\u001b[0m\u001b[0;34m(\u001b[0m\u001b[0mdata\u001b[0m\u001b[0;34m)\u001b[0m\u001b[0;34m\u001b[0m\u001b[0;34m\u001b[0m\u001b[0m\n",
            "\u001b[0;31mKeyboardInterrupt\u001b[0m: "
          ]
        }
      ]
    },
    {
      "cell_type": "code",
      "metadata": {
        "id": "QeYgQB6RR5gS"
      },
      "source": [
        "plt.plot(np.arange(1, 15651), train_accuracies)\n",
        "plt.plot(np.arange(1, 3951), val_accuracies)"
      ],
      "execution_count": null,
      "outputs": []
    },
    {
      "cell_type": "code",
      "metadata": {
        "id": "PrnoyyCk_ovk"
      },
      "source": [
        "train_loader."
      ],
      "execution_count": null,
      "outputs": []
    },
    {
      "cell_type": "markdown",
      "metadata": {
        "id": "cLRvwxlJoFQO"
      },
      "source": [
        "### Q2.4 Simple convolution network - "
      ]
    },
    {
      "cell_type": "markdown",
      "metadata": {
        "id": "lSUz9ljRxRc5"
      },
      "source": [
        "Design a convolutional neural network with the following specification: \n",
        "For each convolution layer, use appropriate padding such that it maintains the resolution of the image. The resolution should be changing only when you introduce maxpooling layers. Each convolution layer should be followed by a relu non-linearity. The first two blocks containing 3 convolutional layers are each followed by a maxpooling layer that halves the resolution of the image. After the third block, use maxpooling to get a resolution of 1 X 1. Finally, apply a linear transformation to project to the number of classes. \n",
        "\n",
        "Structure of the convolution layers of the model:\n",
        "1. Number of input channels to the model = 3\n",
        "2. First convolution layer of kernel size 5 with filter size 64 and padding such that it maintains the resolution of the image.\n",
        "3. Followed by a block of 3 convolution layers of kernel size 3, filter size 64 and padding such that it maintains the resolution of the image.\n",
        "5. Followed by 3 convolution layers of kernel size 3, filter size 128 and padding such that it maintains the resolution of the image.\n",
        "6. Followed by 3 convolution layers of kernel size 3, filter size 256 and padding such that it maintains the resolution of the image. \n",
        "\n",
        "\n"
      ]
    },
    {
      "cell_type": "code",
      "metadata": {
        "id": "GfwKR3uNlsNc"
      },
      "source": [
        "# Use the description of the structure of the model and the hints given below \n",
        "\n",
        "class SimpleConvnet(nn.Module):\n",
        "    def __init__(self, input_channels, num_classes):\n",
        "        super(SimpleConvnet, self).__init__()\n",
        "        \n",
        "        # TODO\n",
        "        self.network = nn.Sequential(\n",
        "            # first layer, resolution = 32\n",
        "            nn.Conv2d(input_channels, out_channels=64, kernel_size=5, padding=2),\n",
        "            nn.ReLU(),\n",
        "            # first block, resolution = 32\n",
        "            nn.Conv2d(in_channels=64, out_channels=64, kernel_size=3, padding=1),\n",
        "            nn.ReLU(),\n",
        "            nn.Conv2d(in_channels=64, out_channels=64, kernel_size=3, padding=1),\n",
        "            nn.ReLU(),\n",
        "            nn.Conv2d(in_channels=64, out_channels=64, kernel_size=3, padding=1),\n",
        "            nn.ReLU(),\n",
        "\n",
        "            # first maxpooling, resolution = 16\n",
        "            nn.MaxPool2d(kernel_size=2,stride=2),\n",
        "\n",
        "            # second block, resolution = 32\n",
        "            nn.Conv2d(in_channels=64, out_channels=128, kernel_size=3, padding=9),\n",
        "            nn.ReLU(),\n",
        "            nn.Conv2d(in_channels=128, out_channels=128, kernel_size=3, padding=1),\n",
        "            nn.ReLU(),\n",
        "            nn.Conv2d(in_channels=128, out_channels=128, kernel_size=3, padding=1),\n",
        "            nn.ReLU(),\n",
        "\n",
        "            # second maxpooling, resolution = 16\n",
        "            nn.MaxPool2d(kernel_size=2, stride=2),\n",
        "\n",
        "            # # third block, resolution = 32\n",
        "            nn.Conv2d(in_channels=128, out_channels=256, kernel_size=3, padding=9),\n",
        "            nn.ReLU(),\n",
        "            nn.Conv2d(in_channels=256, out_channels=256, kernel_size=3, padding=1),\n",
        "            nn.ReLU(),\n",
        "            nn.Conv2d(in_channels=256, out_channels=256, kernel_size=3, padding=1),\n",
        "            nn.ReLU(),\n",
        "\n",
        "            # final maxpooling, output size reduced to 1\n",
        "            nn.MaxPool2d(kernel_size=32),\n",
        "            View((-1,256)),\n",
        "            nn.Linear(256, num_classes)\n",
        "      )\n",
        "    \n",
        "    def forward(self, x):\n",
        "       \n",
        "        # TODO \n",
        "        output = self.network(x)\n",
        "        return output\n",
        "        "
      ],
      "execution_count": 59,
      "outputs": []
    },
    {
      "cell_type": "code",
      "metadata": {
        "id": "q_WKoU3ewH2B",
        "outputId": "0373a8e2-fbfb-4ff0-fcdd-809dd4aba362",
        "colab": {
          "base_uri": "https://localhost:8080/",
          "height": 355,
          "referenced_widgets": [
            "2e34662a237545ffa13e3e72d5ecd138",
            "ce48e19dd0cd47d8925f9e0fff513222",
            "442368bb0fe348ba8e8399120a2aad2f",
            "0f2ceb75ae7c4589b0a2f54d191afb8e",
            "40080098a0554299bce10a8e7b4c5fea",
            "cb2b9eb4a7854c5ba56d0346378450dd",
            "0378ccab596249e58ab84106aab27218",
            "0a559c353d094ea8840f447ea8d6b13e"
          ]
        }
      },
      "source": [
        "# TODO : Initialize the model and cast to correct device\n",
        "model_SimpleConv = SimpleConvnet(input_channels=3, num_classes=10)\n",
        "model_SimpleConv.to(device)\n",
        "\n",
        "# TODO : Initialize the criterion \n",
        "criterion = F.cross_entropy\n",
        "# TODO : Initialize the optimizer \n",
        "optimizer = optim.SGD(model_SimpleConv.parameters(), lr=1e-3, momentum=0.5)\n",
        "# TODO : Run the training loop using this model\n",
        "train_losses_SimpleConv, train_accuracies_SimpleConv, val_losses_SimpleConv, val_accuracies_SimpleConv = train_loop(model_SimpleConv, criterion, optimizer, train_loader, val_loader)\n"
      ],
      "execution_count": 60,
      "outputs": [
        {
          "output_type": "display_data",
          "data": {
            "application/vnd.jupyter.widget-view+json": {
              "model_id": "2e34662a237545ffa13e3e72d5ecd138",
              "version_minor": 0,
              "version_major": 2
            },
            "text/plain": [
              "HBox(children=(FloatProgress(value=0.0, max=50.0), HTML(value='')))"
            ]
          },
          "metadata": {
            "tags": []
          }
        },
        {
          "output_type": "stream",
          "text": [
            "[EPOCH]: 0, [TRAIN LOSS]: 2.302330, [TRAIN ACCURACY]: 10.055\n",
            "[EPOCH]: 0, [VAL LOSS]: 2.311045, [VAL ACCURACY]: 9.780 \n",
            "\n",
            "[EPOCH]: 1, [TRAIN LOSS]: 2.298062, [TRAIN ACCURACY]: 10.055\n",
            "[EPOCH]: 1, [VAL LOSS]: 2.310381, [VAL ACCURACY]: 9.780 \n",
            "\n",
            "[EPOCH]: 2, [TRAIN LOSS]: 2.302732, [TRAIN ACCURACY]: 10.055\n",
            "[EPOCH]: 2, [VAL LOSS]: 2.309789, [VAL ACCURACY]: 9.780 \n",
            "\n",
            "[EPOCH]: 3, [TRAIN LOSS]: 2.305752, [TRAIN ACCURACY]: 10.055\n",
            "[EPOCH]: 3, [VAL LOSS]: 2.309226, [VAL ACCURACY]: 9.780 \n",
            "\n",
            "[EPOCH]: 4, [TRAIN LOSS]: 2.302088, [TRAIN ACCURACY]: 10.055\n",
            "[EPOCH]: 4, [VAL LOSS]: 2.308709, [VAL ACCURACY]: 9.780 \n",
            "\n",
            "[EPOCH]: 5, [TRAIN LOSS]: 2.306312, [TRAIN ACCURACY]: 10.055\n",
            "[EPOCH]: 5, [VAL LOSS]: 2.308244, [VAL ACCURACY]: 9.780 \n",
            "\n"
          ],
          "name": "stdout"
        }
      ]
    },
    {
      "cell_type": "markdown",
      "metadata": {
        "id": "mZRJhVst0BLv"
      },
      "source": [
        "### Q 2.5 Report results of training using SGD optimizer for both ShallowNet and SimpleConvnet. What do you observe?\n",
        "\n",
        "The ShallowNet does learn, while the SimpleConvnet doesn't learn using this architecture."
      ]
    },
    {
      "cell_type": "markdown",
      "metadata": {
        "id": "uv6ExxBvLL3Y"
      },
      "source": [
        "### Q 2.6 Add batch normalization"
      ]
    },
    {
      "cell_type": "markdown",
      "metadata": {
        "id": "S8IFrRqC0WwA"
      },
      "source": [
        "#### Q2.6 a After each relu layer, add a batch normalization layer to the network SimpleConvnet you created above"
      ]
    },
    {
      "cell_type": "code",
      "metadata": {
        "id": "U7nvtAeBoiUX"
      },
      "source": [
        "class SimpleConvnet2(nn.Module):\n",
        "    def __init__(self, input_channels, num_classes):\n",
        "        super(SimpleConvnet2, self).__init__()\n",
        "        \n",
        "        # TODO\n",
        "        self.network = nn.Sequential(\n",
        "            # first layer, resolution = 32\n",
        "            nn.Conv2d(input_channels, out_channels=64, kernel_size=5, padding=2),\n",
        "            nn.ReLU(),\n",
        "            nn.BatchNorm2d(64),\n",
        "            # first block, resolution = 32\n",
        "            nn.Conv2d(in_channels=64, out_channels=64, kernel_size=3, padding=1),\n",
        "            nn.ReLU(),\n",
        "            nn.BatchNorm2d(64),\n",
        "            nn.Conv2d(in_channels=64, out_channels=64, kernel_size=3, padding=1),\n",
        "            nn.ReLU(),\n",
        "            nn.BatchNorm2d(64),\n",
        "            nn.Conv2d(in_channels=64, out_channels=64, kernel_size=3, padding=1),\n",
        "            nn.ReLU(),\n",
        "            nn.BatchNorm2d(64),\n",
        "\n",
        "            # first maxpooling, resolution = 16\n",
        "            nn.MaxPool2d(kernel_size=2,stride=2),\n",
        "\n",
        "            # second block, resolution = 32\n",
        "            nn.Conv2d(in_channels=64, out_channels=128, kernel_size=3, padding=9),\n",
        "            nn.ReLU(),\n",
        "            nn.BatchNorm2d(128),\n",
        "            nn.Conv2d(in_channels=128, out_channels=128, kernel_size=3, padding=1),\n",
        "            nn.ReLU(),\n",
        "            nn.BatchNorm2d(128),\n",
        "            nn.Conv2d(in_channels=128, out_channels=128, kernel_size=3, padding=1),\n",
        "            nn.ReLU(),\n",
        "            nn.BatchNorm2d(128),\n",
        "\n",
        "            # second maxpooling, resolution = 16\n",
        "            nn.MaxPool2d(kernel_size=2, stride=2),\n",
        "\n",
        "            # # third block, resolution = 32\n",
        "            nn.Conv2d(in_channels=128, out_channels=256, kernel_size=3, padding=9),\n",
        "            nn.ReLU(),\n",
        "            nn.BatchNorm2d(256),\n",
        "            nn.Conv2d(in_channels=256, out_channels=256, kernel_size=3, padding=1),\n",
        "            nn.ReLU(),\n",
        "            nn.BatchNorm2d(256),\n",
        "            nn.Conv2d(in_channels=256, out_channels=256, kernel_size=3, padding=1),\n",
        "            nn.ReLU(),\n",
        "            nn.BatchNorm2d(256),\n",
        "\n",
        "            # final maxpooling, output size reduced to 1\n",
        "            nn.MaxPool2d(kernel_size=32),\n",
        "            View((-1,256)),\n",
        "            nn.Linear(256, num_classes)\n",
        "      )\n",
        "    def forward(self, x):\n",
        "       \n",
        "       # TODO\n",
        "        output = self.network(x)\n",
        "        return output\n",
        "        "
      ],
      "execution_count": 13,
      "outputs": []
    },
    {
      "cell_type": "code",
      "metadata": {
        "id": "hgqQzKV10tz7",
        "outputId": "5d2f88fa-0c17-4099-9c35-5ef39d6396b9",
        "colab": {
          "base_uri": "https://localhost:8080/",
          "height": 1000,
          "referenced_widgets": [
            "da107d61db8a4491a8fe947c20b30b2f",
            "cda33f1335724ce199804e9941ece583",
            "e5305161faa04ba6a519793ec1d56491",
            "2311fb8b032d40bb8e57a83d3ed86167",
            "a5b2dc8bd80d4b76b65e3516d18f6148",
            "af740ac9330347589e55ab2894181dcb",
            "c9b6ea96e172401f8897f0b87bd211e0",
            "e3f3770fe0ba45eebee0a4fa4d839739"
          ]
        }
      },
      "source": [
        "model_SimpleConv2 = SimpleConvnet2(input_channels=3, num_classes=10)\n",
        "model_SimpleConv2.to(device)\n",
        "\n",
        "# TODO : Initialize the criterion \n",
        "criterion = F.cross_entropy\n",
        "# TODO : Initialize the optimizer \n",
        "optimizer = optim.SGD(model_SimpleConv2.parameters(), lr=1e-3, momentum=0.5)\n",
        "# TODO : Run the training loop using this model\n",
        "train_losses_SimpleConv2, train_accuracies_SimpleCon2v, val_losses_SimpleConv2, val_accuracies_SimpleConv2 = train_loop(model_SimpleConv2, criterion, optimizer, train_loader, val_loader)\n"
      ],
      "execution_count": 14,
      "outputs": [
        {
          "output_type": "display_data",
          "data": {
            "application/vnd.jupyter.widget-view+json": {
              "model_id": "da107d61db8a4491a8fe947c20b30b2f",
              "version_minor": 0,
              "version_major": 2
            },
            "text/plain": [
              "HBox(children=(FloatProgress(value=0.0, max=50.0), HTML(value='')))"
            ]
          },
          "metadata": {
            "tags": []
          }
        },
        {
          "output_type": "stream",
          "text": [
            "[EPOCH]: 0, [TRAIN LOSS]: 1.209702, [TRAIN ACCURACY]: 39.977\n",
            "[EPOCH]: 0, [VAL LOSS]: 0.903356, [VAL ACCURACY]: 49.700 \n",
            "\n",
            "[EPOCH]: 1, [TRAIN LOSS]: 1.386695, [TRAIN ACCURACY]: 53.877\n",
            "[EPOCH]: 1, [VAL LOSS]: 0.812729, [VAL ACCURACY]: 54.680 \n",
            "\n",
            "[EPOCH]: 2, [TRAIN LOSS]: 1.005105, [TRAIN ACCURACY]: 60.900\n",
            "[EPOCH]: 2, [VAL LOSS]: 0.949280, [VAL ACCURACY]: 57.130 \n",
            "\n",
            "[EPOCH]: 3, [TRAIN LOSS]: 0.990089, [TRAIN ACCURACY]: 66.830\n",
            "[EPOCH]: 3, [VAL LOSS]: 0.716029, [VAL ACCURACY]: 61.920 \n",
            "\n",
            "[EPOCH]: 4, [TRAIN LOSS]: 1.019390, [TRAIN ACCURACY]: 71.050\n",
            "[EPOCH]: 4, [VAL LOSS]: 0.692875, [VAL ACCURACY]: 62.880 \n",
            "\n",
            "[EPOCH]: 5, [TRAIN LOSS]: 0.590241, [TRAIN ACCURACY]: 74.785\n",
            "[EPOCH]: 5, [VAL LOSS]: 0.619710, [VAL ACCURACY]: 64.470 \n",
            "\n",
            "[EPOCH]: 6, [TRAIN LOSS]: 0.647320, [TRAIN ACCURACY]: 78.748\n",
            "[EPOCH]: 6, [VAL LOSS]: 0.746756, [VAL ACCURACY]: 62.840 \n",
            "\n",
            "[EPOCH]: 7, [TRAIN LOSS]: 0.489165, [TRAIN ACCURACY]: 81.710\n",
            "[EPOCH]: 7, [VAL LOSS]: 0.702491, [VAL ACCURACY]: 67.670 \n",
            "\n",
            "[EPOCH]: 8, [TRAIN LOSS]: 0.498233, [TRAIN ACCURACY]: 85.332\n",
            "[EPOCH]: 8, [VAL LOSS]: 0.966510, [VAL ACCURACY]: 66.190 \n",
            "\n",
            "[EPOCH]: 9, [TRAIN LOSS]: 0.501457, [TRAIN ACCURACY]: 88.190\n",
            "[EPOCH]: 9, [VAL LOSS]: 0.795674, [VAL ACCURACY]: 66.760 \n",
            "\n",
            "[EPOCH]: 10, [TRAIN LOSS]: 0.241381, [TRAIN ACCURACY]: 91.320\n",
            "[EPOCH]: 10, [VAL LOSS]: 1.027027, [VAL ACCURACY]: 66.370 \n",
            "\n",
            "[EPOCH]: 11, [TRAIN LOSS]: 0.204724, [TRAIN ACCURACY]: 93.955\n",
            "[EPOCH]: 11, [VAL LOSS]: 1.640922, [VAL ACCURACY]: 67.410 \n",
            "\n",
            "[EPOCH]: 12, [TRAIN LOSS]: 0.241389, [TRAIN ACCURACY]: 95.975\n",
            "[EPOCH]: 12, [VAL LOSS]: 1.183215, [VAL ACCURACY]: 66.450 \n",
            "\n",
            "[EPOCH]: 13, [TRAIN LOSS]: 0.140540, [TRAIN ACCURACY]: 97.513\n",
            "[EPOCH]: 13, [VAL LOSS]: 1.069169, [VAL ACCURACY]: 69.120 \n",
            "\n",
            "[EPOCH]: 14, [TRAIN LOSS]: 0.021004, [TRAIN ACCURACY]: 99.055\n",
            "[EPOCH]: 14, [VAL LOSS]: 0.996620, [VAL ACCURACY]: 69.530 \n",
            "\n",
            "[EPOCH]: 15, [TRAIN LOSS]: 0.020815, [TRAIN ACCURACY]: 99.755\n",
            "[EPOCH]: 15, [VAL LOSS]: 1.094192, [VAL ACCURACY]: 69.830 \n",
            "\n",
            "[EPOCH]: 16, [TRAIN LOSS]: 0.014318, [TRAIN ACCURACY]: 99.963\n",
            "[EPOCH]: 16, [VAL LOSS]: 1.063901, [VAL ACCURACY]: 70.820 \n",
            "\n",
            "[EPOCH]: 17, [TRAIN LOSS]: 0.008886, [TRAIN ACCURACY]: 99.985\n",
            "[EPOCH]: 17, [VAL LOSS]: 0.981561, [VAL ACCURACY]: 70.540 \n",
            "\n",
            "[EPOCH]: 18, [TRAIN LOSS]: 0.003818, [TRAIN ACCURACY]: 100.000\n",
            "[EPOCH]: 18, [VAL LOSS]: 1.099161, [VAL ACCURACY]: 70.820 \n",
            "\n",
            "[EPOCH]: 19, [TRAIN LOSS]: 0.006107, [TRAIN ACCURACY]: 99.998\n",
            "[EPOCH]: 19, [VAL LOSS]: 1.150754, [VAL ACCURACY]: 71.020 \n",
            "\n",
            "[EPOCH]: 20, [TRAIN LOSS]: 0.005524, [TRAIN ACCURACY]: 100.000\n",
            "[EPOCH]: 20, [VAL LOSS]: 1.123023, [VAL ACCURACY]: 70.880 \n",
            "\n",
            "[EPOCH]: 21, [TRAIN LOSS]: 0.003299, [TRAIN ACCURACY]: 99.995\n",
            "[EPOCH]: 21, [VAL LOSS]: 1.174700, [VAL ACCURACY]: 70.840 \n",
            "\n",
            "[EPOCH]: 22, [TRAIN LOSS]: 0.005226, [TRAIN ACCURACY]: 100.000\n",
            "[EPOCH]: 22, [VAL LOSS]: 1.131430, [VAL ACCURACY]: 70.990 \n",
            "\n",
            "[EPOCH]: 23, [TRAIN LOSS]: 0.003342, [TRAIN ACCURACY]: 100.000\n",
            "[EPOCH]: 23, [VAL LOSS]: 1.130038, [VAL ACCURACY]: 71.090 \n",
            "\n",
            "[EPOCH]: 24, [TRAIN LOSS]: 0.001707, [TRAIN ACCURACY]: 100.000\n",
            "[EPOCH]: 24, [VAL LOSS]: 1.201100, [VAL ACCURACY]: 70.870 \n",
            "\n",
            "[EPOCH]: 25, [TRAIN LOSS]: 0.002258, [TRAIN ACCURACY]: 100.000\n",
            "[EPOCH]: 25, [VAL LOSS]: 1.188848, [VAL ACCURACY]: 70.870 \n",
            "\n",
            "[EPOCH]: 26, [TRAIN LOSS]: 0.002981, [TRAIN ACCURACY]: 100.000\n",
            "[EPOCH]: 26, [VAL LOSS]: 1.146361, [VAL ACCURACY]: 70.920 \n",
            "\n",
            "[EPOCH]: 27, [TRAIN LOSS]: 0.001297, [TRAIN ACCURACY]: 100.000\n",
            "[EPOCH]: 27, [VAL LOSS]: 1.242719, [VAL ACCURACY]: 70.890 \n",
            "\n",
            "[EPOCH]: 28, [TRAIN LOSS]: 0.004073, [TRAIN ACCURACY]: 100.000\n",
            "[EPOCH]: 28, [VAL LOSS]: 1.205125, [VAL ACCURACY]: 70.820 \n",
            "\n"
          ],
          "name": "stdout"
        }
      ]
    },
    {
      "cell_type": "markdown",
      "metadata": {
        "id": "w5wqxHGa0vZe"
      },
      "source": [
        "#### Q2.6 b Plot the the training curves (training loss vs \\# epochs, training accuracy vs # epochs) using SGD (lr 1e-3) with and without batch normalization. Comment on the difference. "
      ]
    },
    {
      "cell_type": "markdown",
      "metadata": {
        "id": "ZW0227y408ej"
      },
      "source": [
        "#### Q2.6 c. Try running the same two networks with an Adam optimizer (lr 1e-4). Plot the the training curves (training loss vs \\# epochs, training accuracy vs # epochs) with and without batch normalization. Comment on the difference. "
      ]
    },
    {
      "cell_type": "markdown",
      "metadata": {
        "id": "XeVzHHciAt-W"
      },
      "source": [
        "#### Q2.6 d Once you choose an optimizer and see that it does train, make sure your model has enough capacity by overfitting on one batch of the data set. You should be able to get 100% train accuracy. \n"
      ]
    },
    {
      "cell_type": "markdown",
      "metadata": {
        "id": "ANkTYeTWn6Mv"
      },
      "source": [
        "### Q 2.7 Add residual connections"
      ]
    },
    {
      "cell_type": "markdown",
      "metadata": {
        "id": "A55lJPET13Q7"
      },
      "source": [
        "#### Residual connections help stabilise training and lead to faster convergence. In this question you will introduce residual connections into the SimpleConvnet2 model that you built above. \n",
        "\n",
        "We will add residual connections after each block of 3 convolutional layers. Lets consider the first block of three convolutional layers. The input to this block, the so called residual, is added to the output of the block before the final batch normalization layer of that block. \n",
        "\n",
        "\n",
        "IMP NOTE: You will notice that the number of filters of these two summands are not the same. For this, you will need to use a convolution layer on the residual component, which changes the number of filters while keeping the rest of the dimensions the same. This can be achieved with a careful selection of the input_channels, output_channels, kernel_size and padding parameters. "
      ]
    },
    {
      "cell_type": "code",
      "metadata": {
        "id": "rzxWZNrmUzFT"
      },
      "source": [
        "class ResidualConvnet(nn.Module):\n",
        "    def __init__(self, input_channels, num_classes):\n",
        "        super(ResidualConvnet, self).__init__()\n",
        "        \n",
        "        # TODO\n",
        "    \n",
        "    def forward(self, x):\n",
        "        \n",
        "        # TODO \n",
        "        return output\n",
        "        "
      ],
      "execution_count": null,
      "outputs": []
    },
    {
      "cell_type": "code",
      "metadata": {
        "id": "Wn9OWZiceenh"
      },
      "source": [
        "# TODO : Initialize the model and cast to correct device\n",
        "\n",
        "# TODO : Initialize the criterion \n",
        "\n",
        "# TODO : Initialize the optimizer \n",
        "\n",
        "# TODO : Run the training loop using this model"
      ],
      "execution_count": null,
      "outputs": []
    },
    {
      "cell_type": "markdown",
      "metadata": {
        "id": "NRrWJ63c4C0f"
      },
      "source": [
        "### Q 2.8 Plot the training curves with and without the residual connection. Comment on the difference. "
      ]
    },
    {
      "cell_type": "markdown",
      "metadata": {
        "id": "1QXPnxcrx-VU"
      },
      "source": [
        "### Q2.9 Reducing overfiting \n",
        "\n"
      ]
    },
    {
      "cell_type": "markdown",
      "metadata": {
        "id": "HISbvoBh8JTJ"
      },
      "source": [
        "In the previous questions, you might have observed that there is a large difference between the training and validation losses. This is a sign that the model is overfitting. One way to combat this is by adding random transformations to the input data to make your model more robust and prevent it from memorizing the input data. \n",
        "\n",
        "Torchvision provides several transforms that you can readily apply to your data. Experiment with adding a few transforms and report your results in terms of learning curves to see if the gap between the training and validation loss reduces and try to achieve better perfomance on the validation set. "
      ]
    },
    {
      "cell_type": "code",
      "metadata": {
        "id": "0cZRQd-VK7ev"
      },
      "source": [
        "test_transform = transforms.Compose([\n",
        "                                     transforms.ToTensor(),\n",
        "                                     transforms.Normalize(\n",
        "                                         [0.4373, 0.4434, 0.4725],\n",
        "                                         [0.1201, 0.1231, 0.1052])\n",
        "                                     ])\n",
        "\n",
        "train_transform = transforms.Compose([\n",
        "                                      # TODO: Add more transforms here \n",
        "                                      transforms.ToTensor(),\n",
        "                                      transforms.Normalize(\n",
        "                                          [0.4373, 0.4434, 0.4725],\n",
        "                                          [0.1201, 0.1231, 0.1052])\n",
        "                                      ])\n"
      ],
      "execution_count": null,
      "outputs": []
    },
    {
      "cell_type": "code",
      "metadata": {
        "id": "brZrUl7mK7ez"
      },
      "source": [
        "train_dataset_w_transform  = MapDataset(train_dataset, train_transform)\n",
        "val_dataset_w_transform = MapDataset(val_dataset, test_transform)\n",
        "test_dataset_w_transform = MapDataset(test_dataset, test_transform)"
      ],
      "execution_count": null,
      "outputs": []
    },
    {
      "cell_type": "code",
      "metadata": {
        "id": "kZp6DqwfK7e1"
      },
      "source": [
        "bs = 128\n",
        "train_loader = DataLoader(train_dataset_w_transform, batch_size=bs, shuffle=True, drop_last=False)\n",
        "val_loader = DataLoader(val_dataset_w_transform, batch_size=bs, shuffle=False, drop_last=False)\n",
        "test_loader = DataLoader(test_dataset, batch_size=bs, shuffle=False, drop_last=False)"
      ],
      "execution_count": null,
      "outputs": []
    },
    {
      "cell_type": "markdown",
      "metadata": {
        "id": "xR_9tihT5Vmu"
      },
      "source": [
        "#### Use the residual network that you built above and use data augmentation to reduce the overfitting "
      ]
    },
    {
      "cell_type": "code",
      "metadata": {
        "id": "WxMLVdrUwh--"
      },
      "source": [
        "# TODO : Initialize the model and cast to correct device\n",
        "\n",
        "# TODO : Initialize the criterion \n",
        "\n",
        "# TODO : Initialize the optimizer \n",
        "\n",
        "# TODO : Run the training loop using this model"
      ],
      "execution_count": null,
      "outputs": []
    },
    {
      "cell_type": "markdown",
      "metadata": {
        "id": "O2rhPXb4nRFA"
      },
      "source": [
        "### Q 2.10  Effect of learning rate decay "
      ]
    },
    {
      "cell_type": "markdown",
      "metadata": {
        "id": "VDqvgBeptLpD"
      },
      "source": [
        "#### Here you need to change the training loop to have one additional operation - add the scheduler step at the end of each epoch. Experiment with different learning rate schedulers provided by pytorch. Report results using atleast StepLR. "
      ]
    },
    {
      "cell_type": "code",
      "metadata": {
        "id": "DoDm84bvtbYK"
      },
      "source": [
        "from torch.optim.lr_scheduler import StepLR"
      ],
      "execution_count": null,
      "outputs": []
    },
    {
      "cell_type": "code",
      "metadata": {
        "id": "nbGSCk4N57qX"
      },
      "source": [
        "def train_loop2(model, criterion, optimizer, scheduler,  train_loader, val_loader):\n",
        "    \"\"\"\n",
        "    Generic training loop\n",
        "\n",
        "    Parameters\n",
        "    ----------\n",
        "    model : Object instance of your model class \n",
        "    criterion : Loss function \n",
        "    optimizer : Instance of optimizer class of your choice \n",
        "    scheduler : Instance of scheduler class of your choice \n",
        "    train_loader : Training data loader \n",
        "    val_loader : Validation data loader\n",
        "\n",
        "    Returns\n",
        "    -------\n",
        "    train_losses : List with train loss on dataset per epoch\n",
        "    train_accuracies : List with train accuracy on dataset per epoch\n",
        "    val_losses : List with validation loss on dataset per epoch\n",
        "    val_accuracies : List with validation accuracy on dataset per epoch\n",
        "\n",
        "    \"\"\"\n",
        "    best_val = 0.0\n",
        "    train_losses = []\n",
        "    val_losses = []\n",
        "    train_accuracies = []\n",
        "    val_accuracies = []\n",
        "    max_patience = 5\n",
        "    patience_counter = 0\n",
        "\n",
        "    # Training\n",
        "    for t in tqdm(range(50)):\n",
        "\n",
        "        # TODO : Set the model to train mode        \n",
        "\n",
        "        # TODO: Loop over the training set \n",
        "\n",
        "            # TODO: Put the inputs and targets on the write device\n",
        "            \n",
        "            # TODO: Feed forward to get the logits\n",
        "\n",
        "            # TODO: Compute the loss and accuracy\n",
        "\n",
        "            # TODO: zero the gradients before running\n",
        "            # the backward pass.\n",
        "\n",
        "            # TODO: Backward pass to compute the gradient\n",
        "            # of loss w.r.t our learnable params. \n",
        "\n",
        "            # TODO: Update params\n",
        "            \n",
        "            # TODO: Keep track of accuracy and loss\n",
        "\n",
        "        \n",
        "        # Switch the model to eval mode\n",
        "        # TODO\n",
        "\n",
        "\n",
        "        with torch.no_grad():\n",
        "            # TODO: Loop over the validation set \n",
        "            \n",
        "                # TODO: Put the inputs and targets on the write device\n",
        "            \n",
        "                # TODO: Feed forward to get the logits\n",
        "\n",
        "                # TODO: Compute the loss and accuracy\n",
        "\n",
        "                # TODO: Keep track of accuracy and loss\n",
        "\n",
        "        if val_accuracies[-1] > best_val:\n",
        "          best_val = val_accuracies[-1]\n",
        "          patience_counter = 0\n",
        "\n",
        "          # TODO: Save best model, optimizer, epoch_number\n",
        "          \n",
        "        else:\n",
        "          patience_counter += 1    \n",
        "          \n",
        "          if patience_counter > max_patience: \n",
        "            break\n",
        "\n",
        "        print(\"[EPOCH]: %i, [TRAIN LOSS]: %.6f, [TRAIN ACCURACY]: %.3f\" % (t, train_losses[-1], train_accuracies[-1]))\n",
        "        print(\"[EPOCH]: %i, [VAL LOSS]: %.6f, [VAL ACCURACY]: %.3f \\n\" % (t, val_losses[-1] ,val_accuracies[-1]))\n",
        "\n",
        "        # TODO : scheduler step\n",
        "\n",
        "    return train_losses, train_accuracies, val_losses, val_accuracies"
      ],
      "execution_count": null,
      "outputs": []
    },
    {
      "cell_type": "code",
      "metadata": {
        "id": "bK1P1aU0sbJn"
      },
      "source": [
        "# TODO : Initialize the model and cast to correct device\n",
        "\n",
        "# TODO : Initialize the criterion \n",
        "\n",
        "# TODO : Initialize the optimizer \n",
        "\n",
        "# TODO : Initialize the \n",
        "\n",
        "# TODO : Run the training loop using this model"
      ],
      "execution_count": null,
      "outputs": []
    },
    {
      "cell_type": "markdown",
      "metadata": {
        "id": "cG8bhd5V97iJ"
      },
      "source": [
        "### Q2.11 Hyper parameter tuning \n"
      ]
    },
    {
      "cell_type": "markdown",
      "metadata": {
        "id": "G05PHYHJ-DF2"
      },
      "source": [
        "#### Experiment with a range of learning rates and optimizers, as well as the parameter in the learning rate scheduler for StepLR. Report the following plots: \n",
        "\n",
        "1. Learning curves (training and validation loss for 5 different learning rate with SGD optimizer)\n",
        "2. Learning curves (training and validation loss for 5 different learning rate with Adam optimizer)\n",
        "3. Learning curves (training and validation loss for 5 different gamma parameter for the StepLR)\n",
        "\n",
        "\n",
        "\n"
      ]
    },
    {
      "cell_type": "markdown",
      "metadata": {
        "id": "JiLexWP36qp6"
      },
      "source": [
        "### Q2.12 Load the model that gave you best validation accuracy and report results on the test set. "
      ]
    },
    {
      "cell_type": "code",
      "metadata": {
        "id": "Hz-m4xZU_nV8"
      },
      "source": [
        ""
      ],
      "execution_count": null,
      "outputs": []
    }
  ]
}