{
  "nbformat": 4,
  "nbformat_minor": 0,
  "metadata": {
    "accelerator": "GPU",
    "colab": {
      "name": "Q2.ipynb",
      "provenance": [],
      "collapsed_sections": [
        "y8Aj_LrAhwRP",
        "3-3MVXNOhdCc",
        "iV26KJLDrzhx"
      ],
      "toc_visible": true,
      "include_colab_link": true
    },
    "kernelspec": {
      "display_name": "Python 3",
      "language": "python",
      "name": "python3"
    },
    "language_info": {
      "codemirror_mode": {
        "name": "ipython",
        "version": 3
      },
      "file_extension": ".py",
      "mimetype": "text/x-python",
      "name": "python",
      "nbconvert_exporter": "python",
      "pygments_lexer": "ipython3",
      "version": "3.7.0"
    },
    "widgets": {
      "application/vnd.jupyter.widget-state+json": {
        "a332e764ca1b4d14ac0b8d0c38751351": {
          "model_module": "@jupyter-widgets/controls",
          "model_name": "HBoxModel",
          "state": {
            "_view_name": "HBoxView",
            "_dom_classes": [],
            "_model_name": "HBoxModel",
            "_view_module": "@jupyter-widgets/controls",
            "_model_module_version": "1.5.0",
            "_view_count": null,
            "_view_module_version": "1.5.0",
            "box_style": "",
            "layout": "IPY_MODEL_781664aafa5140878c77d0b9ce1a51f8",
            "_model_module": "@jupyter-widgets/controls",
            "children": [
              "IPY_MODEL_36d75b446dda4e40b7633a5ba9fd8ca5",
              "IPY_MODEL_2132799fa93641b1acfcbc59cf1f1935"
            ]
          }
        },
        "781664aafa5140878c77d0b9ce1a51f8": {
          "model_module": "@jupyter-widgets/base",
          "model_name": "LayoutModel",
          "state": {
            "_view_name": "LayoutView",
            "grid_template_rows": null,
            "right": null,
            "justify_content": null,
            "_view_module": "@jupyter-widgets/base",
            "overflow": null,
            "_model_module_version": "1.2.0",
            "_view_count": null,
            "flex_flow": null,
            "width": null,
            "min_width": null,
            "border": null,
            "align_items": null,
            "bottom": null,
            "_model_module": "@jupyter-widgets/base",
            "top": null,
            "grid_column": null,
            "overflow_y": null,
            "overflow_x": null,
            "grid_auto_flow": null,
            "grid_area": null,
            "grid_template_columns": null,
            "flex": null,
            "_model_name": "LayoutModel",
            "justify_items": null,
            "grid_row": null,
            "max_height": null,
            "align_content": null,
            "visibility": null,
            "align_self": null,
            "height": null,
            "min_height": null,
            "padding": null,
            "grid_auto_rows": null,
            "grid_gap": null,
            "max_width": null,
            "order": null,
            "_view_module_version": "1.2.0",
            "grid_template_areas": null,
            "object_position": null,
            "object_fit": null,
            "grid_auto_columns": null,
            "margin": null,
            "display": null,
            "left": null
          }
        },
        "36d75b446dda4e40b7633a5ba9fd8ca5": {
          "model_module": "@jupyter-widgets/controls",
          "model_name": "FloatProgressModel",
          "state": {
            "_view_name": "ProgressView",
            "style": "IPY_MODEL_e400a7af4e09410cbf4bf09c750ae3c6",
            "_dom_classes": [],
            "description": "",
            "_model_name": "FloatProgressModel",
            "bar_style": "info",
            "max": 1,
            "_view_module": "@jupyter-widgets/controls",
            "_model_module_version": "1.5.0",
            "value": 1,
            "_view_count": null,
            "_view_module_version": "1.5.0",
            "orientation": "horizontal",
            "min": 0,
            "description_tooltip": null,
            "_model_module": "@jupyter-widgets/controls",
            "layout": "IPY_MODEL_2ec4b727447a4b3dbe86ea12412130ce"
          }
        },
        "2132799fa93641b1acfcbc59cf1f1935": {
          "model_module": "@jupyter-widgets/controls",
          "model_name": "HTMLModel",
          "state": {
            "_view_name": "HTMLView",
            "style": "IPY_MODEL_9f0322e5d627481d8b41d659154c9a64",
            "_dom_classes": [],
            "description": "",
            "_model_name": "HTMLModel",
            "placeholder": "​",
            "_view_module": "@jupyter-widgets/controls",
            "_model_module_version": "1.5.0",
            "value": " 170500096/? [00:20&lt;00:00, 51223131.69it/s]",
            "_view_count": null,
            "_view_module_version": "1.5.0",
            "description_tooltip": null,
            "_model_module": "@jupyter-widgets/controls",
            "layout": "IPY_MODEL_b1e39c64371248cb8eb2102415d5b98d"
          }
        },
        "e400a7af4e09410cbf4bf09c750ae3c6": {
          "model_module": "@jupyter-widgets/controls",
          "model_name": "ProgressStyleModel",
          "state": {
            "_view_name": "StyleView",
            "_model_name": "ProgressStyleModel",
            "description_width": "initial",
            "_view_module": "@jupyter-widgets/base",
            "_model_module_version": "1.5.0",
            "_view_count": null,
            "_view_module_version": "1.2.0",
            "bar_color": null,
            "_model_module": "@jupyter-widgets/controls"
          }
        },
        "2ec4b727447a4b3dbe86ea12412130ce": {
          "model_module": "@jupyter-widgets/base",
          "model_name": "LayoutModel",
          "state": {
            "_view_name": "LayoutView",
            "grid_template_rows": null,
            "right": null,
            "justify_content": null,
            "_view_module": "@jupyter-widgets/base",
            "overflow": null,
            "_model_module_version": "1.2.0",
            "_view_count": null,
            "flex_flow": null,
            "width": null,
            "min_width": null,
            "border": null,
            "align_items": null,
            "bottom": null,
            "_model_module": "@jupyter-widgets/base",
            "top": null,
            "grid_column": null,
            "overflow_y": null,
            "overflow_x": null,
            "grid_auto_flow": null,
            "grid_area": null,
            "grid_template_columns": null,
            "flex": null,
            "_model_name": "LayoutModel",
            "justify_items": null,
            "grid_row": null,
            "max_height": null,
            "align_content": null,
            "visibility": null,
            "align_self": null,
            "height": null,
            "min_height": null,
            "padding": null,
            "grid_auto_rows": null,
            "grid_gap": null,
            "max_width": null,
            "order": null,
            "_view_module_version": "1.2.0",
            "grid_template_areas": null,
            "object_position": null,
            "object_fit": null,
            "grid_auto_columns": null,
            "margin": null,
            "display": null,
            "left": null
          }
        },
        "9f0322e5d627481d8b41d659154c9a64": {
          "model_module": "@jupyter-widgets/controls",
          "model_name": "DescriptionStyleModel",
          "state": {
            "_view_name": "StyleView",
            "_model_name": "DescriptionStyleModel",
            "description_width": "",
            "_view_module": "@jupyter-widgets/base",
            "_model_module_version": "1.5.0",
            "_view_count": null,
            "_view_module_version": "1.2.0",
            "_model_module": "@jupyter-widgets/controls"
          }
        },
        "b1e39c64371248cb8eb2102415d5b98d": {
          "model_module": "@jupyter-widgets/base",
          "model_name": "LayoutModel",
          "state": {
            "_view_name": "LayoutView",
            "grid_template_rows": null,
            "right": null,
            "justify_content": null,
            "_view_module": "@jupyter-widgets/base",
            "overflow": null,
            "_model_module_version": "1.2.0",
            "_view_count": null,
            "flex_flow": null,
            "width": null,
            "min_width": null,
            "border": null,
            "align_items": null,
            "bottom": null,
            "_model_module": "@jupyter-widgets/base",
            "top": null,
            "grid_column": null,
            "overflow_y": null,
            "overflow_x": null,
            "grid_auto_flow": null,
            "grid_area": null,
            "grid_template_columns": null,
            "flex": null,
            "_model_name": "LayoutModel",
            "justify_items": null,
            "grid_row": null,
            "max_height": null,
            "align_content": null,
            "visibility": null,
            "align_self": null,
            "height": null,
            "min_height": null,
            "padding": null,
            "grid_auto_rows": null,
            "grid_gap": null,
            "max_width": null,
            "order": null,
            "_view_module_version": "1.2.0",
            "grid_template_areas": null,
            "object_position": null,
            "object_fit": null,
            "grid_auto_columns": null,
            "margin": null,
            "display": null,
            "left": null
          }
        },
        "7095c8b6d83246c192dbf20a5f6900ba": {
          "model_module": "@jupyter-widgets/controls",
          "model_name": "HBoxModel",
          "state": {
            "_view_name": "HBoxView",
            "_dom_classes": [],
            "_model_name": "HBoxModel",
            "_view_module": "@jupyter-widgets/controls",
            "_model_module_version": "1.5.0",
            "_view_count": null,
            "_view_module_version": "1.5.0",
            "box_style": "",
            "layout": "IPY_MODEL_10238ebadcae411fa63e8d7788224836",
            "_model_module": "@jupyter-widgets/controls",
            "children": [
              "IPY_MODEL_d33d7d8eb76e437fb3d760dca974dafc",
              "IPY_MODEL_79a402b9eb8c4439a387588ae4a307d5"
            ]
          }
        },
        "10238ebadcae411fa63e8d7788224836": {
          "model_module": "@jupyter-widgets/base",
          "model_name": "LayoutModel",
          "state": {
            "_view_name": "LayoutView",
            "grid_template_rows": null,
            "right": null,
            "justify_content": null,
            "_view_module": "@jupyter-widgets/base",
            "overflow": null,
            "_model_module_version": "1.2.0",
            "_view_count": null,
            "flex_flow": null,
            "width": null,
            "min_width": null,
            "border": null,
            "align_items": null,
            "bottom": null,
            "_model_module": "@jupyter-widgets/base",
            "top": null,
            "grid_column": null,
            "overflow_y": null,
            "overflow_x": null,
            "grid_auto_flow": null,
            "grid_area": null,
            "grid_template_columns": null,
            "flex": null,
            "_model_name": "LayoutModel",
            "justify_items": null,
            "grid_row": null,
            "max_height": null,
            "align_content": null,
            "visibility": null,
            "align_self": null,
            "height": null,
            "min_height": null,
            "padding": null,
            "grid_auto_rows": null,
            "grid_gap": null,
            "max_width": null,
            "order": null,
            "_view_module_version": "1.2.0",
            "grid_template_areas": null,
            "object_position": null,
            "object_fit": null,
            "grid_auto_columns": null,
            "margin": null,
            "display": null,
            "left": null
          }
        },
        "d33d7d8eb76e437fb3d760dca974dafc": {
          "model_module": "@jupyter-widgets/controls",
          "model_name": "FloatProgressModel",
          "state": {
            "_view_name": "ProgressView",
            "style": "IPY_MODEL_603cdd8adf1f4bd4a4590d1522685bfa",
            "_dom_classes": [],
            "description": " 12%",
            "_model_name": "FloatProgressModel",
            "bar_style": "danger",
            "max": 50,
            "_view_module": "@jupyter-widgets/controls",
            "_model_module_version": "1.5.0",
            "value": 6,
            "_view_count": null,
            "_view_module_version": "1.5.0",
            "orientation": "horizontal",
            "min": 0,
            "description_tooltip": null,
            "_model_module": "@jupyter-widgets/controls",
            "layout": "IPY_MODEL_6d215d6ce0ae4ff4a234d95315461706"
          }
        },
        "79a402b9eb8c4439a387588ae4a307d5": {
          "model_module": "@jupyter-widgets/controls",
          "model_name": "HTMLModel",
          "state": {
            "_view_name": "HTMLView",
            "style": "IPY_MODEL_1750d12669064150b7186be51adc65cd",
            "_dom_classes": [],
            "description": "",
            "_model_name": "HTMLModel",
            "placeholder": "​",
            "_view_module": "@jupyter-widgets/controls",
            "_model_module_version": "1.5.0",
            "value": " 6/50 [07:22&lt;46:29, 63.39s/it]",
            "_view_count": null,
            "_view_module_version": "1.5.0",
            "description_tooltip": null,
            "_model_module": "@jupyter-widgets/controls",
            "layout": "IPY_MODEL_9c6ff06dff2048a09485e239844d321d"
          }
        },
        "603cdd8adf1f4bd4a4590d1522685bfa": {
          "model_module": "@jupyter-widgets/controls",
          "model_name": "ProgressStyleModel",
          "state": {
            "_view_name": "StyleView",
            "_model_name": "ProgressStyleModel",
            "description_width": "initial",
            "_view_module": "@jupyter-widgets/base",
            "_model_module_version": "1.5.0",
            "_view_count": null,
            "_view_module_version": "1.2.0",
            "bar_color": null,
            "_model_module": "@jupyter-widgets/controls"
          }
        },
        "6d215d6ce0ae4ff4a234d95315461706": {
          "model_module": "@jupyter-widgets/base",
          "model_name": "LayoutModel",
          "state": {
            "_view_name": "LayoutView",
            "grid_template_rows": null,
            "right": null,
            "justify_content": null,
            "_view_module": "@jupyter-widgets/base",
            "overflow": null,
            "_model_module_version": "1.2.0",
            "_view_count": null,
            "flex_flow": null,
            "width": null,
            "min_width": null,
            "border": null,
            "align_items": null,
            "bottom": null,
            "_model_module": "@jupyter-widgets/base",
            "top": null,
            "grid_column": null,
            "overflow_y": null,
            "overflow_x": null,
            "grid_auto_flow": null,
            "grid_area": null,
            "grid_template_columns": null,
            "flex": null,
            "_model_name": "LayoutModel",
            "justify_items": null,
            "grid_row": null,
            "max_height": null,
            "align_content": null,
            "visibility": null,
            "align_self": null,
            "height": null,
            "min_height": null,
            "padding": null,
            "grid_auto_rows": null,
            "grid_gap": null,
            "max_width": null,
            "order": null,
            "_view_module_version": "1.2.0",
            "grid_template_areas": null,
            "object_position": null,
            "object_fit": null,
            "grid_auto_columns": null,
            "margin": null,
            "display": null,
            "left": null
          }
        },
        "1750d12669064150b7186be51adc65cd": {
          "model_module": "@jupyter-widgets/controls",
          "model_name": "DescriptionStyleModel",
          "state": {
            "_view_name": "StyleView",
            "_model_name": "DescriptionStyleModel",
            "description_width": "",
            "_view_module": "@jupyter-widgets/base",
            "_model_module_version": "1.5.0",
            "_view_count": null,
            "_view_module_version": "1.2.0",
            "_model_module": "@jupyter-widgets/controls"
          }
        },
        "9c6ff06dff2048a09485e239844d321d": {
          "model_module": "@jupyter-widgets/base",
          "model_name": "LayoutModel",
          "state": {
            "_view_name": "LayoutView",
            "grid_template_rows": null,
            "right": null,
            "justify_content": null,
            "_view_module": "@jupyter-widgets/base",
            "overflow": null,
            "_model_module_version": "1.2.0",
            "_view_count": null,
            "flex_flow": null,
            "width": null,
            "min_width": null,
            "border": null,
            "align_items": null,
            "bottom": null,
            "_model_module": "@jupyter-widgets/base",
            "top": null,
            "grid_column": null,
            "overflow_y": null,
            "overflow_x": null,
            "grid_auto_flow": null,
            "grid_area": null,
            "grid_template_columns": null,
            "flex": null,
            "_model_name": "LayoutModel",
            "justify_items": null,
            "grid_row": null,
            "max_height": null,
            "align_content": null,
            "visibility": null,
            "align_self": null,
            "height": null,
            "min_height": null,
            "padding": null,
            "grid_auto_rows": null,
            "grid_gap": null,
            "max_width": null,
            "order": null,
            "_view_module_version": "1.2.0",
            "grid_template_areas": null,
            "object_position": null,
            "object_fit": null,
            "grid_auto_columns": null,
            "margin": null,
            "display": null,
            "left": null
          }
        },
        "fa31271c54894dc79113d6b064f54361": {
          "model_module": "@jupyter-widgets/controls",
          "model_name": "HBoxModel",
          "state": {
            "_view_name": "HBoxView",
            "_dom_classes": [],
            "_model_name": "HBoxModel",
            "_view_module": "@jupyter-widgets/controls",
            "_model_module_version": "1.5.0",
            "_view_count": null,
            "_view_module_version": "1.5.0",
            "box_style": "",
            "layout": "IPY_MODEL_5d974a4722c547a9a4358f656f6c10e6",
            "_model_module": "@jupyter-widgets/controls",
            "children": [
              "IPY_MODEL_a2205d69112f481f86d8f44eb2f76961",
              "IPY_MODEL_864f71d17a9743ed86716f21cd1eebfb"
            ]
          }
        },
        "5d974a4722c547a9a4358f656f6c10e6": {
          "model_module": "@jupyter-widgets/base",
          "model_name": "LayoutModel",
          "state": {
            "_view_name": "LayoutView",
            "grid_template_rows": null,
            "right": null,
            "justify_content": null,
            "_view_module": "@jupyter-widgets/base",
            "overflow": null,
            "_model_module_version": "1.2.0",
            "_view_count": null,
            "flex_flow": null,
            "width": null,
            "min_width": null,
            "border": null,
            "align_items": null,
            "bottom": null,
            "_model_module": "@jupyter-widgets/base",
            "top": null,
            "grid_column": null,
            "overflow_y": null,
            "overflow_x": null,
            "grid_auto_flow": null,
            "grid_area": null,
            "grid_template_columns": null,
            "flex": null,
            "_model_name": "LayoutModel",
            "justify_items": null,
            "grid_row": null,
            "max_height": null,
            "align_content": null,
            "visibility": null,
            "align_self": null,
            "height": null,
            "min_height": null,
            "padding": null,
            "grid_auto_rows": null,
            "grid_gap": null,
            "max_width": null,
            "order": null,
            "_view_module_version": "1.2.0",
            "grid_template_areas": null,
            "object_position": null,
            "object_fit": null,
            "grid_auto_columns": null,
            "margin": null,
            "display": null,
            "left": null
          }
        },
        "a2205d69112f481f86d8f44eb2f76961": {
          "model_module": "@jupyter-widgets/controls",
          "model_name": "FloatProgressModel",
          "state": {
            "_view_name": "ProgressView",
            "style": "IPY_MODEL_60c9a3d2344e41408a0cd3e9539dd284",
            "_dom_classes": [],
            "description": " 68%",
            "_model_name": "FloatProgressModel",
            "bar_style": "danger",
            "max": 50,
            "_view_module": "@jupyter-widgets/controls",
            "_model_module_version": "1.5.0",
            "value": 34,
            "_view_count": null,
            "_view_module_version": "1.5.0",
            "orientation": "horizontal",
            "min": 0,
            "description_tooltip": null,
            "_model_module": "@jupyter-widgets/controls",
            "layout": "IPY_MODEL_55c8cf11a6a3410aa560229704f161c7"
          }
        },
        "864f71d17a9743ed86716f21cd1eebfb": {
          "model_module": "@jupyter-widgets/controls",
          "model_name": "HTMLModel",
          "state": {
            "_view_name": "HTMLView",
            "style": "IPY_MODEL_178019171d90430bab00db95a8b88cb1",
            "_dom_classes": [],
            "description": "",
            "_model_name": "HTMLModel",
            "placeholder": "​",
            "_view_module": "@jupyter-widgets/controls",
            "_model_module_version": "1.5.0",
            "value": " 34/50 [43:35&lt;19:54, 74.68s/it]",
            "_view_count": null,
            "_view_module_version": "1.5.0",
            "description_tooltip": null,
            "_model_module": "@jupyter-widgets/controls",
            "layout": "IPY_MODEL_a772d77edf4c4f4f89efc645560b885e"
          }
        },
        "60c9a3d2344e41408a0cd3e9539dd284": {
          "model_module": "@jupyter-widgets/controls",
          "model_name": "ProgressStyleModel",
          "state": {
            "_view_name": "StyleView",
            "_model_name": "ProgressStyleModel",
            "description_width": "initial",
            "_view_module": "@jupyter-widgets/base",
            "_model_module_version": "1.5.0",
            "_view_count": null,
            "_view_module_version": "1.2.0",
            "bar_color": null,
            "_model_module": "@jupyter-widgets/controls"
          }
        },
        "55c8cf11a6a3410aa560229704f161c7": {
          "model_module": "@jupyter-widgets/base",
          "model_name": "LayoutModel",
          "state": {
            "_view_name": "LayoutView",
            "grid_template_rows": null,
            "right": null,
            "justify_content": null,
            "_view_module": "@jupyter-widgets/base",
            "overflow": null,
            "_model_module_version": "1.2.0",
            "_view_count": null,
            "flex_flow": null,
            "width": null,
            "min_width": null,
            "border": null,
            "align_items": null,
            "bottom": null,
            "_model_module": "@jupyter-widgets/base",
            "top": null,
            "grid_column": null,
            "overflow_y": null,
            "overflow_x": null,
            "grid_auto_flow": null,
            "grid_area": null,
            "grid_template_columns": null,
            "flex": null,
            "_model_name": "LayoutModel",
            "justify_items": null,
            "grid_row": null,
            "max_height": null,
            "align_content": null,
            "visibility": null,
            "align_self": null,
            "height": null,
            "min_height": null,
            "padding": null,
            "grid_auto_rows": null,
            "grid_gap": null,
            "max_width": null,
            "order": null,
            "_view_module_version": "1.2.0",
            "grid_template_areas": null,
            "object_position": null,
            "object_fit": null,
            "grid_auto_columns": null,
            "margin": null,
            "display": null,
            "left": null
          }
        },
        "178019171d90430bab00db95a8b88cb1": {
          "model_module": "@jupyter-widgets/controls",
          "model_name": "DescriptionStyleModel",
          "state": {
            "_view_name": "StyleView",
            "_model_name": "DescriptionStyleModel",
            "description_width": "",
            "_view_module": "@jupyter-widgets/base",
            "_model_module_version": "1.5.0",
            "_view_count": null,
            "_view_module_version": "1.2.0",
            "_model_module": "@jupyter-widgets/controls"
          }
        },
        "a772d77edf4c4f4f89efc645560b885e": {
          "model_module": "@jupyter-widgets/base",
          "model_name": "LayoutModel",
          "state": {
            "_view_name": "LayoutView",
            "grid_template_rows": null,
            "right": null,
            "justify_content": null,
            "_view_module": "@jupyter-widgets/base",
            "overflow": null,
            "_model_module_version": "1.2.0",
            "_view_count": null,
            "flex_flow": null,
            "width": null,
            "min_width": null,
            "border": null,
            "align_items": null,
            "bottom": null,
            "_model_module": "@jupyter-widgets/base",
            "top": null,
            "grid_column": null,
            "overflow_y": null,
            "overflow_x": null,
            "grid_auto_flow": null,
            "grid_area": null,
            "grid_template_columns": null,
            "flex": null,
            "_model_name": "LayoutModel",
            "justify_items": null,
            "grid_row": null,
            "max_height": null,
            "align_content": null,
            "visibility": null,
            "align_self": null,
            "height": null,
            "min_height": null,
            "padding": null,
            "grid_auto_rows": null,
            "grid_gap": null,
            "max_width": null,
            "order": null,
            "_view_module_version": "1.2.0",
            "grid_template_areas": null,
            "object_position": null,
            "object_fit": null,
            "grid_auto_columns": null,
            "margin": null,
            "display": null,
            "left": null
          }
        },
        "3520a40260074cbab16b463fa2a34cd1": {
          "model_module": "@jupyter-widgets/controls",
          "model_name": "HBoxModel",
          "state": {
            "_view_name": "HBoxView",
            "_dom_classes": [],
            "_model_name": "HBoxModel",
            "_view_module": "@jupyter-widgets/controls",
            "_model_module_version": "1.5.0",
            "_view_count": null,
            "_view_module_version": "1.5.0",
            "box_style": "",
            "layout": "IPY_MODEL_ca93bfad1d3a420b9663e231f6485dcb",
            "_model_module": "@jupyter-widgets/controls",
            "children": [
              "IPY_MODEL_70b8349d51ab4726a1f7b583555acce6",
              "IPY_MODEL_384006ab5ac84894855efabc8ac59d4c"
            ]
          }
        },
        "ca93bfad1d3a420b9663e231f6485dcb": {
          "model_module": "@jupyter-widgets/base",
          "model_name": "LayoutModel",
          "state": {
            "_view_name": "LayoutView",
            "grid_template_rows": null,
            "right": null,
            "justify_content": null,
            "_view_module": "@jupyter-widgets/base",
            "overflow": null,
            "_model_module_version": "1.2.0",
            "_view_count": null,
            "flex_flow": null,
            "width": null,
            "min_width": null,
            "border": null,
            "align_items": null,
            "bottom": null,
            "_model_module": "@jupyter-widgets/base",
            "top": null,
            "grid_column": null,
            "overflow_y": null,
            "overflow_x": null,
            "grid_auto_flow": null,
            "grid_area": null,
            "grid_template_columns": null,
            "flex": null,
            "_model_name": "LayoutModel",
            "justify_items": null,
            "grid_row": null,
            "max_height": null,
            "align_content": null,
            "visibility": null,
            "align_self": null,
            "height": null,
            "min_height": null,
            "padding": null,
            "grid_auto_rows": null,
            "grid_gap": null,
            "max_width": null,
            "order": null,
            "_view_module_version": "1.2.0",
            "grid_template_areas": null,
            "object_position": null,
            "object_fit": null,
            "grid_auto_columns": null,
            "margin": null,
            "display": null,
            "left": null
          }
        },
        "70b8349d51ab4726a1f7b583555acce6": {
          "model_module": "@jupyter-widgets/controls",
          "model_name": "FloatProgressModel",
          "state": {
            "_view_name": "ProgressView",
            "style": "IPY_MODEL_c9277c6b3ca1416bae51f8f6b5117624",
            "_dom_classes": [],
            "description": " 54%",
            "_model_name": "FloatProgressModel",
            "bar_style": "danger",
            "max": 50,
            "_view_module": "@jupyter-widgets/controls",
            "_model_module_version": "1.5.0",
            "value": 27,
            "_view_count": null,
            "_view_module_version": "1.5.0",
            "orientation": "horizontal",
            "min": 0,
            "description_tooltip": null,
            "_model_module": "@jupyter-widgets/controls",
            "layout": "IPY_MODEL_817be717cd1748ce930bc4adff8920ba"
          }
        },
        "384006ab5ac84894855efabc8ac59d4c": {
          "model_module": "@jupyter-widgets/controls",
          "model_name": "HTMLModel",
          "state": {
            "_view_name": "HTMLView",
            "style": "IPY_MODEL_0b41986a045e470b8086db9199c6c46e",
            "_dom_classes": [],
            "description": "",
            "_model_name": "HTMLModel",
            "placeholder": "​",
            "_view_module": "@jupyter-widgets/controls",
            "_model_module_version": "1.5.0",
            "value": " 27/50 [30:01&lt;24:37, 64.24s/it]",
            "_view_count": null,
            "_view_module_version": "1.5.0",
            "description_tooltip": null,
            "_model_module": "@jupyter-widgets/controls",
            "layout": "IPY_MODEL_e825ef25fdfd40419cbe76274ddaec5b"
          }
        },
        "c9277c6b3ca1416bae51f8f6b5117624": {
          "model_module": "@jupyter-widgets/controls",
          "model_name": "ProgressStyleModel",
          "state": {
            "_view_name": "StyleView",
            "_model_name": "ProgressStyleModel",
            "description_width": "initial",
            "_view_module": "@jupyter-widgets/base",
            "_model_module_version": "1.5.0",
            "_view_count": null,
            "_view_module_version": "1.2.0",
            "bar_color": null,
            "_model_module": "@jupyter-widgets/controls"
          }
        },
        "817be717cd1748ce930bc4adff8920ba": {
          "model_module": "@jupyter-widgets/base",
          "model_name": "LayoutModel",
          "state": {
            "_view_name": "LayoutView",
            "grid_template_rows": null,
            "right": null,
            "justify_content": null,
            "_view_module": "@jupyter-widgets/base",
            "overflow": null,
            "_model_module_version": "1.2.0",
            "_view_count": null,
            "flex_flow": null,
            "width": null,
            "min_width": null,
            "border": null,
            "align_items": null,
            "bottom": null,
            "_model_module": "@jupyter-widgets/base",
            "top": null,
            "grid_column": null,
            "overflow_y": null,
            "overflow_x": null,
            "grid_auto_flow": null,
            "grid_area": null,
            "grid_template_columns": null,
            "flex": null,
            "_model_name": "LayoutModel",
            "justify_items": null,
            "grid_row": null,
            "max_height": null,
            "align_content": null,
            "visibility": null,
            "align_self": null,
            "height": null,
            "min_height": null,
            "padding": null,
            "grid_auto_rows": null,
            "grid_gap": null,
            "max_width": null,
            "order": null,
            "_view_module_version": "1.2.0",
            "grid_template_areas": null,
            "object_position": null,
            "object_fit": null,
            "grid_auto_columns": null,
            "margin": null,
            "display": null,
            "left": null
          }
        },
        "0b41986a045e470b8086db9199c6c46e": {
          "model_module": "@jupyter-widgets/controls",
          "model_name": "DescriptionStyleModel",
          "state": {
            "_view_name": "StyleView",
            "_model_name": "DescriptionStyleModel",
            "description_width": "",
            "_view_module": "@jupyter-widgets/base",
            "_model_module_version": "1.5.0",
            "_view_count": null,
            "_view_module_version": "1.2.0",
            "_model_module": "@jupyter-widgets/controls"
          }
        },
        "e825ef25fdfd40419cbe76274ddaec5b": {
          "model_module": "@jupyter-widgets/base",
          "model_name": "LayoutModel",
          "state": {
            "_view_name": "LayoutView",
            "grid_template_rows": null,
            "right": null,
            "justify_content": null,
            "_view_module": "@jupyter-widgets/base",
            "overflow": null,
            "_model_module_version": "1.2.0",
            "_view_count": null,
            "flex_flow": null,
            "width": null,
            "min_width": null,
            "border": null,
            "align_items": null,
            "bottom": null,
            "_model_module": "@jupyter-widgets/base",
            "top": null,
            "grid_column": null,
            "overflow_y": null,
            "overflow_x": null,
            "grid_auto_flow": null,
            "grid_area": null,
            "grid_template_columns": null,
            "flex": null,
            "_model_name": "LayoutModel",
            "justify_items": null,
            "grid_row": null,
            "max_height": null,
            "align_content": null,
            "visibility": null,
            "align_self": null,
            "height": null,
            "min_height": null,
            "padding": null,
            "grid_auto_rows": null,
            "grid_gap": null,
            "max_width": null,
            "order": null,
            "_view_module_version": "1.2.0",
            "grid_template_areas": null,
            "object_position": null,
            "object_fit": null,
            "grid_auto_columns": null,
            "margin": null,
            "display": null,
            "left": null
          }
        },
        "f9f3519fdafc4d3c9b844fe1bffd89d4": {
          "model_module": "@jupyter-widgets/controls",
          "model_name": "HBoxModel",
          "state": {
            "_view_name": "HBoxView",
            "_dom_classes": [],
            "_model_name": "HBoxModel",
            "_view_module": "@jupyter-widgets/controls",
            "_model_module_version": "1.5.0",
            "_view_count": null,
            "_view_module_version": "1.5.0",
            "box_style": "",
            "layout": "IPY_MODEL_4cf76f62990e40c984356cc2fac3c34c",
            "_model_module": "@jupyter-widgets/controls",
            "children": [
              "IPY_MODEL_c5225ad7b56949ed8403db6dfcfbd153",
              "IPY_MODEL_762bd67bf9304ccd9666dca14254c880"
            ]
          }
        },
        "4cf76f62990e40c984356cc2fac3c34c": {
          "model_module": "@jupyter-widgets/base",
          "model_name": "LayoutModel",
          "state": {
            "_view_name": "LayoutView",
            "grid_template_rows": null,
            "right": null,
            "justify_content": null,
            "_view_module": "@jupyter-widgets/base",
            "overflow": null,
            "_model_module_version": "1.2.0",
            "_view_count": null,
            "flex_flow": null,
            "width": null,
            "min_width": null,
            "border": null,
            "align_items": null,
            "bottom": null,
            "_model_module": "@jupyter-widgets/base",
            "top": null,
            "grid_column": null,
            "overflow_y": null,
            "overflow_x": null,
            "grid_auto_flow": null,
            "grid_area": null,
            "grid_template_columns": null,
            "flex": null,
            "_model_name": "LayoutModel",
            "justify_items": null,
            "grid_row": null,
            "max_height": null,
            "align_content": null,
            "visibility": null,
            "align_self": null,
            "height": null,
            "min_height": null,
            "padding": null,
            "grid_auto_rows": null,
            "grid_gap": null,
            "max_width": null,
            "order": null,
            "_view_module_version": "1.2.0",
            "grid_template_areas": null,
            "object_position": null,
            "object_fit": null,
            "grid_auto_columns": null,
            "margin": null,
            "display": null,
            "left": null
          }
        },
        "c5225ad7b56949ed8403db6dfcfbd153": {
          "model_module": "@jupyter-widgets/controls",
          "model_name": "FloatProgressModel",
          "state": {
            "_view_name": "ProgressView",
            "style": "IPY_MODEL_c634761a266a409eb2dd08878095dcc6",
            "_dom_classes": [],
            "description": " 54%",
            "_model_name": "FloatProgressModel",
            "bar_style": "danger",
            "max": 50,
            "_view_module": "@jupyter-widgets/controls",
            "_model_module_version": "1.5.0",
            "value": 27,
            "_view_count": null,
            "_view_module_version": "1.5.0",
            "orientation": "horizontal",
            "min": 0,
            "description_tooltip": null,
            "_model_module": "@jupyter-widgets/controls",
            "layout": "IPY_MODEL_9fc2699c4b6d4c2e94c52e0db77390c9"
          }
        },
        "762bd67bf9304ccd9666dca14254c880": {
          "model_module": "@jupyter-widgets/controls",
          "model_name": "HTMLModel",
          "state": {
            "_view_name": "HTMLView",
            "style": "IPY_MODEL_edf7eb4a54ed4ef886e2e4e6e4190910",
            "_dom_classes": [],
            "description": "",
            "_model_name": "HTMLModel",
            "placeholder": "​",
            "_view_module": "@jupyter-widgets/controls",
            "_model_module_version": "1.5.0",
            "value": " 27/50 [38:25&lt;31:35, 82.43s/it]",
            "_view_count": null,
            "_view_module_version": "1.5.0",
            "description_tooltip": null,
            "_model_module": "@jupyter-widgets/controls",
            "layout": "IPY_MODEL_9294b67d035046ca87c1dff684bc9bd1"
          }
        },
        "c634761a266a409eb2dd08878095dcc6": {
          "model_module": "@jupyter-widgets/controls",
          "model_name": "ProgressStyleModel",
          "state": {
            "_view_name": "StyleView",
            "_model_name": "ProgressStyleModel",
            "description_width": "initial",
            "_view_module": "@jupyter-widgets/base",
            "_model_module_version": "1.5.0",
            "_view_count": null,
            "_view_module_version": "1.2.0",
            "bar_color": null,
            "_model_module": "@jupyter-widgets/controls"
          }
        },
        "9fc2699c4b6d4c2e94c52e0db77390c9": {
          "model_module": "@jupyter-widgets/base",
          "model_name": "LayoutModel",
          "state": {
            "_view_name": "LayoutView",
            "grid_template_rows": null,
            "right": null,
            "justify_content": null,
            "_view_module": "@jupyter-widgets/base",
            "overflow": null,
            "_model_module_version": "1.2.0",
            "_view_count": null,
            "flex_flow": null,
            "width": null,
            "min_width": null,
            "border": null,
            "align_items": null,
            "bottom": null,
            "_model_module": "@jupyter-widgets/base",
            "top": null,
            "grid_column": null,
            "overflow_y": null,
            "overflow_x": null,
            "grid_auto_flow": null,
            "grid_area": null,
            "grid_template_columns": null,
            "flex": null,
            "_model_name": "LayoutModel",
            "justify_items": null,
            "grid_row": null,
            "max_height": null,
            "align_content": null,
            "visibility": null,
            "align_self": null,
            "height": null,
            "min_height": null,
            "padding": null,
            "grid_auto_rows": null,
            "grid_gap": null,
            "max_width": null,
            "order": null,
            "_view_module_version": "1.2.0",
            "grid_template_areas": null,
            "object_position": null,
            "object_fit": null,
            "grid_auto_columns": null,
            "margin": null,
            "display": null,
            "left": null
          }
        },
        "edf7eb4a54ed4ef886e2e4e6e4190910": {
          "model_module": "@jupyter-widgets/controls",
          "model_name": "DescriptionStyleModel",
          "state": {
            "_view_name": "StyleView",
            "_model_name": "DescriptionStyleModel",
            "description_width": "",
            "_view_module": "@jupyter-widgets/base",
            "_model_module_version": "1.5.0",
            "_view_count": null,
            "_view_module_version": "1.2.0",
            "_model_module": "@jupyter-widgets/controls"
          }
        },
        "9294b67d035046ca87c1dff684bc9bd1": {
          "model_module": "@jupyter-widgets/base",
          "model_name": "LayoutModel",
          "state": {
            "_view_name": "LayoutView",
            "grid_template_rows": null,
            "right": null,
            "justify_content": null,
            "_view_module": "@jupyter-widgets/base",
            "overflow": null,
            "_model_module_version": "1.2.0",
            "_view_count": null,
            "flex_flow": null,
            "width": null,
            "min_width": null,
            "border": null,
            "align_items": null,
            "bottom": null,
            "_model_module": "@jupyter-widgets/base",
            "top": null,
            "grid_column": null,
            "overflow_y": null,
            "overflow_x": null,
            "grid_auto_flow": null,
            "grid_area": null,
            "grid_template_columns": null,
            "flex": null,
            "_model_name": "LayoutModel",
            "justify_items": null,
            "grid_row": null,
            "max_height": null,
            "align_content": null,
            "visibility": null,
            "align_self": null,
            "height": null,
            "min_height": null,
            "padding": null,
            "grid_auto_rows": null,
            "grid_gap": null,
            "max_width": null,
            "order": null,
            "_view_module_version": "1.2.0",
            "grid_template_areas": null,
            "object_position": null,
            "object_fit": null,
            "grid_auto_columns": null,
            "margin": null,
            "display": null,
            "left": null
          }
        },
        "0bbd30d7c4cf4de6a420cf7464a1a9d2": {
          "model_module": "@jupyter-widgets/controls",
          "model_name": "HBoxModel",
          "state": {
            "_view_name": "HBoxView",
            "_dom_classes": [],
            "_model_name": "HBoxModel",
            "_view_module": "@jupyter-widgets/controls",
            "_model_module_version": "1.5.0",
            "_view_count": null,
            "_view_module_version": "1.5.0",
            "box_style": "",
            "layout": "IPY_MODEL_62e4bff53bc7427faf5f8315941eae9b",
            "_model_module": "@jupyter-widgets/controls",
            "children": [
              "IPY_MODEL_6a0fe7a6b3b9458a9723b57a1f6e3ccd",
              "IPY_MODEL_a4bc62ca7225415bbb09af5de3f56461"
            ]
          }
        },
        "62e4bff53bc7427faf5f8315941eae9b": {
          "model_module": "@jupyter-widgets/base",
          "model_name": "LayoutModel",
          "state": {
            "_view_name": "LayoutView",
            "grid_template_rows": null,
            "right": null,
            "justify_content": null,
            "_view_module": "@jupyter-widgets/base",
            "overflow": null,
            "_model_module_version": "1.2.0",
            "_view_count": null,
            "flex_flow": null,
            "width": null,
            "min_width": null,
            "border": null,
            "align_items": null,
            "bottom": null,
            "_model_module": "@jupyter-widgets/base",
            "top": null,
            "grid_column": null,
            "overflow_y": null,
            "overflow_x": null,
            "grid_auto_flow": null,
            "grid_area": null,
            "grid_template_columns": null,
            "flex": null,
            "_model_name": "LayoutModel",
            "justify_items": null,
            "grid_row": null,
            "max_height": null,
            "align_content": null,
            "visibility": null,
            "align_self": null,
            "height": null,
            "min_height": null,
            "padding": null,
            "grid_auto_rows": null,
            "grid_gap": null,
            "max_width": null,
            "order": null,
            "_view_module_version": "1.2.0",
            "grid_template_areas": null,
            "object_position": null,
            "object_fit": null,
            "grid_auto_columns": null,
            "margin": null,
            "display": null,
            "left": null
          }
        },
        "6a0fe7a6b3b9458a9723b57a1f6e3ccd": {
          "model_module": "@jupyter-widgets/controls",
          "model_name": "FloatProgressModel",
          "state": {
            "_view_name": "ProgressView",
            "style": "IPY_MODEL_8d1945fb11304ba78bfdd0e282986068",
            "_dom_classes": [],
            "description": " 80%",
            "_model_name": "FloatProgressModel",
            "bar_style": "danger",
            "max": 50,
            "_view_module": "@jupyter-widgets/controls",
            "_model_module_version": "1.5.0",
            "value": 40,
            "_view_count": null,
            "_view_module_version": "1.5.0",
            "orientation": "horizontal",
            "min": 0,
            "description_tooltip": null,
            "_model_module": "@jupyter-widgets/controls",
            "layout": "IPY_MODEL_6f382d4cd6a84ac6958351c0902d713a"
          }
        },
        "a4bc62ca7225415bbb09af5de3f56461": {
          "model_module": "@jupyter-widgets/controls",
          "model_name": "HTMLModel",
          "state": {
            "_view_name": "HTMLView",
            "style": "IPY_MODEL_c8d89d79ca4847abb655b0e8ad4b1090",
            "_dom_classes": [],
            "description": "",
            "_model_name": "HTMLModel",
            "placeholder": "​",
            "_view_module": "@jupyter-widgets/controls",
            "_model_module_version": "1.5.0",
            "value": " 40/50 [56:29&lt;13:48, 82.80s/it]",
            "_view_count": null,
            "_view_module_version": "1.5.0",
            "description_tooltip": null,
            "_model_module": "@jupyter-widgets/controls",
            "layout": "IPY_MODEL_44160d7311944960a8c0be3603b6e4f1"
          }
        },
        "8d1945fb11304ba78bfdd0e282986068": {
          "model_module": "@jupyter-widgets/controls",
          "model_name": "ProgressStyleModel",
          "state": {
            "_view_name": "StyleView",
            "_model_name": "ProgressStyleModel",
            "description_width": "initial",
            "_view_module": "@jupyter-widgets/base",
            "_model_module_version": "1.5.0",
            "_view_count": null,
            "_view_module_version": "1.2.0",
            "bar_color": null,
            "_model_module": "@jupyter-widgets/controls"
          }
        },
        "6f382d4cd6a84ac6958351c0902d713a": {
          "model_module": "@jupyter-widgets/base",
          "model_name": "LayoutModel",
          "state": {
            "_view_name": "LayoutView",
            "grid_template_rows": null,
            "right": null,
            "justify_content": null,
            "_view_module": "@jupyter-widgets/base",
            "overflow": null,
            "_model_module_version": "1.2.0",
            "_view_count": null,
            "flex_flow": null,
            "width": null,
            "min_width": null,
            "border": null,
            "align_items": null,
            "bottom": null,
            "_model_module": "@jupyter-widgets/base",
            "top": null,
            "grid_column": null,
            "overflow_y": null,
            "overflow_x": null,
            "grid_auto_flow": null,
            "grid_area": null,
            "grid_template_columns": null,
            "flex": null,
            "_model_name": "LayoutModel",
            "justify_items": null,
            "grid_row": null,
            "max_height": null,
            "align_content": null,
            "visibility": null,
            "align_self": null,
            "height": null,
            "min_height": null,
            "padding": null,
            "grid_auto_rows": null,
            "grid_gap": null,
            "max_width": null,
            "order": null,
            "_view_module_version": "1.2.0",
            "grid_template_areas": null,
            "object_position": null,
            "object_fit": null,
            "grid_auto_columns": null,
            "margin": null,
            "display": null,
            "left": null
          }
        },
        "c8d89d79ca4847abb655b0e8ad4b1090": {
          "model_module": "@jupyter-widgets/controls",
          "model_name": "DescriptionStyleModel",
          "state": {
            "_view_name": "StyleView",
            "_model_name": "DescriptionStyleModel",
            "description_width": "",
            "_view_module": "@jupyter-widgets/base",
            "_model_module_version": "1.5.0",
            "_view_count": null,
            "_view_module_version": "1.2.0",
            "_model_module": "@jupyter-widgets/controls"
          }
        },
        "44160d7311944960a8c0be3603b6e4f1": {
          "model_module": "@jupyter-widgets/base",
          "model_name": "LayoutModel",
          "state": {
            "_view_name": "LayoutView",
            "grid_template_rows": null,
            "right": null,
            "justify_content": null,
            "_view_module": "@jupyter-widgets/base",
            "overflow": null,
            "_model_module_version": "1.2.0",
            "_view_count": null,
            "flex_flow": null,
            "width": null,
            "min_width": null,
            "border": null,
            "align_items": null,
            "bottom": null,
            "_model_module": "@jupyter-widgets/base",
            "top": null,
            "grid_column": null,
            "overflow_y": null,
            "overflow_x": null,
            "grid_auto_flow": null,
            "grid_area": null,
            "grid_template_columns": null,
            "flex": null,
            "_model_name": "LayoutModel",
            "justify_items": null,
            "grid_row": null,
            "max_height": null,
            "align_content": null,
            "visibility": null,
            "align_self": null,
            "height": null,
            "min_height": null,
            "padding": null,
            "grid_auto_rows": null,
            "grid_gap": null,
            "max_width": null,
            "order": null,
            "_view_module_version": "1.2.0",
            "grid_template_areas": null,
            "object_position": null,
            "object_fit": null,
            "grid_auto_columns": null,
            "margin": null,
            "display": null,
            "left": null
          }
        },
        "90201b3c14f44e9ba5a6c9c5633e95ea": {
          "model_module": "@jupyter-widgets/controls",
          "model_name": "HBoxModel",
          "state": {
            "_view_name": "HBoxView",
            "_dom_classes": [],
            "_model_name": "HBoxModel",
            "_view_module": "@jupyter-widgets/controls",
            "_model_module_version": "1.5.0",
            "_view_count": null,
            "_view_module_version": "1.5.0",
            "box_style": "",
            "layout": "IPY_MODEL_747b7e2ab08b487889adb825341d3959",
            "_model_module": "@jupyter-widgets/controls",
            "children": [
              "IPY_MODEL_9e7cc63b18e34e17b4ef47d2cfa246d8",
              "IPY_MODEL_0119e56100674024a93e4f702857caff"
            ]
          }
        },
        "747b7e2ab08b487889adb825341d3959": {
          "model_module": "@jupyter-widgets/base",
          "model_name": "LayoutModel",
          "state": {
            "_view_name": "LayoutView",
            "grid_template_rows": null,
            "right": null,
            "justify_content": null,
            "_view_module": "@jupyter-widgets/base",
            "overflow": null,
            "_model_module_version": "1.2.0",
            "_view_count": null,
            "flex_flow": null,
            "width": null,
            "min_width": null,
            "border": null,
            "align_items": null,
            "bottom": null,
            "_model_module": "@jupyter-widgets/base",
            "top": null,
            "grid_column": null,
            "overflow_y": null,
            "overflow_x": null,
            "grid_auto_flow": null,
            "grid_area": null,
            "grid_template_columns": null,
            "flex": null,
            "_model_name": "LayoutModel",
            "justify_items": null,
            "grid_row": null,
            "max_height": null,
            "align_content": null,
            "visibility": null,
            "align_self": null,
            "height": null,
            "min_height": null,
            "padding": null,
            "grid_auto_rows": null,
            "grid_gap": null,
            "max_width": null,
            "order": null,
            "_view_module_version": "1.2.0",
            "grid_template_areas": null,
            "object_position": null,
            "object_fit": null,
            "grid_auto_columns": null,
            "margin": null,
            "display": null,
            "left": null
          }
        },
        "9e7cc63b18e34e17b4ef47d2cfa246d8": {
          "model_module": "@jupyter-widgets/controls",
          "model_name": "FloatProgressModel",
          "state": {
            "_view_name": "ProgressView",
            "style": "IPY_MODEL_34088f1228c8413e9482a900b255ce19",
            "_dom_classes": [],
            "description": " 52%",
            "_model_name": "FloatProgressModel",
            "bar_style": "danger",
            "max": 50,
            "_view_module": "@jupyter-widgets/controls",
            "_model_module_version": "1.5.0",
            "value": 26,
            "_view_count": null,
            "_view_module_version": "1.5.0",
            "orientation": "horizontal",
            "min": 0,
            "description_tooltip": null,
            "_model_module": "@jupyter-widgets/controls",
            "layout": "IPY_MODEL_271129b70dc8423aba6a278d5adc8c27"
          }
        },
        "0119e56100674024a93e4f702857caff": {
          "model_module": "@jupyter-widgets/controls",
          "model_name": "HTMLModel",
          "state": {
            "_view_name": "HTMLView",
            "style": "IPY_MODEL_ab881fad9e254e57b502d775cf9606e1",
            "_dom_classes": [],
            "description": "",
            "_model_name": "HTMLModel",
            "placeholder": "​",
            "_view_module": "@jupyter-widgets/controls",
            "_model_module_version": "1.5.0",
            "value": " 26/50 [37:13&lt;33:04, 82.69s/it]",
            "_view_count": null,
            "_view_module_version": "1.5.0",
            "description_tooltip": null,
            "_model_module": "@jupyter-widgets/controls",
            "layout": "IPY_MODEL_bd776e6cf62844738f3a9a99e6c768a0"
          }
        },
        "34088f1228c8413e9482a900b255ce19": {
          "model_module": "@jupyter-widgets/controls",
          "model_name": "ProgressStyleModel",
          "state": {
            "_view_name": "StyleView",
            "_model_name": "ProgressStyleModel",
            "description_width": "initial",
            "_view_module": "@jupyter-widgets/base",
            "_model_module_version": "1.5.0",
            "_view_count": null,
            "_view_module_version": "1.2.0",
            "bar_color": null,
            "_model_module": "@jupyter-widgets/controls"
          }
        },
        "271129b70dc8423aba6a278d5adc8c27": {
          "model_module": "@jupyter-widgets/base",
          "model_name": "LayoutModel",
          "state": {
            "_view_name": "LayoutView",
            "grid_template_rows": null,
            "right": null,
            "justify_content": null,
            "_view_module": "@jupyter-widgets/base",
            "overflow": null,
            "_model_module_version": "1.2.0",
            "_view_count": null,
            "flex_flow": null,
            "width": null,
            "min_width": null,
            "border": null,
            "align_items": null,
            "bottom": null,
            "_model_module": "@jupyter-widgets/base",
            "top": null,
            "grid_column": null,
            "overflow_y": null,
            "overflow_x": null,
            "grid_auto_flow": null,
            "grid_area": null,
            "grid_template_columns": null,
            "flex": null,
            "_model_name": "LayoutModel",
            "justify_items": null,
            "grid_row": null,
            "max_height": null,
            "align_content": null,
            "visibility": null,
            "align_self": null,
            "height": null,
            "min_height": null,
            "padding": null,
            "grid_auto_rows": null,
            "grid_gap": null,
            "max_width": null,
            "order": null,
            "_view_module_version": "1.2.0",
            "grid_template_areas": null,
            "object_position": null,
            "object_fit": null,
            "grid_auto_columns": null,
            "margin": null,
            "display": null,
            "left": null
          }
        },
        "ab881fad9e254e57b502d775cf9606e1": {
          "model_module": "@jupyter-widgets/controls",
          "model_name": "DescriptionStyleModel",
          "state": {
            "_view_name": "StyleView",
            "_model_name": "DescriptionStyleModel",
            "description_width": "",
            "_view_module": "@jupyter-widgets/base",
            "_model_module_version": "1.5.0",
            "_view_count": null,
            "_view_module_version": "1.2.0",
            "_model_module": "@jupyter-widgets/controls"
          }
        },
        "bd776e6cf62844738f3a9a99e6c768a0": {
          "model_module": "@jupyter-widgets/base",
          "model_name": "LayoutModel",
          "state": {
            "_view_name": "LayoutView",
            "grid_template_rows": null,
            "right": null,
            "justify_content": null,
            "_view_module": "@jupyter-widgets/base",
            "overflow": null,
            "_model_module_version": "1.2.0",
            "_view_count": null,
            "flex_flow": null,
            "width": null,
            "min_width": null,
            "border": null,
            "align_items": null,
            "bottom": null,
            "_model_module": "@jupyter-widgets/base",
            "top": null,
            "grid_column": null,
            "overflow_y": null,
            "overflow_x": null,
            "grid_auto_flow": null,
            "grid_area": null,
            "grid_template_columns": null,
            "flex": null,
            "_model_name": "LayoutModel",
            "justify_items": null,
            "grid_row": null,
            "max_height": null,
            "align_content": null,
            "visibility": null,
            "align_self": null,
            "height": null,
            "min_height": null,
            "padding": null,
            "grid_auto_rows": null,
            "grid_gap": null,
            "max_width": null,
            "order": null,
            "_view_module_version": "1.2.0",
            "grid_template_areas": null,
            "object_position": null,
            "object_fit": null,
            "grid_auto_columns": null,
            "margin": null,
            "display": null,
            "left": null
          }
        }
      }
    }
  },
  "cells": [
    {
      "cell_type": "markdown",
      "metadata": {
        "id": "view-in-github",
        "colab_type": "text"
      },
      "source": [
        "<a href=\"https://colab.research.google.com/github/ZichangYe/NBA-Analytics/blob/master/Q2_10.ipynb\" target=\"_parent\"><img src=\"https://colab.research.google.com/assets/colab-badge.svg\" alt=\"Open In Colab\"/></a>"
      ]
    },
    {
      "cell_type": "markdown",
      "metadata": {
        "id": "JccQsl2OtAOi"
      },
      "source": [
        "### Imports "
      ]
    },
    {
      "cell_type": "code",
      "metadata": {
        "ExecuteTime": {
          "end_time": "2020-10-12T21:23:02.741734Z",
          "start_time": "2020-10-12T21:23:02.010707Z"
        },
        "id": "5elHgLPSoiT7",
        "outputId": "f99c06f3-ccde-4235-a964-05a5eebe4de0",
        "colab": {
          "base_uri": "https://localhost:8080/",
          "height": 34
        }
      },
      "source": [
        "import torch \n",
        "import torchvision\n",
        "import torch.nn as nn\n",
        "import torch.nn.functional as F \n",
        "from IPython.display import Image \n",
        "from torchvision import transforms\n",
        "import matplotlib.pyplot as plt\n",
        "import random\n",
        "from torch.utils.data import DataLoader\n",
        "from tqdm.auto import tqdm\n",
        "import torch.optim as optim\n",
        "import numpy as np\n",
        "import matplotlib.pyplot as plt\n",
        "import datetime\n",
        "today_date = datetime.datetime.today()\n",
        "\n",
        "device = torch.device(\"cuda\" if torch.cuda.is_available() else \"cpu\")\n",
        "seed = 12345\n",
        "random.seed(seed)\n",
        "torch.manual_seed(seed)"
      ],
      "execution_count": 1,
      "outputs": [
        {
          "output_type": "execute_result",
          "data": {
            "text/plain": [
              "<torch._C.Generator at 0x7fc15dd205a0>"
            ]
          },
          "metadata": {
            "tags": []
          },
          "execution_count": 1
        }
      ]
    },
    {
      "cell_type": "markdown",
      "metadata": {
        "id": "y8Aj_LrAhwRP"
      },
      "source": [
        "#### Mount your google drive so you can save model checkpoints, and report your test results on the final best model after hyperparameter tuning"
      ]
    },
    {
      "cell_type": "code",
      "metadata": {
        "ExecuteTime": {
          "end_time": "2020-10-12T21:23:31.609516Z",
          "start_time": "2020-10-12T21:23:31.596532Z"
        },
        "id": "utx0ySGqQbha",
        "outputId": "d4a0e8fb-08ed-4814-ec6a-3e8a42202ccd",
        "colab": {
          "base_uri": "https://localhost:8080/",
          "height": 34
        }
      },
      "source": [
        "from google.colab import drive\n",
        "drive.mount('/content/drive')"
      ],
      "execution_count": 2,
      "outputs": [
        {
          "output_type": "stream",
          "text": [
            "Mounted at /content/drive\n"
          ],
          "name": "stdout"
        }
      ]
    },
    {
      "cell_type": "markdown",
      "metadata": {
        "id": "zqzOqBsvs9kA"
      },
      "source": [
        "### Data loading "
      ]
    },
    {
      "cell_type": "markdown",
      "metadata": {
        "id": "3-3MVXNOhdCc"
      },
      "source": [
        "##### Run the following cells to load the dataset. Setting download=True will download it for you."
      ]
    },
    {
      "cell_type": "code",
      "metadata": {
        "id": "8rb7Ng7_VcwL",
        "outputId": "1abef38b-2342-4466-93a3-5fd154b66fc2",
        "colab": {
          "base_uri": "https://localhost:8080/",
          "height": 100,
          "referenced_widgets": [
            "a332e764ca1b4d14ac0b8d0c38751351",
            "781664aafa5140878c77d0b9ce1a51f8",
            "36d75b446dda4e40b7633a5ba9fd8ca5",
            "2132799fa93641b1acfcbc59cf1f1935",
            "e400a7af4e09410cbf4bf09c750ae3c6",
            "2ec4b727447a4b3dbe86ea12412130ce",
            "9f0322e5d627481d8b41d659154c9a64",
            "b1e39c64371248cb8eb2102415d5b98d"
          ]
        }
      },
      "source": [
        "cifar10_train = torchvision.datasets.CIFAR10(root='./cifar10', \n",
        "                                             train=True, \n",
        "                                             transform=None, \n",
        "                                             target_transform=None,\n",
        "                                             download=True)\n",
        "cifar10_test = torchvision.datasets.CIFAR10(root='./cifar10', \n",
        "                                             train=False, \n",
        "                                             transform=None, \n",
        "                                             target_transform=None,\n",
        "                                             download=True)\n",
        "\n",
        "# Divides the dataset into train and val so that we can use the val to choose our hyperparameters\n",
        "train_dataset, val_dataset = torch.utils.data.random_split(cifar10_train, [40000, 10000], \n",
        "                                                           generator=torch.Generator().manual_seed(12345))\n",
        "test_dataset = cifar10_test"
      ],
      "execution_count": 3,
      "outputs": [
        {
          "output_type": "stream",
          "text": [
            "Downloading https://www.cs.toronto.edu/~kriz/cifar-10-python.tar.gz to ./cifar10/cifar-10-python.tar.gz\n"
          ],
          "name": "stdout"
        },
        {
          "output_type": "display_data",
          "data": {
            "application/vnd.jupyter.widget-view+json": {
              "model_id": "a332e764ca1b4d14ac0b8d0c38751351",
              "version_minor": 0,
              "version_major": 2
            },
            "text/plain": [
              "HBox(children=(FloatProgress(value=1.0, bar_style='info', max=1.0), HTML(value='')))"
            ]
          },
          "metadata": {
            "tags": []
          }
        },
        {
          "output_type": "stream",
          "text": [
            "Extracting ./cifar10/cifar-10-python.tar.gz to ./cifar10\n",
            "Files already downloaded and verified\n"
          ],
          "name": "stdout"
        }
      ]
    },
    {
      "cell_type": "code",
      "metadata": {
        "id": "J_NzhpK8KvQC"
      },
      "source": [
        "# Helper code to support adding different transforms on the dataset lazily after downloading the dataset\n",
        "# From https://discuss.pytorch.org/t/apply-different-transform-data-augmentation-to-train-and-validation/63580/5\n",
        "class MapDataset(torch.utils.data.Dataset):\n",
        "    \"\"\"\n",
        "    Given a dataset, creates a dataset which applies a mapping function\n",
        "    to its items (lazily, only when an item is called).\n",
        "\n",
        "    Note that data is not cloned/copied from the initial dataset.\n",
        "    \"\"\"\n",
        "\n",
        "    def __init__(self, dataset, map_fn):\n",
        "        self.dataset = dataset\n",
        "        self.map = map_fn\n",
        "\n",
        "    def __getitem__(self, index):\n",
        "        if self.map:     \n",
        "            x = self.map(self.dataset[index][0]) \n",
        "        else:     \n",
        "            x = self.dataset[index][0]  \n",
        "        y = self.dataset[index][1]         \n",
        "        return x, y\n",
        "\n",
        "    def __len__(self):\n",
        "        return len(self.dataset)"
      ],
      "execution_count": 4,
      "outputs": []
    },
    {
      "cell_type": "markdown",
      "metadata": {
        "id": "MMbXzcUiKc7e"
      },
      "source": [
        "#### Standard transforms to apply on images - Convert to tensors and normalize with mean and std. These are the basic transforms that you will always apply. The mean and std have been pre calculated on the training set. "
      ]
    },
    {
      "cell_type": "code",
      "metadata": {
        "id": "LWEKU9xQKbkW"
      },
      "source": [
        "# Notice that we apply the same mean and std normalization calculated on train, to both the train and test datasets.\n",
        "test_transform = transforms.Compose([\n",
        "                                     transforms.ToTensor(),\n",
        "                                     transforms.Normalize(\n",
        "                                         [0.4373, 0.4434, 0.4725],\n",
        "                                         [0.1201, 0.1231, 0.1052])\n",
        "                                     ])\n",
        "\n",
        "train_transform = transforms.Compose([\n",
        "                                      transforms.ToTensor(),\n",
        "                                      transforms.Normalize(\n",
        "                                          [0.4373, 0.4434, 0.4725],\n",
        "                                          [0.1201, 0.1231, 0.1052])\n",
        "                                      ])\n"
      ],
      "execution_count": 5,
      "outputs": []
    },
    {
      "cell_type": "code",
      "metadata": {
        "id": "TrDIxTs2JwbO"
      },
      "source": [
        "train_dataset_w_transform  = MapDataset(train_dataset, train_transform)\n",
        "val_dataset_w_transform = MapDataset(val_dataset, test_transform)\n",
        "test_dataset_w_transform = MapDataset(test_dataset, test_transform)"
      ],
      "execution_count": 6,
      "outputs": []
    },
    {
      "cell_type": "code",
      "metadata": {
        "id": "4LcExDS1tyjI"
      },
      "source": [
        "bs = 128\n",
        "torch.backends.cudnn.benchmark = True\n",
        "train_loader = DataLoader(train_dataset_w_transform, batch_size=bs, shuffle=True, drop_last=False,num_workers=10, pin_memory=True)\n",
        "val_loader = DataLoader(val_dataset_w_transform, batch_size=bs, shuffle=False, drop_last=False,num_workers=10, pin_memory=True)\n",
        "test_loader = DataLoader(test_dataset, batch_size=bs, shuffle=False, drop_last=False,num_workers=10, pin_memory=True)"
      ],
      "execution_count": 7,
      "outputs": []
    },
    {
      "cell_type": "markdown",
      "metadata": {
        "id": "pXLFsEihoMTn"
      },
      "source": [
        "### Q 2.1 Training loop"
      ]
    },
    {
      "cell_type": "markdown",
      "metadata": {
        "id": "ksECLwMqkgj_"
      },
      "source": [
        "In this question, fill in the missing parts to build a generic training loop that returns the train and validation losses and accuracies. The #TODOs will guide you through the key points and you should fill some code for each #TODO. You might need to add some additional code for bookkeeping the losses and accuracies"
      ]
    },
    {
      "cell_type": "code",
      "metadata": {
        "id": "GnmWg9P9N5U_"
      },
      "source": [
        "def train_loop(model, criterion, optimizer,  train_loader, val_loader):\n",
        "    \"\"\"\n",
        "    Generic training loop\n",
        "\n",
        "    Parameters\n",
        "    ----------\n",
        "    model : Object instance of your model class \n",
        "    criterion : Loss function \n",
        "    optimizer : Instance of optimizer class of your choice \n",
        "    train_loader : Training data loader \n",
        "    val_loader : Validation data loader\n",
        "\n",
        "    Returns\n",
        "    -------\n",
        "    train_losses : List with train loss on dataset per epoch\n",
        "    train_accuracies : List with train accuracy on dataset per epoch\n",
        "    val_losses : List with validation loss on dataset per epoch\n",
        "    val_accuracies : List with validation accuracy on dataset per epoch\n",
        "\n",
        "    \"\"\"\n",
        "    best_val = 0.0\n",
        "    train_losses = []\n",
        "    val_losses = []\n",
        "    train_accuracies = []\n",
        "    val_accuracies = []\n",
        "    max_patience = 5\n",
        "    patience_counter = 0\n",
        "    # Training\n",
        "    for t in tqdm(range(50)):\n",
        "        # TODO : Set the model to train mode        \n",
        "        model.train()\n",
        "        train_correct = 0\n",
        "        val_correct = 0\n",
        "        # TODO: Loop over the training set \n",
        "        for batch_idx, (data, target) in enumerate(train_loader):\n",
        "            # TODO: Put the inputs and targets on the write device\n",
        "            data, target = data.to(device), target.to(device)\n",
        "            # TODO: Feed forward to get the logits\n",
        "            output = model(data)\n",
        "            # TODO: Compute the loss and accuracy\n",
        "            train_loss = criterion(output, target)\n",
        "            train_pred = output.data.max(1, keepdim=True)[1]\n",
        "            train_correct += train_pred.eq(target.data.view_as(train_pred)).cpu().sum().item()\n",
        "            train_accuracy = 100. * train_correct/len(train_loader.dataset)\n",
        "            # print('Training Accuracy: {}'.format(train_accuracy))\n",
        "            # TODO: zero the gradients before running\n",
        "            optimizer.zero_grad()\n",
        "            # the backward pass.\n",
        "            \n",
        "            # TODO: Backward pass to compute the gradient\n",
        "            # of loss w.r.t our learnable params. \n",
        "            train_loss.backward()\n",
        "            # TODO: Update params\n",
        "            optimizer.step()\n",
        "            # TODO: Keep track of accuracy and loss\n",
        "        train_losses.append(train_loss)\n",
        "        train_accuracies.append(train_accuracy)\n",
        "        \n",
        "        # TODO: Switch the model to eval mode\n",
        "        model.eval()\n",
        "\n",
        "        with torch.no_grad():\n",
        "            # TODO: Loop over the validation set \n",
        "            for batch_idx, (data, target) in enumerate(val_loader):\n",
        "                # TODO: Put the inputs and targets on the write device\n",
        "                data, target = data.to(device), target.to(device)\n",
        "                # TODO: Feed forward to get the logits\n",
        "                output = model(data)\n",
        "                # TODO: Compute the loss and accuracy\n",
        "                val_loss = criterion(output, target)\n",
        "                val_pred = output.data.max(1, keepdim=True)[1]\n",
        "                val_correct += val_pred.eq(target.data.view_as(val_pred)).cpu().sum().item()\n",
        "                val_accuracy = 100. * val_correct/len(val_loader.dataset)\n",
        "                # print('Validation Accuracy: {}'.format(val_accuracy))\n",
        "     \n",
        "                # TODO: Keep track of accuracy and loss\n",
        "            val_losses.append(val_loss)\n",
        "            val_accuracies.append(val_accuracy)              \n",
        "        if val_accuracies[-1] > best_val:\n",
        "          best_val = val_accuracies[-1]\n",
        "          patience_counter = 0\n",
        "\n",
        "          # TODO: Save best model, optimizer, epoch_number\n",
        "          best_model = model\n",
        "          best_optimizer = optimizer\n",
        "          best_epoch_number = t\n",
        "        else:\n",
        "          patience_counter += 1    \n",
        "          if patience_counter > max_patience: \n",
        "            break\n",
        "\n",
        "        print(\"[EPOCH]: %i, [TRAIN LOSS]: %.6f, [TRAIN ACCURACY]: %.3f\" % (t, train_losses[-1], train_accuracies[-1]))\n",
        "        print(\"[EPOCH]: %i, [VAL LOSS]: %.6f, [VAL ACCURACY]: %.3f \\n\" % (t, val_losses[-1] ,val_accuracies[-1]))\n",
        "\n",
        "    return train_losses, train_accuracies, val_losses, val_accuracies"
      ],
      "execution_count": 8,
      "outputs": []
    },
    {
      "cell_type": "code",
      "metadata": {
        "id": "wnmT-hwW2dFL"
      },
      "source": [
        "def save_model(model_name, model, train_losses, train_accuracies, val_losses, val_accuracies):\n",
        "  with open('/content/drive/My Drive/{}_{}.txt'.format(model_name, today_date), 'w') as writefile:\n",
        "    writefile.write(\"train_accuracies: \\n\")\n",
        "    writefile.writelines(str(accuracy) +', \\n' for accuracy in train_accuracies)\n",
        "    writefile.write('\\n')\n",
        "    writefile.write(\"train_losses: \\n\")\n",
        "    writefile.writelines(str(loss) +', \\n' for loss in train_losses)\n",
        "    writefile.write('\\n')\n",
        "    writefile.write(\"val_accuracies: \\n\")\n",
        "    writefile.writelines(str(accuracy) +', \\n' for accuracy in val_accuracies)\n",
        "    writefile.write('\\n')\n",
        "    writefile.write(\"val_losses: \\n\")\n",
        "    writefile.writelines(str(loss) +', \\n' for loss in val_losses)\n",
        "    writefile.write('\\n')\n",
        "\n",
        "  # save models\n",
        "  model_save_name = 'model_{}_{}.pt'.format(model_name,today_date)\n",
        "  path = F\"/content/drive/My Drive/{model_save_name}\" \n",
        "  torch.save(model.state_dict(), path)\n",
        "  \n",
        "  return None"
      ],
      "execution_count": 9,
      "outputs": []
    },
    {
      "cell_type": "code",
      "metadata": {
        "id": "Ht3Nloff7LqR"
      },
      "source": [
        "\n"
      ],
      "execution_count": null,
      "outputs": []
    },
    {
      "cell_type": "markdown",
      "metadata": {
        "id": "0sdCTYUouY4o"
      },
      "source": [
        "### Q 2.2 Shallow convolutional network. "
      ]
    },
    {
      "cell_type": "code",
      "metadata": {
        "id": "FKqYI2qxp95J"
      },
      "source": [
        "class View(nn.Module):\n",
        "    def __init__(self, shape):\n",
        "      super().__init__()\n",
        "      self.shape = shape\n",
        "\n",
        "    def forward(self, x):\n",
        "        return x.view(*self.shape)"
      ],
      "execution_count": 10,
      "outputs": []
    },
    {
      "cell_type": "code",
      "metadata": {
        "id": "FDHE0lOgpF0W"
      },
      "source": [
        "ShallowNet =  nn.Sequential(\n",
        "      nn.Conv2d(in_channels = 3, out_channels = 64, kernel_size=5, padding=2),\n",
        "      nn.ReLU(),\n",
        "      nn.MaxPool2d(kernel_size=2),\n",
        "      nn.Conv2d(in_channels = 64, out_channels = 128, kernel_size=3, padding=1),\n",
        "      nn.ReLU(),\n",
        "      nn.MaxPool2d(kernel_size=2),\n",
        "      nn.Conv2d(in_channels = 128, out_channels = 256, kernel_size=3, padding=1),\n",
        "      nn.ReLU(),\n",
        "      nn.MaxPool2d(kernel_size=8),\n",
        "      View((-1,256)),\n",
        "      nn.Linear(256, 10),\n",
        ")"
      ],
      "execution_count": 11,
      "outputs": []
    },
    {
      "cell_type": "markdown",
      "metadata": {
        "id": "iV26KJLDrzhx"
      },
      "source": [
        "#### Write the object oriented version of ShallowNet"
      ]
    },
    {
      "cell_type": "code",
      "metadata": {
        "id": "H8YygdvnuqDM"
      },
      "source": [
        "class ShallowConvnet(nn.Module):\n",
        "    def __init__(self, input_channels, num_classes):\n",
        "        \"\"\"\n",
        "\n",
        "        Parameters\n",
        "        ----------\n",
        "        input_channels : Number of input channels\n",
        "        num_classes : Number of classes for the final prediction \n",
        "        \"\"\"\n",
        "        super(ShallowConvnet, self).__init__()\n",
        "        self.input_channels = input_channels\n",
        "        # TODO\n",
        "        self.network = nn.Sequential(\n",
        "            nn.Conv2d(in_channels = input_channels, out_channels = 64, kernel_size=5, padding=2),\n",
        "            nn.ReLU(),\n",
        "            nn.MaxPool2d(kernel_size=2),\n",
        "            nn.Conv2d(in_channels = 64, out_channels = 128, kernel_size=3, padding=1),\n",
        "            nn.ReLU(),\n",
        "            nn.MaxPool2d(kernel_size=2),\n",
        "            nn.Conv2d(in_channels = 128, out_channels = 256, kernel_size=3, padding=1),\n",
        "            nn.ReLU(),\n",
        "            nn.MaxPool2d(kernel_size=8),\n",
        "            View((-1,256)),\n",
        "            nn.Linear(256, num_classes),\n",
        "      )\n",
        "        \n",
        "\n",
        "    def forward(self, x):\n",
        "        \"\"\"\n",
        "\n",
        "        Parameters\n",
        "        ----------\n",
        "        x\n",
        "\n",
        "        Returns\n",
        "        -------\n",
        "        output : Result after running through the model\n",
        "        \"\"\"\n",
        "        # TODO\n",
        "        # x = x.view(-1, self.input_channels)?\n",
        "        return self.network(x)\n",
        "        "
      ],
      "execution_count": null,
      "outputs": []
    },
    {
      "cell_type": "markdown",
      "metadata": {
        "id": "UjEH5jIhwnet"
      },
      "source": [
        "### Q2.3 Instantiate the model and run this using an SGD optimizer, with the appropriate loss function for classification\n",
        "\n",
        "Report the learning curves (training and validation accuracy vs number of epochs)"
      ]
    },
    {
      "cell_type": "code",
      "metadata": {
        "id": "_oG1E-YRu4Cj",
        "outputId": "ac01ac28-6a6e-4af9-b5e9-7d35efd733e0",
        "colab": {
          "base_uri": "https://localhost:8080/",
          "height": 1000
        }
      },
      "source": [
        "# TODO : Initialize the model and cast to correct device\n",
        "model_ShallowConv = ShallowConvnet(input_channels = 3, num_classes = 10)\n",
        "model_ShallowConv.to(device)\n",
        "\n",
        "# TODO : Initialize the criterion\n",
        "criterion = F.cross_entropy\n",
        "\n",
        "# TODO : Initialize the SGD optimizer with lr 1e-3\n",
        "optimizer = optim.SGD(model_ShallowConv.parameters(), lr=1e-3, momentum=0.5)\n",
        "\n",
        "# TODO : Run the training loop using this model\n",
        "train_losses, train_accuracies, val_losses, val_accuracies = train_loop(model_ShallowConv, criterion, optimizer, train_loader, val_loader)\n"
      ],
      "execution_count": null,
      "outputs": [
        {
          "output_type": "stream",
          "text": [
            "[EPOCH]: 25, [TRAIN LOSS]: 1.216962, [TRAIN ACCURACY]: 56.877\n",
            "[EPOCH]: 25, [VAL LOSS]: 0.877081, [VAL ACCURACY]: 54.800 \n",
            "\n",
            "[EPOCH]: 26, [TRAIN LOSS]: 1.082827, [TRAIN ACCURACY]: 57.388\n",
            "[EPOCH]: 26, [VAL LOSS]: 0.875490, [VAL ACCURACY]: 55.870 \n",
            "\n",
            "[EPOCH]: 27, [TRAIN LOSS]: 1.339500, [TRAIN ACCURACY]: 57.775\n",
            "[EPOCH]: 27, [VAL LOSS]: 0.928765, [VAL ACCURACY]: 55.990 \n",
            "\n",
            "[EPOCH]: 28, [TRAIN LOSS]: 1.290953, [TRAIN ACCURACY]: 58.528\n",
            "[EPOCH]: 28, [VAL LOSS]: 0.749431, [VAL ACCURACY]: 56.790 \n",
            "\n",
            "[EPOCH]: 29, [TRAIN LOSS]: 1.245437, [TRAIN ACCURACY]: 59.110\n",
            "[EPOCH]: 29, [VAL LOSS]: 0.870463, [VAL ACCURACY]: 56.180 \n",
            "\n",
            "[EPOCH]: 30, [TRAIN LOSS]: 1.349535, [TRAIN ACCURACY]: 59.547\n",
            "[EPOCH]: 30, [VAL LOSS]: 0.757730, [VAL ACCURACY]: 57.400 \n",
            "\n",
            "[EPOCH]: 31, [TRAIN LOSS]: 0.963689, [TRAIN ACCURACY]: 59.925\n",
            "[EPOCH]: 31, [VAL LOSS]: 0.813436, [VAL ACCURACY]: 58.320 \n",
            "\n",
            "[EPOCH]: 32, [TRAIN LOSS]: 1.108154, [TRAIN ACCURACY]: 60.455\n",
            "[EPOCH]: 32, [VAL LOSS]: 0.819942, [VAL ACCURACY]: 56.210 \n",
            "\n",
            "[EPOCH]: 33, [TRAIN LOSS]: 1.090412, [TRAIN ACCURACY]: 60.947\n",
            "[EPOCH]: 33, [VAL LOSS]: 0.838873, [VAL ACCURACY]: 57.510 \n",
            "\n",
            "[EPOCH]: 34, [TRAIN LOSS]: 1.206595, [TRAIN ACCURACY]: 61.127\n",
            "[EPOCH]: 34, [VAL LOSS]: 0.798130, [VAL ACCURACY]: 59.040 \n",
            "\n",
            "[EPOCH]: 35, [TRAIN LOSS]: 1.349601, [TRAIN ACCURACY]: 61.593\n",
            "[EPOCH]: 35, [VAL LOSS]: 0.840212, [VAL ACCURACY]: 57.550 \n",
            "\n",
            "[EPOCH]: 36, [TRAIN LOSS]: 0.992469, [TRAIN ACCURACY]: 62.047\n",
            "[EPOCH]: 36, [VAL LOSS]: 0.713237, [VAL ACCURACY]: 59.130 \n",
            "\n",
            "[EPOCH]: 37, [TRAIN LOSS]: 0.842109, [TRAIN ACCURACY]: 62.365\n",
            "[EPOCH]: 37, [VAL LOSS]: 0.802465, [VAL ACCURACY]: 59.650 \n",
            "\n",
            "[EPOCH]: 38, [TRAIN LOSS]: 0.922382, [TRAIN ACCURACY]: 62.685\n",
            "[EPOCH]: 38, [VAL LOSS]: 0.845242, [VAL ACCURACY]: 59.250 \n",
            "\n",
            "[EPOCH]: 39, [TRAIN LOSS]: 1.071543, [TRAIN ACCURACY]: 62.958\n",
            "[EPOCH]: 39, [VAL LOSS]: 0.759140, [VAL ACCURACY]: 60.240 \n",
            "\n",
            "[EPOCH]: 40, [TRAIN LOSS]: 0.908183, [TRAIN ACCURACY]: 63.555\n",
            "[EPOCH]: 40, [VAL LOSS]: 0.890663, [VAL ACCURACY]: 59.260 \n",
            "\n",
            "[EPOCH]: 41, [TRAIN LOSS]: 1.080051, [TRAIN ACCURACY]: 64.082\n",
            "[EPOCH]: 41, [VAL LOSS]: 0.806855, [VAL ACCURACY]: 60.030 \n",
            "\n",
            "[EPOCH]: 42, [TRAIN LOSS]: 1.090500, [TRAIN ACCURACY]: 64.468\n",
            "[EPOCH]: 42, [VAL LOSS]: 0.713173, [VAL ACCURACY]: 59.760 \n",
            "\n",
            "[EPOCH]: 43, [TRAIN LOSS]: 1.045564, [TRAIN ACCURACY]: 64.703\n",
            "[EPOCH]: 43, [VAL LOSS]: 0.809301, [VAL ACCURACY]: 60.240 \n",
            "\n",
            "[EPOCH]: 44, [TRAIN LOSS]: 1.053139, [TRAIN ACCURACY]: 65.110\n",
            "[EPOCH]: 44, [VAL LOSS]: 0.709531, [VAL ACCURACY]: 61.380 \n",
            "\n",
            "[EPOCH]: 45, [TRAIN LOSS]: 1.086684, [TRAIN ACCURACY]: 65.540\n",
            "[EPOCH]: 45, [VAL LOSS]: 0.792510, [VAL ACCURACY]: 60.390 \n",
            "\n",
            "[EPOCH]: 46, [TRAIN LOSS]: 1.025921, [TRAIN ACCURACY]: 65.748\n",
            "[EPOCH]: 46, [VAL LOSS]: 0.718780, [VAL ACCURACY]: 61.560 \n",
            "\n",
            "[EPOCH]: 47, [TRAIN LOSS]: 1.042233, [TRAIN ACCURACY]: 66.340\n",
            "[EPOCH]: 47, [VAL LOSS]: 0.736836, [VAL ACCURACY]: 61.520 \n",
            "\n",
            "[EPOCH]: 48, [TRAIN LOSS]: 0.800697, [TRAIN ACCURACY]: 66.360\n",
            "[EPOCH]: 48, [VAL LOSS]: 0.752091, [VAL ACCURACY]: 62.960 \n",
            "\n",
            "[EPOCH]: 49, [TRAIN LOSS]: 1.094411, [TRAIN ACCURACY]: 66.830\n",
            "[EPOCH]: 49, [VAL LOSS]: 0.859194, [VAL ACCURACY]: 58.720 \n",
            "\n",
            "\n"
          ],
          "name": "stdout"
        }
      ]
    },
    {
      "cell_type": "code",
      "metadata": {
        "id": "QeYgQB6RR5gS"
      },
      "source": [
        "with open('/content/drive/My Drive/model_ShallowConv_{}.txt'.format(today_date), 'w') as writefile:\n",
        "    writefile.write(\"train_accuracies: \\n\")\n",
        "    writefile.writelines(str(accuracy) +', \\n' for accuracy in train_accuracies)\n",
        "    writefile.write('\\n')\n",
        "    writefile.write(\"val_accuracies: \\n\")\n",
        "    writefile.writelines(str(accuracy) for accuracy in val_accuracies)\n",
        "    writefile.write('\\n')"
      ],
      "execution_count": null,
      "outputs": []
    },
    {
      "cell_type": "code",
      "metadata": {
        "id": "6DZYX3lfT5y7"
      },
      "source": [
        "# save models\n",
        "model_save_name = 'model_ShallowConv_{}.pt'.format(today_date)\n",
        "path = F\"/content/drive/My Drive/{model_save_name}\" \n",
        "torch.save(model_ShallowConv.state_dict(), path)"
      ],
      "execution_count": null,
      "outputs": []
    },
    {
      "cell_type": "code",
      "metadata": {
        "id": "PrnoyyCk_ovk",
        "outputId": "72654c05-74ce-454b-a3f5-2c6c446db947",
        "colab": {
          "base_uri": "https://localhost:8080/",
          "height": 312
        }
      },
      "source": [
        "# visualize learning rate\n",
        "plt.plot(np.arange(1, len(train_accuracies)+1), train_accuracies, label='training accuracy')\n",
        "plt.plot(np.arange(1, len(val_accuracies)+1), val_accuracies, label='validation accuracy')\n",
        "plt.xlabel('Epoch')\n",
        "plt.ylabel('Accuracy')\n",
        "plt.legend()\n",
        "plt.title('Training & Validation Learning Rate')"
      ],
      "execution_count": null,
      "outputs": [
        {
          "output_type": "execute_result",
          "data": {
            "text/plain": [
              "Text(0.5, 1.0, 'Training &Validation Learning Rate')"
            ]
          },
          "metadata": {
            "tags": []
          },
          "execution_count": 42
        },
        {
          "output_type": "display_data",
          "data": {
            "image/png": "[encoded data removed]",
            "text/plain": [
              "<Figure size 432x288 with 1 Axes>"
            ]
          },
          "metadata": {
            "tags": [],
            "needs_background": "light"
          }
        }
      ]
    },
    {
      "cell_type": "markdown",
      "metadata": {
        "id": "cLRvwxlJoFQO"
      },
      "source": [
        "### Q2.4 Simple convolution network - "
      ]
    },
    {
      "cell_type": "markdown",
      "metadata": {
        "id": "lSUz9ljRxRc5"
      },
      "source": [
        "Design a convolutional neural network with the following specification: \n",
        "For each convolution layer, use appropriate padding such that it maintains the resolution of the image. The resolution should be changing only when you introduce maxpooling layers. Each convolution layer should be followed by a relu non-linearity. The first two blocks containing 3 convolutional layers are each followed by a maxpooling layer that halves the resolution of the image. After the third block, use maxpooling to get a resolution of 1 X 1. Finally, apply a linear transformation to project to the number of classes. \n",
        "\n",
        "Structure of the convolution layers of the model:\n",
        "1. Number of input channels to the model = 3\n",
        "2. First convolution layer of kernel size 5 with filter size 64 and padding such that it maintains the resolution of the image.\n",
        "3. Followed by a block of 3 convolution layers of kernel size 3, filter size 64 and padding such that it maintains the resolution of the image.\n",
        "5. Followed by 3 convolution layers of kernel size 3, filter size 128 and padding such that it maintains the resolution of the image.\n",
        "6. Followed by 3 convolution layers of kernel size 3, filter size 256 and padding such that it maintains the resolution of the image. \n",
        "\n",
        "\n"
      ]
    },
    {
      "cell_type": "code",
      "metadata": {
        "id": "GfwKR3uNlsNc"
      },
      "source": [
        "# Use the description of the structure of the model and the hints given below \n",
        "\n",
        "class SimpleConvnet(nn.Module):\n",
        "    def __init__(self, input_channels, num_classes):\n",
        "        super(SimpleConvnet, self).__init__()\n",
        "        \n",
        "        # TODO\n",
        "        self.network = nn.Sequential(\n",
        "            # first layer, resolution = 32\n",
        "            nn.Conv2d(input_channels, out_channels=64, kernel_size=5, padding=2),\n",
        "            nn.ReLU(),\n",
        "            # first block, resolution = 32\n",
        "            nn.Conv2d(in_channels=64, out_channels=64, kernel_size=3, padding=1),\n",
        "            nn.ReLU(),\n",
        "            nn.Conv2d(in_channels=64, out_channels=64, kernel_size=3, padding=1),\n",
        "            nn.ReLU(),\n",
        "            nn.Conv2d(in_channels=64, out_channels=64, kernel_size=3, padding=1),\n",
        "            nn.ReLU(),\n",
        "\n",
        "            # first maxpooling, resolution = 16\n",
        "            nn.MaxPool2d(kernel_size=2,stride=2),\n",
        "\n",
        "            # second block, resolution = 32\n",
        "            nn.Conv2d(in_channels=64, out_channels=128, kernel_size=3, padding=9),\n",
        "            nn.ReLU(),\n",
        "            nn.Conv2d(in_channels=128, out_channels=128, kernel_size=3, padding=1),\n",
        "            nn.ReLU(),\n",
        "            nn.Conv2d(in_channels=128, out_channels=128, kernel_size=3, padding=1),\n",
        "            nn.ReLU(),\n",
        "\n",
        "            # second maxpooling, resolution = 16\n",
        "            nn.MaxPool2d(kernel_size=2, stride=2),\n",
        "\n",
        "            # # third block, resolution = 32\n",
        "            nn.Conv2d(in_channels=128, out_channels=256, kernel_size=3, padding=9),\n",
        "            nn.ReLU(),\n",
        "            nn.Conv2d(in_channels=256, out_channels=256, kernel_size=3, padding=1),\n",
        "            nn.ReLU(),\n",
        "            nn.Conv2d(in_channels=256, out_channels=256, kernel_size=3, padding=1),\n",
        "            nn.ReLU(),\n",
        "\n",
        "            # final maxpooling, output size reduced to 1\n",
        "            nn.MaxPool2d(kernel_size=32),\n",
        "            View((-1,256)),\n",
        "            nn.Linear(256, num_classes)\n",
        "      )\n",
        "    \n",
        "    def forward(self, x):\n",
        "       \n",
        "        # TODO \n",
        "        output = self.network(x)\n",
        "        return output\n",
        "        "
      ],
      "execution_count": null,
      "outputs": []
    },
    {
      "cell_type": "code",
      "metadata": {
        "id": "q_WKoU3ewH2B",
        "outputId": "1586fe6c-4fac-4bfc-afd2-c2ad832f9efa",
        "colab": {
          "base_uri": "https://localhost:8080/",
          "height": 355,
          "referenced_widgets": [
            "7095c8b6d83246c192dbf20a5f6900ba",
            "10238ebadcae411fa63e8d7788224836",
            "d33d7d8eb76e437fb3d760dca974dafc",
            "79a402b9eb8c4439a387588ae4a307d5",
            "603cdd8adf1f4bd4a4590d1522685bfa",
            "6d215d6ce0ae4ff4a234d95315461706",
            "1750d12669064150b7186be51adc65cd",
            "9c6ff06dff2048a09485e239844d321d"
          ]
        }
      },
      "source": [
        "# TODO : Initialize the model and cast to correct device\n",
        "model_SimpleConv = SimpleConvnet(input_channels=3, num_classes=10)\n",
        "model_SimpleConv.to(device)\n",
        "\n",
        "# TODO : Initialize the criterion \n",
        "criterion = F.cross_entropy\n",
        "# TODO : Initialize the optimizer \n",
        "optimizer = optim.SGD(model_SimpleConv.parameters(), lr=1e-3, momentum=0.5)\n",
        "# TODO : Run the training loop using this model\n",
        "train_losses_SimpleConv, train_accuracies_SimpleConv, val_losses_SimpleConv, val_accuracies_SimpleConv = train_loop(model_SimpleConv, criterion, optimizer, train_loader, val_loader)\n"
      ],
      "execution_count": null,
      "outputs": [
        {
          "output_type": "display_data",
          "data": {
            "application/vnd.jupyter.widget-view+json": {
              "model_id": "7095c8b6d83246c192dbf20a5f6900ba",
              "version_minor": 0,
              "version_major": 2
            },
            "text/plain": [
              "HBox(children=(FloatProgress(value=0.0, max=50.0), HTML(value='')))"
            ]
          },
          "metadata": {
            "tags": []
          }
        },
        {
          "output_type": "stream",
          "text": [
            "[EPOCH]: 0, [TRAIN LOSS]: 2.296185, [TRAIN ACCURACY]: 9.977\n",
            "[EPOCH]: 0, [VAL LOSS]: 2.300525, [VAL ACCURACY]: 10.090 \n",
            "\n",
            "[EPOCH]: 1, [TRAIN LOSS]: 2.303188, [TRAIN ACCURACY]: 9.977\n",
            "[EPOCH]: 1, [VAL LOSS]: 2.300627, [VAL ACCURACY]: 10.090 \n",
            "\n",
            "[EPOCH]: 2, [TRAIN LOSS]: 2.306332, [TRAIN ACCURACY]: 9.977\n",
            "[EPOCH]: 2, [VAL LOSS]: 2.300708, [VAL ACCURACY]: 10.090 \n",
            "\n",
            "[EPOCH]: 3, [TRAIN LOSS]: 2.298346, [TRAIN ACCURACY]: 9.977\n",
            "[EPOCH]: 3, [VAL LOSS]: 2.300823, [VAL ACCURACY]: 10.090 \n",
            "\n",
            "[EPOCH]: 4, [TRAIN LOSS]: 2.298872, [TRAIN ACCURACY]: 9.977\n",
            "[EPOCH]: 4, [VAL LOSS]: 2.300929, [VAL ACCURACY]: 10.090 \n",
            "\n",
            "[EPOCH]: 5, [TRAIN LOSS]: 2.304439, [TRAIN ACCURACY]: 9.977\n",
            "[EPOCH]: 5, [VAL LOSS]: 2.301031, [VAL ACCURACY]: 10.090 \n",
            "\n"
          ],
          "name": "stdout"
        }
      ]
    },
    {
      "cell_type": "code",
      "metadata": {
        "id": "F41HZ5l-oYb3"
      },
      "source": [
        "\n",
        "with open('/content/drive/My Drive/model_SimpleConvnet_{}.txt'.format(today_date), 'w') as writefile:\n",
        "    writefile.write(\"train_accuracies: \\n\")\n",
        "    writefile.writelines(str(accuracy) +', \\n' for accuracy in train_accuracies_SimpleConv)\n",
        "    writefile.write('\\n')\n",
        "    writefile.write(\"val_accuracies: \\n\")\n",
        "    writefile.writelines(str(accuracy) +', \\n' for accuracy in val_accuracies_SimpleConv)\n",
        "    writefile.write('\\n')\n",
        "\n",
        "# save models\n",
        "model_save_name = 'model_SimpleConv_{}.pt'.format(today_date)\n",
        "path = F\"/content/drive/My Drive/{model_save_name}\" \n",
        "torch.save(model_SimpleConv.state_dict(), path)"
      ],
      "execution_count": null,
      "outputs": []
    },
    {
      "cell_type": "code",
      "metadata": {
        "id": "vBRG1RGRowCd",
        "outputId": "a4c9b421-6be0-483a-c0b6-c633f2d6b30e",
        "colab": {
          "base_uri": "https://localhost:8080/",
          "height": 312
        }
      },
      "source": [
        "plt.plot(np.arange(1, len(train_accuracies_SimpleConv)+1), train_accuracies_SimpleConv, label='training accuracy')\n",
        "plt.plot(np.arange(1, len(train_losses_SimpleConv)+1), train_losses_SimpleConv, label='training loss')\n",
        "plt.xlabel('Epoch')\n",
        "plt.ylabel('Accuracy/Loss')\n",
        "plt.legend()\n",
        "plt.title('Training for SimpleConvnet')"
      ],
      "execution_count": null,
      "outputs": [
        {
          "output_type": "execute_result",
          "data": {
            "text/plain": [
              "Text(0.5, 1.0, 'Training for SimpleConvnet')"
            ]
          },
          "metadata": {
            "tags": []
          },
          "execution_count": 18
        },
        {
          "output_type": "display_data",
          "data": {
            "image/png": "[encoded data removed]",
            "text/plain": [
              "<Figure size 432x288 with 1 Axes>"
            ]
          },
          "metadata": {
            "tags": [],
            "needs_background": "light"
          }
        }
      ]
    },
    {
      "cell_type": "markdown",
      "metadata": {
        "id": "mZRJhVst0BLv"
      },
      "source": [
        "### Q 2.5 Report results of training using SGD optimizer for both ShallowNet and SimpleConvnet. What do you observe?\n",
        "\n",
        "The ShallowNet does learn, while the SimpleConvnet didn't learn using this architecture, which stopped after 6 epochs because of not learning."
      ]
    },
    {
      "cell_type": "markdown",
      "metadata": {
        "id": "uv6ExxBvLL3Y"
      },
      "source": [
        "### Q 2.6 Add batch normalization"
      ]
    },
    {
      "cell_type": "markdown",
      "metadata": {
        "id": "S8IFrRqC0WwA"
      },
      "source": [
        "#### Q2.6 a After each relu layer, add a batch normalization layer to the network SimpleConvnet you created above"
      ]
    },
    {
      "cell_type": "code",
      "metadata": {
        "id": "U7nvtAeBoiUX"
      },
      "source": [
        "class SimpleConvnet2(nn.Module):\n",
        "    def __init__(self, input_channels, num_classes):\n",
        "        super(SimpleConvnet2, self).__init__()\n",
        "        \n",
        "        # TODO\n",
        "        self.network = nn.Sequential(\n",
        "            # first layer, resolution = 32\n",
        "            nn.Conv2d(input_channels, out_channels=64, kernel_size=5, padding=2),\n",
        "            nn.ReLU(),\n",
        "            nn.BatchNorm2d(64),\n",
        "            # first block, resolution = 32\n",
        "            nn.Conv2d(in_channels=64, out_channels=64, kernel_size=3, padding=1),\n",
        "            nn.ReLU(),\n",
        "            nn.BatchNorm2d(64),\n",
        "            nn.Conv2d(in_channels=64, out_channels=64, kernel_size=3, padding=1),\n",
        "            nn.ReLU(),\n",
        "            nn.BatchNorm2d(64),\n",
        "            nn.Conv2d(in_channels=64, out_channels=64, kernel_size=3, padding=1),\n",
        "            nn.ReLU(),\n",
        "            nn.BatchNorm2d(64),\n",
        "\n",
        "            # first maxpooling, resolution = 16\n",
        "            nn.MaxPool2d(kernel_size=2,stride=2),\n",
        "\n",
        "            # second block, resolution = 32\n",
        "            nn.Conv2d(in_channels=64, out_channels=128, kernel_size=3, padding=9),\n",
        "            nn.ReLU(),\n",
        "            nn.BatchNorm2d(128),\n",
        "            nn.Conv2d(in_channels=128, out_channels=128, kernel_size=3, padding=1),\n",
        "            nn.ReLU(),\n",
        "            nn.BatchNorm2d(128),\n",
        "            nn.Conv2d(in_channels=128, out_channels=128, kernel_size=3, padding=1),\n",
        "            nn.ReLU(),\n",
        "            nn.BatchNorm2d(128),\n",
        "\n",
        "            # second maxpooling, resolution = 16\n",
        "            nn.MaxPool2d(kernel_size=2, stride=2),\n",
        "\n",
        "            # # third block, resolution = 32\n",
        "            nn.Conv2d(in_channels=128, out_channels=256, kernel_size=3, padding=9),\n",
        "            nn.ReLU(),\n",
        "            nn.BatchNorm2d(256),\n",
        "            nn.Conv2d(in_channels=256, out_channels=256, kernel_size=3, padding=1),\n",
        "            nn.ReLU(),\n",
        "            nn.BatchNorm2d(256),\n",
        "            nn.Conv2d(in_channels=256, out_channels=256, kernel_size=3, padding=1),\n",
        "            nn.ReLU(),\n",
        "            nn.BatchNorm2d(256),\n",
        "\n",
        "            # final maxpooling, output size reduced to 1\n",
        "            nn.MaxPool2d(kernel_size=32),\n",
        "            View((-1,256)),\n",
        "            nn.Linear(256, num_classes)\n",
        "      )\n",
        "    def forward(self, x):\n",
        "       \n",
        "       # TODO\n",
        "        output = self.network(x)\n",
        "        return output\n",
        "        "
      ],
      "execution_count": null,
      "outputs": []
    },
    {
      "cell_type": "code",
      "metadata": {
        "id": "hgqQzKV10tz7",
        "outputId": "82083a19-04cf-48c9-f925-f1ca976aa888",
        "colab": {
          "base_uri": "https://localhost:8080/",
          "height": 1000
        }
      },
      "source": [
        "model_SimpleConv2 = SimpleConvnet2(input_channels=3, num_classes=10)\n",
        "model_SimpleConv2.to(device)\n",
        "\n",
        "# TODO : Initialize the criterion \n",
        "criterion = F.cross_entropy\n",
        "# TODO : Initialize the optimizer \n",
        "optimizer = optim.SGD(model_SimpleConv2.parameters(), lr=1e-3, momentum=0.5)\n",
        "# TODO : Run the training loop using this model\n",
        "train_losses_SimpleConv2, train_accuracies_SimpleConv2, val_losses_SimpleConv2, val_accuracies_SimpleConv2 = train_loop(model_SimpleConv2, criterion, optimizer, train_loader, val_loader)\n"
      ],
      "execution_count": null,
      "outputs": [
        {
          "output_type": "stream",
          "text": [
            "[EPOCH]: 12, [TRAIN LOSS]: 0.138822, [TRAIN ACCURACY]: 96.168\n",
            "[EPOCH]: 12, [VAL LOSS]: 0.953608, [VAL ACCURACY]: 67.050 \n",
            "\n",
            "[EPOCH]: 13, [TRAIN LOSS]: 0.096698, [TRAIN ACCURACY]: 98.062\n",
            "[EPOCH]: 13, [VAL LOSS]: 1.069855, [VAL ACCURACY]: 67.810 \n",
            "\n",
            "[EPOCH]: 14, [TRAIN LOSS]: 0.012484, [TRAIN ACCURACY]: 99.325\n",
            "[EPOCH]: 14, [VAL LOSS]: 1.401978, [VAL ACCURACY]: 68.240 \n",
            "\n",
            "[EPOCH]: 15, [TRAIN LOSS]: 0.015249, [TRAIN ACCURACY]: 99.828\n",
            "[EPOCH]: 15, [VAL LOSS]: 1.124377, [VAL ACCURACY]: 68.970 \n",
            "\n",
            "[EPOCH]: 16, [TRAIN LOSS]: 0.004704, [TRAIN ACCURACY]: 99.985\n",
            "[EPOCH]: 16, [VAL LOSS]: 1.227966, [VAL ACCURACY]: 69.430 \n",
            "\n",
            "[EPOCH]: 17, [TRAIN LOSS]: 0.004896, [TRAIN ACCURACY]: 99.995\n",
            "[EPOCH]: 17, [VAL LOSS]: 1.360779, [VAL ACCURACY]: 69.390 \n",
            "\n",
            "[EPOCH]: 18, [TRAIN LOSS]: 0.013475, [TRAIN ACCURACY]: 99.998\n",
            "[EPOCH]: 18, [VAL LOSS]: 1.395045, [VAL ACCURACY]: 69.460 \n",
            "\n",
            "[EPOCH]: 19, [TRAIN LOSS]: 0.001887, [TRAIN ACCURACY]: 100.000\n",
            "[EPOCH]: 19, [VAL LOSS]: 1.328384, [VAL ACCURACY]: 69.490 \n",
            "\n",
            "[EPOCH]: 20, [TRAIN LOSS]: 0.015828, [TRAIN ACCURACY]: 99.998\n",
            "[EPOCH]: 20, [VAL LOSS]: 1.431164, [VAL ACCURACY]: 69.530 \n",
            "\n",
            "[EPOCH]: 21, [TRAIN LOSS]: 0.004142, [TRAIN ACCURACY]: 100.000\n",
            "[EPOCH]: 21, [VAL LOSS]: 1.284422, [VAL ACCURACY]: 69.610 \n",
            "\n",
            "[EPOCH]: 22, [TRAIN LOSS]: 0.005341, [TRAIN ACCURACY]: 100.000\n",
            "[EPOCH]: 22, [VAL LOSS]: 1.277636, [VAL ACCURACY]: 69.480 \n",
            "\n",
            "[EPOCH]: 23, [TRAIN LOSS]: 0.005813, [TRAIN ACCURACY]: 100.000\n",
            "[EPOCH]: 23, [VAL LOSS]: 1.352238, [VAL ACCURACY]: 69.450 \n",
            "\n",
            "[EPOCH]: 24, [TRAIN LOSS]: 0.001508, [TRAIN ACCURACY]: 100.000\n",
            "[EPOCH]: 24, [VAL LOSS]: 1.262166, [VAL ACCURACY]: 69.780 \n",
            "\n",
            "[EPOCH]: 25, [TRAIN LOSS]: 0.007851, [TRAIN ACCURACY]: 100.000\n",
            "[EPOCH]: 25, [VAL LOSS]: 1.258640, [VAL ACCURACY]: 69.920 \n",
            "\n",
            "[EPOCH]: 26, [TRAIN LOSS]: 0.003802, [TRAIN ACCURACY]: 100.000\n",
            "[EPOCH]: 26, [VAL LOSS]: 1.223344, [VAL ACCURACY]: 69.660 \n",
            "\n",
            "[EPOCH]: 27, [TRAIN LOSS]: 0.002247, [TRAIN ACCURACY]: 99.998\n",
            "[EPOCH]: 27, [VAL LOSS]: 1.196533, [VAL ACCURACY]: 69.650 \n",
            "\n",
            "[EPOCH]: 28, [TRAIN LOSS]: 0.001585, [TRAIN ACCURACY]: 100.000\n",
            "[EPOCH]: 28, [VAL LOSS]: 1.227125, [VAL ACCURACY]: 69.800 \n",
            "\n",
            "[EPOCH]: 29, [TRAIN LOSS]: 0.003401, [TRAIN ACCURACY]: 100.000\n",
            "[EPOCH]: 29, [VAL LOSS]: 1.233642, [VAL ACCURACY]: 69.630 \n",
            "\n",
            "[EPOCH]: 30, [TRAIN LOSS]: 0.000945, [TRAIN ACCURACY]: 100.000\n",
            "[EPOCH]: 30, [VAL LOSS]: 1.220082, [VAL ACCURACY]: 70.100 \n",
            "\n",
            "[EPOCH]: 31, [TRAIN LOSS]: 0.002916, [TRAIN ACCURACY]: 100.000\n",
            "[EPOCH]: 31, [VAL LOSS]: 1.276143, [VAL ACCURACY]: 70.000 \n",
            "\n",
            "[EPOCH]: 32, [TRAIN LOSS]: 0.001538, [TRAIN ACCURACY]: 100.000\n",
            "[EPOCH]: 32, [VAL LOSS]: 1.133188, [VAL ACCURACY]: 69.810 \n",
            "\n",
            "[EPOCH]: 33, [TRAIN LOSS]: 0.003570, [TRAIN ACCURACY]: 100.000\n",
            "[EPOCH]: 33, [VAL LOSS]: 1.193072, [VAL ACCURACY]: 69.670 \n",
            "\n",
            "[EPOCH]: 34, [TRAIN LOSS]: 0.001563, [TRAIN ACCURACY]: 100.000\n",
            "[EPOCH]: 34, [VAL LOSS]: 1.286612, [VAL ACCURACY]: 69.900 \n",
            "\n",
            "[EPOCH]: 35, [TRAIN LOSS]: 0.001784, [TRAIN ACCURACY]: 100.000\n",
            "[EPOCH]: 35, [VAL LOSS]: 1.249972, [VAL ACCURACY]: 69.870 \n",
            "\n"
          ],
          "name": "stdout"
        }
      ]
    },
    {
      "cell_type": "code",
      "metadata": {
        "id": "vRPmrTest4ut"
      },
      "source": [
        ""
      ],
      "execution_count": null,
      "outputs": []
    },
    {
      "cell_type": "code",
      "metadata": {
        "id": "4e41IMpAuHYC"
      },
      "source": [
        ""
      ],
      "execution_count": null,
      "outputs": []
    },
    {
      "cell_type": "code",
      "metadata": {
        "id": "ALAOeUmRuzUr"
      },
      "source": [
        ""
      ],
      "execution_count": null,
      "outputs": []
    },
    {
      "cell_type": "code",
      "metadata": {
        "id": "OreU4K_KydtH"
      },
      "source": [
        ""
      ],
      "execution_count": null,
      "outputs": []
    },
    {
      "cell_type": "markdown",
      "metadata": {
        "id": "w5wqxHGa0vZe"
      },
      "source": [
        "#### Q2.6 b Plot the the training curves (training loss vs \\# epochs, training accuracy vs # epochs) using SGD (lr 1e-3) with and without batch normalization. Comment on the difference. \n",
        "\n",
        "\n"
      ]
    },
    {
      "cell_type": "markdown",
      "metadata": {
        "id": "FX3n2NCyd5UE"
      },
      "source": [
        "As the plots shown below, the SimpleConvnet with batch normalization learns and actually is able to satuate to accuracy 100% on the training set, while the SimpleConvnet without batch normalization did not learn and stop training."
      ]
    },
    {
      "cell_type": "code",
      "metadata": {
        "id": "Eq2Afj7KrNO2"
      },
      "source": [
        "with open('/content/drive/My Drive/model_SimpleConvnet2_{}.txt'.format(today_date), 'w') as writefile:\n",
        "    writefile.write(\"train_accuracies: \\n\")\n",
        "    writefile.writelines(str(accuracy) +', \\n' for accuracy in train_accuracies_SimpleConv2)\n",
        "    writefile.write('\\n')\n",
        "    writefile.write(\"val_accuracies: \\n\")\n",
        "    writefile.writelines(str(accuracy) +', \\n' for accuracy in val_accuracies_SimpleConv2)\n",
        "    writefile.write('\\n')\n",
        "\n",
        "# save models\n",
        "model_save_name = 'model_SimpleConv2_{}.pt'.format(today_date)\n",
        "path = F\"/content/drive/My Drive/{model_save_name}\" \n",
        "torch.save(model_SimpleConv2.state_dict(), path)"
      ],
      "execution_count": null,
      "outputs": []
    },
    {
      "cell_type": "code",
      "metadata": {
        "id": "t08oAUt0VTAv",
        "outputId": "ec9c9acf-9b53-46f8-9aa7-78436cf27256",
        "colab": {
          "base_uri": "https://localhost:8080/",
          "height": 312
        }
      },
      "source": [
        "# with Batch Normalization\n",
        "# plot training loss vs epochs, training accuracy vs. epochs\n",
        "plt.plot(np.arange(1, len(train_accuracies_SimpleConv2)+1), train_accuracies_SimpleConv2, label='training accuracy')\n",
        "plt.plot(np.arange(1, len(train_losses_SimpleConv2)+1), train_losses_SimpleConv2, label='training loss')\n",
        "plt.xlabel('Epoch')\n",
        "plt.ylabel('Accuracy/Loss')\n",
        "plt.legend()\n",
        "plt.title('Training for SimpleConvnet with Batch Normalization')"
      ],
      "execution_count": null,
      "outputs": [
        {
          "output_type": "execute_result",
          "data": {
            "text/plain": [
              "Text(0.5, 1.0, 'Training for SimpleConvnet with Batch Normalization')"
            ]
          },
          "metadata": {
            "tags": []
          },
          "execution_count": 22
        },
        {
          "output_type": "display_data",
          "data": {
            "image/png": "[encoded data removed]",
            "text/plain": [
              "<Figure size 432x288 with 1 Axes>"
            ]
          },
          "metadata": {
            "tags": [],
            "needs_background": "light"
          }
        }
      ]
    },
    {
      "cell_type": "code",
      "metadata": {
        "id": "WuDA03L2dSyM",
        "outputId": "a4c9b421-6be0-483a-c0b6-c633f2d6b30e",
        "colab": {
          "base_uri": "https://localhost:8080/",
          "height": 312
        }
      },
      "source": [
        "# without Batch Normalization\n",
        "plt.plot(np.arange(1, len(train_accuracies_SimpleConv)+1), train_accuracies_SimpleConv, label='training accuracy')\n",
        "plt.plot(np.arange(1, len(train_losses_SimpleConv)+1), train_losses_SimpleConv, label='training loss')\n",
        "plt.xlabel('Epoch')\n",
        "plt.ylabel('Accuracy/Loss')\n",
        "plt.legend()\n",
        "plt.title('Training for SimpleConvnet')"
      ],
      "execution_count": null,
      "outputs": [
        {
          "output_type": "execute_result",
          "data": {
            "text/plain": [
              "Text(0.5, 1.0, 'Training for SimpleConvnet')"
            ]
          },
          "metadata": {
            "tags": []
          },
          "execution_count": 18
        },
        {
          "output_type": "display_data",
          "data": {
            "image/png": "[encoded data removed]",
            "text/plain": [
              "<Figure size 432x288 with 1 Axes>"
            ]
          },
          "metadata": {
            "tags": [],
            "needs_background": "light"
          }
        }
      ]
    },
    {
      "cell_type": "markdown",
      "metadata": {
        "id": "ZW0227y408ej"
      },
      "source": [
        "#### Q2.6 c. Try running the same two networks with an Adam optimizer (lr 1e-4). Plot the the training curves (training loss vs \\# epochs, training accuracy vs # epochs) with and without batch normalization. Comment on the difference. "
      ]
    },
    {
      "cell_type": "code",
      "metadata": {
        "id": "WjFr9ShRpqmF",
        "outputId": "69239b88-ab27-43fb-f818-835b3e4d704c",
        "colab": {
          "base_uri": "https://localhost:8080/",
          "height": 1000,
          "referenced_widgets": [
            "fa31271c54894dc79113d6b064f54361",
            "5d974a4722c547a9a4358f656f6c10e6",
            "a2205d69112f481f86d8f44eb2f76961",
            "864f71d17a9743ed86716f21cd1eebfb",
            "60c9a3d2344e41408a0cd3e9539dd284",
            "55c8cf11a6a3410aa560229704f161c7",
            "178019171d90430bab00db95a8b88cb1",
            "a772d77edf4c4f4f89efc645560b885e"
          ]
        }
      },
      "source": [
        "# with normalization\n",
        "model_SimpleConv2_adam = SimpleConvnet2(input_channels=3, num_classes=10)\n",
        "model_SimpleConv2_adam.to(device)\n",
        "\n",
        "# TODO : Initialize the criterion \n",
        "criterion = F.cross_entropy\n",
        "# TODO : Initialize the optimizer \n",
        "optimizer = optim.Adam(model_SimpleConv2_adam.parameters(), lr=1e-4)\n",
        "# TODO : Run the training loop using this model\n",
        "train_losses_SimpleConv2_adam, train_accuracies_SimpleConv2_adam, \\\n",
        "  val_losses_SimpleConv2_adam, val_accuracies_SimpleConv2_adam = train_loop(model_SimpleConv2_adam, \n",
        "                                                                            criterion, optimizer, \n",
        "                                                                            train_loader, val_loader)\n"
      ],
      "execution_count": null,
      "outputs": [
        {
          "output_type": "display_data",
          "data": {
            "application/vnd.jupyter.widget-view+json": {
              "model_id": "fa31271c54894dc79113d6b064f54361",
              "version_minor": 0,
              "version_major": 2
            },
            "text/plain": [
              "HBox(children=(FloatProgress(value=0.0, max=50.0), HTML(value='')))"
            ]
          },
          "metadata": {
            "tags": []
          }
        },
        {
          "output_type": "stream",
          "text": [
            "[EPOCH]: 0, [TRAIN LOSS]: 1.293137, [TRAIN ACCURACY]: 44.385\n",
            "[EPOCH]: 0, [VAL LOSS]: 1.010047, [VAL ACCURACY]: 54.020 \n",
            "\n",
            "[EPOCH]: 1, [TRAIN LOSS]: 1.078448, [TRAIN ACCURACY]: 60.053\n",
            "[EPOCH]: 1, [VAL LOSS]: 0.775147, [VAL ACCURACY]: 62.050 \n",
            "\n",
            "[EPOCH]: 2, [TRAIN LOSS]: 0.942608, [TRAIN ACCURACY]: 67.265\n",
            "[EPOCH]: 2, [VAL LOSS]: 0.661924, [VAL ACCURACY]: 66.680 \n",
            "\n",
            "[EPOCH]: 3, [TRAIN LOSS]: 0.773756, [TRAIN ACCURACY]: 72.795\n",
            "[EPOCH]: 3, [VAL LOSS]: 0.774370, [VAL ACCURACY]: 68.640 \n",
            "\n",
            "[EPOCH]: 4, [TRAIN LOSS]: 0.591982, [TRAIN ACCURACY]: 77.480\n",
            "[EPOCH]: 4, [VAL LOSS]: 0.665500, [VAL ACCURACY]: 70.720 \n",
            "\n",
            "[EPOCH]: 5, [TRAIN LOSS]: 0.534567, [TRAIN ACCURACY]: 81.927\n",
            "[EPOCH]: 5, [VAL LOSS]: 0.645053, [VAL ACCURACY]: 71.540 \n",
            "\n",
            "[EPOCH]: 6, [TRAIN LOSS]: 0.592124, [TRAIN ACCURACY]: 85.165\n",
            "[EPOCH]: 6, [VAL LOSS]: 0.744968, [VAL ACCURACY]: 72.040 \n",
            "\n",
            "[EPOCH]: 7, [TRAIN LOSS]: 0.477070, [TRAIN ACCURACY]: 88.925\n",
            "[EPOCH]: 7, [VAL LOSS]: 0.470928, [VAL ACCURACY]: 73.010 \n",
            "\n",
            "[EPOCH]: 8, [TRAIN LOSS]: 0.269564, [TRAIN ACCURACY]: 92.105\n",
            "[EPOCH]: 8, [VAL LOSS]: 0.583212, [VAL ACCURACY]: 71.520 \n",
            "\n",
            "[EPOCH]: 9, [TRAIN LOSS]: 0.216528, [TRAIN ACCURACY]: 94.470\n",
            "[EPOCH]: 9, [VAL LOSS]: 0.554118, [VAL ACCURACY]: 72.260 \n",
            "\n",
            "[EPOCH]: 10, [TRAIN LOSS]: 0.173030, [TRAIN ACCURACY]: 95.880\n",
            "[EPOCH]: 10, [VAL LOSS]: 0.714896, [VAL ACCURACY]: 71.510 \n",
            "\n",
            "[EPOCH]: 11, [TRAIN LOSS]: 0.066436, [TRAIN ACCURACY]: 96.320\n",
            "[EPOCH]: 11, [VAL LOSS]: 0.647842, [VAL ACCURACY]: 72.470 \n",
            "\n",
            "[EPOCH]: 12, [TRAIN LOSS]: 0.073513, [TRAIN ACCURACY]: 97.118\n",
            "[EPOCH]: 12, [VAL LOSS]: 0.453828, [VAL ACCURACY]: 73.410 \n",
            "\n",
            "[EPOCH]: 13, [TRAIN LOSS]: 0.134868, [TRAIN ACCURACY]: 96.707\n",
            "[EPOCH]: 13, [VAL LOSS]: 1.007822, [VAL ACCURACY]: 73.820 \n",
            "\n",
            "[EPOCH]: 14, [TRAIN LOSS]: 0.150892, [TRAIN ACCURACY]: 96.743\n",
            "[EPOCH]: 14, [VAL LOSS]: 0.497404, [VAL ACCURACY]: 74.510 \n",
            "\n",
            "[EPOCH]: 15, [TRAIN LOSS]: 0.015840, [TRAIN ACCURACY]: 97.495\n",
            "[EPOCH]: 15, [VAL LOSS]: 0.461985, [VAL ACCURACY]: 74.170 \n",
            "\n",
            "[EPOCH]: 16, [TRAIN LOSS]: 0.033276, [TRAIN ACCURACY]: 97.603\n",
            "[EPOCH]: 16, [VAL LOSS]: 0.442525, [VAL ACCURACY]: 74.410 \n",
            "\n",
            "[EPOCH]: 17, [TRAIN LOSS]: 0.139126, [TRAIN ACCURACY]: 97.323\n",
            "[EPOCH]: 17, [VAL LOSS]: 0.796003, [VAL ACCURACY]: 73.070 \n",
            "\n",
            "[EPOCH]: 18, [TRAIN LOSS]: 0.179554, [TRAIN ACCURACY]: 97.625\n",
            "[EPOCH]: 18, [VAL LOSS]: 0.445323, [VAL ACCURACY]: 74.780 \n",
            "\n",
            "[EPOCH]: 19, [TRAIN LOSS]: 0.100177, [TRAIN ACCURACY]: 97.737\n",
            "[EPOCH]: 19, [VAL LOSS]: 0.664145, [VAL ACCURACY]: 73.430 \n",
            "\n",
            "[EPOCH]: 20, [TRAIN LOSS]: 0.217289, [TRAIN ACCURACY]: 97.660\n",
            "[EPOCH]: 20, [VAL LOSS]: 0.543589, [VAL ACCURACY]: 74.240 \n",
            "\n",
            "[EPOCH]: 21, [TRAIN LOSS]: 0.076228, [TRAIN ACCURACY]: 98.007\n",
            "[EPOCH]: 21, [VAL LOSS]: 0.258155, [VAL ACCURACY]: 75.450 \n",
            "\n",
            "[EPOCH]: 22, [TRAIN LOSS]: 0.051771, [TRAIN ACCURACY]: 98.073\n",
            "[EPOCH]: 22, [VAL LOSS]: 0.570463, [VAL ACCURACY]: 75.480 \n",
            "\n",
            "[EPOCH]: 23, [TRAIN LOSS]: 0.063505, [TRAIN ACCURACY]: 98.032\n",
            "[EPOCH]: 23, [VAL LOSS]: 0.299410, [VAL ACCURACY]: 75.070 \n",
            "\n",
            "[EPOCH]: 24, [TRAIN LOSS]: 0.029601, [TRAIN ACCURACY]: 98.055\n",
            "[EPOCH]: 24, [VAL LOSS]: 0.537793, [VAL ACCURACY]: 75.360 \n",
            "\n",
            "[EPOCH]: 25, [TRAIN LOSS]: 0.124583, [TRAIN ACCURACY]: 98.188\n",
            "[EPOCH]: 25, [VAL LOSS]: 0.483921, [VAL ACCURACY]: 74.200 \n",
            "\n",
            "[EPOCH]: 26, [TRAIN LOSS]: 0.108324, [TRAIN ACCURACY]: 98.085\n",
            "[EPOCH]: 26, [VAL LOSS]: 0.927110, [VAL ACCURACY]: 75.500 \n",
            "\n",
            "[EPOCH]: 27, [TRAIN LOSS]: 0.118643, [TRAIN ACCURACY]: 97.838\n",
            "[EPOCH]: 27, [VAL LOSS]: 0.309415, [VAL ACCURACY]: 75.120 \n",
            "\n",
            "[EPOCH]: 28, [TRAIN LOSS]: 0.148969, [TRAIN ACCURACY]: 98.355\n",
            "[EPOCH]: 28, [VAL LOSS]: 0.144497, [VAL ACCURACY]: 76.680 \n",
            "\n",
            "[EPOCH]: 29, [TRAIN LOSS]: 0.026389, [TRAIN ACCURACY]: 98.502\n",
            "[EPOCH]: 29, [VAL LOSS]: 0.357691, [VAL ACCURACY]: 76.460 \n",
            "\n",
            "[EPOCH]: 30, [TRAIN LOSS]: 0.091642, [TRAIN ACCURACY]: 98.395\n",
            "[EPOCH]: 30, [VAL LOSS]: 0.704740, [VAL ACCURACY]: 75.490 \n",
            "\n",
            "[EPOCH]: 31, [TRAIN LOSS]: 0.059122, [TRAIN ACCURACY]: 98.550\n",
            "[EPOCH]: 31, [VAL LOSS]: 0.521694, [VAL ACCURACY]: 76.360 \n",
            "\n",
            "[EPOCH]: 32, [TRAIN LOSS]: 0.023217, [TRAIN ACCURACY]: 98.365\n",
            "[EPOCH]: 32, [VAL LOSS]: 0.719881, [VAL ACCURACY]: 76.210 \n",
            "\n",
            "[EPOCH]: 33, [TRAIN LOSS]: 0.041697, [TRAIN ACCURACY]: 98.183\n",
            "[EPOCH]: 33, [VAL LOSS]: 0.884453, [VAL ACCURACY]: 75.520 \n",
            "\n"
          ],
          "name": "stdout"
        }
      ]
    },
    {
      "cell_type": "code",
      "metadata": {
        "id": "OTZuTNYlvy0v"
      },
      "source": [
        "def save_model(model_name, model, train_losses, train_accuracies, val_losses, val_accuracies):\n",
        "  with open('/content/drive/My Drive/{}_{}.txt'.format(model_name, today_date), 'w') as writefile:\n",
        "    writefile.write(\"train_accuracies: \\n\")\n",
        "    writefile.writelines(str(accuracy) +', \\n' for accuracy in train_accuracies)\n",
        "    writefile.write('\\n')\n",
        "    writefile.write(\"train_losses: \\n\")\n",
        "    writefile.writelines(str(loss) +', \\n' for loss in train_losses)\n",
        "    writefile.write('\\n')\n",
        "    writefile.write(\"val_accuracies: \\n\")\n",
        "    writefile.writelines(str(accuracy) +', \\n' for accuracy in val_accuracies)\n",
        "    writefile.write('\\n')\n",
        "    writefile.write(\"val_losses: \\n\")\n",
        "    writefile.writelines(str(loss) +', \\n' for loss in val_losses)\n",
        "    writefile.write('\\n')\n",
        "\n",
        "  # save models\n",
        "  model_save_name = 'model_{}_{}.pt'.format(model_name,today_date)\n",
        "  path = F\"/content/drive/My Drive/{model_save_name}\" \n",
        "  torch.save(model.state_dict(), path)\n",
        "  \n",
        "  return None"
      ],
      "execution_count": null,
      "outputs": []
    },
    {
      "cell_type": "code",
      "metadata": {
        "id": "k_P1vG4wqJ-z",
        "outputId": "9b67c04b-611b-4c98-e4b0-9bebec509d8f",
        "colab": {
          "base_uri": "https://localhost:8080/",
          "height": 1000,
          "referenced_widgets": [
            "3520a40260074cbab16b463fa2a34cd1",
            "ca93bfad1d3a420b9663e231f6485dcb",
            "70b8349d51ab4726a1f7b583555acce6",
            "384006ab5ac84894855efabc8ac59d4c",
            "c9277c6b3ca1416bae51f8f6b5117624",
            "817be717cd1748ce930bc4adff8920ba",
            "0b41986a045e470b8086db9199c6c46e",
            "e825ef25fdfd40419cbe76274ddaec5b"
          ]
        }
      },
      "source": [
        "# without normalization\n",
        "model_SimpleConv_adam = SimpleConvnet(input_channels=3, num_classes=10)\n",
        "model_SimpleConv_adam.to(device)\n",
        "\n",
        "# TODO : Initialize the criterion \n",
        "criterion = F.cross_entropy\n",
        "# TODO : Initialize the optimizer \n",
        "optimizer = optim.Adam(model_SimpleConv_adam.parameters(), lr=1e-4)\n",
        "# TODO : Run the training loop using this model\n",
        "train_losses_SimpleConv_adam, train_accuracies_SimpleConv_adam, \\\n",
        "  val_losses_SimpleConv_adam, val_accuracies_SimpleConv_adam = train_loop(model_SimpleConv_adam, \n",
        "                                                                          criterion, optimizer, \n",
        "                                                                          train_loader, val_loader)"
      ],
      "execution_count": null,
      "outputs": [
        {
          "output_type": "display_data",
          "data": {
            "application/vnd.jupyter.widget-view+json": {
              "model_id": "3520a40260074cbab16b463fa2a34cd1",
              "version_minor": 0,
              "version_major": 2
            },
            "text/plain": [
              "HBox(children=(FloatProgress(value=0.0, max=50.0), HTML(value='')))"
            ]
          },
          "metadata": {
            "tags": []
          }
        },
        {
          "output_type": "stream",
          "text": [
            "[EPOCH]: 0, [TRAIN LOSS]: 1.653339, [TRAIN ACCURACY]: 25.505\n",
            "[EPOCH]: 0, [VAL LOSS]: 1.722109, [VAL ACCURACY]: 35.050 \n",
            "\n",
            "[EPOCH]: 1, [TRAIN LOSS]: 1.349501, [TRAIN ACCURACY]: 40.737\n",
            "[EPOCH]: 1, [VAL LOSS]: 1.287937, [VAL ACCURACY]: 45.510 \n",
            "\n",
            "[EPOCH]: 2, [TRAIN LOSS]: 1.525664, [TRAIN ACCURACY]: 47.350\n",
            "[EPOCH]: 2, [VAL LOSS]: 1.055555, [VAL ACCURACY]: 47.370 \n",
            "\n",
            "[EPOCH]: 3, [TRAIN LOSS]: 1.228956, [TRAIN ACCURACY]: 51.542\n",
            "[EPOCH]: 3, [VAL LOSS]: 1.025691, [VAL ACCURACY]: 53.480 \n",
            "\n",
            "[EPOCH]: 4, [TRAIN LOSS]: 1.027877, [TRAIN ACCURACY]: 55.278\n",
            "[EPOCH]: 4, [VAL LOSS]: 1.054157, [VAL ACCURACY]: 55.790 \n",
            "\n",
            "[EPOCH]: 5, [TRAIN LOSS]: 1.221658, [TRAIN ACCURACY]: 58.680\n",
            "[EPOCH]: 5, [VAL LOSS]: 1.153800, [VAL ACCURACY]: 56.530 \n",
            "\n",
            "[EPOCH]: 6, [TRAIN LOSS]: 1.250584, [TRAIN ACCURACY]: 61.655\n",
            "[EPOCH]: 6, [VAL LOSS]: 1.156124, [VAL ACCURACY]: 59.360 \n",
            "\n",
            "[EPOCH]: 7, [TRAIN LOSS]: 0.897822, [TRAIN ACCURACY]: 63.987\n",
            "[EPOCH]: 7, [VAL LOSS]: 1.012385, [VAL ACCURACY]: 62.960 \n",
            "\n",
            "[EPOCH]: 8, [TRAIN LOSS]: 1.065568, [TRAIN ACCURACY]: 66.233\n",
            "[EPOCH]: 8, [VAL LOSS]: 0.847235, [VAL ACCURACY]: 60.750 \n",
            "\n",
            "[EPOCH]: 9, [TRAIN LOSS]: 0.689501, [TRAIN ACCURACY]: 68.015\n",
            "[EPOCH]: 9, [VAL LOSS]: 0.979640, [VAL ACCURACY]: 63.630 \n",
            "\n",
            "[EPOCH]: 10, [TRAIN LOSS]: 0.895086, [TRAIN ACCURACY]: 70.590\n",
            "[EPOCH]: 10, [VAL LOSS]: 0.769220, [VAL ACCURACY]: 64.360 \n",
            "\n",
            "[EPOCH]: 11, [TRAIN LOSS]: 0.927721, [TRAIN ACCURACY]: 72.287\n",
            "[EPOCH]: 11, [VAL LOSS]: 0.907365, [VAL ACCURACY]: 63.990 \n",
            "\n",
            "[EPOCH]: 12, [TRAIN LOSS]: 0.699329, [TRAIN ACCURACY]: 74.900\n",
            "[EPOCH]: 12, [VAL LOSS]: 0.958251, [VAL ACCURACY]: 65.880 \n",
            "\n",
            "[EPOCH]: 13, [TRAIN LOSS]: 0.721599, [TRAIN ACCURACY]: 76.312\n",
            "[EPOCH]: 13, [VAL LOSS]: 1.096770, [VAL ACCURACY]: 66.180 \n",
            "\n",
            "[EPOCH]: 14, [TRAIN LOSS]: 0.787269, [TRAIN ACCURACY]: 78.582\n",
            "[EPOCH]: 14, [VAL LOSS]: 0.934927, [VAL ACCURACY]: 67.050 \n",
            "\n",
            "[EPOCH]: 15, [TRAIN LOSS]: 0.632366, [TRAIN ACCURACY]: 80.022\n",
            "[EPOCH]: 15, [VAL LOSS]: 1.344438, [VAL ACCURACY]: 66.210 \n",
            "\n",
            "[EPOCH]: 16, [TRAIN LOSS]: 1.063312, [TRAIN ACCURACY]: 82.188\n",
            "[EPOCH]: 16, [VAL LOSS]: 1.244875, [VAL ACCURACY]: 66.260 \n",
            "\n",
            "[EPOCH]: 17, [TRAIN LOSS]: 0.418608, [TRAIN ACCURACY]: 83.745\n",
            "[EPOCH]: 17, [VAL LOSS]: 0.947590, [VAL ACCURACY]: 66.220 \n",
            "\n",
            "[EPOCH]: 18, [TRAIN LOSS]: 0.429784, [TRAIN ACCURACY]: 85.930\n",
            "[EPOCH]: 18, [VAL LOSS]: 1.059666, [VAL ACCURACY]: 67.090 \n",
            "\n",
            "[EPOCH]: 19, [TRAIN LOSS]: 0.307060, [TRAIN ACCURACY]: 87.948\n",
            "[EPOCH]: 19, [VAL LOSS]: 1.370312, [VAL ACCURACY]: 66.910 \n",
            "\n",
            "[EPOCH]: 20, [TRAIN LOSS]: 0.475483, [TRAIN ACCURACY]: 89.172\n",
            "[EPOCH]: 20, [VAL LOSS]: 1.118973, [VAL ACCURACY]: 66.370 \n",
            "\n",
            "[EPOCH]: 21, [TRAIN LOSS]: 0.256687, [TRAIN ACCURACY]: 90.505\n",
            "[EPOCH]: 21, [VAL LOSS]: 1.364206, [VAL ACCURACY]: 67.150 \n",
            "\n",
            "[EPOCH]: 22, [TRAIN LOSS]: 0.292900, [TRAIN ACCURACY]: 92.365\n",
            "[EPOCH]: 22, [VAL LOSS]: 1.556283, [VAL ACCURACY]: 66.330 \n",
            "\n",
            "[EPOCH]: 23, [TRAIN LOSS]: 0.157869, [TRAIN ACCURACY]: 93.250\n",
            "[EPOCH]: 23, [VAL LOSS]: 1.342202, [VAL ACCURACY]: 66.200 \n",
            "\n",
            "[EPOCH]: 24, [TRAIN LOSS]: 0.183173, [TRAIN ACCURACY]: 93.950\n",
            "[EPOCH]: 24, [VAL LOSS]: 1.534475, [VAL ACCURACY]: 66.480 \n",
            "\n",
            "[EPOCH]: 25, [TRAIN LOSS]: 0.231630, [TRAIN ACCURACY]: 94.835\n",
            "[EPOCH]: 25, [VAL LOSS]: 1.604791, [VAL ACCURACY]: 65.740 \n",
            "\n",
            "[EPOCH]: 26, [TRAIN LOSS]: 0.106435, [TRAIN ACCURACY]: 95.145\n",
            "[EPOCH]: 26, [VAL LOSS]: 1.462974, [VAL ACCURACY]: 65.570 \n",
            "\n"
          ],
          "name": "stdout"
        }
      ]
    },
    {
      "cell_type": "code",
      "metadata": {
        "id": "LRIoEyuzsScV"
      },
      "source": [
        "\n",
        "save_model(model_name = 'SimpleConv_adam', \n",
        "           model = model_SimpleConv_adam, \n",
        "           train_losses = train_losses_SimpleConv_adam,\n",
        "           train_accuracies = train_accuracies_SimpleConv_adam,\n",
        "           val_losses = val_losses_SimpleConv_adam,\n",
        "           val_accuracies = val_accuracies_SimpleConv_adam)\n",
        "\n",
        "save_model(model_name = 'SimpleConv2_adam', \n",
        "           model = model_SimpleConv2_adam, \n",
        "           train_losses = train_losses_SimpleConv2_adam,\n",
        "           train_accuracies = train_accuracies_SimpleConv2_adam,\n",
        "           val_losses = val_losses_SimpleConv2_adam,\n",
        "           val_accuracies = val_accuracies_SimpleConv2_adam)"
      ],
      "execution_count": null,
      "outputs": []
    },
    {
      "cell_type": "code",
      "metadata": {
        "id": "uW0L-E23qYCA",
        "outputId": "13364639-9fb6-4b1a-b883-38feed979b32",
        "colab": {
          "base_uri": "https://localhost:8080/",
          "height": 312
        }
      },
      "source": [
        "# comparison: with adam, with or without normalization\n",
        "plt.plot(np.arange(1, len(train_accuracies_SimpleConv_adam)+1), train_accuracies_SimpleConv_adam, label='accuracy with no normalization')\n",
        "plt.plot(np.arange(1, len(train_losses_SimpleConv_adam)+1), train_losses_SimpleConv_adam, label='loss with no normalization')\n",
        "plt.plot(np.arange(1, len(train_accuracies_SimpleConv2_adam)+1), train_accuracies_SimpleConv2_adam, label='accuracy with normalization')\n",
        "plt.plot(np.arange(1, len(train_losses_SimpleConv2_adam)+1), train_losses_SimpleConv2_adam, label='loss with normalization')\n",
        "\n",
        "plt.xlabel('Epoch')\n",
        "plt.ylabel('Accuracy/Loss')\n",
        "plt.legend()\n",
        "plt.title('Training with Adam Optimizer')"
      ],
      "execution_count": null,
      "outputs": [
        {
          "output_type": "execute_result",
          "data": {
            "text/plain": [
              "Text(0.5, 1.0, 'Training with Adam Optimizer')"
            ]
          },
          "metadata": {
            "tags": []
          },
          "execution_count": 27
        },
        {
          "output_type": "display_data",
          "data": {
            "image/png": "[encoded data removed]",
            "text/plain": [
              "<Figure size 432x288 with 1 Axes>"
            ]
          },
          "metadata": {
            "tags": [],
            "needs_background": "light"
          }
        }
      ]
    },
    {
      "cell_type": "markdown",
      "metadata": {
        "id": "XeVzHHciAt-W"
      },
      "source": [
        "#### Q2.6 d Once you choose an optimizer and see that it does train, make sure your model has enough capacity by overfitting on one batch of the data set. You should be able to get 100% train accuracy. \n",
        "\n",
        "As we see in Q2.6a, after epoch 15, the model attains 100% train accuracy.\n"
      ]
    },
    {
      "cell_type": "markdown",
      "metadata": {
        "id": "ANkTYeTWn6Mv"
      },
      "source": [
        "### Q 2.7 Add residual connections"
      ]
    },
    {
      "cell_type": "markdown",
      "metadata": {
        "id": "A55lJPET13Q7"
      },
      "source": [
        "#### Residual connections help stabilise training and lead to faster convergence. In this question you will introduce residual connections into the SimpleConvnet2 model that you built above. \n",
        "\n",
        "We will add residual connections after each block of 3 convolutional layers. Lets consider the first block of three convolutional layers. The input to this block, the so called residual, is added to the output of the block before the final batch normalization layer of that block. \n",
        "\n",
        "\n",
        "IMP NOTE: You will notice that the number of filters of these two summands are not the same. For this, you will need to use a convolution layer on the residual component, which changes the number of filters while keeping the rest of the dimensions the same. This can be achieved with a careful selection of the input_channels, output_channels, kernel_size and padding parameters. "
      ]
    },
    {
      "cell_type": "code",
      "metadata": {
        "id": "rzxWZNrmUzFT"
      },
      "source": [
        "class ResidualConvnet(nn.Module):\n",
        "    def __init__(self, input_channels, num_classes):\n",
        "        super(ResidualConvnet, self).__init__()\n",
        "        \n",
        "        self.conv1 = nn.Sequential(\n",
        "            nn.Conv2d(input_channels, out_channels=64, kernel_size=5, padding=2),\n",
        "            nn.ReLU(),\n",
        "            nn.BatchNorm2d(64),            \n",
        "        )\n",
        "\n",
        "        self.convBlock1 = nn.Sequential(\n",
        "            nn.Conv2d(in_channels=64, out_channels=64, kernel_size=3, padding=1),\n",
        "            nn.ReLU(),\n",
        "            nn.BatchNorm2d(64),\n",
        "            nn.Conv2d(in_channels=64, out_channels=64, kernel_size=3, padding=1),\n",
        "            nn.ReLU(),\n",
        "            nn.BatchNorm2d(64),\n",
        "            nn.Conv2d(in_channels=64, out_channels=64, kernel_size=3, padding=1),\n",
        "            nn.ReLU(),\n",
        "            # nn.BatchNorm2d(64),            \n",
        "        )\n",
        "        self.convBlock2 = nn.Sequential(\n",
        "            nn.Conv2d(in_channels=64, out_channels=128, kernel_size=3, padding=9),\n",
        "            nn.ReLU(),\n",
        "            nn.BatchNorm2d(128),\n",
        "            nn.Conv2d(in_channels=128, out_channels=128, kernel_size=3, padding=1),\n",
        "            nn.ReLU(),\n",
        "            nn.BatchNorm2d(128),\n",
        "            nn.Conv2d(in_channels=128, out_channels=128, kernel_size=3, padding=1),\n",
        "            nn.ReLU(),\n",
        "            # second residual\n",
        "            # nn.BatchNorm2d(128),            \n",
        "        )\n",
        "        self.convBlock3 = nn.Sequential(\n",
        "            nn.Conv2d(in_channels=128, out_channels=256, kernel_size=3, padding=9),\n",
        "            nn.ReLU(),\n",
        "            nn.BatchNorm2d(256),\n",
        "            nn.Conv2d(in_channels=256, out_channels=256, kernel_size=3, padding=1),\n",
        "            nn.ReLU(),\n",
        "            nn.BatchNorm2d(256),\n",
        "            nn.Conv2d(in_channels=256, out_channels=256, kernel_size=3, padding=1),\n",
        "            nn.ReLU(),\n",
        "            # third residual\n",
        "            # nn.BatchNorm2d(256),            \n",
        "        )\n",
        "        self.batchnorm1 = nn.BatchNorm2d(64)\n",
        "        self.batchnorm2 = nn.BatchNorm2d(128)\n",
        "        self.batchnorm3 = nn.BatchNorm2d(256)\n",
        "        \n",
        "        self.maxpool1 = nn.MaxPool2d(kernel_size=2,stride=2)\n",
        "        self.maxpool2 = nn.MaxPool2d(kernel_size=2, stride=2)\n",
        "        self.maxpool3 = nn.MaxPool2d(kernel_size=32)\n",
        "        self.linearproj = nn.Linear(256, num_classes)\n",
        "        \n",
        "        # TODO residual net\n",
        "        self.residualConv2 = nn.Conv2d(in_channels=64,\n",
        "                                       out_channels=128,\n",
        "                                       kernel_size=3,\n",
        "                                       padding=9     \n",
        "        )\n",
        "        self.residualConv3 = nn.Conv2d(in_channels=128,\n",
        "                                       out_channels=256,\n",
        "                                       kernel_size=3,\n",
        "                                       padding=9     \n",
        "        )\n",
        "\n",
        "    def forward(self, x):\n",
        "  \n",
        "       # TODO\n",
        "        # first residual, 64 channels, size = 32\n",
        "        \n",
        "        out = self.conv1(x)\n",
        "        residual_1 = out\n",
        "        # output, 64 channels, size = 32\n",
        "        out = self.convBlock1(out)\n",
        "        # add first residual\n",
        "        out += residual_1\n",
        "        # first batch norm\n",
        "        out = self.batchnorm1(out)\n",
        "        # first maxpool, size reduced to 16\n",
        "        out = self.maxpool1(out)\n",
        "        \n",
        "        # second residual, 64 channels, size = 16\n",
        "        residual_2 = out\n",
        "        # make residual to 128 channels, size = 32\n",
        "        residual_2 = self.residualConv2(residual_2)\n",
        "        # output = 128 channels, size = 32\n",
        "        out = self.convBlock2(out)\n",
        "        # add second residual\n",
        "        out += residual_2\n",
        "        # second batchnorm\n",
        "        out = self.batchnorm2(out)\n",
        "        # second maxpool, size = 16\n",
        "        out = self.maxpool2(out)\n",
        "\n",
        "        # third residual, 128 channels, size = 16\n",
        "        residual_3 = out\n",
        "\n",
        "        # make residual to 256 channels, size = 32\n",
        "        residual_3 = self.residualConv3(residual_3)\n",
        "        out = self.convBlock3(out)\n",
        "        # add third residual\n",
        "        out += residual_3\n",
        "        # third batch norm\n",
        "        out = self.batchnorm3(out)\n",
        "        # third maxpool\n",
        "        out = self.maxpool3(out)\n",
        "        out = out.view((-1,256))\n",
        "        output = self.linearproj(out)\n",
        "        return output\n",
        "        "
      ],
      "execution_count": 13,
      "outputs": []
    },
    {
      "cell_type": "code",
      "metadata": {
        "id": "Wn9OWZiceenh",
        "outputId": "44940cbb-956c-4e6c-d18e-015299b68b6a",
        "colab": {
          "base_uri": "https://localhost:8080/",
          "height": 1000,
          "referenced_widgets": [
            "f9f3519fdafc4d3c9b844fe1bffd89d4",
            "4cf76f62990e40c984356cc2fac3c34c",
            "c5225ad7b56949ed8403db6dfcfbd153",
            "762bd67bf9304ccd9666dca14254c880",
            "c634761a266a409eb2dd08878095dcc6",
            "9fc2699c4b6d4c2e94c52e0db77390c9",
            "edf7eb4a54ed4ef886e2e4e6e4190910",
            "9294b67d035046ca87c1dff684bc9bd1"
          ]
        }
      },
      "source": [
        "# TODO : Initialize the model and cast to correct device\n",
        "model_ResidualConvnet = ResidualConvnet(input_channels=3, num_classes=10)\n",
        "model_ResidualConvnet.to(device)\n",
        "\n",
        "# TODO : Initialize the criterion \n",
        "criterion = F.cross_entropy\n",
        "# TODO : Initialize the optimizer \n",
        "optimizer = optim.SGD(model_ResidualConvnet.parameters(), lr=1e-3, momentum=0.5)\n",
        "# TODO : Run the training loop using this model\n",
        "train_losses_ResidualConvnet, train_accuracies_ResidualConvnet, \\\n",
        "  val_losses_ResidualConvnet, val_accuracies_ResidualConvnet = train_loop(model_ResidualConvnet, \n",
        "                                                                            criterion, optimizer, \n",
        "                                                                            train_loader, val_loader)"
      ],
      "execution_count": 14,
      "outputs": [
        {
          "output_type": "display_data",
          "data": {
            "application/vnd.jupyter.widget-view+json": {
              "model_id": "f9f3519fdafc4d3c9b844fe1bffd89d4",
              "version_minor": 0,
              "version_major": 2
            },
            "text/plain": [
              "HBox(children=(FloatProgress(value=0.0, max=50.0), HTML(value='')))"
            ]
          },
          "metadata": {
            "tags": []
          }
        },
        {
          "output_type": "stream",
          "text": [
            "[EPOCH]: 0, [TRAIN LOSS]: 1.333888, [TRAIN ACCURACY]: 42.095\n",
            "[EPOCH]: 0, [VAL LOSS]: 1.114968, [VAL ACCURACY]: 50.020 \n",
            "\n",
            "[EPOCH]: 1, [TRAIN LOSS]: 1.082820, [TRAIN ACCURACY]: 57.278\n",
            "[EPOCH]: 1, [VAL LOSS]: 1.108666, [VAL ACCURACY]: 56.430 \n",
            "\n",
            "[EPOCH]: 2, [TRAIN LOSS]: 0.999872, [TRAIN ACCURACY]: 65.263\n",
            "[EPOCH]: 2, [VAL LOSS]: 1.136297, [VAL ACCURACY]: 58.440 \n",
            "\n",
            "[EPOCH]: 3, [TRAIN LOSS]: 1.138595, [TRAIN ACCURACY]: 70.918\n",
            "[EPOCH]: 3, [VAL LOSS]: 0.842110, [VAL ACCURACY]: 59.620 \n",
            "\n",
            "[EPOCH]: 4, [TRAIN LOSS]: 0.770641, [TRAIN ACCURACY]: 76.638\n",
            "[EPOCH]: 4, [VAL LOSS]: 1.092945, [VAL ACCURACY]: 60.620 \n",
            "\n",
            "[EPOCH]: 5, [TRAIN LOSS]: 0.591666, [TRAIN ACCURACY]: 81.940\n",
            "[EPOCH]: 5, [VAL LOSS]: 1.189849, [VAL ACCURACY]: 60.390 \n",
            "\n",
            "[EPOCH]: 6, [TRAIN LOSS]: 0.634848, [TRAIN ACCURACY]: 87.495\n",
            "[EPOCH]: 6, [VAL LOSS]: 1.227938, [VAL ACCURACY]: 63.010 \n",
            "\n",
            "[EPOCH]: 7, [TRAIN LOSS]: 0.422479, [TRAIN ACCURACY]: 92.475\n",
            "[EPOCH]: 7, [VAL LOSS]: 1.265681, [VAL ACCURACY]: 61.620 \n",
            "\n",
            "[EPOCH]: 8, [TRAIN LOSS]: 0.229447, [TRAIN ACCURACY]: 96.680\n",
            "[EPOCH]: 8, [VAL LOSS]: 1.252315, [VAL ACCURACY]: 62.880 \n",
            "\n",
            "[EPOCH]: 9, [TRAIN LOSS]: 0.070674, [TRAIN ACCURACY]: 99.123\n",
            "[EPOCH]: 9, [VAL LOSS]: 1.028358, [VAL ACCURACY]: 65.780 \n",
            "\n",
            "[EPOCH]: 10, [TRAIN LOSS]: 0.057457, [TRAIN ACCURACY]: 99.877\n",
            "[EPOCH]: 10, [VAL LOSS]: 1.031849, [VAL ACCURACY]: 65.990 \n",
            "\n",
            "[EPOCH]: 11, [TRAIN LOSS]: 0.030272, [TRAIN ACCURACY]: 99.985\n",
            "[EPOCH]: 11, [VAL LOSS]: 0.919964, [VAL ACCURACY]: 66.590 \n",
            "\n",
            "[EPOCH]: 12, [TRAIN LOSS]: 0.022479, [TRAIN ACCURACY]: 100.000\n",
            "[EPOCH]: 12, [VAL LOSS]: 1.012547, [VAL ACCURACY]: 66.850 \n",
            "\n",
            "[EPOCH]: 13, [TRAIN LOSS]: 0.014428, [TRAIN ACCURACY]: 99.998\n",
            "[EPOCH]: 13, [VAL LOSS]: 1.025310, [VAL ACCURACY]: 66.690 \n",
            "\n",
            "[EPOCH]: 14, [TRAIN LOSS]: 0.013224, [TRAIN ACCURACY]: 99.998\n",
            "[EPOCH]: 14, [VAL LOSS]: 1.081736, [VAL ACCURACY]: 66.180 \n",
            "\n",
            "[EPOCH]: 15, [TRAIN LOSS]: 0.030383, [TRAIN ACCURACY]: 100.000\n",
            "[EPOCH]: 15, [VAL LOSS]: 1.114762, [VAL ACCURACY]: 66.540 \n",
            "\n",
            "[EPOCH]: 16, [TRAIN LOSS]: 0.021542, [TRAIN ACCURACY]: 100.000\n",
            "[EPOCH]: 16, [VAL LOSS]: 1.042839, [VAL ACCURACY]: 67.030 \n",
            "\n",
            "[EPOCH]: 17, [TRAIN LOSS]: 0.012813, [TRAIN ACCURACY]: 100.000\n",
            "[EPOCH]: 17, [VAL LOSS]: 1.106298, [VAL ACCURACY]: 66.970 \n",
            "\n",
            "[EPOCH]: 18, [TRAIN LOSS]: 0.010489, [TRAIN ACCURACY]: 100.000\n",
            "[EPOCH]: 18, [VAL LOSS]: 1.030531, [VAL ACCURACY]: 66.960 \n",
            "\n",
            "[EPOCH]: 19, [TRAIN LOSS]: 0.007245, [TRAIN ACCURACY]: 100.000\n",
            "[EPOCH]: 19, [VAL LOSS]: 1.108204, [VAL ACCURACY]: 67.010 \n",
            "\n",
            "[EPOCH]: 20, [TRAIN LOSS]: 0.007503, [TRAIN ACCURACY]: 100.000\n",
            "[EPOCH]: 20, [VAL LOSS]: 0.998995, [VAL ACCURACY]: 66.820 \n",
            "\n",
            "[EPOCH]: 21, [TRAIN LOSS]: 0.009650, [TRAIN ACCURACY]: 100.000\n",
            "[EPOCH]: 21, [VAL LOSS]: 1.067546, [VAL ACCURACY]: 67.110 \n",
            "\n",
            "[EPOCH]: 22, [TRAIN LOSS]: 0.007866, [TRAIN ACCURACY]: 100.000\n",
            "[EPOCH]: 22, [VAL LOSS]: 1.098445, [VAL ACCURACY]: 66.860 \n",
            "\n",
            "[EPOCH]: 23, [TRAIN LOSS]: 0.008346, [TRAIN ACCURACY]: 100.000\n",
            "[EPOCH]: 23, [VAL LOSS]: 1.124243, [VAL ACCURACY]: 66.880 \n",
            "\n",
            "[EPOCH]: 24, [TRAIN LOSS]: 0.005376, [TRAIN ACCURACY]: 100.000\n",
            "[EPOCH]: 24, [VAL LOSS]: 1.051089, [VAL ACCURACY]: 66.910 \n",
            "\n",
            "[EPOCH]: 25, [TRAIN LOSS]: 0.004237, [TRAIN ACCURACY]: 100.000\n",
            "[EPOCH]: 25, [VAL LOSS]: 1.105071, [VAL ACCURACY]: 67.020 \n",
            "\n",
            "[EPOCH]: 26, [TRAIN LOSS]: 0.008226, [TRAIN ACCURACY]: 100.000\n",
            "[EPOCH]: 26, [VAL LOSS]: 1.137082, [VAL ACCURACY]: 66.830 \n",
            "\n"
          ],
          "name": "stdout"
        }
      ]
    },
    {
      "cell_type": "code",
      "metadata": {
        "id": "kvsoJY_W4_KQ"
      },
      "source": [
        "save_model(model_name = 'ResidualConvnet', \n",
        "           model=model_ResidualConvnet, \n",
        "           train_losses=train_losses_ResidualConvnet, \n",
        "           train_accuracies=train_accuracies_ResidualConvnet, \n",
        "           val_losses=val_losses_ResidualConvnet, \n",
        "           val_accuracies=val_accuracies_ResidualConvnet)"
      ],
      "execution_count": 16,
      "outputs": []
    },
    {
      "cell_type": "code",
      "metadata": {
        "id": "IKStxWLZCwim",
        "outputId": "31231025-9850-4fb2-8ee3-89f222992d1e",
        "colab": {
          "base_uri": "https://localhost:8080/",
          "height": 312
        }
      },
      "source": [
        ""
      ],
      "execution_count": 17,
      "outputs": [
        {
          "output_type": "execute_result",
          "data": {
            "text/plain": [
              "Text(0.5, 1.0, 'Training for ResidualConvnet with Batch Normalization')"
            ]
          },
          "metadata": {
            "tags": []
          },
          "execution_count": 17
        },
        {
          "output_type": "display_data",
          "data": {
            "image/png": "[encoded data removed]",
            "text/plain": [
              "<Figure size 432x288 with 1 Axes>"
            ]
          },
          "metadata": {
            "tags": [],
            "needs_background": "light"
          }
        }
      ]
    },
    {
      "cell_type": "markdown",
      "metadata": {
        "id": "NRrWJ63c4C0f"
      },
      "source": [
        "### Q 2.8 Plot the training curves with and without the residual connection. Comment on the difference. "
      ]
    },
    {
      "cell_type": "markdown",
      "metadata": {
        "id": "gmpob0n12-cU"
      },
      "source": [
        "SimpleConvet2 with Residual Connection is able to saturate to 100% accuracy faster, in other words, it converges faster."
      ]
    },
    {
      "cell_type": "code",
      "metadata": {
        "id": "gQu3jObEEexy"
      },
      "source": [
        "with open('/content/drive/My Drive/model_SimpleConvnet2_2020-10-15 18:56:52.330137.txt', 'r') as file:\n",
        "  content = file.readlines()\n",
        "  print(content)\n",
        "  train_accuracy_index = content.index('train_accuracies: \\n')\n",
        "  val_accuracy_index = content.index('val_accuracies: \\n')\n",
        "  \n",
        "  train_accuracies_SimpleConv2 = [float(item[0:-5])for item in content[train_accuracy_index+1: val_accuracy_index-1]]\n",
        "  print(train_accuracies_SimpleConv2)"
      ],
      "execution_count": null,
      "outputs": []
    },
    {
      "cell_type": "code",
      "metadata": {
        "id": "pRgmnpK72_rV",
        "outputId": "7c40e6ea-c99c-4cec-8987-be855c8c3023",
        "colab": {
          "base_uri": "https://localhost:8080/",
          "height": 312
        }
      },
      "source": [
        "# with Batch Normalization\n",
        "# plot training loss vs epochs, training accuracy vs. epochs\n",
        "plt.plot(np.arange(1, len(train_accuracies_SimpleConv2)+1), train_accuracies_SimpleConv2, label='training accuracy for SimpleConvnet2')\n",
        "# plt.plot(np.arange(1, len(train_losses_SimpleConv2)+1), train_losses_SimpleConv2, label='training loss')\n",
        "plt.plot(np.arange(1, len(train_accuracies_ResidualConvnet)+1), train_accuracies_ResidualConvnet, label='training accuracy for ResidualConvnet')\n",
        "\n",
        "plt.xlabel('Epoch')\n",
        "plt.ylabel('Accuracy/Loss')\n",
        "plt.legend()\n",
        "plt.title('Training for SimpleConvnet with Batch Normalization')"
      ],
      "execution_count": 35,
      "outputs": [
        {
          "output_type": "execute_result",
          "data": {
            "text/plain": [
              "Text(0.5, 1.0, 'Training for SimpleConvnet with Batch Normalization')"
            ]
          },
          "metadata": {
            "tags": []
          },
          "execution_count": 35
        },
        {
          "output_type": "display_data",
          "data": {
            "image/png": "[encoded data removed]",
            "text/plain": [
              "<Figure size 432x288 with 1 Axes>"
            ]
          },
          "metadata": {
            "tags": [],
            "needs_background": "light"
          }
        }
      ]
    },
    {
      "cell_type": "code",
      "metadata": {
        "id": "vjoJSaSQ291L"
      },
      "source": [
        ""
      ],
      "execution_count": 36,
      "outputs": []
    },
    {
      "cell_type": "markdown",
      "metadata": {
        "id": "1QXPnxcrx-VU"
      },
      "source": [
        "### Q2.9 Reducing overfiting \n",
        "\n"
      ]
    },
    {
      "cell_type": "markdown",
      "metadata": {
        "id": "HISbvoBh8JTJ"
      },
      "source": [
        "In the previous questions, you might have observed that there is a large difference between the training and validation losses. This is a sign that the model is overfitting. One way to combat this is by adding random transformations to the input data to make your model more robust and prevent it from memorizing the input data. \n",
        "\n",
        "Torchvision provides several transforms that you can readily apply to your data. Experiment with adding a few transforms and report your results in terms of learning curves to see if the gap between the training and validation loss reduces and try to achieve better perfomance on the validation set. "
      ]
    },
    {
      "cell_type": "code",
      "metadata": {
        "id": "0cZRQd-VK7ev"
      },
      "source": [
        "test_transform = transforms.Compose([\n",
        "                                     transforms.ToTensor(),\n",
        "                                     transforms.Normalize(\n",
        "                                         [0.4373, 0.4434, 0.4725],\n",
        "                                         [0.1201, 0.1231, 0.1052])\n",
        "                                     ])\n",
        "\n",
        "train_transform = transforms.Compose([\n",
        "                                      # TODO: Add more transforms here\n",
        "                                      transforms.ColorJitter(contrast=7),\n",
        "                                      transforms.RandomAffine(degrees=25,\n",
        "                                                              scale=(0.8,1.2)), \n",
        "                                      transforms.ToTensor(),\n",
        "                                      transforms.Normalize(\n",
        "                                          [0.4373, 0.4434, 0.4725],\n",
        "                                          [0.1201, 0.1231, 0.1052])\n",
        "                                      ])\n"
      ],
      "execution_count": 56,
      "outputs": []
    },
    {
      "cell_type": "code",
      "metadata": {
        "id": "brZrUl7mK7ez"
      },
      "source": [
        "train_dataset_w_transform  = MapDataset(train_dataset, train_transform)\n",
        "val_dataset_w_transform = MapDataset(val_dataset, test_transform)\n",
        "test_dataset_w_transform = MapDataset(test_dataset, test_transform)"
      ],
      "execution_count": 57,
      "outputs": []
    },
    {
      "cell_type": "code",
      "metadata": {
        "id": "kZp6DqwfK7e1"
      },
      "source": [
        "bs = 128\n",
        "train_loader = DataLoader(train_dataset_w_transform, batch_size=bs, shuffle=True, drop_last=False)\n",
        "val_loader = DataLoader(val_dataset_w_transform, batch_size=bs, shuffle=False, drop_last=False)\n",
        "test_loader = DataLoader(test_dataset, batch_size=bs, shuffle=False, drop_last=False)"
      ],
      "execution_count": 58,
      "outputs": []
    },
    {
      "cell_type": "markdown",
      "metadata": {
        "id": "xR_9tihT5Vmu"
      },
      "source": [
        "#### Use the residual network that you built above and use data augmentation to reduce the overfitting "
      ]
    },
    {
      "cell_type": "code",
      "metadata": {
        "id": "WxMLVdrUwh--",
        "outputId": "d757c6a5-b14a-4cc1-e947-33e95633afea",
        "colab": {
          "base_uri": "https://localhost:8080/",
          "height": 1000,
          "referenced_widgets": [
            "0bbd30d7c4cf4de6a420cf7464a1a9d2",
            "62e4bff53bc7427faf5f8315941eae9b",
            "6a0fe7a6b3b9458a9723b57a1f6e3ccd",
            "a4bc62ca7225415bbb09af5de3f56461",
            "8d1945fb11304ba78bfdd0e282986068",
            "6f382d4cd6a84ac6958351c0902d713a",
            "c8d89d79ca4847abb655b0e8ad4b1090",
            "44160d7311944960a8c0be3603b6e4f1"
          ]
        }
      },
      "source": [
        "# TODO : Initialize the model and cast to correct device\n",
        "model_ResidualConvnet_transform = ResidualConvnet(input_channels=3, num_classes=10)\n",
        "model_ResidualConvnet_transform.to(device)\n",
        "\n",
        "# TODO : Initialize the criterion \n",
        "criterion = F.cross_entropy\n",
        "# TODO : Initialize the optimizer \n",
        "optimizer = optim.SGD(model_ResidualConvnet_transform.parameters(), lr=1e-3, momentum=0.5)\n",
        "# TODO : Run the training loop using this model\n",
        "train_losses_ResidualConvnet_transform, \\\n",
        "train_accuracies_ResidualConvnet_transform, \\\n",
        "val_losses_ResidualConvnet_transform, \\\n",
        "val_accuracies_ResidualConvnet_transform = train_loop(\n",
        "    model_ResidualConvnet_transform, \n",
        "    criterion, optimizer, \n",
        "    train_loader, val_loader)"
      ],
      "execution_count": 59,
      "outputs": [
        {
          "output_type": "display_data",
          "data": {
            "application/vnd.jupyter.widget-view+json": {
              "model_id": "0bbd30d7c4cf4de6a420cf7464a1a9d2",
              "version_minor": 0,
              "version_major": 2
            },
            "text/plain": [
              "HBox(children=(FloatProgress(value=0.0, max=50.0), HTML(value='')))"
            ]
          },
          "metadata": {
            "tags": []
          }
        },
        {
          "output_type": "stream",
          "text": [
            "[EPOCH]: 0, [TRAIN LOSS]: 1.661356, [TRAIN ACCURACY]: 30.343\n",
            "[EPOCH]: 0, [VAL LOSS]: 1.376823, [VAL ACCURACY]: 32.470 \n",
            "\n",
            "[EPOCH]: 1, [TRAIN LOSS]: 1.501770, [TRAIN ACCURACY]: 39.413\n",
            "[EPOCH]: 1, [VAL LOSS]: 1.113628, [VAL ACCURACY]: 38.540 \n",
            "\n",
            "[EPOCH]: 2, [TRAIN LOSS]: 1.398404, [TRAIN ACCURACY]: 43.123\n",
            "[EPOCH]: 2, [VAL LOSS]: 0.981836, [VAL ACCURACY]: 45.830 \n",
            "\n",
            "[EPOCH]: 3, [TRAIN LOSS]: 1.561306, [TRAIN ACCURACY]: 46.117\n",
            "[EPOCH]: 3, [VAL LOSS]: 0.893973, [VAL ACCURACY]: 48.590 \n",
            "\n",
            "[EPOCH]: 4, [TRAIN LOSS]: 1.340738, [TRAIN ACCURACY]: 48.235\n",
            "[EPOCH]: 4, [VAL LOSS]: 0.988192, [VAL ACCURACY]: 49.070 \n",
            "\n",
            "[EPOCH]: 5, [TRAIN LOSS]: 1.348339, [TRAIN ACCURACY]: 50.285\n",
            "[EPOCH]: 5, [VAL LOSS]: 0.882998, [VAL ACCURACY]: 54.410 \n",
            "\n",
            "[EPOCH]: 6, [TRAIN LOSS]: 1.400992, [TRAIN ACCURACY]: 51.760\n",
            "[EPOCH]: 6, [VAL LOSS]: 0.835757, [VAL ACCURACY]: 54.560 \n",
            "\n",
            "[EPOCH]: 7, [TRAIN LOSS]: 1.090388, [TRAIN ACCURACY]: 53.447\n",
            "[EPOCH]: 7, [VAL LOSS]: 0.790034, [VAL ACCURACY]: 54.890 \n",
            "\n",
            "[EPOCH]: 8, [TRAIN LOSS]: 1.239377, [TRAIN ACCURACY]: 54.362\n",
            "[EPOCH]: 8, [VAL LOSS]: 0.780863, [VAL ACCURACY]: 58.340 \n",
            "\n",
            "[EPOCH]: 9, [TRAIN LOSS]: 1.203349, [TRAIN ACCURACY]: 55.612\n",
            "[EPOCH]: 9, [VAL LOSS]: 0.855330, [VAL ACCURACY]: 58.750 \n",
            "\n",
            "[EPOCH]: 10, [TRAIN LOSS]: 1.350157, [TRAIN ACCURACY]: 57.083\n",
            "[EPOCH]: 10, [VAL LOSS]: 0.693977, [VAL ACCURACY]: 59.020 \n",
            "\n",
            "[EPOCH]: 11, [TRAIN LOSS]: 1.402480, [TRAIN ACCURACY]: 57.880\n",
            "[EPOCH]: 11, [VAL LOSS]: 0.750576, [VAL ACCURACY]: 61.740 \n",
            "\n",
            "[EPOCH]: 12, [TRAIN LOSS]: 1.367614, [TRAIN ACCURACY]: 58.820\n",
            "[EPOCH]: 12, [VAL LOSS]: 0.853408, [VAL ACCURACY]: 62.970 \n",
            "\n",
            "[EPOCH]: 13, [TRAIN LOSS]: 1.017273, [TRAIN ACCURACY]: 59.447\n",
            "[EPOCH]: 13, [VAL LOSS]: 0.647627, [VAL ACCURACY]: 63.260 \n",
            "\n",
            "[EPOCH]: 14, [TRAIN LOSS]: 0.943918, [TRAIN ACCURACY]: 60.490\n",
            "[EPOCH]: 14, [VAL LOSS]: 0.726412, [VAL ACCURACY]: 61.890 \n",
            "\n",
            "[EPOCH]: 15, [TRAIN LOSS]: 1.171333, [TRAIN ACCURACY]: 61.215\n",
            "[EPOCH]: 15, [VAL LOSS]: 0.707421, [VAL ACCURACY]: 64.400 \n",
            "\n",
            "[EPOCH]: 16, [TRAIN LOSS]: 0.935108, [TRAIN ACCURACY]: 62.112\n",
            "[EPOCH]: 16, [VAL LOSS]: 0.716539, [VAL ACCURACY]: 64.400 \n",
            "\n",
            "[EPOCH]: 17, [TRAIN LOSS]: 1.068753, [TRAIN ACCURACY]: 62.958\n",
            "[EPOCH]: 17, [VAL LOSS]: 0.716165, [VAL ACCURACY]: 66.340 \n",
            "\n",
            "[EPOCH]: 18, [TRAIN LOSS]: 1.051126, [TRAIN ACCURACY]: 63.565\n",
            "[EPOCH]: 18, [VAL LOSS]: 0.703093, [VAL ACCURACY]: 65.880 \n",
            "\n",
            "[EPOCH]: 19, [TRAIN LOSS]: 1.030046, [TRAIN ACCURACY]: 63.928\n",
            "[EPOCH]: 19, [VAL LOSS]: 0.699438, [VAL ACCURACY]: 68.270 \n",
            "\n",
            "[EPOCH]: 20, [TRAIN LOSS]: 0.747610, [TRAIN ACCURACY]: 64.715\n",
            "[EPOCH]: 20, [VAL LOSS]: 0.678673, [VAL ACCURACY]: 69.220 \n",
            "\n",
            "[EPOCH]: 21, [TRAIN LOSS]: 0.974846, [TRAIN ACCURACY]: 65.750\n",
            "[EPOCH]: 21, [VAL LOSS]: 0.558341, [VAL ACCURACY]: 69.850 \n",
            "\n",
            "[EPOCH]: 22, [TRAIN LOSS]: 0.874902, [TRAIN ACCURACY]: 66.290\n",
            "[EPOCH]: 22, [VAL LOSS]: 0.661086, [VAL ACCURACY]: 70.680 \n",
            "\n",
            "[EPOCH]: 23, [TRAIN LOSS]: 1.129861, [TRAIN ACCURACY]: 66.297\n",
            "[EPOCH]: 23, [VAL LOSS]: 0.654321, [VAL ACCURACY]: 69.240 \n",
            "\n",
            "[EPOCH]: 24, [TRAIN LOSS]: 1.159235, [TRAIN ACCURACY]: 66.740\n",
            "[EPOCH]: 24, [VAL LOSS]: 0.682031, [VAL ACCURACY]: 71.980 \n",
            "\n",
            "[EPOCH]: 25, [TRAIN LOSS]: 0.906842, [TRAIN ACCURACY]: 67.360\n",
            "[EPOCH]: 25, [VAL LOSS]: 0.590993, [VAL ACCURACY]: 70.630 \n",
            "\n",
            "[EPOCH]: 26, [TRAIN LOSS]: 1.050944, [TRAIN ACCURACY]: 67.993\n",
            "[EPOCH]: 26, [VAL LOSS]: 0.455726, [VAL ACCURACY]: 70.420 \n",
            "\n",
            "[EPOCH]: 27, [TRAIN LOSS]: 0.824765, [TRAIN ACCURACY]: 68.155\n",
            "[EPOCH]: 27, [VAL LOSS]: 0.743569, [VAL ACCURACY]: 71.670 \n",
            "\n",
            "[EPOCH]: 28, [TRAIN LOSS]: 0.868980, [TRAIN ACCURACY]: 68.765\n",
            "[EPOCH]: 28, [VAL LOSS]: 0.713365, [VAL ACCURACY]: 71.970 \n",
            "\n",
            "[EPOCH]: 29, [TRAIN LOSS]: 0.752584, [TRAIN ACCURACY]: 69.175\n",
            "[EPOCH]: 29, [VAL LOSS]: 0.482592, [VAL ACCURACY]: 73.000 \n",
            "\n",
            "[EPOCH]: 30, [TRAIN LOSS]: 0.746457, [TRAIN ACCURACY]: 69.528\n",
            "[EPOCH]: 30, [VAL LOSS]: 0.480602, [VAL ACCURACY]: 73.490 \n",
            "\n",
            "[EPOCH]: 31, [TRAIN LOSS]: 1.347468, [TRAIN ACCURACY]: 69.910\n",
            "[EPOCH]: 31, [VAL LOSS]: 0.612763, [VAL ACCURACY]: 73.660 \n",
            "\n",
            "[EPOCH]: 32, [TRAIN LOSS]: 0.830237, [TRAIN ACCURACY]: 70.080\n",
            "[EPOCH]: 32, [VAL LOSS]: 0.442782, [VAL ACCURACY]: 71.850 \n",
            "\n",
            "[EPOCH]: 33, [TRAIN LOSS]: 1.031878, [TRAIN ACCURACY]: 70.578\n",
            "[EPOCH]: 33, [VAL LOSS]: 0.648770, [VAL ACCURACY]: 73.110 \n",
            "\n",
            "[EPOCH]: 34, [TRAIN LOSS]: 0.678246, [TRAIN ACCURACY]: 71.468\n",
            "[EPOCH]: 34, [VAL LOSS]: 0.596992, [VAL ACCURACY]: 75.010 \n",
            "\n",
            "[EPOCH]: 35, [TRAIN LOSS]: 0.686123, [TRAIN ACCURACY]: 71.580\n",
            "[EPOCH]: 35, [VAL LOSS]: 0.513090, [VAL ACCURACY]: 74.310 \n",
            "\n",
            "[EPOCH]: 36, [TRAIN LOSS]: 0.548200, [TRAIN ACCURACY]: 72.002\n",
            "[EPOCH]: 36, [VAL LOSS]: 0.445772, [VAL ACCURACY]: 74.800 \n",
            "\n",
            "[EPOCH]: 37, [TRAIN LOSS]: 0.779570, [TRAIN ACCURACY]: 72.047\n",
            "[EPOCH]: 37, [VAL LOSS]: 0.540452, [VAL ACCURACY]: 73.180 \n",
            "\n",
            "[EPOCH]: 38, [TRAIN LOSS]: 0.803165, [TRAIN ACCURACY]: 72.680\n",
            "[EPOCH]: 38, [VAL LOSS]: 0.505879, [VAL ACCURACY]: 73.580 \n",
            "\n",
            "[EPOCH]: 39, [TRAIN LOSS]: 0.824942, [TRAIN ACCURACY]: 72.657\n",
            "[EPOCH]: 39, [VAL LOSS]: 0.356942, [VAL ACCURACY]: 74.540 \n",
            "\n"
          ],
          "name": "stdout"
        }
      ]
    },
    {
      "cell_type": "code",
      "metadata": {
        "id": "7UbuUXneFmJn"
      },
      "source": [
        "save_model(model_name='model_ResidualConvnet_transform', \n",
        "           model=model_ResidualConvnet_transform,\n",
        "           train_losses=train_losses_ResidualConvnet_transform,\n",
        "           train_accuracies=train_accuracies_ResidualConvnet_transform,\n",
        "           val_losses=val_losses_ResidualConvnet_transform,\n",
        "           val_accuracies=val_accuracies_ResidualConvnet_transform)"
      ],
      "execution_count": 66,
      "outputs": []
    },
    {
      "cell_type": "code",
      "metadata": {
        "id": "FoQgbNhlG2JO",
        "outputId": "e9acbe48-08f9-4983-a1ad-160d243ffe9a",
        "colab": {
          "base_uri": "https://localhost:8080/",
          "height": 312
        }
      },
      "source": [
        "plt.plot(np.arange(1, \n",
        "                   len(train_losses_ResidualConvnet)+1), \n",
        "         train_losses_ResidualConvnet, \n",
        "         label='training loss no transforms')\n",
        "plt.plot(np.arange(1, \n",
        "                   len(val_losses_ResidualConvnet)+1), \n",
        "         val_losses_ResidualConvnet, \n",
        "         label='validation loss no transforms')\n",
        "plt.plot(np.arange(1, \n",
        "                   len(train_losses_ResidualConvnet_transform)+1), \n",
        "         train_losses_ResidualConvnet_transform, \n",
        "         label='training loss with transforms')\n",
        "plt.plot(np.arange(1, \n",
        "                   len(val_losses_ResidualConvnet_transform)+1), \n",
        "         val_losses_ResidualConvnet_transform, \n",
        "         label='validation loss with transforms')\n",
        "\n",
        "plt.xlabel('Epoch')\n",
        "plt.ylabel('Loss')\n",
        "plt.legend()\n",
        "plt.title('Training vs Validation Loss for ResidualConvnet')"
      ],
      "execution_count": 65,
      "outputs": [
        {
          "output_type": "execute_result",
          "data": {
            "text/plain": [
              "Text(0.5, 1.0, 'Training vs Validation Loss for ResidualConvnet')"
            ]
          },
          "metadata": {
            "tags": []
          },
          "execution_count": 65
        },
        {
          "output_type": "display_data",
          "data": {
            "image/png": "[encoded data removed]",
            "text/plain": [
              "<Figure size 432x288 with 1 Axes>"
            ]
          },
          "metadata": {
            "tags": [],
            "needs_background": "light"
          }
        }
      ]
    },
    {
      "cell_type": "markdown",
      "metadata": {
        "id": "bf_IftH6bSpv"
      },
      "source": [
        "As we can see below, a few observations can be made:\n",
        "1. With the augmentation(additional transforms), the divergence between the training loss and the validation loss decreases;\n",
        "2. The training loss decreases slower than the case where there is no augmentation, meaning it is harder for the model to learn."
      ]
    },
    {
      "cell_type": "markdown",
      "metadata": {
        "id": "O2rhPXb4nRFA"
      },
      "source": [
        "### Q 2.10  Effect of learning rate decay "
      ]
    },
    {
      "cell_type": "markdown",
      "metadata": {
        "id": "VDqvgBeptLpD"
      },
      "source": [
        "#### Here you need to change the training loop to have one additional operation - add the scheduler step at the end of each epoch. Experiment with different learning rate schedulers provided by pytorch. Report results using atleast StepLR. "
      ]
    },
    {
      "cell_type": "code",
      "metadata": {
        "id": "DoDm84bvtbYK"
      },
      "source": [
        "from torch.optim.lr_scheduler import StepLR"
      ],
      "execution_count": 67,
      "outputs": []
    },
    {
      "cell_type": "code",
      "metadata": {
        "id": "nbGSCk4N57qX"
      },
      "source": [
        "def train_loop2(model, criterion, optimizer, scheduler,  train_loader, val_loader):\n",
        "    \"\"\"\n",
        "    Generic training loop\n",
        "\n",
        "    Parameters\n",
        "    ----------\n",
        "    model : Object instance of your model class \n",
        "    criterion : Loss function \n",
        "    optimizer : Instance of optimizer class of your choice \n",
        "    scheduler : Instance of scheduler class of your choice \n",
        "    train_loader : Training data loader \n",
        "    val_loader : Validation data loader\n",
        "\n",
        "    Returns\n",
        "    -------\n",
        "    train_losses : List with train loss on dataset per epoch\n",
        "    train_accuracies : List with train accuracy on dataset per epoch\n",
        "    val_losses : List with validation loss on dataset per epoch\n",
        "    val_accuracies : List with validation accuracy on dataset per epoch\n",
        "\n",
        "    \"\"\"\n",
        "    best_val = 0.0\n",
        "    train_losses = []\n",
        "    val_losses = []\n",
        "    train_accuracies = []\n",
        "    val_accuracies = []\n",
        "    max_patience = 5\n",
        "    patience_counter = 0\n",
        "    # Training\n",
        "    for t in tqdm(range(50)):\n",
        "        # TODO : Set the model to train mode        \n",
        "        model.train()\n",
        "        train_correct = 0\n",
        "        val_correct = 0\n",
        "        # TODO: Loop over the training set \n",
        "        for batch_idx, (data, target) in enumerate(train_loader):\n",
        "            # TODO: Put the inputs and targets on the write device\n",
        "            data, target = data.to(device), target.to(device)\n",
        "            # TODO: Feed forward to get the logits\n",
        "            output = model(data)\n",
        "            # TODO: Compute the loss and accuracy\n",
        "            train_loss = criterion(output, target)\n",
        "            train_pred = output.data.max(1, keepdim=True)[1]\n",
        "            train_correct += train_pred.eq(target.data.view_as(train_pred)).cpu().sum().item()\n",
        "            train_accuracy = 100. * train_correct/len(train_loader.dataset)\n",
        "            # print('Training Accuracy: {}'.format(train_accuracy))\n",
        "            # TODO: zero the gradients before running\n",
        "            optimizer.zero_grad()\n",
        "            # the backward pass.\n",
        "            \n",
        "            # TODO: Backward pass to compute the gradient\n",
        "            # of loss w.r.t our learnable params. \n",
        "            train_loss.backward()\n",
        "            # TODO: Update params\n",
        "            optimizer.step()\n",
        "            # TODO: Keep track of accuracy and loss\n",
        "        train_losses.append(train_loss)\n",
        "        train_accuracies.append(train_accuracy)\n",
        "        \n",
        "        # TODO: Switch the model to eval mode\n",
        "        model.eval()\n",
        "\n",
        "        with torch.no_grad():\n",
        "            # TODO: Loop over the validation set \n",
        "            for batch_idx, (data, target) in enumerate(val_loader):\n",
        "                # TODO: Put the inputs and targets on the write device\n",
        "                data, target = data.to(device), target.to(device)\n",
        "                # TODO: Feed forward to get the logits\n",
        "                output = model(data)\n",
        "                # TODO: Compute the loss and accuracy\n",
        "                val_loss = criterion(output, target)\n",
        "                val_pred = output.data.max(1, keepdim=True)[1]\n",
        "                val_correct += val_pred.eq(target.data.view_as(val_pred)).cpu().sum().item()\n",
        "                val_accuracy = 100. * val_correct/len(val_loader.dataset)\n",
        "                # print('Validation Accuracy: {}'.format(val_accuracy))\n",
        "     \n",
        "                # TODO: Keep track of accuracy and loss\n",
        "            val_losses.append(val_loss)\n",
        "            val_accuracies.append(val_accuracy)              \n",
        "        if val_accuracies[-1] > best_val:\n",
        "          best_val = val_accuracies[-1]\n",
        "          patience_counter = 0\n",
        "\n",
        "          # TODO: Save best model, optimizer, epoch_number\n",
        "          best_model = model\n",
        "          best_optimizer = optimizer\n",
        "          best_epoch_number = t\n",
        "        else:\n",
        "          patience_counter += 1    \n",
        "          if patience_counter > max_patience: \n",
        "            break\n",
        "\n",
        "        print(\"[EPOCH]: %i, [TRAIN LOSS]: %.6f, [TRAIN ACCURACY]: %.3f\" % (t, train_losses[-1], train_accuracies[-1]))\n",
        "        print(\"[EPOCH]: %i, [VAL LOSS]: %.6f, [VAL ACCURACY]: %.3f \\n\" % (t, val_losses[-1] ,val_accuracies[-1]))\n",
        "\n",
        "        # scheduler step\n",
        "        scheduler.step()\n",
        "\n",
        "    return train_losses, train_accuracies, val_losses, val_accuracies"
      ],
      "execution_count": 68,
      "outputs": []
    },
    {
      "cell_type": "code",
      "metadata": {
        "id": "bK1P1aU0sbJn",
        "outputId": "4dc067ce-5fff-4faa-eb0a-31cd5327ecdc",
        "colab": {
          "base_uri": "https://localhost:8080/",
          "height": 0,
          "referenced_widgets": [
            "90201b3c14f44e9ba5a6c9c5633e95ea",
            "747b7e2ab08b487889adb825341d3959",
            "9e7cc63b18e34e17b4ef47d2cfa246d8",
            "0119e56100674024a93e4f702857caff",
            "34088f1228c8413e9482a900b255ce19",
            "271129b70dc8423aba6a278d5adc8c27",
            "ab881fad9e254e57b502d775cf9606e1",
            "bd776e6cf62844738f3a9a99e6c768a0"
          ]
        }
      },
      "source": [
        "# TODO : Initialize the model and cast to correct device\n",
        "model_ResidualConvnet_transform2 = ResidualConvnet(input_channels=3, num_classes=10)\n",
        "model_ResidualConvnet_transform2.to(device)\n",
        "\n",
        "# TODO : Initialize the criterion \n",
        "criterion = F.cross_entropy\n",
        "# TODO : Initialize the optimizer \n",
        "optimizer = optim.SGD(model_ResidualConvnet_transform2.parameters(), lr=1e-3, momentum=0.5)\n",
        "scheduler = StepLR(optimizer, step_size=6, gamma=0.1)\n",
        "\n",
        "# TODO : Run the training loop using this model\n",
        "train_losses_ResidualConvnet_transform2, \\\n",
        "train_accuracies_ResidualConvnet_transform2, \\\n",
        "val_losses_ResidualConvnet_transform2, \\\n",
        "val_accuracies_ResidualConvnet_transform2 = train_loop2(\n",
        "    model_ResidualConvnet_transform2, \n",
        "    criterion, optimizer, scheduler,\n",
        "    train_loader, val_loader)"
      ],
      "execution_count": 69,
      "outputs": [
        {
          "output_type": "display_data",
          "data": {
            "application/vnd.jupyter.widget-view+json": {
              "model_id": "90201b3c14f44e9ba5a6c9c5633e95ea",
              "version_minor": 0,
              "version_major": 2
            },
            "text/plain": [
              "HBox(children=(FloatProgress(value=0.0, max=50.0), HTML(value='')))"
            ]
          },
          "metadata": {
            "tags": []
          }
        },
        {
          "output_type": "stream",
          "text": [
            "[EPOCH]: 0, [TRAIN LOSS]: 1.642019, [TRAIN ACCURACY]: 30.988\n",
            "[EPOCH]: 0, [VAL LOSS]: 1.718121, [VAL ACCURACY]: 32.560 \n",
            "\n",
            "[EPOCH]: 1, [TRAIN LOSS]: 1.748511, [TRAIN ACCURACY]: 39.560\n",
            "[EPOCH]: 1, [VAL LOSS]: 1.327084, [VAL ACCURACY]: 42.820 \n",
            "\n",
            "[EPOCH]: 2, [TRAIN LOSS]: 2.021510, [TRAIN ACCURACY]: 43.352\n",
            "[EPOCH]: 2, [VAL LOSS]: 1.145162, [VAL ACCURACY]: 45.240 \n",
            "\n",
            "[EPOCH]: 3, [TRAIN LOSS]: 1.473227, [TRAIN ACCURACY]: 45.447\n",
            "[EPOCH]: 3, [VAL LOSS]: 1.053355, [VAL ACCURACY]: 49.090 \n",
            "\n",
            "[EPOCH]: 4, [TRAIN LOSS]: 1.678883, [TRAIN ACCURACY]: 47.980\n",
            "[EPOCH]: 4, [VAL LOSS]: 0.947910, [VAL ACCURACY]: 50.220 \n",
            "\n",
            "[EPOCH]: 5, [TRAIN LOSS]: 1.520426, [TRAIN ACCURACY]: 49.953\n",
            "[EPOCH]: 5, [VAL LOSS]: 1.007050, [VAL ACCURACY]: 50.430 \n",
            "\n",
            "[EPOCH]: 6, [TRAIN LOSS]: 1.073523, [TRAIN ACCURACY]: 53.642\n",
            "[EPOCH]: 6, [VAL LOSS]: 0.830469, [VAL ACCURACY]: 56.390 \n",
            "\n",
            "[EPOCH]: 7, [TRAIN LOSS]: 1.094970, [TRAIN ACCURACY]: 54.050\n",
            "[EPOCH]: 7, [VAL LOSS]: 0.808203, [VAL ACCURACY]: 56.520 \n",
            "\n",
            "[EPOCH]: 8, [TRAIN LOSS]: 1.246493, [TRAIN ACCURACY]: 54.145\n",
            "[EPOCH]: 8, [VAL LOSS]: 0.844782, [VAL ACCURACY]: 56.430 \n",
            "\n",
            "[EPOCH]: 9, [TRAIN LOSS]: 1.210819, [TRAIN ACCURACY]: 54.420\n",
            "[EPOCH]: 9, [VAL LOSS]: 0.818075, [VAL ACCURACY]: 57.010 \n",
            "\n",
            "[EPOCH]: 10, [TRAIN LOSS]: 1.425088, [TRAIN ACCURACY]: 55.110\n",
            "[EPOCH]: 10, [VAL LOSS]: 0.811120, [VAL ACCURACY]: 57.190 \n",
            "\n",
            "[EPOCH]: 11, [TRAIN LOSS]: 1.021575, [TRAIN ACCURACY]: 54.818\n",
            "[EPOCH]: 11, [VAL LOSS]: 0.816747, [VAL ACCURACY]: 57.950 \n",
            "\n",
            "[EPOCH]: 12, [TRAIN LOSS]: 1.377118, [TRAIN ACCURACY]: 55.445\n",
            "[EPOCH]: 12, [VAL LOSS]: 0.820142, [VAL ACCURACY]: 57.830 \n",
            "\n",
            "[EPOCH]: 13, [TRAIN LOSS]: 1.241186, [TRAIN ACCURACY]: 55.218\n",
            "[EPOCH]: 13, [VAL LOSS]: 0.822153, [VAL ACCURACY]: 57.680 \n",
            "\n",
            "[EPOCH]: 14, [TRAIN LOSS]: 1.175376, [TRAIN ACCURACY]: 55.345\n",
            "[EPOCH]: 14, [VAL LOSS]: 0.809078, [VAL ACCURACY]: 58.060 \n",
            "\n",
            "[EPOCH]: 15, [TRAIN LOSS]: 1.305199, [TRAIN ACCURACY]: 55.380\n",
            "[EPOCH]: 15, [VAL LOSS]: 0.808438, [VAL ACCURACY]: 57.630 \n",
            "\n",
            "[EPOCH]: 16, [TRAIN LOSS]: 1.188694, [TRAIN ACCURACY]: 55.265\n",
            "[EPOCH]: 16, [VAL LOSS]: 0.809575, [VAL ACCURACY]: 57.900 \n",
            "\n",
            "[EPOCH]: 17, [TRAIN LOSS]: 1.057632, [TRAIN ACCURACY]: 55.385\n",
            "[EPOCH]: 17, [VAL LOSS]: 0.814689, [VAL ACCURACY]: 58.110 \n",
            "\n",
            "[EPOCH]: 18, [TRAIN LOSS]: 1.560547, [TRAIN ACCURACY]: 55.417\n",
            "[EPOCH]: 18, [VAL LOSS]: 0.817145, [VAL ACCURACY]: 57.950 \n",
            "\n",
            "[EPOCH]: 19, [TRAIN LOSS]: 1.356703, [TRAIN ACCURACY]: 55.422\n",
            "[EPOCH]: 19, [VAL LOSS]: 0.813384, [VAL ACCURACY]: 58.080 \n",
            "\n",
            "[EPOCH]: 20, [TRAIN LOSS]: 1.342956, [TRAIN ACCURACY]: 55.492\n",
            "[EPOCH]: 20, [VAL LOSS]: 0.812363, [VAL ACCURACY]: 58.150 \n",
            "\n",
            "[EPOCH]: 21, [TRAIN LOSS]: 1.064425, [TRAIN ACCURACY]: 55.623\n",
            "[EPOCH]: 21, [VAL LOSS]: 0.820023, [VAL ACCURACY]: 57.790 \n",
            "\n",
            "[EPOCH]: 22, [TRAIN LOSS]: 1.077817, [TRAIN ACCURACY]: 55.420\n",
            "[EPOCH]: 22, [VAL LOSS]: 0.814194, [VAL ACCURACY]: 57.900 \n",
            "\n",
            "[EPOCH]: 23, [TRAIN LOSS]: 1.172705, [TRAIN ACCURACY]: 55.682\n",
            "[EPOCH]: 23, [VAL LOSS]: 0.813681, [VAL ACCURACY]: 57.840 \n",
            "\n",
            "[EPOCH]: 24, [TRAIN LOSS]: 1.332996, [TRAIN ACCURACY]: 55.520\n",
            "[EPOCH]: 24, [VAL LOSS]: 0.821917, [VAL ACCURACY]: 57.930 \n",
            "\n",
            "[EPOCH]: 25, [TRAIN LOSS]: 1.425686, [TRAIN ACCURACY]: 55.623\n",
            "[EPOCH]: 25, [VAL LOSS]: 0.819844, [VAL ACCURACY]: 57.680 \n",
            "\n"
          ],
          "name": "stdout"
        }
      ]
    },
    {
      "cell_type": "code",
      "metadata": {
        "id": "jj3eJg70JJ7M"
      },
      "source": [
        "save_model(model_name='model_ResidualConvnet_transform2', \n",
        "           model=model_ResidualConvnet_transform2,\n",
        "           train_losses=train_losses_ResidualConvnet_transform2,\n",
        "           train_accuracies=train_accuracies_ResidualConvnet_transform2,\n",
        "           val_losses=val_losses_ResidualConvnet_transform2,\n",
        "           val_accuracies=val_accuracies_ResidualConvnet_transform2)"
      ],
      "execution_count": 70,
      "outputs": []
    },
    {
      "cell_type": "code",
      "metadata": {
        "id": "w57ArvabhnRn",
        "outputId": "469e3799-2140-4c60-8caa-6a3a92ee7b19",
        "colab": {
          "base_uri": "https://localhost:8080/",
          "height": 312
        }
      },
      "source": [
        "plt.plot(np.arange(1, \n",
        "                   len(train_losses_ResidualConvnet_transform)+1), \n",
        "         train_losses_ResidualConvnet_transform, \n",
        "         label='training loss w/o StepLR')\n",
        "plt.plot(np.arange(1, \n",
        "                   len(val_losses_ResidualConvnet_transform)+1), \n",
        "         val_losses_ResidualConvnet_transform, \n",
        "         label='validation loss w/o StepLR')\n",
        "\n",
        "plt.plot(np.arange(1, \n",
        "                   len(train_losses_ResidualConvnet_transform2)+1), \n",
        "         train_losses_ResidualConvnet_transform2, \n",
        "         label='training loss with StepLR')\n",
        "plt.plot(np.arange(1, \n",
        "                   len(val_losses_ResidualConvnet_transform2)+1), \n",
        "         val_losses_ResidualConvnet_transform2, \n",
        "         label='validation loss with StepLR')\n",
        "\n",
        "plt.xlabel('Epoch')\n",
        "plt.ylabel('Loss')\n",
        "plt.legend()\n",
        "plt.title('Training/Validation Loss for ResidualConvnet')"
      ],
      "execution_count": 71,
      "outputs": [
        {
          "output_type": "execute_result",
          "data": {
            "text/plain": [
              "Text(0.5, 1.0, 'Training/Validation Loss for ResidualConvnet')"
            ]
          },
          "metadata": {
            "tags": []
          },
          "execution_count": 71
        },
        {
          "output_type": "display_data",
          "data": {
            "image/png": "[encoded data removed]",
            "text/plain": [
              "<Figure size 432x288 with 1 Axes>"
            ]
          },
          "metadata": {
            "tags": [],
            "needs_background": "light"
          }
        }
      ]
    },
    {
      "cell_type": "code",
      "metadata": {
        "id": "WOgiGByVmTSZ"
      },
      "source": [
        "# TODO : Initialize the model and cast to correct device\n",
        "model_ResidualConvnet_transform3 = ResidualConvnet(input_channels=3, num_classes=10)\n",
        "model_ResidualConvnet_transform3.to(device)\n",
        "\n",
        "# TODO : Initialize the criterion \n",
        "criterion = F.cross_entropy\n",
        "# TODO : Initialize the optimizer \n",
        "optimizer = optim.SGD(model_ResidualConvnet_transform3.parameters(), lr=1e-3, momentum=0.5)\n",
        "scheduler = StepLR(optimizer, step_size=6, gamma=0.1)\n",
        "\n",
        "# TODO : Run the training loop using this model\n",
        "train_losses_ResidualConvnet_transform3, \\\n",
        "train_accuracies_ResidualConvnet_transform3, \\\n",
        "val_losses_ResidualConvnet_transform3, \\\n",
        "val_accuracies_ResidualConvnet_transform3 = train_loop2(\n",
        "    model_ResidualConvnet_transform3, \n",
        "    criterion, optimizer, scheduler,\n",
        "    train_loader, val_loader)"
      ],
      "execution_count": null,
      "outputs": []
    },
    {
      "cell_type": "code",
      "metadata": {
        "id": "kHp3OCspmiBL"
      },
      "source": [
        "save_model(model_name='model_ResidualConvnet_transform3', \n",
        "           model=model_ResidualConvnet_transform3,\n",
        "           train_losses=train_losses_ResidualConvnet_transform3,\n",
        "           train_accuracies=train_accuracies_ResidualConvnet_transform3,\n",
        "           val_losses=val_losses_ResidualConvnet_transform3,\n",
        "           val_accuracies=val_accuracies_ResidualConvnet_transform3)"
      ],
      "execution_count": null,
      "outputs": []
    },
    {
      "cell_type": "markdown",
      "metadata": {
        "id": "cG8bhd5V97iJ"
      },
      "source": [
        "### Q2.11 Hyper parameter tuning \n"
      ]
    },
    {
      "cell_type": "markdown",
      "metadata": {
        "id": "G05PHYHJ-DF2"
      },
      "source": [
        "#### Experiment with a range of learning rates and optimizers, as well as the parameter in the learning rate scheduler for StepLR. Report the following plots: \n",
        "\n",
        "1. Learning curves (training and validation loss for 5 different learning rate with SGD optimizer)\n",
        "2. Learning curves (training and validation loss for 5 different learning rate with Adam optimizer)\n",
        "3. Learning curves (training and validation loss for 5 different gamma parameter for the StepLR)\n",
        "\n",
        "\n",
        "\n"
      ]
    },
    {
      "cell_type": "code",
      "metadata": {
        "id": "Xdu98GWMuWBl"
      },
      "source": [
        ""
      ],
      "execution_count": null,
      "outputs": []
    },
    {
      "cell_type": "code",
      "metadata": {
        "id": "8gxypqPDukrJ"
      },
      "source": [
        ""
      ],
      "execution_count": null,
      "outputs": []
    },
    {
      "cell_type": "markdown",
      "metadata": {
        "id": "JiLexWP36qp6"
      },
      "source": [
        "### Q2.12 Load the model that gave you best validation accuracy and report results on the test set. "
      ]
    },
    {
      "cell_type": "code",
      "metadata": {
        "id": "Hz-m4xZU_nV8"
      },
      "source": [
        ""
      ],
      "execution_count": null,
      "outputs": []
    },
    {
      "cell_type": "code",
      "metadata": {
        "id": "H6KV4FDAw3KZ"
      },
      "source": [
        "d"
      ],
      "execution_count": null,
      "outputs": []
    }
  ]
}